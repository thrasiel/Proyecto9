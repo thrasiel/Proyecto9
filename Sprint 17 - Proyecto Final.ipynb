{
 "cells": [
  {
   "cell_type": "markdown",
   "metadata": {},
   "source": [
    "# Sprint 17 - Proyecto Final\n",
    "\n",
    "Al operador de telecomunicaciones Interconnect le gustaría poder pronosticar su tasa de cancelación de clientes. Si se descubre que un usuario o usuaria planea irse, se le ofrecerán códigos promocionales y opciones de planes especiales. El equipo de marketing de Interconnect ha recopilado algunos de los datos personales de sus clientes, incluyendo información sobre sus planes y contratos.\n",
    "\n",
    "**Servicios de Interconnect**\n",
    "\n",
    "Interconnect proporciona principalmente dos tipos de servicios:\n",
    "\n",
    "1. Comunicación por teléfono fijo. El teléfono se puede conectar a varias líneas de manera simultánea.\n",
    "2. Internet. La red se puede configurar a través de una línea telefónica (DSL, *línea de abonado digital*) o a través de un cable de fibra óptica.\n",
    "\n",
    "Algunos otros servicios que ofrece la empresa incluyen:\n",
    "\n",
    "- Seguridad en Internet: software antivirus (*ProtecciónDeDispositivo*) y un bloqueador de sitios web maliciosos (*SeguridadEnLínea*).\n",
    "- Una línea de soporte técnico (*SoporteTécnico*).\n",
    "- Almacenamiento de archivos en la nube y backup de datos (*BackupOnline*).\n",
    "- Streaming de TV (*StreamingTV*) y directorio de películas (*StreamingPelículas*)\n",
    "\n",
    "La clientela puede elegir entre un pago mensual o firmar un contrato de 1 o 2 años. Puede utilizar varios métodos de pago y recibir una factura electrónica después de una transacción.\n",
    "\n",
    "\n",
    "**Descripción de los datos**\n",
    "\n",
    "Los datos consisten en archivos obtenidos de diferentes fuentes:\n",
    "\n",
    "- `contract.csv` — información del contrato;\n",
    "- `personal.csv` — datos personales del cliente;\n",
    "- `internet.csv` — información sobre los servicios de Internet;\n",
    "- `phone.csv` — información sobre los servicios telefónicos.\n",
    "\n",
    "En cada archivo, la columna `customerID` (ID de cliente) contiene un código único asignado a cada cliente. La información del contrato es válida a partir del 1 de febrero de 2020.\n",
    "\n"
   ]
  },
  {
   "cell_type": "markdown",
   "metadata": {},
   "source": [
    "## Introducción\n",
    "\n",
    "Para dar inicio al proyecto final, comenzaremos con la estructura seguida en los sprints previos. Es decir, ir generando una Tabla de Contenido con sus índices y subíndices respectivos. Posteriormente comenzaremos con la inicialización de librerías y carga de datos para después volcarnos al preprocesamiento, análisis y generacion de Modelos.\n",
    "\n",
    "Hay que recordar que el objetivo primordial es lograr que los clientes de Interconnect no se vayan, por lo que el análisis de datos debe ser exhaustivo para cumplir con las mejores métricas que permitan que esto ocurra."
   ]
  },
  {
   "cell_type": "markdown",
   "metadata": {},
   "source": [
    "## Inicializacion\n",
    "\n",
    "Comenzamos cargando las librerías necesarias para nuestro proyecto."
   ]
  },
  {
   "cell_type": "code",
   "execution_count": 126,
   "metadata": {},
   "outputs": [],
   "source": [
    "import pandas as pd\n",
    "import numpy as np\n",
    "import matplotlib.pyplot as plt\n",
    "import seaborn as sns\n",
    "from sklearn.model_selection import GridSearchCV, train_test_split\n",
    "from sklearn.preprocessing import StandardScaler\n",
    "from sklearn.linear_model import LogisticRegression\n",
    "from sklearn.ensemble import RandomForestClassifier\n",
    "from sklearn.tree import DecisionTreeClassifier\n",
    "from sklearn.preprocessing import MinMaxScaler\n",
    "from sklearn.utils import shuffle\n",
    "\n",
    "import lightgbm as lgb\n",
    "from lightgbm import LGBMRegressor\n",
    "from catboost import Pool, CatBoostClassifier\n",
    "from sklearn.metrics import classification_report, accuracy_score\n",
    "from sklearn.metrics import f1_score\n",
    "from sklearn.metrics import roc_auc_score, roc_curve"
   ]
  },
  {
   "cell_type": "markdown",
   "metadata": {},
   "source": [
    "## Carga de Datos\n",
    "\n",
    "Seleccionamos los dataset requeridos para llevar a cabo nuestro futuro análisis."
   ]
  },
  {
   "cell_type": "code",
   "execution_count": 2,
   "metadata": {},
   "outputs": [],
   "source": [
    "contract = pd.read_csv(\"/datasets/final_provider/contract.csv\")\n",
    "personal = pd.read_csv(\"/datasets/final_provider/personal.csv\")\n",
    "internet = pd.read_csv(\"/datasets/final_provider/internet.csv\")\n",
    "phone = pd.read_csv(\"/datasets/final_provider/phone.csv\")"
   ]
  },
  {
   "cell_type": "code",
   "execution_count": 3,
   "metadata": {},
   "outputs": [
    {
     "name": "stdout",
     "output_type": "stream",
     "text": [
      "<class 'pandas.core.frame.DataFrame'>\n",
      "RangeIndex: 7043 entries, 0 to 7042\n",
      "Data columns (total 8 columns):\n",
      " #   Column            Non-Null Count  Dtype  \n",
      "---  ------            --------------  -----  \n",
      " 0   customerID        7043 non-null   object \n",
      " 1   BeginDate         7043 non-null   object \n",
      " 2   EndDate           7043 non-null   object \n",
      " 3   Type              7043 non-null   object \n",
      " 4   PaperlessBilling  7043 non-null   object \n",
      " 5   PaymentMethod     7043 non-null   object \n",
      " 6   MonthlyCharges    7043 non-null   float64\n",
      " 7   TotalCharges      7043 non-null   object \n",
      "dtypes: float64(1), object(7)\n",
      "memory usage: 440.3+ KB\n"
     ]
    },
    {
     "data": {
      "text/html": [
       "<div>\n",
       "<style scoped>\n",
       "    .dataframe tbody tr th:only-of-type {\n",
       "        vertical-align: middle;\n",
       "    }\n",
       "\n",
       "    .dataframe tbody tr th {\n",
       "        vertical-align: top;\n",
       "    }\n",
       "\n",
       "    .dataframe thead th {\n",
       "        text-align: right;\n",
       "    }\n",
       "</style>\n",
       "<table border=\"1\" class=\"dataframe\">\n",
       "  <thead>\n",
       "    <tr style=\"text-align: right;\">\n",
       "      <th></th>\n",
       "      <th>customerID</th>\n",
       "      <th>BeginDate</th>\n",
       "      <th>EndDate</th>\n",
       "      <th>Type</th>\n",
       "      <th>PaperlessBilling</th>\n",
       "      <th>PaymentMethod</th>\n",
       "      <th>MonthlyCharges</th>\n",
       "      <th>TotalCharges</th>\n",
       "    </tr>\n",
       "  </thead>\n",
       "  <tbody>\n",
       "    <tr>\n",
       "      <th>0</th>\n",
       "      <td>7590-VHVEG</td>\n",
       "      <td>2020-01-01</td>\n",
       "      <td>No</td>\n",
       "      <td>Month-to-month</td>\n",
       "      <td>Yes</td>\n",
       "      <td>Electronic check</td>\n",
       "      <td>29.85</td>\n",
       "      <td>29.85</td>\n",
       "    </tr>\n",
       "    <tr>\n",
       "      <th>1</th>\n",
       "      <td>5575-GNVDE</td>\n",
       "      <td>2017-04-01</td>\n",
       "      <td>No</td>\n",
       "      <td>One year</td>\n",
       "      <td>No</td>\n",
       "      <td>Mailed check</td>\n",
       "      <td>56.95</td>\n",
       "      <td>1889.5</td>\n",
       "    </tr>\n",
       "    <tr>\n",
       "      <th>2</th>\n",
       "      <td>3668-QPYBK</td>\n",
       "      <td>2019-10-01</td>\n",
       "      <td>2019-12-01 00:00:00</td>\n",
       "      <td>Month-to-month</td>\n",
       "      <td>Yes</td>\n",
       "      <td>Mailed check</td>\n",
       "      <td>53.85</td>\n",
       "      <td>108.15</td>\n",
       "    </tr>\n",
       "    <tr>\n",
       "      <th>3</th>\n",
       "      <td>7795-CFOCW</td>\n",
       "      <td>2016-05-01</td>\n",
       "      <td>No</td>\n",
       "      <td>One year</td>\n",
       "      <td>No</td>\n",
       "      <td>Bank transfer (automatic)</td>\n",
       "      <td>42.30</td>\n",
       "      <td>1840.75</td>\n",
       "    </tr>\n",
       "    <tr>\n",
       "      <th>4</th>\n",
       "      <td>9237-HQITU</td>\n",
       "      <td>2019-09-01</td>\n",
       "      <td>2019-11-01 00:00:00</td>\n",
       "      <td>Month-to-month</td>\n",
       "      <td>Yes</td>\n",
       "      <td>Electronic check</td>\n",
       "      <td>70.70</td>\n",
       "      <td>151.65</td>\n",
       "    </tr>\n",
       "    <tr>\n",
       "      <th>...</th>\n",
       "      <td>...</td>\n",
       "      <td>...</td>\n",
       "      <td>...</td>\n",
       "      <td>...</td>\n",
       "      <td>...</td>\n",
       "      <td>...</td>\n",
       "      <td>...</td>\n",
       "      <td>...</td>\n",
       "    </tr>\n",
       "    <tr>\n",
       "      <th>7038</th>\n",
       "      <td>6840-RESVB</td>\n",
       "      <td>2018-02-01</td>\n",
       "      <td>No</td>\n",
       "      <td>One year</td>\n",
       "      <td>Yes</td>\n",
       "      <td>Mailed check</td>\n",
       "      <td>84.80</td>\n",
       "      <td>1990.5</td>\n",
       "    </tr>\n",
       "    <tr>\n",
       "      <th>7039</th>\n",
       "      <td>2234-XADUH</td>\n",
       "      <td>2014-02-01</td>\n",
       "      <td>No</td>\n",
       "      <td>One year</td>\n",
       "      <td>Yes</td>\n",
       "      <td>Credit card (automatic)</td>\n",
       "      <td>103.20</td>\n",
       "      <td>7362.9</td>\n",
       "    </tr>\n",
       "    <tr>\n",
       "      <th>7040</th>\n",
       "      <td>4801-JZAZL</td>\n",
       "      <td>2019-03-01</td>\n",
       "      <td>No</td>\n",
       "      <td>Month-to-month</td>\n",
       "      <td>Yes</td>\n",
       "      <td>Electronic check</td>\n",
       "      <td>29.60</td>\n",
       "      <td>346.45</td>\n",
       "    </tr>\n",
       "    <tr>\n",
       "      <th>7041</th>\n",
       "      <td>8361-LTMKD</td>\n",
       "      <td>2019-07-01</td>\n",
       "      <td>2019-11-01 00:00:00</td>\n",
       "      <td>Month-to-month</td>\n",
       "      <td>Yes</td>\n",
       "      <td>Mailed check</td>\n",
       "      <td>74.40</td>\n",
       "      <td>306.6</td>\n",
       "    </tr>\n",
       "    <tr>\n",
       "      <th>7042</th>\n",
       "      <td>3186-AJIEK</td>\n",
       "      <td>2014-08-01</td>\n",
       "      <td>No</td>\n",
       "      <td>Two year</td>\n",
       "      <td>Yes</td>\n",
       "      <td>Bank transfer (automatic)</td>\n",
       "      <td>105.65</td>\n",
       "      <td>6844.5</td>\n",
       "    </tr>\n",
       "  </tbody>\n",
       "</table>\n",
       "<p>7043 rows × 8 columns</p>\n",
       "</div>"
      ],
      "text/plain": [
       "      customerID   BeginDate              EndDate            Type  \\\n",
       "0     7590-VHVEG  2020-01-01                   No  Month-to-month   \n",
       "1     5575-GNVDE  2017-04-01                   No        One year   \n",
       "2     3668-QPYBK  2019-10-01  2019-12-01 00:00:00  Month-to-month   \n",
       "3     7795-CFOCW  2016-05-01                   No        One year   \n",
       "4     9237-HQITU  2019-09-01  2019-11-01 00:00:00  Month-to-month   \n",
       "...          ...         ...                  ...             ...   \n",
       "7038  6840-RESVB  2018-02-01                   No        One year   \n",
       "7039  2234-XADUH  2014-02-01                   No        One year   \n",
       "7040  4801-JZAZL  2019-03-01                   No  Month-to-month   \n",
       "7041  8361-LTMKD  2019-07-01  2019-11-01 00:00:00  Month-to-month   \n",
       "7042  3186-AJIEK  2014-08-01                   No        Two year   \n",
       "\n",
       "     PaperlessBilling              PaymentMethod  MonthlyCharges TotalCharges  \n",
       "0                 Yes           Electronic check           29.85        29.85  \n",
       "1                  No               Mailed check           56.95       1889.5  \n",
       "2                 Yes               Mailed check           53.85       108.15  \n",
       "3                  No  Bank transfer (automatic)           42.30      1840.75  \n",
       "4                 Yes           Electronic check           70.70       151.65  \n",
       "...               ...                        ...             ...          ...  \n",
       "7038              Yes               Mailed check           84.80       1990.5  \n",
       "7039              Yes    Credit card (automatic)          103.20       7362.9  \n",
       "7040              Yes           Electronic check           29.60       346.45  \n",
       "7041              Yes               Mailed check           74.40        306.6  \n",
       "7042              Yes  Bank transfer (automatic)          105.65       6844.5  \n",
       "\n",
       "[7043 rows x 8 columns]"
      ]
     },
     "execution_count": 3,
     "metadata": {},
     "output_type": "execute_result"
    }
   ],
   "source": [
    "contract.info()\n",
    "contract"
   ]
  },
  {
   "cell_type": "code",
   "execution_count": 4,
   "metadata": {},
   "outputs": [
    {
     "data": {
      "text/html": [
       "<div>\n",
       "<style scoped>\n",
       "    .dataframe tbody tr th:only-of-type {\n",
       "        vertical-align: middle;\n",
       "    }\n",
       "\n",
       "    .dataframe tbody tr th {\n",
       "        vertical-align: top;\n",
       "    }\n",
       "\n",
       "    .dataframe thead th {\n",
       "        text-align: right;\n",
       "    }\n",
       "</style>\n",
       "<table border=\"1\" class=\"dataframe\">\n",
       "  <thead>\n",
       "    <tr style=\"text-align: right;\">\n",
       "      <th></th>\n",
       "      <th>customerID</th>\n",
       "      <th>gender</th>\n",
       "      <th>SeniorCitizen</th>\n",
       "      <th>Partner</th>\n",
       "      <th>Dependents</th>\n",
       "    </tr>\n",
       "  </thead>\n",
       "  <tbody>\n",
       "    <tr>\n",
       "      <th>0</th>\n",
       "      <td>7590-VHVEG</td>\n",
       "      <td>Female</td>\n",
       "      <td>0</td>\n",
       "      <td>Yes</td>\n",
       "      <td>No</td>\n",
       "    </tr>\n",
       "    <tr>\n",
       "      <th>1</th>\n",
       "      <td>5575-GNVDE</td>\n",
       "      <td>Male</td>\n",
       "      <td>0</td>\n",
       "      <td>No</td>\n",
       "      <td>No</td>\n",
       "    </tr>\n",
       "    <tr>\n",
       "      <th>2</th>\n",
       "      <td>3668-QPYBK</td>\n",
       "      <td>Male</td>\n",
       "      <td>0</td>\n",
       "      <td>No</td>\n",
       "      <td>No</td>\n",
       "    </tr>\n",
       "    <tr>\n",
       "      <th>3</th>\n",
       "      <td>7795-CFOCW</td>\n",
       "      <td>Male</td>\n",
       "      <td>0</td>\n",
       "      <td>No</td>\n",
       "      <td>No</td>\n",
       "    </tr>\n",
       "    <tr>\n",
       "      <th>4</th>\n",
       "      <td>9237-HQITU</td>\n",
       "      <td>Female</td>\n",
       "      <td>0</td>\n",
       "      <td>No</td>\n",
       "      <td>No</td>\n",
       "    </tr>\n",
       "    <tr>\n",
       "      <th>...</th>\n",
       "      <td>...</td>\n",
       "      <td>...</td>\n",
       "      <td>...</td>\n",
       "      <td>...</td>\n",
       "      <td>...</td>\n",
       "    </tr>\n",
       "    <tr>\n",
       "      <th>7038</th>\n",
       "      <td>6840-RESVB</td>\n",
       "      <td>Male</td>\n",
       "      <td>0</td>\n",
       "      <td>Yes</td>\n",
       "      <td>Yes</td>\n",
       "    </tr>\n",
       "    <tr>\n",
       "      <th>7039</th>\n",
       "      <td>2234-XADUH</td>\n",
       "      <td>Female</td>\n",
       "      <td>0</td>\n",
       "      <td>Yes</td>\n",
       "      <td>Yes</td>\n",
       "    </tr>\n",
       "    <tr>\n",
       "      <th>7040</th>\n",
       "      <td>4801-JZAZL</td>\n",
       "      <td>Female</td>\n",
       "      <td>0</td>\n",
       "      <td>Yes</td>\n",
       "      <td>Yes</td>\n",
       "    </tr>\n",
       "    <tr>\n",
       "      <th>7041</th>\n",
       "      <td>8361-LTMKD</td>\n",
       "      <td>Male</td>\n",
       "      <td>1</td>\n",
       "      <td>Yes</td>\n",
       "      <td>No</td>\n",
       "    </tr>\n",
       "    <tr>\n",
       "      <th>7042</th>\n",
       "      <td>3186-AJIEK</td>\n",
       "      <td>Male</td>\n",
       "      <td>0</td>\n",
       "      <td>No</td>\n",
       "      <td>No</td>\n",
       "    </tr>\n",
       "  </tbody>\n",
       "</table>\n",
       "<p>7043 rows × 5 columns</p>\n",
       "</div>"
      ],
      "text/plain": [
       "      customerID  gender  SeniorCitizen Partner Dependents\n",
       "0     7590-VHVEG  Female              0     Yes         No\n",
       "1     5575-GNVDE    Male              0      No         No\n",
       "2     3668-QPYBK    Male              0      No         No\n",
       "3     7795-CFOCW    Male              0      No         No\n",
       "4     9237-HQITU  Female              0      No         No\n",
       "...          ...     ...            ...     ...        ...\n",
       "7038  6840-RESVB    Male              0     Yes        Yes\n",
       "7039  2234-XADUH  Female              0     Yes        Yes\n",
       "7040  4801-JZAZL  Female              0     Yes        Yes\n",
       "7041  8361-LTMKD    Male              1     Yes         No\n",
       "7042  3186-AJIEK    Male              0      No         No\n",
       "\n",
       "[7043 rows x 5 columns]"
      ]
     },
     "execution_count": 4,
     "metadata": {},
     "output_type": "execute_result"
    }
   ],
   "source": [
    "personal.info\n",
    "personal"
   ]
  },
  {
   "cell_type": "code",
   "execution_count": 5,
   "metadata": {},
   "outputs": [
    {
     "data": {
      "text/html": [
       "<div>\n",
       "<style scoped>\n",
       "    .dataframe tbody tr th:only-of-type {\n",
       "        vertical-align: middle;\n",
       "    }\n",
       "\n",
       "    .dataframe tbody tr th {\n",
       "        vertical-align: top;\n",
       "    }\n",
       "\n",
       "    .dataframe thead th {\n",
       "        text-align: right;\n",
       "    }\n",
       "</style>\n",
       "<table border=\"1\" class=\"dataframe\">\n",
       "  <thead>\n",
       "    <tr style=\"text-align: right;\">\n",
       "      <th></th>\n",
       "      <th>customerID</th>\n",
       "      <th>InternetService</th>\n",
       "      <th>OnlineSecurity</th>\n",
       "      <th>OnlineBackup</th>\n",
       "      <th>DeviceProtection</th>\n",
       "      <th>TechSupport</th>\n",
       "      <th>StreamingTV</th>\n",
       "      <th>StreamingMovies</th>\n",
       "    </tr>\n",
       "  </thead>\n",
       "  <tbody>\n",
       "    <tr>\n",
       "      <th>0</th>\n",
       "      <td>7590-VHVEG</td>\n",
       "      <td>DSL</td>\n",
       "      <td>No</td>\n",
       "      <td>Yes</td>\n",
       "      <td>No</td>\n",
       "      <td>No</td>\n",
       "      <td>No</td>\n",
       "      <td>No</td>\n",
       "    </tr>\n",
       "    <tr>\n",
       "      <th>1</th>\n",
       "      <td>5575-GNVDE</td>\n",
       "      <td>DSL</td>\n",
       "      <td>Yes</td>\n",
       "      <td>No</td>\n",
       "      <td>Yes</td>\n",
       "      <td>No</td>\n",
       "      <td>No</td>\n",
       "      <td>No</td>\n",
       "    </tr>\n",
       "    <tr>\n",
       "      <th>2</th>\n",
       "      <td>3668-QPYBK</td>\n",
       "      <td>DSL</td>\n",
       "      <td>Yes</td>\n",
       "      <td>Yes</td>\n",
       "      <td>No</td>\n",
       "      <td>No</td>\n",
       "      <td>No</td>\n",
       "      <td>No</td>\n",
       "    </tr>\n",
       "    <tr>\n",
       "      <th>3</th>\n",
       "      <td>7795-CFOCW</td>\n",
       "      <td>DSL</td>\n",
       "      <td>Yes</td>\n",
       "      <td>No</td>\n",
       "      <td>Yes</td>\n",
       "      <td>Yes</td>\n",
       "      <td>No</td>\n",
       "      <td>No</td>\n",
       "    </tr>\n",
       "    <tr>\n",
       "      <th>4</th>\n",
       "      <td>9237-HQITU</td>\n",
       "      <td>Fiber optic</td>\n",
       "      <td>No</td>\n",
       "      <td>No</td>\n",
       "      <td>No</td>\n",
       "      <td>No</td>\n",
       "      <td>No</td>\n",
       "      <td>No</td>\n",
       "    </tr>\n",
       "    <tr>\n",
       "      <th>...</th>\n",
       "      <td>...</td>\n",
       "      <td>...</td>\n",
       "      <td>...</td>\n",
       "      <td>...</td>\n",
       "      <td>...</td>\n",
       "      <td>...</td>\n",
       "      <td>...</td>\n",
       "      <td>...</td>\n",
       "    </tr>\n",
       "    <tr>\n",
       "      <th>5512</th>\n",
       "      <td>6840-RESVB</td>\n",
       "      <td>DSL</td>\n",
       "      <td>Yes</td>\n",
       "      <td>No</td>\n",
       "      <td>Yes</td>\n",
       "      <td>Yes</td>\n",
       "      <td>Yes</td>\n",
       "      <td>Yes</td>\n",
       "    </tr>\n",
       "    <tr>\n",
       "      <th>5513</th>\n",
       "      <td>2234-XADUH</td>\n",
       "      <td>Fiber optic</td>\n",
       "      <td>No</td>\n",
       "      <td>Yes</td>\n",
       "      <td>Yes</td>\n",
       "      <td>No</td>\n",
       "      <td>Yes</td>\n",
       "      <td>Yes</td>\n",
       "    </tr>\n",
       "    <tr>\n",
       "      <th>5514</th>\n",
       "      <td>4801-JZAZL</td>\n",
       "      <td>DSL</td>\n",
       "      <td>Yes</td>\n",
       "      <td>No</td>\n",
       "      <td>No</td>\n",
       "      <td>No</td>\n",
       "      <td>No</td>\n",
       "      <td>No</td>\n",
       "    </tr>\n",
       "    <tr>\n",
       "      <th>5515</th>\n",
       "      <td>8361-LTMKD</td>\n",
       "      <td>Fiber optic</td>\n",
       "      <td>No</td>\n",
       "      <td>No</td>\n",
       "      <td>No</td>\n",
       "      <td>No</td>\n",
       "      <td>No</td>\n",
       "      <td>No</td>\n",
       "    </tr>\n",
       "    <tr>\n",
       "      <th>5516</th>\n",
       "      <td>3186-AJIEK</td>\n",
       "      <td>Fiber optic</td>\n",
       "      <td>Yes</td>\n",
       "      <td>No</td>\n",
       "      <td>Yes</td>\n",
       "      <td>Yes</td>\n",
       "      <td>Yes</td>\n",
       "      <td>Yes</td>\n",
       "    </tr>\n",
       "  </tbody>\n",
       "</table>\n",
       "<p>5517 rows × 8 columns</p>\n",
       "</div>"
      ],
      "text/plain": [
       "      customerID InternetService OnlineSecurity OnlineBackup DeviceProtection  \\\n",
       "0     7590-VHVEG             DSL             No          Yes               No   \n",
       "1     5575-GNVDE             DSL            Yes           No              Yes   \n",
       "2     3668-QPYBK             DSL            Yes          Yes               No   \n",
       "3     7795-CFOCW             DSL            Yes           No              Yes   \n",
       "4     9237-HQITU     Fiber optic             No           No               No   \n",
       "...          ...             ...            ...          ...              ...   \n",
       "5512  6840-RESVB             DSL            Yes           No              Yes   \n",
       "5513  2234-XADUH     Fiber optic             No          Yes              Yes   \n",
       "5514  4801-JZAZL             DSL            Yes           No               No   \n",
       "5515  8361-LTMKD     Fiber optic             No           No               No   \n",
       "5516  3186-AJIEK     Fiber optic            Yes           No              Yes   \n",
       "\n",
       "     TechSupport StreamingTV StreamingMovies  \n",
       "0             No          No              No  \n",
       "1             No          No              No  \n",
       "2             No          No              No  \n",
       "3            Yes          No              No  \n",
       "4             No          No              No  \n",
       "...          ...         ...             ...  \n",
       "5512         Yes         Yes             Yes  \n",
       "5513          No         Yes             Yes  \n",
       "5514          No          No              No  \n",
       "5515          No          No              No  \n",
       "5516         Yes         Yes             Yes  \n",
       "\n",
       "[5517 rows x 8 columns]"
      ]
     },
     "execution_count": 5,
     "metadata": {},
     "output_type": "execute_result"
    }
   ],
   "source": [
    "internet.info\n",
    "internet"
   ]
  },
  {
   "cell_type": "code",
   "execution_count": 6,
   "metadata": {},
   "outputs": [
    {
     "data": {
      "text/html": [
       "<div>\n",
       "<style scoped>\n",
       "    .dataframe tbody tr th:only-of-type {\n",
       "        vertical-align: middle;\n",
       "    }\n",
       "\n",
       "    .dataframe tbody tr th {\n",
       "        vertical-align: top;\n",
       "    }\n",
       "\n",
       "    .dataframe thead th {\n",
       "        text-align: right;\n",
       "    }\n",
       "</style>\n",
       "<table border=\"1\" class=\"dataframe\">\n",
       "  <thead>\n",
       "    <tr style=\"text-align: right;\">\n",
       "      <th></th>\n",
       "      <th>customerID</th>\n",
       "      <th>MultipleLines</th>\n",
       "    </tr>\n",
       "  </thead>\n",
       "  <tbody>\n",
       "    <tr>\n",
       "      <th>0</th>\n",
       "      <td>5575-GNVDE</td>\n",
       "      <td>No</td>\n",
       "    </tr>\n",
       "    <tr>\n",
       "      <th>1</th>\n",
       "      <td>3668-QPYBK</td>\n",
       "      <td>No</td>\n",
       "    </tr>\n",
       "    <tr>\n",
       "      <th>2</th>\n",
       "      <td>9237-HQITU</td>\n",
       "      <td>No</td>\n",
       "    </tr>\n",
       "    <tr>\n",
       "      <th>3</th>\n",
       "      <td>9305-CDSKC</td>\n",
       "      <td>Yes</td>\n",
       "    </tr>\n",
       "    <tr>\n",
       "      <th>4</th>\n",
       "      <td>1452-KIOVK</td>\n",
       "      <td>Yes</td>\n",
       "    </tr>\n",
       "    <tr>\n",
       "      <th>...</th>\n",
       "      <td>...</td>\n",
       "      <td>...</td>\n",
       "    </tr>\n",
       "    <tr>\n",
       "      <th>6356</th>\n",
       "      <td>2569-WGERO</td>\n",
       "      <td>No</td>\n",
       "    </tr>\n",
       "    <tr>\n",
       "      <th>6357</th>\n",
       "      <td>6840-RESVB</td>\n",
       "      <td>Yes</td>\n",
       "    </tr>\n",
       "    <tr>\n",
       "      <th>6358</th>\n",
       "      <td>2234-XADUH</td>\n",
       "      <td>Yes</td>\n",
       "    </tr>\n",
       "    <tr>\n",
       "      <th>6359</th>\n",
       "      <td>8361-LTMKD</td>\n",
       "      <td>Yes</td>\n",
       "    </tr>\n",
       "    <tr>\n",
       "      <th>6360</th>\n",
       "      <td>3186-AJIEK</td>\n",
       "      <td>No</td>\n",
       "    </tr>\n",
       "  </tbody>\n",
       "</table>\n",
       "<p>6361 rows × 2 columns</p>\n",
       "</div>"
      ],
      "text/plain": [
       "      customerID MultipleLines\n",
       "0     5575-GNVDE            No\n",
       "1     3668-QPYBK            No\n",
       "2     9237-HQITU            No\n",
       "3     9305-CDSKC           Yes\n",
       "4     1452-KIOVK           Yes\n",
       "...          ...           ...\n",
       "6356  2569-WGERO            No\n",
       "6357  6840-RESVB           Yes\n",
       "6358  2234-XADUH           Yes\n",
       "6359  8361-LTMKD           Yes\n",
       "6360  3186-AJIEK            No\n",
       "\n",
       "[6361 rows x 2 columns]"
      ]
     },
     "execution_count": 6,
     "metadata": {},
     "output_type": "execute_result"
    }
   ],
   "source": [
    "phone.info\n",
    "phone"
   ]
  },
  {
   "cell_type": "markdown",
   "metadata": {},
   "source": [
    "Todos los dataset vienen de forma predeterminada con la separación por coma. Adicionalmente, la columna en común es el customerID por lo que deberemos efectuar algunos merge eventualmente para tener la data unificada."
   ]
  },
  {
   "cell_type": "markdown",
   "metadata": {},
   "source": [
    "## EDA\n",
    "\n",
    "Revisemos un poco los datos que nos entregan los dataset."
   ]
  },
  {
   "cell_type": "code",
   "execution_count": 7,
   "metadata": {},
   "outputs": [
    {
     "data": {
      "image/png": "[encoded data removed]",
      "text/plain": [
       "<Figure size 800x600 with 4 Axes>"
      ]
     },
     "metadata": {},
     "output_type": "display_data"
    }
   ],
   "source": [
    "fig, axes = plt.subplots(2, 2, figsize=(8, 6))  # 1 fila, 2 columnas, tamaño de la figura\n",
    "\n",
    "\n",
    "sns.countplot(x = contract[\"EndDate\"], ax = axes[0,0])\n",
    "axes[0,0].set_title(\"Fecha de término de contrato de clientes\")\n",
    "\n",
    "sns.countplot(x = contract[\"PaymentMethod\"], ax = axes[0,1])\n",
    "axes[0,1].set_title('Tipo de Pago')\n",
    "\n",
    "sns.countplot(x = contract[\"Type\"], ax = axes[1,0])\n",
    "axes[1,0].set_title(\"Tipo de Suscripción\")\n",
    "\n",
    "sns.countplot(x = contract[\"PaperlessBilling\"], ax = axes[1,1])\n",
    "axes[1,1].set_title(\"Cuenta en Papel\")\n",
    "\n",
    "for ax in axes.flatten():\n",
    "    # Obtén las etiquetas actuales y aplícales la rotación\n",
    "    labels = ax.get_xticklabels()\n",
    "    ax.set_xticklabels(labels, rotation=45, ha='right')\n",
    "plt.tight_layout()\n",
    "plt.show()"
   ]
  },
  {
   "cell_type": "markdown",
   "metadata": {},
   "source": [
    "Del primer dataset Observamos que la mayoría de los clientes prefiere el pago del plan con cheque electrónico y el resto se divide proporcionalmente casi igual en cheque por correo, transferencia bancaria y pago automático con tarjeta. \n",
    "\n",
    "Por otra parte, la mayoría de clientes se decanta con el pago mes a mes del plan y el resto en proporciones similares en suscripciones anuales y bi-anuales.\n",
    "\n",
    "Por último, la mayoría prefiere recibir su cuenta mediante papel (poco ecológico en estos tiempos)."
   ]
  },
  {
   "cell_type": "code",
   "execution_count": 8,
   "metadata": {
    "scrolled": false
   },
   "outputs": [
    {
     "data": {
      "image/png": "[encoded data removed]",
      "text/plain": [
       "<Figure size 800x200 with 3 Axes>"
      ]
     },
     "metadata": {},
     "output_type": "display_data"
    }
   ],
   "source": [
    "fig, axes = plt.subplots(1, 3, figsize=(8, 2))  # Ajustar el tamaño de la figura\n",
    "\n",
    "# Primer gráfico: Género\n",
    "sns.countplot(x=personal[\"gender\"], ax=axes[0])\n",
    "axes[0].set_title(\"Género de los Clientes\", fontsize=10)\n",
    "axes[0].set_xlabel(\"Género\", fontsize=8)\n",
    "axes[0].set_ylabel(\"Conteo\", fontsize=8)\n",
    "\n",
    "# Ajustar ancho y posición de las barras\n",
    "for bar in axes[0].containers[0]:\n",
    "    bar.set_width(0.3)  # Reducir ancho de barra\n",
    "    bar.set_x(bar.get_x() + 0.26)  # Reposicionar para centrar\n",
    "\n",
    "# Segundo gráfico: Cliente Tercera Edad\n",
    "sns.countplot(x=personal[\"SeniorCitizen\"], ax=axes[1])\n",
    "axes[1].set_title(\"Cliente Tercera Edad (0 No, 1 Sí)\", fontsize=10)\n",
    "axes[1].set_xlabel(\"Tercera Edad\", fontsize=8)\n",
    "axes[1].set_ylabel(\"Conteo\", fontsize=8)\n",
    "\n",
    "# Ajustar ancho y posición de las barras\n",
    "for bar in axes[1].containers[0]:\n",
    "    bar.set_width(0.3)  # Reducir ancho de barra\n",
    "    bar.set_x(bar.get_x() + 0.26)  # Reposicionar para centrar\n",
    "    \n",
    "# Tercer gráfico: Partner\n",
    "sns.countplot(x=personal[\"Partner\"], ax=axes[2])\n",
    "axes[2].set_title(\"Posee compañero\", fontsize=10)\n",
    "axes[2].set_xlabel(\"Compañero\", fontsize=8)\n",
    "axes[2].set_ylabel(\"Conteo\", fontsize=8)\n",
    "\n",
    "# Ajustar ancho y posición de las barras\n",
    "for bar in axes[2].containers[0]:\n",
    "    bar.set_width(0.3)  # Reducir ancho de barra\n",
    "    bar.set_x(bar.get_x() + 0.26)  # Reposicionar para centrar\n",
    "\n",
    "    \n",
    "\n",
    "# Ajustar diseño\n",
    "plt.tight_layout()\n",
    "plt.show()"
   ]
  },
  {
   "cell_type": "code",
   "execution_count": 9,
   "metadata": {},
   "outputs": [
    {
     "data": {
      "text/plain": [
       "Male      3555\n",
       "Female    3488\n",
       "Name: gender, dtype: int64"
      ]
     },
     "execution_count": 9,
     "metadata": {},
     "output_type": "execute_result"
    }
   ],
   "source": [
    "personal[\"gender\"].value_counts()"
   ]
  },
  {
   "cell_type": "markdown",
   "metadata": {},
   "source": [
    "Para el segundo dataset, tenemos que los géneros están bastante equiparados, no habiendo inclinación alguna si los clientes son mayoritariamente hombres o mujeres. Por otra parte, la mayoría no son personas de mayor edad.\n",
    "\n",
    "Seguiremos el análisis una vez hagamos nuestra preparación de datos, ya que debemos hacer una fusión de los dataset y posteriormente revisar el comportamiento de la variable objetivo, la cual también debe ser trabajada."
   ]
  },
  {
   "cell_type": "markdown",
   "metadata": {},
   "source": [
    "## Preparación de los Datos"
   ]
  },
  {
   "cell_type": "markdown",
   "metadata": {},
   "source": [
    "Ahora, Haremos un merge de nuestros datasets para tener la data unificada y posteriormente continuaremos con el preprocesamiento."
   ]
  },
  {
   "cell_type": "code",
   "execution_count": 10,
   "metadata": {},
   "outputs": [
    {
     "data": {
      "text/html": [
       "<div>\n",
       "<style scoped>\n",
       "    .dataframe tbody tr th:only-of-type {\n",
       "        vertical-align: middle;\n",
       "    }\n",
       "\n",
       "    .dataframe tbody tr th {\n",
       "        vertical-align: top;\n",
       "    }\n",
       "\n",
       "    .dataframe thead th {\n",
       "        text-align: right;\n",
       "    }\n",
       "</style>\n",
       "<table border=\"1\" class=\"dataframe\">\n",
       "  <thead>\n",
       "    <tr style=\"text-align: right;\">\n",
       "      <th></th>\n",
       "      <th>customerid</th>\n",
       "      <th>begindate</th>\n",
       "      <th>enddate</th>\n",
       "      <th>type</th>\n",
       "      <th>paperlessbilling</th>\n",
       "      <th>paymentmethod</th>\n",
       "      <th>monthlycharges</th>\n",
       "      <th>totalcharges</th>\n",
       "      <th>gender</th>\n",
       "      <th>seniorcitizen</th>\n",
       "      <th>partner</th>\n",
       "      <th>dependents</th>\n",
       "      <th>internetservice</th>\n",
       "      <th>onlinesecurity</th>\n",
       "      <th>onlinebackup</th>\n",
       "      <th>deviceprotection</th>\n",
       "      <th>techsupport</th>\n",
       "      <th>streamingtv</th>\n",
       "      <th>streamingmovies</th>\n",
       "      <th>multiplelines</th>\n",
       "    </tr>\n",
       "  </thead>\n",
       "  <tbody>\n",
       "    <tr>\n",
       "      <th>0</th>\n",
       "      <td>7590-VHVEG</td>\n",
       "      <td>2020-01-01</td>\n",
       "      <td>No</td>\n",
       "      <td>Month-to-month</td>\n",
       "      <td>Yes</td>\n",
       "      <td>Electronic check</td>\n",
       "      <td>29.85</td>\n",
       "      <td>29.85</td>\n",
       "      <td>Female</td>\n",
       "      <td>0</td>\n",
       "      <td>Yes</td>\n",
       "      <td>No</td>\n",
       "      <td>DSL</td>\n",
       "      <td>No</td>\n",
       "      <td>Yes</td>\n",
       "      <td>No</td>\n",
       "      <td>No</td>\n",
       "      <td>No</td>\n",
       "      <td>No</td>\n",
       "      <td>NaN</td>\n",
       "    </tr>\n",
       "    <tr>\n",
       "      <th>1</th>\n",
       "      <td>5575-GNVDE</td>\n",
       "      <td>2017-04-01</td>\n",
       "      <td>No</td>\n",
       "      <td>One year</td>\n",
       "      <td>No</td>\n",
       "      <td>Mailed check</td>\n",
       "      <td>56.95</td>\n",
       "      <td>1889.5</td>\n",
       "      <td>Male</td>\n",
       "      <td>0</td>\n",
       "      <td>No</td>\n",
       "      <td>No</td>\n",
       "      <td>DSL</td>\n",
       "      <td>Yes</td>\n",
       "      <td>No</td>\n",
       "      <td>Yes</td>\n",
       "      <td>No</td>\n",
       "      <td>No</td>\n",
       "      <td>No</td>\n",
       "      <td>No</td>\n",
       "    </tr>\n",
       "    <tr>\n",
       "      <th>2</th>\n",
       "      <td>3668-QPYBK</td>\n",
       "      <td>2019-10-01</td>\n",
       "      <td>2019-12-01 00:00:00</td>\n",
       "      <td>Month-to-month</td>\n",
       "      <td>Yes</td>\n",
       "      <td>Mailed check</td>\n",
       "      <td>53.85</td>\n",
       "      <td>108.15</td>\n",
       "      <td>Male</td>\n",
       "      <td>0</td>\n",
       "      <td>No</td>\n",
       "      <td>No</td>\n",
       "      <td>DSL</td>\n",
       "      <td>Yes</td>\n",
       "      <td>Yes</td>\n",
       "      <td>No</td>\n",
       "      <td>No</td>\n",
       "      <td>No</td>\n",
       "      <td>No</td>\n",
       "      <td>No</td>\n",
       "    </tr>\n",
       "    <tr>\n",
       "      <th>3</th>\n",
       "      <td>7795-CFOCW</td>\n",
       "      <td>2016-05-01</td>\n",
       "      <td>No</td>\n",
       "      <td>One year</td>\n",
       "      <td>No</td>\n",
       "      <td>Bank transfer (automatic)</td>\n",
       "      <td>42.30</td>\n",
       "      <td>1840.75</td>\n",
       "      <td>Male</td>\n",
       "      <td>0</td>\n",
       "      <td>No</td>\n",
       "      <td>No</td>\n",
       "      <td>DSL</td>\n",
       "      <td>Yes</td>\n",
       "      <td>No</td>\n",
       "      <td>Yes</td>\n",
       "      <td>Yes</td>\n",
       "      <td>No</td>\n",
       "      <td>No</td>\n",
       "      <td>NaN</td>\n",
       "    </tr>\n",
       "    <tr>\n",
       "      <th>4</th>\n",
       "      <td>9237-HQITU</td>\n",
       "      <td>2019-09-01</td>\n",
       "      <td>2019-11-01 00:00:00</td>\n",
       "      <td>Month-to-month</td>\n",
       "      <td>Yes</td>\n",
       "      <td>Electronic check</td>\n",
       "      <td>70.70</td>\n",
       "      <td>151.65</td>\n",
       "      <td>Female</td>\n",
       "      <td>0</td>\n",
       "      <td>No</td>\n",
       "      <td>No</td>\n",
       "      <td>Fiber optic</td>\n",
       "      <td>No</td>\n",
       "      <td>No</td>\n",
       "      <td>No</td>\n",
       "      <td>No</td>\n",
       "      <td>No</td>\n",
       "      <td>No</td>\n",
       "      <td>No</td>\n",
       "    </tr>\n",
       "    <tr>\n",
       "      <th>...</th>\n",
       "      <td>...</td>\n",
       "      <td>...</td>\n",
       "      <td>...</td>\n",
       "      <td>...</td>\n",
       "      <td>...</td>\n",
       "      <td>...</td>\n",
       "      <td>...</td>\n",
       "      <td>...</td>\n",
       "      <td>...</td>\n",
       "      <td>...</td>\n",
       "      <td>...</td>\n",
       "      <td>...</td>\n",
       "      <td>...</td>\n",
       "      <td>...</td>\n",
       "      <td>...</td>\n",
       "      <td>...</td>\n",
       "      <td>...</td>\n",
       "      <td>...</td>\n",
       "      <td>...</td>\n",
       "      <td>...</td>\n",
       "    </tr>\n",
       "    <tr>\n",
       "      <th>7038</th>\n",
       "      <td>6840-RESVB</td>\n",
       "      <td>2018-02-01</td>\n",
       "      <td>No</td>\n",
       "      <td>One year</td>\n",
       "      <td>Yes</td>\n",
       "      <td>Mailed check</td>\n",
       "      <td>84.80</td>\n",
       "      <td>1990.5</td>\n",
       "      <td>Male</td>\n",
       "      <td>0</td>\n",
       "      <td>Yes</td>\n",
       "      <td>Yes</td>\n",
       "      <td>DSL</td>\n",
       "      <td>Yes</td>\n",
       "      <td>No</td>\n",
       "      <td>Yes</td>\n",
       "      <td>Yes</td>\n",
       "      <td>Yes</td>\n",
       "      <td>Yes</td>\n",
       "      <td>Yes</td>\n",
       "    </tr>\n",
       "    <tr>\n",
       "      <th>7039</th>\n",
       "      <td>2234-XADUH</td>\n",
       "      <td>2014-02-01</td>\n",
       "      <td>No</td>\n",
       "      <td>One year</td>\n",
       "      <td>Yes</td>\n",
       "      <td>Credit card (automatic)</td>\n",
       "      <td>103.20</td>\n",
       "      <td>7362.9</td>\n",
       "      <td>Female</td>\n",
       "      <td>0</td>\n",
       "      <td>Yes</td>\n",
       "      <td>Yes</td>\n",
       "      <td>Fiber optic</td>\n",
       "      <td>No</td>\n",
       "      <td>Yes</td>\n",
       "      <td>Yes</td>\n",
       "      <td>No</td>\n",
       "      <td>Yes</td>\n",
       "      <td>Yes</td>\n",
       "      <td>Yes</td>\n",
       "    </tr>\n",
       "    <tr>\n",
       "      <th>7040</th>\n",
       "      <td>4801-JZAZL</td>\n",
       "      <td>2019-03-01</td>\n",
       "      <td>No</td>\n",
       "      <td>Month-to-month</td>\n",
       "      <td>Yes</td>\n",
       "      <td>Electronic check</td>\n",
       "      <td>29.60</td>\n",
       "      <td>346.45</td>\n",
       "      <td>Female</td>\n",
       "      <td>0</td>\n",
       "      <td>Yes</td>\n",
       "      <td>Yes</td>\n",
       "      <td>DSL</td>\n",
       "      <td>Yes</td>\n",
       "      <td>No</td>\n",
       "      <td>No</td>\n",
       "      <td>No</td>\n",
       "      <td>No</td>\n",
       "      <td>No</td>\n",
       "      <td>NaN</td>\n",
       "    </tr>\n",
       "    <tr>\n",
       "      <th>7041</th>\n",
       "      <td>8361-LTMKD</td>\n",
       "      <td>2019-07-01</td>\n",
       "      <td>2019-11-01 00:00:00</td>\n",
       "      <td>Month-to-month</td>\n",
       "      <td>Yes</td>\n",
       "      <td>Mailed check</td>\n",
       "      <td>74.40</td>\n",
       "      <td>306.6</td>\n",
       "      <td>Male</td>\n",
       "      <td>1</td>\n",
       "      <td>Yes</td>\n",
       "      <td>No</td>\n",
       "      <td>Fiber optic</td>\n",
       "      <td>No</td>\n",
       "      <td>No</td>\n",
       "      <td>No</td>\n",
       "      <td>No</td>\n",
       "      <td>No</td>\n",
       "      <td>No</td>\n",
       "      <td>Yes</td>\n",
       "    </tr>\n",
       "    <tr>\n",
       "      <th>7042</th>\n",
       "      <td>3186-AJIEK</td>\n",
       "      <td>2014-08-01</td>\n",
       "      <td>No</td>\n",
       "      <td>Two year</td>\n",
       "      <td>Yes</td>\n",
       "      <td>Bank transfer (automatic)</td>\n",
       "      <td>105.65</td>\n",
       "      <td>6844.5</td>\n",
       "      <td>Male</td>\n",
       "      <td>0</td>\n",
       "      <td>No</td>\n",
       "      <td>No</td>\n",
       "      <td>Fiber optic</td>\n",
       "      <td>Yes</td>\n",
       "      <td>No</td>\n",
       "      <td>Yes</td>\n",
       "      <td>Yes</td>\n",
       "      <td>Yes</td>\n",
       "      <td>Yes</td>\n",
       "      <td>No</td>\n",
       "    </tr>\n",
       "  </tbody>\n",
       "</table>\n",
       "<p>7043 rows × 20 columns</p>\n",
       "</div>"
      ],
      "text/plain": [
       "      customerid   begindate              enddate            type  \\\n",
       "0     7590-VHVEG  2020-01-01                   No  Month-to-month   \n",
       "1     5575-GNVDE  2017-04-01                   No        One year   \n",
       "2     3668-QPYBK  2019-10-01  2019-12-01 00:00:00  Month-to-month   \n",
       "3     7795-CFOCW  2016-05-01                   No        One year   \n",
       "4     9237-HQITU  2019-09-01  2019-11-01 00:00:00  Month-to-month   \n",
       "...          ...         ...                  ...             ...   \n",
       "7038  6840-RESVB  2018-02-01                   No        One year   \n",
       "7039  2234-XADUH  2014-02-01                   No        One year   \n",
       "7040  4801-JZAZL  2019-03-01                   No  Month-to-month   \n",
       "7041  8361-LTMKD  2019-07-01  2019-11-01 00:00:00  Month-to-month   \n",
       "7042  3186-AJIEK  2014-08-01                   No        Two year   \n",
       "\n",
       "     paperlessbilling              paymentmethod  monthlycharges totalcharges  \\\n",
       "0                 Yes           Electronic check           29.85        29.85   \n",
       "1                  No               Mailed check           56.95       1889.5   \n",
       "2                 Yes               Mailed check           53.85       108.15   \n",
       "3                  No  Bank transfer (automatic)           42.30      1840.75   \n",
       "4                 Yes           Electronic check           70.70       151.65   \n",
       "...               ...                        ...             ...          ...   \n",
       "7038              Yes               Mailed check           84.80       1990.5   \n",
       "7039              Yes    Credit card (automatic)          103.20       7362.9   \n",
       "7040              Yes           Electronic check           29.60       346.45   \n",
       "7041              Yes               Mailed check           74.40        306.6   \n",
       "7042              Yes  Bank transfer (automatic)          105.65       6844.5   \n",
       "\n",
       "      gender  seniorcitizen partner dependents internetservice onlinesecurity  \\\n",
       "0     Female              0     Yes         No             DSL             No   \n",
       "1       Male              0      No         No             DSL            Yes   \n",
       "2       Male              0      No         No             DSL            Yes   \n",
       "3       Male              0      No         No             DSL            Yes   \n",
       "4     Female              0      No         No     Fiber optic             No   \n",
       "...      ...            ...     ...        ...             ...            ...   \n",
       "7038    Male              0     Yes        Yes             DSL            Yes   \n",
       "7039  Female              0     Yes        Yes     Fiber optic             No   \n",
       "7040  Female              0     Yes        Yes             DSL            Yes   \n",
       "7041    Male              1     Yes         No     Fiber optic             No   \n",
       "7042    Male              0      No         No     Fiber optic            Yes   \n",
       "\n",
       "     onlinebackup deviceprotection techsupport streamingtv streamingmovies  \\\n",
       "0             Yes               No          No          No              No   \n",
       "1              No              Yes          No          No              No   \n",
       "2             Yes               No          No          No              No   \n",
       "3              No              Yes         Yes          No              No   \n",
       "4              No               No          No          No              No   \n",
       "...           ...              ...         ...         ...             ...   \n",
       "7038           No              Yes         Yes         Yes             Yes   \n",
       "7039          Yes              Yes          No         Yes             Yes   \n",
       "7040           No               No          No          No              No   \n",
       "7041           No               No          No          No              No   \n",
       "7042           No              Yes         Yes         Yes             Yes   \n",
       "\n",
       "     multiplelines  \n",
       "0              NaN  \n",
       "1               No  \n",
       "2               No  \n",
       "3              NaN  \n",
       "4               No  \n",
       "...            ...  \n",
       "7038           Yes  \n",
       "7039           Yes  \n",
       "7040           NaN  \n",
       "7041           Yes  \n",
       "7042            No  \n",
       "\n",
       "[7043 rows x 20 columns]"
      ]
     },
     "execution_count": 10,
     "metadata": {},
     "output_type": "execute_result"
    }
   ],
   "source": [
    "dataframes = [contract, personal, internet, phone]\n",
    "df = dataframes[0]\n",
    "for dataframe in dataframes[1:]:\n",
    "    df = pd.merge(df, dataframe, on='customerID', how='left')\n",
    "\n",
    "df.columns = df.columns.str.lower()\n",
    "df"
   ]
  },
  {
   "cell_type": "code",
   "execution_count": 11,
   "metadata": {},
   "outputs": [
    {
     "name": "stdout",
     "output_type": "stream",
     "text": [
      "<class 'pandas.core.frame.DataFrame'>\n",
      "Int64Index: 7043 entries, 0 to 7042\n",
      "Data columns (total 20 columns):\n",
      " #   Column            Non-Null Count  Dtype  \n",
      "---  ------            --------------  -----  \n",
      " 0   customerid        7043 non-null   object \n",
      " 1   begindate         7043 non-null   object \n",
      " 2   enddate           7043 non-null   object \n",
      " 3   type              7043 non-null   object \n",
      " 4   paperlessbilling  7043 non-null   object \n",
      " 5   paymentmethod     7043 non-null   object \n",
      " 6   monthlycharges    7043 non-null   float64\n",
      " 7   totalcharges      7043 non-null   object \n",
      " 8   gender            7043 non-null   object \n",
      " 9   seniorcitizen     7043 non-null   int64  \n",
      " 10  partner           7043 non-null   object \n",
      " 11  dependents        7043 non-null   object \n",
      " 12  internetservice   5517 non-null   object \n",
      " 13  onlinesecurity    5517 non-null   object \n",
      " 14  onlinebackup      5517 non-null   object \n",
      " 15  deviceprotection  5517 non-null   object \n",
      " 16  techsupport       5517 non-null   object \n",
      " 17  streamingtv       5517 non-null   object \n",
      " 18  streamingmovies   5517 non-null   object \n",
      " 19  multiplelines     6361 non-null   object \n",
      "dtypes: float64(1), int64(1), object(18)\n",
      "memory usage: 1.1+ MB\n"
     ]
    }
   ],
   "source": [
    "df.info()"
   ]
  },
  {
   "cell_type": "markdown",
   "metadata": {},
   "source": [
    "### Transformación de Columnas a sus Tipos Correctos\n",
    "\n",
    "Haremos la transformación de los tipos de datos de las columnas numéricas a lo que correspondan."
   ]
  },
  {
   "cell_type": "code",
   "execution_count": 12,
   "metadata": {},
   "outputs": [],
   "source": [
    "df[\"begindate\"] = pd.to_datetime(df[\"begindate\"], format = '%Y-%m-%d')"
   ]
  },
  {
   "cell_type": "markdown",
   "metadata": {},
   "source": [
    "Ahora, para el caso de nuestra columna totalcharges y su transformación a float64 tenemos la particularidad de que hay celdas en blanco, las cuales pueden ser identificadas de la siguiente forma:"
   ]
  },
  {
   "cell_type": "code",
   "execution_count": 13,
   "metadata": {},
   "outputs": [
    {
     "data": {
      "text/html": [
       "<div>\n",
       "<style scoped>\n",
       "    .dataframe tbody tr th:only-of-type {\n",
       "        vertical-align: middle;\n",
       "    }\n",
       "\n",
       "    .dataframe tbody tr th {\n",
       "        vertical-align: top;\n",
       "    }\n",
       "\n",
       "    .dataframe thead th {\n",
       "        text-align: right;\n",
       "    }\n",
       "</style>\n",
       "<table border=\"1\" class=\"dataframe\">\n",
       "  <thead>\n",
       "    <tr style=\"text-align: right;\">\n",
       "      <th></th>\n",
       "      <th>customerid</th>\n",
       "      <th>begindate</th>\n",
       "      <th>enddate</th>\n",
       "      <th>type</th>\n",
       "      <th>paperlessbilling</th>\n",
       "      <th>paymentmethod</th>\n",
       "      <th>monthlycharges</th>\n",
       "      <th>totalcharges</th>\n",
       "      <th>gender</th>\n",
       "      <th>seniorcitizen</th>\n",
       "      <th>partner</th>\n",
       "      <th>dependents</th>\n",
       "      <th>internetservice</th>\n",
       "      <th>onlinesecurity</th>\n",
       "      <th>onlinebackup</th>\n",
       "      <th>deviceprotection</th>\n",
       "      <th>techsupport</th>\n",
       "      <th>streamingtv</th>\n",
       "      <th>streamingmovies</th>\n",
       "      <th>multiplelines</th>\n",
       "    </tr>\n",
       "  </thead>\n",
       "  <tbody>\n",
       "    <tr>\n",
       "      <th>488</th>\n",
       "      <td>4472-LVYGI</td>\n",
       "      <td>2020-02-01</td>\n",
       "      <td>No</td>\n",
       "      <td>Two year</td>\n",
       "      <td>Yes</td>\n",
       "      <td>Bank transfer (automatic)</td>\n",
       "      <td>52.55</td>\n",
       "      <td></td>\n",
       "      <td>Female</td>\n",
       "      <td>0</td>\n",
       "      <td>Yes</td>\n",
       "      <td>Yes</td>\n",
       "      <td>DSL</td>\n",
       "      <td>Yes</td>\n",
       "      <td>No</td>\n",
       "      <td>Yes</td>\n",
       "      <td>Yes</td>\n",
       "      <td>Yes</td>\n",
       "      <td>No</td>\n",
       "      <td>NaN</td>\n",
       "    </tr>\n",
       "    <tr>\n",
       "      <th>753</th>\n",
       "      <td>3115-CZMZD</td>\n",
       "      <td>2020-02-01</td>\n",
       "      <td>No</td>\n",
       "      <td>Two year</td>\n",
       "      <td>No</td>\n",
       "      <td>Mailed check</td>\n",
       "      <td>20.25</td>\n",
       "      <td></td>\n",
       "      <td>Male</td>\n",
       "      <td>0</td>\n",
       "      <td>No</td>\n",
       "      <td>Yes</td>\n",
       "      <td>NaN</td>\n",
       "      <td>NaN</td>\n",
       "      <td>NaN</td>\n",
       "      <td>NaN</td>\n",
       "      <td>NaN</td>\n",
       "      <td>NaN</td>\n",
       "      <td>NaN</td>\n",
       "      <td>No</td>\n",
       "    </tr>\n",
       "    <tr>\n",
       "      <th>936</th>\n",
       "      <td>5709-LVOEQ</td>\n",
       "      <td>2020-02-01</td>\n",
       "      <td>No</td>\n",
       "      <td>Two year</td>\n",
       "      <td>No</td>\n",
       "      <td>Mailed check</td>\n",
       "      <td>80.85</td>\n",
       "      <td></td>\n",
       "      <td>Female</td>\n",
       "      <td>0</td>\n",
       "      <td>Yes</td>\n",
       "      <td>Yes</td>\n",
       "      <td>DSL</td>\n",
       "      <td>Yes</td>\n",
       "      <td>Yes</td>\n",
       "      <td>Yes</td>\n",
       "      <td>No</td>\n",
       "      <td>Yes</td>\n",
       "      <td>Yes</td>\n",
       "      <td>No</td>\n",
       "    </tr>\n",
       "    <tr>\n",
       "      <th>1082</th>\n",
       "      <td>4367-NUYAO</td>\n",
       "      <td>2020-02-01</td>\n",
       "      <td>No</td>\n",
       "      <td>Two year</td>\n",
       "      <td>No</td>\n",
       "      <td>Mailed check</td>\n",
       "      <td>25.75</td>\n",
       "      <td></td>\n",
       "      <td>Male</td>\n",
       "      <td>0</td>\n",
       "      <td>Yes</td>\n",
       "      <td>Yes</td>\n",
       "      <td>NaN</td>\n",
       "      <td>NaN</td>\n",
       "      <td>NaN</td>\n",
       "      <td>NaN</td>\n",
       "      <td>NaN</td>\n",
       "      <td>NaN</td>\n",
       "      <td>NaN</td>\n",
       "      <td>Yes</td>\n",
       "    </tr>\n",
       "    <tr>\n",
       "      <th>1340</th>\n",
       "      <td>1371-DWPAZ</td>\n",
       "      <td>2020-02-01</td>\n",
       "      <td>No</td>\n",
       "      <td>Two year</td>\n",
       "      <td>No</td>\n",
       "      <td>Credit card (automatic)</td>\n",
       "      <td>56.05</td>\n",
       "      <td></td>\n",
       "      <td>Female</td>\n",
       "      <td>0</td>\n",
       "      <td>Yes</td>\n",
       "      <td>Yes</td>\n",
       "      <td>DSL</td>\n",
       "      <td>Yes</td>\n",
       "      <td>Yes</td>\n",
       "      <td>Yes</td>\n",
       "      <td>Yes</td>\n",
       "      <td>Yes</td>\n",
       "      <td>No</td>\n",
       "      <td>NaN</td>\n",
       "    </tr>\n",
       "    <tr>\n",
       "      <th>3331</th>\n",
       "      <td>7644-OMVMY</td>\n",
       "      <td>2020-02-01</td>\n",
       "      <td>No</td>\n",
       "      <td>Two year</td>\n",
       "      <td>No</td>\n",
       "      <td>Mailed check</td>\n",
       "      <td>19.85</td>\n",
       "      <td></td>\n",
       "      <td>Male</td>\n",
       "      <td>0</td>\n",
       "      <td>Yes</td>\n",
       "      <td>Yes</td>\n",
       "      <td>NaN</td>\n",
       "      <td>NaN</td>\n",
       "      <td>NaN</td>\n",
       "      <td>NaN</td>\n",
       "      <td>NaN</td>\n",
       "      <td>NaN</td>\n",
       "      <td>NaN</td>\n",
       "      <td>No</td>\n",
       "    </tr>\n",
       "    <tr>\n",
       "      <th>3826</th>\n",
       "      <td>3213-VVOLG</td>\n",
       "      <td>2020-02-01</td>\n",
       "      <td>No</td>\n",
       "      <td>Two year</td>\n",
       "      <td>No</td>\n",
       "      <td>Mailed check</td>\n",
       "      <td>25.35</td>\n",
       "      <td></td>\n",
       "      <td>Male</td>\n",
       "      <td>0</td>\n",
       "      <td>Yes</td>\n",
       "      <td>Yes</td>\n",
       "      <td>NaN</td>\n",
       "      <td>NaN</td>\n",
       "      <td>NaN</td>\n",
       "      <td>NaN</td>\n",
       "      <td>NaN</td>\n",
       "      <td>NaN</td>\n",
       "      <td>NaN</td>\n",
       "      <td>Yes</td>\n",
       "    </tr>\n",
       "    <tr>\n",
       "      <th>4380</th>\n",
       "      <td>2520-SGTTA</td>\n",
       "      <td>2020-02-01</td>\n",
       "      <td>No</td>\n",
       "      <td>Two year</td>\n",
       "      <td>No</td>\n",
       "      <td>Mailed check</td>\n",
       "      <td>20.00</td>\n",
       "      <td></td>\n",
       "      <td>Female</td>\n",
       "      <td>0</td>\n",
       "      <td>Yes</td>\n",
       "      <td>Yes</td>\n",
       "      <td>NaN</td>\n",
       "      <td>NaN</td>\n",
       "      <td>NaN</td>\n",
       "      <td>NaN</td>\n",
       "      <td>NaN</td>\n",
       "      <td>NaN</td>\n",
       "      <td>NaN</td>\n",
       "      <td>No</td>\n",
       "    </tr>\n",
       "    <tr>\n",
       "      <th>5218</th>\n",
       "      <td>2923-ARZLG</td>\n",
       "      <td>2020-02-01</td>\n",
       "      <td>No</td>\n",
       "      <td>One year</td>\n",
       "      <td>Yes</td>\n",
       "      <td>Mailed check</td>\n",
       "      <td>19.70</td>\n",
       "      <td></td>\n",
       "      <td>Male</td>\n",
       "      <td>0</td>\n",
       "      <td>Yes</td>\n",
       "      <td>Yes</td>\n",
       "      <td>NaN</td>\n",
       "      <td>NaN</td>\n",
       "      <td>NaN</td>\n",
       "      <td>NaN</td>\n",
       "      <td>NaN</td>\n",
       "      <td>NaN</td>\n",
       "      <td>NaN</td>\n",
       "      <td>No</td>\n",
       "    </tr>\n",
       "    <tr>\n",
       "      <th>6670</th>\n",
       "      <td>4075-WKNIU</td>\n",
       "      <td>2020-02-01</td>\n",
       "      <td>No</td>\n",
       "      <td>Two year</td>\n",
       "      <td>No</td>\n",
       "      <td>Mailed check</td>\n",
       "      <td>73.35</td>\n",
       "      <td></td>\n",
       "      <td>Female</td>\n",
       "      <td>0</td>\n",
       "      <td>Yes</td>\n",
       "      <td>Yes</td>\n",
       "      <td>DSL</td>\n",
       "      <td>No</td>\n",
       "      <td>Yes</td>\n",
       "      <td>Yes</td>\n",
       "      <td>Yes</td>\n",
       "      <td>Yes</td>\n",
       "      <td>No</td>\n",
       "      <td>Yes</td>\n",
       "    </tr>\n",
       "    <tr>\n",
       "      <th>6754</th>\n",
       "      <td>2775-SEFEE</td>\n",
       "      <td>2020-02-01</td>\n",
       "      <td>No</td>\n",
       "      <td>Two year</td>\n",
       "      <td>Yes</td>\n",
       "      <td>Bank transfer (automatic)</td>\n",
       "      <td>61.90</td>\n",
       "      <td></td>\n",
       "      <td>Male</td>\n",
       "      <td>0</td>\n",
       "      <td>No</td>\n",
       "      <td>Yes</td>\n",
       "      <td>DSL</td>\n",
       "      <td>Yes</td>\n",
       "      <td>Yes</td>\n",
       "      <td>No</td>\n",
       "      <td>Yes</td>\n",
       "      <td>No</td>\n",
       "      <td>No</td>\n",
       "      <td>Yes</td>\n",
       "    </tr>\n",
       "  </tbody>\n",
       "</table>\n",
       "</div>"
      ],
      "text/plain": [
       "      customerid  begindate enddate      type paperlessbilling  \\\n",
       "488   4472-LVYGI 2020-02-01      No  Two year              Yes   \n",
       "753   3115-CZMZD 2020-02-01      No  Two year               No   \n",
       "936   5709-LVOEQ 2020-02-01      No  Two year               No   \n",
       "1082  4367-NUYAO 2020-02-01      No  Two year               No   \n",
       "1340  1371-DWPAZ 2020-02-01      No  Two year               No   \n",
       "3331  7644-OMVMY 2020-02-01      No  Two year               No   \n",
       "3826  3213-VVOLG 2020-02-01      No  Two year               No   \n",
       "4380  2520-SGTTA 2020-02-01      No  Two year               No   \n",
       "5218  2923-ARZLG 2020-02-01      No  One year              Yes   \n",
       "6670  4075-WKNIU 2020-02-01      No  Two year               No   \n",
       "6754  2775-SEFEE 2020-02-01      No  Two year              Yes   \n",
       "\n",
       "                  paymentmethod  monthlycharges totalcharges  gender  \\\n",
       "488   Bank transfer (automatic)           52.55               Female   \n",
       "753                Mailed check           20.25                 Male   \n",
       "936                Mailed check           80.85               Female   \n",
       "1082               Mailed check           25.75                 Male   \n",
       "1340    Credit card (automatic)           56.05               Female   \n",
       "3331               Mailed check           19.85                 Male   \n",
       "3826               Mailed check           25.35                 Male   \n",
       "4380               Mailed check           20.00               Female   \n",
       "5218               Mailed check           19.70                 Male   \n",
       "6670               Mailed check           73.35               Female   \n",
       "6754  Bank transfer (automatic)           61.90                 Male   \n",
       "\n",
       "      seniorcitizen partner dependents internetservice onlinesecurity  \\\n",
       "488               0     Yes        Yes             DSL            Yes   \n",
       "753               0      No        Yes             NaN            NaN   \n",
       "936               0     Yes        Yes             DSL            Yes   \n",
       "1082              0     Yes        Yes             NaN            NaN   \n",
       "1340              0     Yes        Yes             DSL            Yes   \n",
       "3331              0     Yes        Yes             NaN            NaN   \n",
       "3826              0     Yes        Yes             NaN            NaN   \n",
       "4380              0     Yes        Yes             NaN            NaN   \n",
       "5218              0     Yes        Yes             NaN            NaN   \n",
       "6670              0     Yes        Yes             DSL             No   \n",
       "6754              0      No        Yes             DSL            Yes   \n",
       "\n",
       "     onlinebackup deviceprotection techsupport streamingtv streamingmovies  \\\n",
       "488            No              Yes         Yes         Yes              No   \n",
       "753           NaN              NaN         NaN         NaN             NaN   \n",
       "936           Yes              Yes          No         Yes             Yes   \n",
       "1082          NaN              NaN         NaN         NaN             NaN   \n",
       "1340          Yes              Yes         Yes         Yes              No   \n",
       "3331          NaN              NaN         NaN         NaN             NaN   \n",
       "3826          NaN              NaN         NaN         NaN             NaN   \n",
       "4380          NaN              NaN         NaN         NaN             NaN   \n",
       "5218          NaN              NaN         NaN         NaN             NaN   \n",
       "6670          Yes              Yes         Yes         Yes              No   \n",
       "6754          Yes               No         Yes          No              No   \n",
       "\n",
       "     multiplelines  \n",
       "488            NaN  \n",
       "753             No  \n",
       "936             No  \n",
       "1082           Yes  \n",
       "1340           NaN  \n",
       "3331            No  \n",
       "3826           Yes  \n",
       "4380            No  \n",
       "5218            No  \n",
       "6670           Yes  \n",
       "6754           Yes  "
      ]
     },
     "execution_count": 13,
     "metadata": {},
     "output_type": "execute_result"
    }
   ],
   "source": [
    "df[df[\"totalcharges\"].eq(' ')]"
   ]
  },
  {
   "cell_type": "code",
   "execution_count": 14,
   "metadata": {
    "scrolled": false
   },
   "outputs": [
    {
     "data": {
      "text/html": [
       "<div>\n",
       "<style scoped>\n",
       "    .dataframe tbody tr th:only-of-type {\n",
       "        vertical-align: middle;\n",
       "    }\n",
       "\n",
       "    .dataframe tbody tr th {\n",
       "        vertical-align: top;\n",
       "    }\n",
       "\n",
       "    .dataframe thead th {\n",
       "        text-align: right;\n",
       "    }\n",
       "</style>\n",
       "<table border=\"1\" class=\"dataframe\">\n",
       "  <thead>\n",
       "    <tr style=\"text-align: right;\">\n",
       "      <th></th>\n",
       "      <th>customerid</th>\n",
       "      <th>begindate</th>\n",
       "      <th>enddate</th>\n",
       "      <th>type</th>\n",
       "      <th>paperlessbilling</th>\n",
       "      <th>paymentmethod</th>\n",
       "      <th>monthlycharges</th>\n",
       "      <th>totalcharges</th>\n",
       "      <th>gender</th>\n",
       "      <th>seniorcitizen</th>\n",
       "      <th>partner</th>\n",
       "      <th>dependents</th>\n",
       "      <th>internetservice</th>\n",
       "      <th>onlinesecurity</th>\n",
       "      <th>onlinebackup</th>\n",
       "      <th>deviceprotection</th>\n",
       "      <th>techsupport</th>\n",
       "      <th>streamingtv</th>\n",
       "      <th>streamingmovies</th>\n",
       "      <th>multiplelines</th>\n",
       "    </tr>\n",
       "  </thead>\n",
       "  <tbody>\n",
       "    <tr>\n",
       "      <th>3457</th>\n",
       "      <td>8566-YPRGL</td>\n",
       "      <td>2020-01-01</td>\n",
       "      <td>No</td>\n",
       "      <td>Month-to-month</td>\n",
       "      <td>Yes</td>\n",
       "      <td>Mailed check</td>\n",
       "      <td>19.50</td>\n",
       "      <td>19.5</td>\n",
       "      <td>Female</td>\n",
       "      <td>0</td>\n",
       "      <td>No</td>\n",
       "      <td>No</td>\n",
       "      <td>NaN</td>\n",
       "      <td>NaN</td>\n",
       "      <td>NaN</td>\n",
       "      <td>NaN</td>\n",
       "      <td>NaN</td>\n",
       "      <td>NaN</td>\n",
       "      <td>NaN</td>\n",
       "      <td>No</td>\n",
       "    </tr>\n",
       "    <tr>\n",
       "      <th>4607</th>\n",
       "      <td>2853-CWQFQ</td>\n",
       "      <td>2020-01-01</td>\n",
       "      <td>No</td>\n",
       "      <td>Month-to-month</td>\n",
       "      <td>Yes</td>\n",
       "      <td>Mailed check</td>\n",
       "      <td>59.55</td>\n",
       "      <td>59.55</td>\n",
       "      <td>Male</td>\n",
       "      <td>0</td>\n",
       "      <td>No</td>\n",
       "      <td>Yes</td>\n",
       "      <td>DSL</td>\n",
       "      <td>No</td>\n",
       "      <td>No</td>\n",
       "      <td>No</td>\n",
       "      <td>Yes</td>\n",
       "      <td>No</td>\n",
       "      <td>Yes</td>\n",
       "      <td>No</td>\n",
       "    </tr>\n",
       "    <tr>\n",
       "      <th>4484</th>\n",
       "      <td>7465-ZZRVX</td>\n",
       "      <td>2020-01-01</td>\n",
       "      <td>No</td>\n",
       "      <td>Month-to-month</td>\n",
       "      <td>Yes</td>\n",
       "      <td>Electronic check</td>\n",
       "      <td>70.35</td>\n",
       "      <td>70.35</td>\n",
       "      <td>Male</td>\n",
       "      <td>0</td>\n",
       "      <td>No</td>\n",
       "      <td>No</td>\n",
       "      <td>Fiber optic</td>\n",
       "      <td>No</td>\n",
       "      <td>No</td>\n",
       "      <td>No</td>\n",
       "      <td>No</td>\n",
       "      <td>No</td>\n",
       "      <td>No</td>\n",
       "      <td>No</td>\n",
       "    </tr>\n",
       "    <tr>\n",
       "      <th>4534</th>\n",
       "      <td>2607-FBDFF</td>\n",
       "      <td>2020-01-01</td>\n",
       "      <td>No</td>\n",
       "      <td>Month-to-month</td>\n",
       "      <td>No</td>\n",
       "      <td>Credit card (automatic)</td>\n",
       "      <td>49.00</td>\n",
       "      <td>49</td>\n",
       "      <td>Male</td>\n",
       "      <td>0</td>\n",
       "      <td>No</td>\n",
       "      <td>No</td>\n",
       "      <td>DSL</td>\n",
       "      <td>No</td>\n",
       "      <td>No</td>\n",
       "      <td>No</td>\n",
       "      <td>Yes</td>\n",
       "      <td>No</td>\n",
       "      <td>No</td>\n",
       "      <td>No</td>\n",
       "    </tr>\n",
       "    <tr>\n",
       "      <th>3753</th>\n",
       "      <td>1816-FLZDK</td>\n",
       "      <td>2020-01-01</td>\n",
       "      <td>No</td>\n",
       "      <td>Month-to-month</td>\n",
       "      <td>No</td>\n",
       "      <td>Mailed check</td>\n",
       "      <td>29.15</td>\n",
       "      <td>29.15</td>\n",
       "      <td>Male</td>\n",
       "      <td>0</td>\n",
       "      <td>No</td>\n",
       "      <td>No</td>\n",
       "      <td>DSL</td>\n",
       "      <td>No</td>\n",
       "      <td>No</td>\n",
       "      <td>No</td>\n",
       "      <td>Yes</td>\n",
       "      <td>No</td>\n",
       "      <td>No</td>\n",
       "      <td>NaN</td>\n",
       "    </tr>\n",
       "    <tr>\n",
       "      <th>4540</th>\n",
       "      <td>6728-WYQBC</td>\n",
       "      <td>2020-01-01</td>\n",
       "      <td>No</td>\n",
       "      <td>Month-to-month</td>\n",
       "      <td>No</td>\n",
       "      <td>Bank transfer (automatic)</td>\n",
       "      <td>20.95</td>\n",
       "      <td>20.95</td>\n",
       "      <td>Male</td>\n",
       "      <td>0</td>\n",
       "      <td>No</td>\n",
       "      <td>No</td>\n",
       "      <td>NaN</td>\n",
       "      <td>NaN</td>\n",
       "      <td>NaN</td>\n",
       "      <td>NaN</td>\n",
       "      <td>NaN</td>\n",
       "      <td>NaN</td>\n",
       "      <td>NaN</td>\n",
       "      <td>No</td>\n",
       "    </tr>\n",
       "    <tr>\n",
       "      <th>310</th>\n",
       "      <td>1098-TDVUQ</td>\n",
       "      <td>2020-01-01</td>\n",
       "      <td>No</td>\n",
       "      <td>Month-to-month</td>\n",
       "      <td>Yes</td>\n",
       "      <td>Bank transfer (automatic)</td>\n",
       "      <td>19.25</td>\n",
       "      <td>19.25</td>\n",
       "      <td>Female</td>\n",
       "      <td>0</td>\n",
       "      <td>No</td>\n",
       "      <td>No</td>\n",
       "      <td>NaN</td>\n",
       "      <td>NaN</td>\n",
       "      <td>NaN</td>\n",
       "      <td>NaN</td>\n",
       "      <td>NaN</td>\n",
       "      <td>NaN</td>\n",
       "      <td>NaN</td>\n",
       "      <td>No</td>\n",
       "    </tr>\n",
       "    <tr>\n",
       "      <th>2037</th>\n",
       "      <td>8309-IEYJD</td>\n",
       "      <td>2020-01-01</td>\n",
       "      <td>No</td>\n",
       "      <td>Month-to-month</td>\n",
       "      <td>Yes</td>\n",
       "      <td>Mailed check</td>\n",
       "      <td>70.60</td>\n",
       "      <td>70.6</td>\n",
       "      <td>Female</td>\n",
       "      <td>1</td>\n",
       "      <td>No</td>\n",
       "      <td>No</td>\n",
       "      <td>Fiber optic</td>\n",
       "      <td>No</td>\n",
       "      <td>No</td>\n",
       "      <td>No</td>\n",
       "      <td>No</td>\n",
       "      <td>No</td>\n",
       "      <td>No</td>\n",
       "      <td>No</td>\n",
       "    </tr>\n",
       "    <tr>\n",
       "      <th>685</th>\n",
       "      <td>1536-HBSWP</td>\n",
       "      <td>2020-01-01</td>\n",
       "      <td>No</td>\n",
       "      <td>Month-to-month</td>\n",
       "      <td>Yes</td>\n",
       "      <td>Electronic check</td>\n",
       "      <td>49.90</td>\n",
       "      <td>49.9</td>\n",
       "      <td>Female</td>\n",
       "      <td>0</td>\n",
       "      <td>No</td>\n",
       "      <td>No</td>\n",
       "      <td>DSL</td>\n",
       "      <td>No</td>\n",
       "      <td>No</td>\n",
       "      <td>No</td>\n",
       "      <td>Yes</td>\n",
       "      <td>No</td>\n",
       "      <td>No</td>\n",
       "      <td>No</td>\n",
       "    </tr>\n",
       "    <tr>\n",
       "      <th>4641</th>\n",
       "      <td>9895-VFOXH</td>\n",
       "      <td>2020-01-01</td>\n",
       "      <td>No</td>\n",
       "      <td>Month-to-month</td>\n",
       "      <td>No</td>\n",
       "      <td>Mailed check</td>\n",
       "      <td>24.40</td>\n",
       "      <td>24.4</td>\n",
       "      <td>Female</td>\n",
       "      <td>0</td>\n",
       "      <td>No</td>\n",
       "      <td>No</td>\n",
       "      <td>DSL</td>\n",
       "      <td>No</td>\n",
       "      <td>No</td>\n",
       "      <td>No</td>\n",
       "      <td>No</td>\n",
       "      <td>No</td>\n",
       "      <td>No</td>\n",
       "      <td>NaN</td>\n",
       "    </tr>\n",
       "  </tbody>\n",
       "</table>\n",
       "</div>"
      ],
      "text/plain": [
       "      customerid  begindate enddate            type paperlessbilling  \\\n",
       "3457  8566-YPRGL 2020-01-01      No  Month-to-month              Yes   \n",
       "4607  2853-CWQFQ 2020-01-01      No  Month-to-month              Yes   \n",
       "4484  7465-ZZRVX 2020-01-01      No  Month-to-month              Yes   \n",
       "4534  2607-FBDFF 2020-01-01      No  Month-to-month               No   \n",
       "3753  1816-FLZDK 2020-01-01      No  Month-to-month               No   \n",
       "4540  6728-WYQBC 2020-01-01      No  Month-to-month               No   \n",
       "310   1098-TDVUQ 2020-01-01      No  Month-to-month              Yes   \n",
       "2037  8309-IEYJD 2020-01-01      No  Month-to-month              Yes   \n",
       "685   1536-HBSWP 2020-01-01      No  Month-to-month              Yes   \n",
       "4641  9895-VFOXH 2020-01-01      No  Month-to-month               No   \n",
       "\n",
       "                  paymentmethod  monthlycharges totalcharges  gender  \\\n",
       "3457               Mailed check           19.50         19.5  Female   \n",
       "4607               Mailed check           59.55        59.55    Male   \n",
       "4484           Electronic check           70.35        70.35    Male   \n",
       "4534    Credit card (automatic)           49.00           49    Male   \n",
       "3753               Mailed check           29.15        29.15    Male   \n",
       "4540  Bank transfer (automatic)           20.95        20.95    Male   \n",
       "310   Bank transfer (automatic)           19.25        19.25  Female   \n",
       "2037               Mailed check           70.60         70.6  Female   \n",
       "685            Electronic check           49.90         49.9  Female   \n",
       "4641               Mailed check           24.40         24.4  Female   \n",
       "\n",
       "      seniorcitizen partner dependents internetservice onlinesecurity  \\\n",
       "3457              0      No         No             NaN            NaN   \n",
       "4607              0      No        Yes             DSL             No   \n",
       "4484              0      No         No     Fiber optic             No   \n",
       "4534              0      No         No             DSL             No   \n",
       "3753              0      No         No             DSL             No   \n",
       "4540              0      No         No             NaN            NaN   \n",
       "310               0      No         No             NaN            NaN   \n",
       "2037              1      No         No     Fiber optic             No   \n",
       "685               0      No         No             DSL             No   \n",
       "4641              0      No         No             DSL             No   \n",
       "\n",
       "     onlinebackup deviceprotection techsupport streamingtv streamingmovies  \\\n",
       "3457          NaN              NaN         NaN         NaN             NaN   \n",
       "4607           No               No         Yes          No             Yes   \n",
       "4484           No               No          No          No              No   \n",
       "4534           No               No         Yes          No              No   \n",
       "3753           No               No         Yes          No              No   \n",
       "4540          NaN              NaN         NaN         NaN             NaN   \n",
       "310           NaN              NaN         NaN         NaN             NaN   \n",
       "2037           No               No          No          No              No   \n",
       "685            No               No         Yes          No              No   \n",
       "4641           No               No          No          No              No   \n",
       "\n",
       "     multiplelines  \n",
       "3457            No  \n",
       "4607            No  \n",
       "4484            No  \n",
       "4534            No  \n",
       "3753           NaN  \n",
       "4540            No  \n",
       "310             No  \n",
       "2037            No  \n",
       "685             No  \n",
       "4641           NaN  "
      ]
     },
     "execution_count": 14,
     "metadata": {},
     "output_type": "execute_result"
    }
   ],
   "source": [
    "df[df[\"begindate\"] == \"2020\" ].sample(10)"
   ]
  },
  {
   "cell_type": "markdown",
   "metadata": {},
   "source": [
    "Para los valores ausentes del punto anterior (total charges), considerando que son todos del 2020 y enero (begindate), revisando los datos que si poseen facturacion mensual y total en estas fechas, nos damos cuenta que el valor es el mismo en ambas columnas, por lo que se replicará para estos."
   ]
  },
  {
   "cell_type": "code",
   "execution_count": 15,
   "metadata": {},
   "outputs": [],
   "source": [
    "def fill_missing_totalcharges(df):\n",
    "    # Reemplazar valores vacíos (' ') con NaN\n",
    "    df['totalcharges'] = df['totalcharges'].replace(' ', np.nan).astype(float)\n",
    "    # Rellenar los valores NaN con monthlycharges\n",
    "    df['totalcharges'] = df['totalcharges'].fillna(df['monthlycharges'])\n",
    "    return df"
   ]
  },
  {
   "cell_type": "code",
   "execution_count": 16,
   "metadata": {},
   "outputs": [
    {
     "data": {
      "text/html": [
       "<div>\n",
       "<style scoped>\n",
       "    .dataframe tbody tr th:only-of-type {\n",
       "        vertical-align: middle;\n",
       "    }\n",
       "\n",
       "    .dataframe tbody tr th {\n",
       "        vertical-align: top;\n",
       "    }\n",
       "\n",
       "    .dataframe thead th {\n",
       "        text-align: right;\n",
       "    }\n",
       "</style>\n",
       "<table border=\"1\" class=\"dataframe\">\n",
       "  <thead>\n",
       "    <tr style=\"text-align: right;\">\n",
       "      <th></th>\n",
       "      <th>customerid</th>\n",
       "      <th>begindate</th>\n",
       "      <th>enddate</th>\n",
       "      <th>type</th>\n",
       "      <th>paperlessbilling</th>\n",
       "      <th>paymentmethod</th>\n",
       "      <th>monthlycharges</th>\n",
       "      <th>totalcharges</th>\n",
       "      <th>gender</th>\n",
       "      <th>seniorcitizen</th>\n",
       "      <th>partner</th>\n",
       "      <th>dependents</th>\n",
       "      <th>internetservice</th>\n",
       "      <th>onlinesecurity</th>\n",
       "      <th>onlinebackup</th>\n",
       "      <th>deviceprotection</th>\n",
       "      <th>techsupport</th>\n",
       "      <th>streamingtv</th>\n",
       "      <th>streamingmovies</th>\n",
       "      <th>multiplelines</th>\n",
       "    </tr>\n",
       "  </thead>\n",
       "  <tbody>\n",
       "    <tr>\n",
       "      <th>0</th>\n",
       "      <td>7590-VHVEG</td>\n",
       "      <td>2020-01-01</td>\n",
       "      <td>No</td>\n",
       "      <td>Month-to-month</td>\n",
       "      <td>Yes</td>\n",
       "      <td>Electronic check</td>\n",
       "      <td>29.85</td>\n",
       "      <td>29.85</td>\n",
       "      <td>Female</td>\n",
       "      <td>0</td>\n",
       "      <td>Yes</td>\n",
       "      <td>No</td>\n",
       "      <td>DSL</td>\n",
       "      <td>No</td>\n",
       "      <td>Yes</td>\n",
       "      <td>No</td>\n",
       "      <td>No</td>\n",
       "      <td>No</td>\n",
       "      <td>No</td>\n",
       "      <td>NaN</td>\n",
       "    </tr>\n",
       "    <tr>\n",
       "      <th>1</th>\n",
       "      <td>5575-GNVDE</td>\n",
       "      <td>2017-04-01</td>\n",
       "      <td>No</td>\n",
       "      <td>One year</td>\n",
       "      <td>No</td>\n",
       "      <td>Mailed check</td>\n",
       "      <td>56.95</td>\n",
       "      <td>1889.50</td>\n",
       "      <td>Male</td>\n",
       "      <td>0</td>\n",
       "      <td>No</td>\n",
       "      <td>No</td>\n",
       "      <td>DSL</td>\n",
       "      <td>Yes</td>\n",
       "      <td>No</td>\n",
       "      <td>Yes</td>\n",
       "      <td>No</td>\n",
       "      <td>No</td>\n",
       "      <td>No</td>\n",
       "      <td>No</td>\n",
       "    </tr>\n",
       "    <tr>\n",
       "      <th>2</th>\n",
       "      <td>3668-QPYBK</td>\n",
       "      <td>2019-10-01</td>\n",
       "      <td>2019-12-01 00:00:00</td>\n",
       "      <td>Month-to-month</td>\n",
       "      <td>Yes</td>\n",
       "      <td>Mailed check</td>\n",
       "      <td>53.85</td>\n",
       "      <td>108.15</td>\n",
       "      <td>Male</td>\n",
       "      <td>0</td>\n",
       "      <td>No</td>\n",
       "      <td>No</td>\n",
       "      <td>DSL</td>\n",
       "      <td>Yes</td>\n",
       "      <td>Yes</td>\n",
       "      <td>No</td>\n",
       "      <td>No</td>\n",
       "      <td>No</td>\n",
       "      <td>No</td>\n",
       "      <td>No</td>\n",
       "    </tr>\n",
       "    <tr>\n",
       "      <th>3</th>\n",
       "      <td>7795-CFOCW</td>\n",
       "      <td>2016-05-01</td>\n",
       "      <td>No</td>\n",
       "      <td>One year</td>\n",
       "      <td>No</td>\n",
       "      <td>Bank transfer (automatic)</td>\n",
       "      <td>42.30</td>\n",
       "      <td>1840.75</td>\n",
       "      <td>Male</td>\n",
       "      <td>0</td>\n",
       "      <td>No</td>\n",
       "      <td>No</td>\n",
       "      <td>DSL</td>\n",
       "      <td>Yes</td>\n",
       "      <td>No</td>\n",
       "      <td>Yes</td>\n",
       "      <td>Yes</td>\n",
       "      <td>No</td>\n",
       "      <td>No</td>\n",
       "      <td>NaN</td>\n",
       "    </tr>\n",
       "    <tr>\n",
       "      <th>4</th>\n",
       "      <td>9237-HQITU</td>\n",
       "      <td>2019-09-01</td>\n",
       "      <td>2019-11-01 00:00:00</td>\n",
       "      <td>Month-to-month</td>\n",
       "      <td>Yes</td>\n",
       "      <td>Electronic check</td>\n",
       "      <td>70.70</td>\n",
       "      <td>151.65</td>\n",
       "      <td>Female</td>\n",
       "      <td>0</td>\n",
       "      <td>No</td>\n",
       "      <td>No</td>\n",
       "      <td>Fiber optic</td>\n",
       "      <td>No</td>\n",
       "      <td>No</td>\n",
       "      <td>No</td>\n",
       "      <td>No</td>\n",
       "      <td>No</td>\n",
       "      <td>No</td>\n",
       "      <td>No</td>\n",
       "    </tr>\n",
       "    <tr>\n",
       "      <th>...</th>\n",
       "      <td>...</td>\n",
       "      <td>...</td>\n",
       "      <td>...</td>\n",
       "      <td>...</td>\n",
       "      <td>...</td>\n",
       "      <td>...</td>\n",
       "      <td>...</td>\n",
       "      <td>...</td>\n",
       "      <td>...</td>\n",
       "      <td>...</td>\n",
       "      <td>...</td>\n",
       "      <td>...</td>\n",
       "      <td>...</td>\n",
       "      <td>...</td>\n",
       "      <td>...</td>\n",
       "      <td>...</td>\n",
       "      <td>...</td>\n",
       "      <td>...</td>\n",
       "      <td>...</td>\n",
       "      <td>...</td>\n",
       "    </tr>\n",
       "    <tr>\n",
       "      <th>7038</th>\n",
       "      <td>6840-RESVB</td>\n",
       "      <td>2018-02-01</td>\n",
       "      <td>No</td>\n",
       "      <td>One year</td>\n",
       "      <td>Yes</td>\n",
       "      <td>Mailed check</td>\n",
       "      <td>84.80</td>\n",
       "      <td>1990.50</td>\n",
       "      <td>Male</td>\n",
       "      <td>0</td>\n",
       "      <td>Yes</td>\n",
       "      <td>Yes</td>\n",
       "      <td>DSL</td>\n",
       "      <td>Yes</td>\n",
       "      <td>No</td>\n",
       "      <td>Yes</td>\n",
       "      <td>Yes</td>\n",
       "      <td>Yes</td>\n",
       "      <td>Yes</td>\n",
       "      <td>Yes</td>\n",
       "    </tr>\n",
       "    <tr>\n",
       "      <th>7039</th>\n",
       "      <td>2234-XADUH</td>\n",
       "      <td>2014-02-01</td>\n",
       "      <td>No</td>\n",
       "      <td>One year</td>\n",
       "      <td>Yes</td>\n",
       "      <td>Credit card (automatic)</td>\n",
       "      <td>103.20</td>\n",
       "      <td>7362.90</td>\n",
       "      <td>Female</td>\n",
       "      <td>0</td>\n",
       "      <td>Yes</td>\n",
       "      <td>Yes</td>\n",
       "      <td>Fiber optic</td>\n",
       "      <td>No</td>\n",
       "      <td>Yes</td>\n",
       "      <td>Yes</td>\n",
       "      <td>No</td>\n",
       "      <td>Yes</td>\n",
       "      <td>Yes</td>\n",
       "      <td>Yes</td>\n",
       "    </tr>\n",
       "    <tr>\n",
       "      <th>7040</th>\n",
       "      <td>4801-JZAZL</td>\n",
       "      <td>2019-03-01</td>\n",
       "      <td>No</td>\n",
       "      <td>Month-to-month</td>\n",
       "      <td>Yes</td>\n",
       "      <td>Electronic check</td>\n",
       "      <td>29.60</td>\n",
       "      <td>346.45</td>\n",
       "      <td>Female</td>\n",
       "      <td>0</td>\n",
       "      <td>Yes</td>\n",
       "      <td>Yes</td>\n",
       "      <td>DSL</td>\n",
       "      <td>Yes</td>\n",
       "      <td>No</td>\n",
       "      <td>No</td>\n",
       "      <td>No</td>\n",
       "      <td>No</td>\n",
       "      <td>No</td>\n",
       "      <td>NaN</td>\n",
       "    </tr>\n",
       "    <tr>\n",
       "      <th>7041</th>\n",
       "      <td>8361-LTMKD</td>\n",
       "      <td>2019-07-01</td>\n",
       "      <td>2019-11-01 00:00:00</td>\n",
       "      <td>Month-to-month</td>\n",
       "      <td>Yes</td>\n",
       "      <td>Mailed check</td>\n",
       "      <td>74.40</td>\n",
       "      <td>306.60</td>\n",
       "      <td>Male</td>\n",
       "      <td>1</td>\n",
       "      <td>Yes</td>\n",
       "      <td>No</td>\n",
       "      <td>Fiber optic</td>\n",
       "      <td>No</td>\n",
       "      <td>No</td>\n",
       "      <td>No</td>\n",
       "      <td>No</td>\n",
       "      <td>No</td>\n",
       "      <td>No</td>\n",
       "      <td>Yes</td>\n",
       "    </tr>\n",
       "    <tr>\n",
       "      <th>7042</th>\n",
       "      <td>3186-AJIEK</td>\n",
       "      <td>2014-08-01</td>\n",
       "      <td>No</td>\n",
       "      <td>Two year</td>\n",
       "      <td>Yes</td>\n",
       "      <td>Bank transfer (automatic)</td>\n",
       "      <td>105.65</td>\n",
       "      <td>6844.50</td>\n",
       "      <td>Male</td>\n",
       "      <td>0</td>\n",
       "      <td>No</td>\n",
       "      <td>No</td>\n",
       "      <td>Fiber optic</td>\n",
       "      <td>Yes</td>\n",
       "      <td>No</td>\n",
       "      <td>Yes</td>\n",
       "      <td>Yes</td>\n",
       "      <td>Yes</td>\n",
       "      <td>Yes</td>\n",
       "      <td>No</td>\n",
       "    </tr>\n",
       "  </tbody>\n",
       "</table>\n",
       "<p>7043 rows × 20 columns</p>\n",
       "</div>"
      ],
      "text/plain": [
       "      customerid  begindate              enddate            type  \\\n",
       "0     7590-VHVEG 2020-01-01                   No  Month-to-month   \n",
       "1     5575-GNVDE 2017-04-01                   No        One year   \n",
       "2     3668-QPYBK 2019-10-01  2019-12-01 00:00:00  Month-to-month   \n",
       "3     7795-CFOCW 2016-05-01                   No        One year   \n",
       "4     9237-HQITU 2019-09-01  2019-11-01 00:00:00  Month-to-month   \n",
       "...          ...        ...                  ...             ...   \n",
       "7038  6840-RESVB 2018-02-01                   No        One year   \n",
       "7039  2234-XADUH 2014-02-01                   No        One year   \n",
       "7040  4801-JZAZL 2019-03-01                   No  Month-to-month   \n",
       "7041  8361-LTMKD 2019-07-01  2019-11-01 00:00:00  Month-to-month   \n",
       "7042  3186-AJIEK 2014-08-01                   No        Two year   \n",
       "\n",
       "     paperlessbilling              paymentmethod  monthlycharges  \\\n",
       "0                 Yes           Electronic check           29.85   \n",
       "1                  No               Mailed check           56.95   \n",
       "2                 Yes               Mailed check           53.85   \n",
       "3                  No  Bank transfer (automatic)           42.30   \n",
       "4                 Yes           Electronic check           70.70   \n",
       "...               ...                        ...             ...   \n",
       "7038              Yes               Mailed check           84.80   \n",
       "7039              Yes    Credit card (automatic)          103.20   \n",
       "7040              Yes           Electronic check           29.60   \n",
       "7041              Yes               Mailed check           74.40   \n",
       "7042              Yes  Bank transfer (automatic)          105.65   \n",
       "\n",
       "      totalcharges  gender  seniorcitizen partner dependents internetservice  \\\n",
       "0            29.85  Female              0     Yes         No             DSL   \n",
       "1          1889.50    Male              0      No         No             DSL   \n",
       "2           108.15    Male              0      No         No             DSL   \n",
       "3          1840.75    Male              0      No         No             DSL   \n",
       "4           151.65  Female              0      No         No     Fiber optic   \n",
       "...            ...     ...            ...     ...        ...             ...   \n",
       "7038       1990.50    Male              0     Yes        Yes             DSL   \n",
       "7039       7362.90  Female              0     Yes        Yes     Fiber optic   \n",
       "7040        346.45  Female              0     Yes        Yes             DSL   \n",
       "7041        306.60    Male              1     Yes         No     Fiber optic   \n",
       "7042       6844.50    Male              0      No         No     Fiber optic   \n",
       "\n",
       "     onlinesecurity onlinebackup deviceprotection techsupport streamingtv  \\\n",
       "0                No          Yes               No          No          No   \n",
       "1               Yes           No              Yes          No          No   \n",
       "2               Yes          Yes               No          No          No   \n",
       "3               Yes           No              Yes         Yes          No   \n",
       "4                No           No               No          No          No   \n",
       "...             ...          ...              ...         ...         ...   \n",
       "7038            Yes           No              Yes         Yes         Yes   \n",
       "7039             No          Yes              Yes          No         Yes   \n",
       "7040            Yes           No               No          No          No   \n",
       "7041             No           No               No          No          No   \n",
       "7042            Yes           No              Yes         Yes         Yes   \n",
       "\n",
       "     streamingmovies multiplelines  \n",
       "0                 No           NaN  \n",
       "1                 No            No  \n",
       "2                 No            No  \n",
       "3                 No           NaN  \n",
       "4                 No            No  \n",
       "...              ...           ...  \n",
       "7038             Yes           Yes  \n",
       "7039             Yes           Yes  \n",
       "7040              No           NaN  \n",
       "7041              No           Yes  \n",
       "7042             Yes            No  \n",
       "\n",
       "[7043 rows x 20 columns]"
      ]
     },
     "execution_count": 16,
     "metadata": {},
     "output_type": "execute_result"
    }
   ],
   "source": [
    "df = fill_missing_totalcharges(df)\n",
    "df"
   ]
  },
  {
   "cell_type": "code",
   "execution_count": 17,
   "metadata": {},
   "outputs": [
    {
     "data": {
      "text/html": [
       "<div>\n",
       "<style scoped>\n",
       "    .dataframe tbody tr th:only-of-type {\n",
       "        vertical-align: middle;\n",
       "    }\n",
       "\n",
       "    .dataframe tbody tr th {\n",
       "        vertical-align: top;\n",
       "    }\n",
       "\n",
       "    .dataframe thead th {\n",
       "        text-align: right;\n",
       "    }\n",
       "</style>\n",
       "<table border=\"1\" class=\"dataframe\">\n",
       "  <thead>\n",
       "    <tr style=\"text-align: right;\">\n",
       "      <th></th>\n",
       "      <th>customerid</th>\n",
       "      <th>begindate</th>\n",
       "      <th>enddate</th>\n",
       "      <th>type</th>\n",
       "      <th>paperlessbilling</th>\n",
       "      <th>paymentmethod</th>\n",
       "      <th>monthlycharges</th>\n",
       "      <th>totalcharges</th>\n",
       "      <th>gender</th>\n",
       "      <th>seniorcitizen</th>\n",
       "      <th>partner</th>\n",
       "      <th>dependents</th>\n",
       "      <th>internetservice</th>\n",
       "      <th>onlinesecurity</th>\n",
       "      <th>onlinebackup</th>\n",
       "      <th>deviceprotection</th>\n",
       "      <th>techsupport</th>\n",
       "      <th>streamingtv</th>\n",
       "      <th>streamingmovies</th>\n",
       "      <th>multiplelines</th>\n",
       "    </tr>\n",
       "  </thead>\n",
       "  <tbody>\n",
       "  </tbody>\n",
       "</table>\n",
       "</div>"
      ],
      "text/plain": [
       "Empty DataFrame\n",
       "Columns: [customerid, begindate, enddate, type, paperlessbilling, paymentmethod, monthlycharges, totalcharges, gender, seniorcitizen, partner, dependents, internetservice, onlinesecurity, onlinebackup, deviceprotection, techsupport, streamingtv, streamingmovies, multiplelines]\n",
       "Index: []"
      ]
     },
     "execution_count": 17,
     "metadata": {},
     "output_type": "execute_result"
    }
   ],
   "source": [
    "df[df['totalcharges'].eq(' ')] "
   ]
  },
  {
   "cell_type": "markdown",
   "metadata": {},
   "source": [
    "Con ello ya solucionamos el problema en la columna totalcharges y con ello puede pasar a numérica."
   ]
  },
  {
   "cell_type": "code",
   "execution_count": 18,
   "metadata": {},
   "outputs": [],
   "source": [
    "df[\"totalcharges\"] = df[\"totalcharges\"].astype(\"float64\")"
   ]
  },
  {
   "cell_type": "code",
   "execution_count": 19,
   "metadata": {},
   "outputs": [
    {
     "name": "stdout",
     "output_type": "stream",
     "text": [
      "<class 'pandas.core.frame.DataFrame'>\n",
      "Int64Index: 7043 entries, 0 to 7042\n",
      "Data columns (total 20 columns):\n",
      " #   Column            Non-Null Count  Dtype         \n",
      "---  ------            --------------  -----         \n",
      " 0   customerid        7043 non-null   object        \n",
      " 1   begindate         7043 non-null   datetime64[ns]\n",
      " 2   enddate           7043 non-null   object        \n",
      " 3   type              7043 non-null   object        \n",
      " 4   paperlessbilling  7043 non-null   object        \n",
      " 5   paymentmethod     7043 non-null   object        \n",
      " 6   monthlycharges    7043 non-null   float64       \n",
      " 7   totalcharges      7043 non-null   float64       \n",
      " 8   gender            7043 non-null   object        \n",
      " 9   seniorcitizen     7043 non-null   int64         \n",
      " 10  partner           7043 non-null   object        \n",
      " 11  dependents        7043 non-null   object        \n",
      " 12  internetservice   5517 non-null   object        \n",
      " 13  onlinesecurity    5517 non-null   object        \n",
      " 14  onlinebackup      5517 non-null   object        \n",
      " 15  deviceprotection  5517 non-null   object        \n",
      " 16  techsupport       5517 non-null   object        \n",
      " 17  streamingtv       5517 non-null   object        \n",
      " 18  streamingmovies   5517 non-null   object        \n",
      " 19  multiplelines     6361 non-null   object        \n",
      "dtypes: datetime64[ns](1), float64(2), int64(1), object(16)\n",
      "memory usage: 1.1+ MB\n"
     ]
    }
   ],
   "source": [
    "df.info()"
   ]
  },
  {
   "cell_type": "markdown",
   "metadata": {},
   "source": [
    "### Procesamiento de Datos Ausentes y Duplicados\n",
    "\n",
    "Comprobando que no existan datos duplicados de clientes, nos dedicaremos a ver si existen datos ausentes y qué haremos con ellos."
   ]
  },
  {
   "cell_type": "code",
   "execution_count": 20,
   "metadata": {},
   "outputs": [
    {
     "data": {
      "text/plain": [
       "0"
      ]
     },
     "execution_count": 20,
     "metadata": {},
     "output_type": "execute_result"
    }
   ],
   "source": [
    "df.duplicated().sum()"
   ]
  },
  {
   "cell_type": "code",
   "execution_count": 21,
   "metadata": {},
   "outputs": [
    {
     "data": {
      "text/plain": [
       "customerid             0\n",
       "begindate              0\n",
       "enddate                0\n",
       "type                   0\n",
       "paperlessbilling       0\n",
       "paymentmethod          0\n",
       "monthlycharges         0\n",
       "totalcharges           0\n",
       "gender                 0\n",
       "seniorcitizen          0\n",
       "partner                0\n",
       "dependents             0\n",
       "internetservice     1526\n",
       "onlinesecurity      1526\n",
       "onlinebackup        1526\n",
       "deviceprotection    1526\n",
       "techsupport         1526\n",
       "streamingtv         1526\n",
       "streamingmovies     1526\n",
       "multiplelines        682\n",
       "dtype: int64"
      ]
     },
     "execution_count": 21,
     "metadata": {},
     "output_type": "execute_result"
    }
   ],
   "source": [
    "df.isna().sum()"
   ]
  },
  {
   "cell_type": "code",
   "execution_count": 22,
   "metadata": {},
   "outputs": [
    {
     "data": {
      "text/plain": [
       "Fiber optic    3096\n",
       "DSL            2421\n",
       "NaN            1526\n",
       "Name: internetservice, dtype: int64"
      ]
     },
     "execution_count": 22,
     "metadata": {},
     "output_type": "execute_result"
    }
   ],
   "source": [
    "df[\"internetservice\"].value_counts(dropna = False)"
   ]
  },
  {
   "cell_type": "code",
   "execution_count": 23,
   "metadata": {},
   "outputs": [
    {
     "data": {
      "text/plain": [
       "No     3498\n",
       "Yes    2019\n",
       "NaN    1526\n",
       "Name: onlinesecurity, dtype: int64"
      ]
     },
     "execution_count": 23,
     "metadata": {},
     "output_type": "execute_result"
    }
   ],
   "source": [
    "df[\"onlinesecurity\"].value_counts(dropna = False)"
   ]
  },
  {
   "cell_type": "code",
   "execution_count": 24,
   "metadata": {},
   "outputs": [
    {
     "data": {
      "text/plain": [
       "No     3088\n",
       "Yes    2429\n",
       "NaN    1526\n",
       "Name: onlinebackup, dtype: int64"
      ]
     },
     "execution_count": 24,
     "metadata": {},
     "output_type": "execute_result"
    }
   ],
   "source": [
    "df[\"onlinebackup\"].value_counts(dropna = False)"
   ]
  },
  {
   "cell_type": "code",
   "execution_count": 25,
   "metadata": {},
   "outputs": [
    {
     "data": {
      "text/plain": [
       "No     3095\n",
       "Yes    2422\n",
       "NaN    1526\n",
       "Name: deviceprotection, dtype: int64"
      ]
     },
     "execution_count": 25,
     "metadata": {},
     "output_type": "execute_result"
    }
   ],
   "source": [
    "df[\"deviceprotection\"].value_counts(dropna = False)"
   ]
  },
  {
   "cell_type": "code",
   "execution_count": 26,
   "metadata": {},
   "outputs": [
    {
     "data": {
      "text/plain": [
       "No     3390\n",
       "Yes    2971\n",
       "NaN     682\n",
       "Name: multiplelines, dtype: int64"
      ]
     },
     "execution_count": 26,
     "metadata": {},
     "output_type": "execute_result"
    }
   ],
   "source": [
    "df[\"multiplelines\"].value_counts(dropna = False)"
   ]
  },
  {
   "cell_type": "markdown",
   "metadata": {},
   "source": [
    "Tenemos 8 columnas con datos ausentes, 7 de ellas con exactamente 1526 datos ausentes y la octava con 682.\n",
    "Rellenaremos los datos ausentes con no_data para tener cuantificado aquello.\n"
   ]
  },
  {
   "cell_type": "code",
   "execution_count": 27,
   "metadata": {},
   "outputs": [],
   "source": [
    "df = df.fillna(\"no_data\")"
   ]
  },
  {
   "cell_type": "code",
   "execution_count": 28,
   "metadata": {},
   "outputs": [
    {
     "data": {
      "text/plain": [
       "No         3095\n",
       "Yes        2422\n",
       "no_data    1526\n",
       "Name: deviceprotection, dtype: int64"
      ]
     },
     "execution_count": 28,
     "metadata": {},
     "output_type": "execute_result"
    }
   ],
   "source": [
    "df[\"deviceprotection\"].value_counts(dropna = False)"
   ]
  },
  {
   "cell_type": "markdown",
   "metadata": {},
   "source": [
    "Ahora, poseemos información relevante respecto de la fecha de arribo de un cliente y la fecha de término de su contrato o cuando dejó de ser cliente. Por ende, haremos uso de aquello para generar otra columna de características."
   ]
  },
  {
   "cell_type": "code",
   "execution_count": 29,
   "metadata": {},
   "outputs": [
    {
     "name": "stdout",
     "output_type": "stream",
     "text": [
      "<class 'pandas.core.frame.DataFrame'>\n",
      "Int64Index: 7043 entries, 0 to 7042\n",
      "Data columns (total 20 columns):\n",
      " #   Column            Non-Null Count  Dtype         \n",
      "---  ------            --------------  -----         \n",
      " 0   customerid        7043 non-null   object        \n",
      " 1   begindate         7043 non-null   datetime64[ns]\n",
      " 2   enddate           7043 non-null   object        \n",
      " 3   type              7043 non-null   object        \n",
      " 4   paperlessbilling  7043 non-null   object        \n",
      " 5   paymentmethod     7043 non-null   object        \n",
      " 6   monthlycharges    7043 non-null   float64       \n",
      " 7   totalcharges      7043 non-null   float64       \n",
      " 8   gender            7043 non-null   object        \n",
      " 9   seniorcitizen     7043 non-null   int64         \n",
      " 10  partner           7043 non-null   object        \n",
      " 11  dependents        7043 non-null   object        \n",
      " 12  internetservice   7043 non-null   object        \n",
      " 13  onlinesecurity    7043 non-null   object        \n",
      " 14  onlinebackup      7043 non-null   object        \n",
      " 15  deviceprotection  7043 non-null   object        \n",
      " 16  techsupport       7043 non-null   object        \n",
      " 17  streamingtv       7043 non-null   object        \n",
      " 18  streamingmovies   7043 non-null   object        \n",
      " 19  multiplelines     7043 non-null   object        \n",
      "dtypes: datetime64[ns](1), float64(2), int64(1), object(16)\n",
      "memory usage: 1.1+ MB\n"
     ]
    }
   ],
   "source": [
    "df.info()"
   ]
  },
  {
   "cell_type": "markdown",
   "metadata": {},
   "source": [
    "Primero, convertimos enddate a tipo datetime, obviando los clientes que aun no han dejado de serlo con errors = coerce."
   ]
  },
  {
   "cell_type": "code",
   "execution_count": 30,
   "metadata": {},
   "outputs": [
    {
     "data": {
      "text/plain": [
       "NaT           5174\n",
       "2019-11-01     485\n",
       "2019-12-01     466\n",
       "2020-01-01     460\n",
       "2019-10-01     458\n",
       "Name: enddate, dtype: int64"
      ]
     },
     "execution_count": 30,
     "metadata": {},
     "output_type": "execute_result"
    }
   ],
   "source": [
    "df[\"enddate\"] = pd.to_datetime(df[\"enddate\"], format = '%Y-%m-%d', errors = 'coerce')\n",
    "df[\"enddate\"].value_counts(dropna = False)"
   ]
  },
  {
   "cell_type": "markdown",
   "metadata": {},
   "source": [
    "Lo anterior es correcto, tenemos 5174 clientes que aun no dejan de serlo, pero el resto si posee fecha de salida de la compañia como cliente.\n",
    "\n",
    "Ahora, generamos una nueva columna con la resta de ambas fechas, para determinar el tiempo que fueron clientes."
   ]
  },
  {
   "cell_type": "code",
   "execution_count": 31,
   "metadata": {},
   "outputs": [],
   "source": [
    "df[\"daysclient\"] = (df['enddate'] - df[\"begindate\"]).dt.days"
   ]
  },
  {
   "cell_type": "code",
   "execution_count": 32,
   "metadata": {
    "scrolled": false
   },
   "outputs": [
    {
     "data": {
      "text/plain": [
       "NaN       5174\n",
       "31.0       198\n",
       "30.0       182\n",
       "61.0       123\n",
       "153.0       64\n",
       "          ... \n",
       "1949.0       2\n",
       "1917.0       1\n",
       "1218.0       1\n",
       "1340.0       1\n",
       "2161.0       1\n",
       "Name: daysclient, Length: 132, dtype: int64"
      ]
     },
     "execution_count": 32,
     "metadata": {},
     "output_type": "execute_result"
    }
   ],
   "source": [
    "df[\"daysclient\"].value_counts(dropna = False)"
   ]
  },
  {
   "cell_type": "markdown",
   "metadata": {},
   "source": [
    "En el enunciado nos señalan que los datos son tomados respecto del contrato hasta el 1 de Febrero de 2020, por lo que los clientes que aun lo son, se declararán con aquella fecha límite de enddate."
   ]
  },
  {
   "cell_type": "code",
   "execution_count": 33,
   "metadata": {},
   "outputs": [],
   "source": [
    "df.loc[pd.isna(df[\"daysclient\"]), \"daysclient\"] = (pd.Timestamp(\"2020-02-01\") - \n",
    "                                                   df.loc[pd.isna(df[\"daysclient\"]), \"begindate\"]).dt.days"
   ]
  },
  {
   "cell_type": "code",
   "execution_count": 34,
   "metadata": {},
   "outputs": [
    {
     "data": {
      "text/plain": [
       "31.0      431\n",
       "2191.0    362\n",
       "30.0      182\n",
       "92.0      169\n",
       "2163.0    164\n",
       "         ... \n",
       "1369.0      2\n",
       "1948.0      2\n",
       "1705.0      2\n",
       "2161.0      1\n",
       "1917.0      1\n",
       "Name: daysclient, Length: 156, dtype: int64"
      ]
     },
     "execution_count": 34,
     "metadata": {},
     "output_type": "execute_result"
    }
   ],
   "source": [
    "df[\"daysclient\"].value_counts(dropna = False)"
   ]
  },
  {
   "cell_type": "markdown",
   "metadata": {},
   "source": [
    "Con esto, añadimos una columna que puede ayudar esencialmente para dar más información a la hora de efectuar modelos."
   ]
  },
  {
   "cell_type": "code",
   "execution_count": 40,
   "metadata": {},
   "outputs": [
    {
     "data": {
      "text/html": [
       "<div>\n",
       "<style scoped>\n",
       "    .dataframe tbody tr th:only-of-type {\n",
       "        vertical-align: middle;\n",
       "    }\n",
       "\n",
       "    .dataframe tbody tr th {\n",
       "        vertical-align: top;\n",
       "    }\n",
       "\n",
       "    .dataframe thead th {\n",
       "        text-align: right;\n",
       "    }\n",
       "</style>\n",
       "<table border=\"1\" class=\"dataframe\">\n",
       "  <thead>\n",
       "    <tr style=\"text-align: right;\">\n",
       "      <th></th>\n",
       "      <th>customerid</th>\n",
       "      <th>begindate</th>\n",
       "      <th>enddate</th>\n",
       "      <th>type</th>\n",
       "      <th>paperlessbilling</th>\n",
       "      <th>paymentmethod</th>\n",
       "      <th>monthlycharges</th>\n",
       "      <th>totalcharges</th>\n",
       "      <th>gender</th>\n",
       "      <th>seniorcitizen</th>\n",
       "      <th>...</th>\n",
       "      <th>dependents</th>\n",
       "      <th>internetservice</th>\n",
       "      <th>onlinesecurity</th>\n",
       "      <th>onlinebackup</th>\n",
       "      <th>deviceprotection</th>\n",
       "      <th>techsupport</th>\n",
       "      <th>streamingtv</th>\n",
       "      <th>streamingmovies</th>\n",
       "      <th>multiplelines</th>\n",
       "      <th>daysclient</th>\n",
       "    </tr>\n",
       "  </thead>\n",
       "  <tbody>\n",
       "    <tr>\n",
       "      <th>0</th>\n",
       "      <td>7590-VHVEG</td>\n",
       "      <td>2020-01-01</td>\n",
       "      <td>NaT</td>\n",
       "      <td>Month-to-month</td>\n",
       "      <td>Yes</td>\n",
       "      <td>Electronic check</td>\n",
       "      <td>29.85</td>\n",
       "      <td>29.85</td>\n",
       "      <td>Female</td>\n",
       "      <td>0</td>\n",
       "      <td>...</td>\n",
       "      <td>No</td>\n",
       "      <td>DSL</td>\n",
       "      <td>No</td>\n",
       "      <td>Yes</td>\n",
       "      <td>No</td>\n",
       "      <td>No</td>\n",
       "      <td>No</td>\n",
       "      <td>No</td>\n",
       "      <td>no_data</td>\n",
       "      <td>31.0</td>\n",
       "    </tr>\n",
       "    <tr>\n",
       "      <th>1</th>\n",
       "      <td>5575-GNVDE</td>\n",
       "      <td>2017-04-01</td>\n",
       "      <td>NaT</td>\n",
       "      <td>One year</td>\n",
       "      <td>No</td>\n",
       "      <td>Mailed check</td>\n",
       "      <td>56.95</td>\n",
       "      <td>1889.50</td>\n",
       "      <td>Male</td>\n",
       "      <td>0</td>\n",
       "      <td>...</td>\n",
       "      <td>No</td>\n",
       "      <td>DSL</td>\n",
       "      <td>Yes</td>\n",
       "      <td>No</td>\n",
       "      <td>Yes</td>\n",
       "      <td>No</td>\n",
       "      <td>No</td>\n",
       "      <td>No</td>\n",
       "      <td>No</td>\n",
       "      <td>1036.0</td>\n",
       "    </tr>\n",
       "    <tr>\n",
       "      <th>2</th>\n",
       "      <td>3668-QPYBK</td>\n",
       "      <td>2019-10-01</td>\n",
       "      <td>2019-12-01</td>\n",
       "      <td>Month-to-month</td>\n",
       "      <td>Yes</td>\n",
       "      <td>Mailed check</td>\n",
       "      <td>53.85</td>\n",
       "      <td>108.15</td>\n",
       "      <td>Male</td>\n",
       "      <td>0</td>\n",
       "      <td>...</td>\n",
       "      <td>No</td>\n",
       "      <td>DSL</td>\n",
       "      <td>Yes</td>\n",
       "      <td>Yes</td>\n",
       "      <td>No</td>\n",
       "      <td>No</td>\n",
       "      <td>No</td>\n",
       "      <td>No</td>\n",
       "      <td>No</td>\n",
       "      <td>61.0</td>\n",
       "    </tr>\n",
       "    <tr>\n",
       "      <th>3</th>\n",
       "      <td>7795-CFOCW</td>\n",
       "      <td>2016-05-01</td>\n",
       "      <td>NaT</td>\n",
       "      <td>One year</td>\n",
       "      <td>No</td>\n",
       "      <td>Bank transfer (automatic)</td>\n",
       "      <td>42.30</td>\n",
       "      <td>1840.75</td>\n",
       "      <td>Male</td>\n",
       "      <td>0</td>\n",
       "      <td>...</td>\n",
       "      <td>No</td>\n",
       "      <td>DSL</td>\n",
       "      <td>Yes</td>\n",
       "      <td>No</td>\n",
       "      <td>Yes</td>\n",
       "      <td>Yes</td>\n",
       "      <td>No</td>\n",
       "      <td>No</td>\n",
       "      <td>no_data</td>\n",
       "      <td>1371.0</td>\n",
       "    </tr>\n",
       "    <tr>\n",
       "      <th>4</th>\n",
       "      <td>9237-HQITU</td>\n",
       "      <td>2019-09-01</td>\n",
       "      <td>2019-11-01</td>\n",
       "      <td>Month-to-month</td>\n",
       "      <td>Yes</td>\n",
       "      <td>Electronic check</td>\n",
       "      <td>70.70</td>\n",
       "      <td>151.65</td>\n",
       "      <td>Female</td>\n",
       "      <td>0</td>\n",
       "      <td>...</td>\n",
       "      <td>No</td>\n",
       "      <td>Fiber optic</td>\n",
       "      <td>No</td>\n",
       "      <td>No</td>\n",
       "      <td>No</td>\n",
       "      <td>No</td>\n",
       "      <td>No</td>\n",
       "      <td>No</td>\n",
       "      <td>No</td>\n",
       "      <td>61.0</td>\n",
       "    </tr>\n",
       "    <tr>\n",
       "      <th>...</th>\n",
       "      <td>...</td>\n",
       "      <td>...</td>\n",
       "      <td>...</td>\n",
       "      <td>...</td>\n",
       "      <td>...</td>\n",
       "      <td>...</td>\n",
       "      <td>...</td>\n",
       "      <td>...</td>\n",
       "      <td>...</td>\n",
       "      <td>...</td>\n",
       "      <td>...</td>\n",
       "      <td>...</td>\n",
       "      <td>...</td>\n",
       "      <td>...</td>\n",
       "      <td>...</td>\n",
       "      <td>...</td>\n",
       "      <td>...</td>\n",
       "      <td>...</td>\n",
       "      <td>...</td>\n",
       "      <td>...</td>\n",
       "      <td>...</td>\n",
       "    </tr>\n",
       "    <tr>\n",
       "      <th>7038</th>\n",
       "      <td>6840-RESVB</td>\n",
       "      <td>2018-02-01</td>\n",
       "      <td>NaT</td>\n",
       "      <td>One year</td>\n",
       "      <td>Yes</td>\n",
       "      <td>Mailed check</td>\n",
       "      <td>84.80</td>\n",
       "      <td>1990.50</td>\n",
       "      <td>Male</td>\n",
       "      <td>0</td>\n",
       "      <td>...</td>\n",
       "      <td>Yes</td>\n",
       "      <td>DSL</td>\n",
       "      <td>Yes</td>\n",
       "      <td>No</td>\n",
       "      <td>Yes</td>\n",
       "      <td>Yes</td>\n",
       "      <td>Yes</td>\n",
       "      <td>Yes</td>\n",
       "      <td>Yes</td>\n",
       "      <td>730.0</td>\n",
       "    </tr>\n",
       "    <tr>\n",
       "      <th>7039</th>\n",
       "      <td>2234-XADUH</td>\n",
       "      <td>2014-02-01</td>\n",
       "      <td>NaT</td>\n",
       "      <td>One year</td>\n",
       "      <td>Yes</td>\n",
       "      <td>Credit card (automatic)</td>\n",
       "      <td>103.20</td>\n",
       "      <td>7362.90</td>\n",
       "      <td>Female</td>\n",
       "      <td>0</td>\n",
       "      <td>...</td>\n",
       "      <td>Yes</td>\n",
       "      <td>Fiber optic</td>\n",
       "      <td>No</td>\n",
       "      <td>Yes</td>\n",
       "      <td>Yes</td>\n",
       "      <td>No</td>\n",
       "      <td>Yes</td>\n",
       "      <td>Yes</td>\n",
       "      <td>Yes</td>\n",
       "      <td>2191.0</td>\n",
       "    </tr>\n",
       "    <tr>\n",
       "      <th>7040</th>\n",
       "      <td>4801-JZAZL</td>\n",
       "      <td>2019-03-01</td>\n",
       "      <td>NaT</td>\n",
       "      <td>Month-to-month</td>\n",
       "      <td>Yes</td>\n",
       "      <td>Electronic check</td>\n",
       "      <td>29.60</td>\n",
       "      <td>346.45</td>\n",
       "      <td>Female</td>\n",
       "      <td>0</td>\n",
       "      <td>...</td>\n",
       "      <td>Yes</td>\n",
       "      <td>DSL</td>\n",
       "      <td>Yes</td>\n",
       "      <td>No</td>\n",
       "      <td>No</td>\n",
       "      <td>No</td>\n",
       "      <td>No</td>\n",
       "      <td>No</td>\n",
       "      <td>no_data</td>\n",
       "      <td>337.0</td>\n",
       "    </tr>\n",
       "    <tr>\n",
       "      <th>7041</th>\n",
       "      <td>8361-LTMKD</td>\n",
       "      <td>2019-07-01</td>\n",
       "      <td>2019-11-01</td>\n",
       "      <td>Month-to-month</td>\n",
       "      <td>Yes</td>\n",
       "      <td>Mailed check</td>\n",
       "      <td>74.40</td>\n",
       "      <td>306.60</td>\n",
       "      <td>Male</td>\n",
       "      <td>1</td>\n",
       "      <td>...</td>\n",
       "      <td>No</td>\n",
       "      <td>Fiber optic</td>\n",
       "      <td>No</td>\n",
       "      <td>No</td>\n",
       "      <td>No</td>\n",
       "      <td>No</td>\n",
       "      <td>No</td>\n",
       "      <td>No</td>\n",
       "      <td>Yes</td>\n",
       "      <td>123.0</td>\n",
       "    </tr>\n",
       "    <tr>\n",
       "      <th>7042</th>\n",
       "      <td>3186-AJIEK</td>\n",
       "      <td>2014-08-01</td>\n",
       "      <td>NaT</td>\n",
       "      <td>Two year</td>\n",
       "      <td>Yes</td>\n",
       "      <td>Bank transfer (automatic)</td>\n",
       "      <td>105.65</td>\n",
       "      <td>6844.50</td>\n",
       "      <td>Male</td>\n",
       "      <td>0</td>\n",
       "      <td>...</td>\n",
       "      <td>No</td>\n",
       "      <td>Fiber optic</td>\n",
       "      <td>Yes</td>\n",
       "      <td>No</td>\n",
       "      <td>Yes</td>\n",
       "      <td>Yes</td>\n",
       "      <td>Yes</td>\n",
       "      <td>Yes</td>\n",
       "      <td>No</td>\n",
       "      <td>2010.0</td>\n",
       "    </tr>\n",
       "  </tbody>\n",
       "</table>\n",
       "<p>7043 rows × 21 columns</p>\n",
       "</div>"
      ],
      "text/plain": [
       "      customerid  begindate    enddate            type paperlessbilling  \\\n",
       "0     7590-VHVEG 2020-01-01        NaT  Month-to-month              Yes   \n",
       "1     5575-GNVDE 2017-04-01        NaT        One year               No   \n",
       "2     3668-QPYBK 2019-10-01 2019-12-01  Month-to-month              Yes   \n",
       "3     7795-CFOCW 2016-05-01        NaT        One year               No   \n",
       "4     9237-HQITU 2019-09-01 2019-11-01  Month-to-month              Yes   \n",
       "...          ...        ...        ...             ...              ...   \n",
       "7038  6840-RESVB 2018-02-01        NaT        One year              Yes   \n",
       "7039  2234-XADUH 2014-02-01        NaT        One year              Yes   \n",
       "7040  4801-JZAZL 2019-03-01        NaT  Month-to-month              Yes   \n",
       "7041  8361-LTMKD 2019-07-01 2019-11-01  Month-to-month              Yes   \n",
       "7042  3186-AJIEK 2014-08-01        NaT        Two year              Yes   \n",
       "\n",
       "                  paymentmethod  monthlycharges  totalcharges  gender  \\\n",
       "0              Electronic check           29.85         29.85  Female   \n",
       "1                  Mailed check           56.95       1889.50    Male   \n",
       "2                  Mailed check           53.85        108.15    Male   \n",
       "3     Bank transfer (automatic)           42.30       1840.75    Male   \n",
       "4              Electronic check           70.70        151.65  Female   \n",
       "...                         ...             ...           ...     ...   \n",
       "7038               Mailed check           84.80       1990.50    Male   \n",
       "7039    Credit card (automatic)          103.20       7362.90  Female   \n",
       "7040           Electronic check           29.60        346.45  Female   \n",
       "7041               Mailed check           74.40        306.60    Male   \n",
       "7042  Bank transfer (automatic)          105.65       6844.50    Male   \n",
       "\n",
       "      seniorcitizen  ... dependents internetservice onlinesecurity  \\\n",
       "0                 0  ...         No             DSL             No   \n",
       "1                 0  ...         No             DSL            Yes   \n",
       "2                 0  ...         No             DSL            Yes   \n",
       "3                 0  ...         No             DSL            Yes   \n",
       "4                 0  ...         No     Fiber optic             No   \n",
       "...             ...  ...        ...             ...            ...   \n",
       "7038              0  ...        Yes             DSL            Yes   \n",
       "7039              0  ...        Yes     Fiber optic             No   \n",
       "7040              0  ...        Yes             DSL            Yes   \n",
       "7041              1  ...         No     Fiber optic             No   \n",
       "7042              0  ...         No     Fiber optic            Yes   \n",
       "\n",
       "     onlinebackup deviceprotection techsupport streamingtv streamingmovies  \\\n",
       "0             Yes               No          No          No              No   \n",
       "1              No              Yes          No          No              No   \n",
       "2             Yes               No          No          No              No   \n",
       "3              No              Yes         Yes          No              No   \n",
       "4              No               No          No          No              No   \n",
       "...           ...              ...         ...         ...             ...   \n",
       "7038           No              Yes         Yes         Yes             Yes   \n",
       "7039          Yes              Yes          No         Yes             Yes   \n",
       "7040           No               No          No          No              No   \n",
       "7041           No               No          No          No              No   \n",
       "7042           No              Yes         Yes         Yes             Yes   \n",
       "\n",
       "     multiplelines daysclient  \n",
       "0          no_data       31.0  \n",
       "1               No     1036.0  \n",
       "2               No       61.0  \n",
       "3          no_data     1371.0  \n",
       "4               No       61.0  \n",
       "...            ...        ...  \n",
       "7038           Yes      730.0  \n",
       "7039           Yes     2191.0  \n",
       "7040       no_data      337.0  \n",
       "7041           Yes      123.0  \n",
       "7042            No     2010.0  \n",
       "\n",
       "[7043 rows x 21 columns]"
      ]
     },
     "execution_count": 40,
     "metadata": {},
     "output_type": "execute_result"
    }
   ],
   "source": [
    "df"
   ]
  },
  {
   "cell_type": "markdown",
   "metadata": {},
   "source": [
    "Para la columna objetivo \"enddate\" cambiaremos las fechas por las que el cliente dejó de serlo con el string \"Yes\", para tener solo dos opciones: si el cliente dejó de serlo o si aun lo es."
   ]
  },
  {
   "cell_type": "code",
   "execution_count": 41,
   "metadata": {},
   "outputs": [
    {
     "data": {
      "text/plain": [
       "No     5174\n",
       "Yes    1869\n",
       "Name: enddate, dtype: int64"
      ]
     },
     "execution_count": 41,
     "metadata": {},
     "output_type": "execute_result"
    }
   ],
   "source": [
    "def cambiar_yes_no(fecha):\n",
    "    return \"Yes\" if pd.notna(fecha) else \"No\"\n",
    "df['enddate'] = df[\"enddate\"].apply(cambiar_yes_no) \n",
    "df[\"enddate\"].value_counts(dropna = False)"
   ]
  },
  {
   "cell_type": "markdown",
   "metadata": {},
   "source": [
    "Con la transformación previa, ya podemos ver que de los 7043 clientes, solo 1869 han dejado de serlo en la compañia."
   ]
  },
  {
   "cell_type": "code",
   "execution_count": 42,
   "metadata": {
    "scrolled": false
   },
   "outputs": [
    {
     "data": {
      "text/html": [
       "<div>\n",
       "<style scoped>\n",
       "    .dataframe tbody tr th:only-of-type {\n",
       "        vertical-align: middle;\n",
       "    }\n",
       "\n",
       "    .dataframe tbody tr th {\n",
       "        vertical-align: top;\n",
       "    }\n",
       "\n",
       "    .dataframe thead th {\n",
       "        text-align: right;\n",
       "    }\n",
       "</style>\n",
       "<table border=\"1\" class=\"dataframe\">\n",
       "  <thead>\n",
       "    <tr style=\"text-align: right;\">\n",
       "      <th></th>\n",
       "      <th>customerid</th>\n",
       "      <th>begindate</th>\n",
       "      <th>enddate</th>\n",
       "      <th>type</th>\n",
       "      <th>paperlessbilling</th>\n",
       "      <th>paymentmethod</th>\n",
       "      <th>monthlycharges</th>\n",
       "      <th>totalcharges</th>\n",
       "      <th>gender</th>\n",
       "      <th>seniorcitizen</th>\n",
       "      <th>...</th>\n",
       "      <th>dependents</th>\n",
       "      <th>internetservice</th>\n",
       "      <th>onlinesecurity</th>\n",
       "      <th>onlinebackup</th>\n",
       "      <th>deviceprotection</th>\n",
       "      <th>techsupport</th>\n",
       "      <th>streamingtv</th>\n",
       "      <th>streamingmovies</th>\n",
       "      <th>multiplelines</th>\n",
       "      <th>daysclient</th>\n",
       "    </tr>\n",
       "  </thead>\n",
       "  <tbody>\n",
       "    <tr>\n",
       "      <th>0</th>\n",
       "      <td>7590-VHVEG</td>\n",
       "      <td>2020-01-01</td>\n",
       "      <td>No</td>\n",
       "      <td>Month-to-month</td>\n",
       "      <td>Yes</td>\n",
       "      <td>Electronic check</td>\n",
       "      <td>29.85</td>\n",
       "      <td>29.85</td>\n",
       "      <td>Female</td>\n",
       "      <td>0</td>\n",
       "      <td>...</td>\n",
       "      <td>No</td>\n",
       "      <td>DSL</td>\n",
       "      <td>No</td>\n",
       "      <td>Yes</td>\n",
       "      <td>No</td>\n",
       "      <td>No</td>\n",
       "      <td>No</td>\n",
       "      <td>No</td>\n",
       "      <td>no_data</td>\n",
       "      <td>31.0</td>\n",
       "    </tr>\n",
       "    <tr>\n",
       "      <th>1</th>\n",
       "      <td>5575-GNVDE</td>\n",
       "      <td>2017-04-01</td>\n",
       "      <td>No</td>\n",
       "      <td>One year</td>\n",
       "      <td>No</td>\n",
       "      <td>Mailed check</td>\n",
       "      <td>56.95</td>\n",
       "      <td>1889.50</td>\n",
       "      <td>Male</td>\n",
       "      <td>0</td>\n",
       "      <td>...</td>\n",
       "      <td>No</td>\n",
       "      <td>DSL</td>\n",
       "      <td>Yes</td>\n",
       "      <td>No</td>\n",
       "      <td>Yes</td>\n",
       "      <td>No</td>\n",
       "      <td>No</td>\n",
       "      <td>No</td>\n",
       "      <td>No</td>\n",
       "      <td>1036.0</td>\n",
       "    </tr>\n",
       "    <tr>\n",
       "      <th>2</th>\n",
       "      <td>3668-QPYBK</td>\n",
       "      <td>2019-10-01</td>\n",
       "      <td>Yes</td>\n",
       "      <td>Month-to-month</td>\n",
       "      <td>Yes</td>\n",
       "      <td>Mailed check</td>\n",
       "      <td>53.85</td>\n",
       "      <td>108.15</td>\n",
       "      <td>Male</td>\n",
       "      <td>0</td>\n",
       "      <td>...</td>\n",
       "      <td>No</td>\n",
       "      <td>DSL</td>\n",
       "      <td>Yes</td>\n",
       "      <td>Yes</td>\n",
       "      <td>No</td>\n",
       "      <td>No</td>\n",
       "      <td>No</td>\n",
       "      <td>No</td>\n",
       "      <td>No</td>\n",
       "      <td>61.0</td>\n",
       "    </tr>\n",
       "    <tr>\n",
       "      <th>3</th>\n",
       "      <td>7795-CFOCW</td>\n",
       "      <td>2016-05-01</td>\n",
       "      <td>No</td>\n",
       "      <td>One year</td>\n",
       "      <td>No</td>\n",
       "      <td>Bank transfer (automatic)</td>\n",
       "      <td>42.30</td>\n",
       "      <td>1840.75</td>\n",
       "      <td>Male</td>\n",
       "      <td>0</td>\n",
       "      <td>...</td>\n",
       "      <td>No</td>\n",
       "      <td>DSL</td>\n",
       "      <td>Yes</td>\n",
       "      <td>No</td>\n",
       "      <td>Yes</td>\n",
       "      <td>Yes</td>\n",
       "      <td>No</td>\n",
       "      <td>No</td>\n",
       "      <td>no_data</td>\n",
       "      <td>1371.0</td>\n",
       "    </tr>\n",
       "    <tr>\n",
       "      <th>4</th>\n",
       "      <td>9237-HQITU</td>\n",
       "      <td>2019-09-01</td>\n",
       "      <td>Yes</td>\n",
       "      <td>Month-to-month</td>\n",
       "      <td>Yes</td>\n",
       "      <td>Electronic check</td>\n",
       "      <td>70.70</td>\n",
       "      <td>151.65</td>\n",
       "      <td>Female</td>\n",
       "      <td>0</td>\n",
       "      <td>...</td>\n",
       "      <td>No</td>\n",
       "      <td>Fiber optic</td>\n",
       "      <td>No</td>\n",
       "      <td>No</td>\n",
       "      <td>No</td>\n",
       "      <td>No</td>\n",
       "      <td>No</td>\n",
       "      <td>No</td>\n",
       "      <td>No</td>\n",
       "      <td>61.0</td>\n",
       "    </tr>\n",
       "    <tr>\n",
       "      <th>...</th>\n",
       "      <td>...</td>\n",
       "      <td>...</td>\n",
       "      <td>...</td>\n",
       "      <td>...</td>\n",
       "      <td>...</td>\n",
       "      <td>...</td>\n",
       "      <td>...</td>\n",
       "      <td>...</td>\n",
       "      <td>...</td>\n",
       "      <td>...</td>\n",
       "      <td>...</td>\n",
       "      <td>...</td>\n",
       "      <td>...</td>\n",
       "      <td>...</td>\n",
       "      <td>...</td>\n",
       "      <td>...</td>\n",
       "      <td>...</td>\n",
       "      <td>...</td>\n",
       "      <td>...</td>\n",
       "      <td>...</td>\n",
       "      <td>...</td>\n",
       "    </tr>\n",
       "    <tr>\n",
       "      <th>7038</th>\n",
       "      <td>6840-RESVB</td>\n",
       "      <td>2018-02-01</td>\n",
       "      <td>No</td>\n",
       "      <td>One year</td>\n",
       "      <td>Yes</td>\n",
       "      <td>Mailed check</td>\n",
       "      <td>84.80</td>\n",
       "      <td>1990.50</td>\n",
       "      <td>Male</td>\n",
       "      <td>0</td>\n",
       "      <td>...</td>\n",
       "      <td>Yes</td>\n",
       "      <td>DSL</td>\n",
       "      <td>Yes</td>\n",
       "      <td>No</td>\n",
       "      <td>Yes</td>\n",
       "      <td>Yes</td>\n",
       "      <td>Yes</td>\n",
       "      <td>Yes</td>\n",
       "      <td>Yes</td>\n",
       "      <td>730.0</td>\n",
       "    </tr>\n",
       "    <tr>\n",
       "      <th>7039</th>\n",
       "      <td>2234-XADUH</td>\n",
       "      <td>2014-02-01</td>\n",
       "      <td>No</td>\n",
       "      <td>One year</td>\n",
       "      <td>Yes</td>\n",
       "      <td>Credit card (automatic)</td>\n",
       "      <td>103.20</td>\n",
       "      <td>7362.90</td>\n",
       "      <td>Female</td>\n",
       "      <td>0</td>\n",
       "      <td>...</td>\n",
       "      <td>Yes</td>\n",
       "      <td>Fiber optic</td>\n",
       "      <td>No</td>\n",
       "      <td>Yes</td>\n",
       "      <td>Yes</td>\n",
       "      <td>No</td>\n",
       "      <td>Yes</td>\n",
       "      <td>Yes</td>\n",
       "      <td>Yes</td>\n",
       "      <td>2191.0</td>\n",
       "    </tr>\n",
       "    <tr>\n",
       "      <th>7040</th>\n",
       "      <td>4801-JZAZL</td>\n",
       "      <td>2019-03-01</td>\n",
       "      <td>No</td>\n",
       "      <td>Month-to-month</td>\n",
       "      <td>Yes</td>\n",
       "      <td>Electronic check</td>\n",
       "      <td>29.60</td>\n",
       "      <td>346.45</td>\n",
       "      <td>Female</td>\n",
       "      <td>0</td>\n",
       "      <td>...</td>\n",
       "      <td>Yes</td>\n",
       "      <td>DSL</td>\n",
       "      <td>Yes</td>\n",
       "      <td>No</td>\n",
       "      <td>No</td>\n",
       "      <td>No</td>\n",
       "      <td>No</td>\n",
       "      <td>No</td>\n",
       "      <td>no_data</td>\n",
       "      <td>337.0</td>\n",
       "    </tr>\n",
       "    <tr>\n",
       "      <th>7041</th>\n",
       "      <td>8361-LTMKD</td>\n",
       "      <td>2019-07-01</td>\n",
       "      <td>Yes</td>\n",
       "      <td>Month-to-month</td>\n",
       "      <td>Yes</td>\n",
       "      <td>Mailed check</td>\n",
       "      <td>74.40</td>\n",
       "      <td>306.60</td>\n",
       "      <td>Male</td>\n",
       "      <td>1</td>\n",
       "      <td>...</td>\n",
       "      <td>No</td>\n",
       "      <td>Fiber optic</td>\n",
       "      <td>No</td>\n",
       "      <td>No</td>\n",
       "      <td>No</td>\n",
       "      <td>No</td>\n",
       "      <td>No</td>\n",
       "      <td>No</td>\n",
       "      <td>Yes</td>\n",
       "      <td>123.0</td>\n",
       "    </tr>\n",
       "    <tr>\n",
       "      <th>7042</th>\n",
       "      <td>3186-AJIEK</td>\n",
       "      <td>2014-08-01</td>\n",
       "      <td>No</td>\n",
       "      <td>Two year</td>\n",
       "      <td>Yes</td>\n",
       "      <td>Bank transfer (automatic)</td>\n",
       "      <td>105.65</td>\n",
       "      <td>6844.50</td>\n",
       "      <td>Male</td>\n",
       "      <td>0</td>\n",
       "      <td>...</td>\n",
       "      <td>No</td>\n",
       "      <td>Fiber optic</td>\n",
       "      <td>Yes</td>\n",
       "      <td>No</td>\n",
       "      <td>Yes</td>\n",
       "      <td>Yes</td>\n",
       "      <td>Yes</td>\n",
       "      <td>Yes</td>\n",
       "      <td>No</td>\n",
       "      <td>2010.0</td>\n",
       "    </tr>\n",
       "  </tbody>\n",
       "</table>\n",
       "<p>7043 rows × 21 columns</p>\n",
       "</div>"
      ],
      "text/plain": [
       "      customerid  begindate enddate            type paperlessbilling  \\\n",
       "0     7590-VHVEG 2020-01-01      No  Month-to-month              Yes   \n",
       "1     5575-GNVDE 2017-04-01      No        One year               No   \n",
       "2     3668-QPYBK 2019-10-01     Yes  Month-to-month              Yes   \n",
       "3     7795-CFOCW 2016-05-01      No        One year               No   \n",
       "4     9237-HQITU 2019-09-01     Yes  Month-to-month              Yes   \n",
       "...          ...        ...     ...             ...              ...   \n",
       "7038  6840-RESVB 2018-02-01      No        One year              Yes   \n",
       "7039  2234-XADUH 2014-02-01      No        One year              Yes   \n",
       "7040  4801-JZAZL 2019-03-01      No  Month-to-month              Yes   \n",
       "7041  8361-LTMKD 2019-07-01     Yes  Month-to-month              Yes   \n",
       "7042  3186-AJIEK 2014-08-01      No        Two year              Yes   \n",
       "\n",
       "                  paymentmethod  monthlycharges  totalcharges  gender  \\\n",
       "0              Electronic check           29.85         29.85  Female   \n",
       "1                  Mailed check           56.95       1889.50    Male   \n",
       "2                  Mailed check           53.85        108.15    Male   \n",
       "3     Bank transfer (automatic)           42.30       1840.75    Male   \n",
       "4              Electronic check           70.70        151.65  Female   \n",
       "...                         ...             ...           ...     ...   \n",
       "7038               Mailed check           84.80       1990.50    Male   \n",
       "7039    Credit card (automatic)          103.20       7362.90  Female   \n",
       "7040           Electronic check           29.60        346.45  Female   \n",
       "7041               Mailed check           74.40        306.60    Male   \n",
       "7042  Bank transfer (automatic)          105.65       6844.50    Male   \n",
       "\n",
       "      seniorcitizen  ... dependents internetservice onlinesecurity  \\\n",
       "0                 0  ...         No             DSL             No   \n",
       "1                 0  ...         No             DSL            Yes   \n",
       "2                 0  ...         No             DSL            Yes   \n",
       "3                 0  ...         No             DSL            Yes   \n",
       "4                 0  ...         No     Fiber optic             No   \n",
       "...             ...  ...        ...             ...            ...   \n",
       "7038              0  ...        Yes             DSL            Yes   \n",
       "7039              0  ...        Yes     Fiber optic             No   \n",
       "7040              0  ...        Yes             DSL            Yes   \n",
       "7041              1  ...         No     Fiber optic             No   \n",
       "7042              0  ...         No     Fiber optic            Yes   \n",
       "\n",
       "     onlinebackup deviceprotection techsupport streamingtv streamingmovies  \\\n",
       "0             Yes               No          No          No              No   \n",
       "1              No              Yes          No          No              No   \n",
       "2             Yes               No          No          No              No   \n",
       "3              No              Yes         Yes          No              No   \n",
       "4              No               No          No          No              No   \n",
       "...           ...              ...         ...         ...             ...   \n",
       "7038           No              Yes         Yes         Yes             Yes   \n",
       "7039          Yes              Yes          No         Yes             Yes   \n",
       "7040           No               No          No          No              No   \n",
       "7041           No               No          No          No              No   \n",
       "7042           No              Yes         Yes         Yes             Yes   \n",
       "\n",
       "     multiplelines daysclient  \n",
       "0          no_data       31.0  \n",
       "1               No     1036.0  \n",
       "2               No       61.0  \n",
       "3          no_data     1371.0  \n",
       "4               No       61.0  \n",
       "...            ...        ...  \n",
       "7038           Yes      730.0  \n",
       "7039           Yes     2191.0  \n",
       "7040       no_data      337.0  \n",
       "7041           Yes      123.0  \n",
       "7042            No     2010.0  \n",
       "\n",
       "[7043 rows x 21 columns]"
      ]
     },
     "execution_count": 42,
     "metadata": {},
     "output_type": "execute_result"
    }
   ],
   "source": [
    "df"
   ]
  },
  {
   "cell_type": "markdown",
   "metadata": {},
   "source": [
    "La columna customerid no nos presentará ningun valor al efectuar el análisis, y hay otras que también se consideran ruidosas para el mismo, por lo que las eliminaremos de nuestros datos. No creo que sea relevante para el análisis si el cliente quería su cuenta en papel o digital, o el medio de pago."
   ]
  },
  {
   "cell_type": "code",
   "execution_count": 43,
   "metadata": {},
   "outputs": [],
   "source": [
    "df.drop([\"customerid\", \"begindate\",\"paperlessbilling\",\"paymentmethod\"], axis = 1, inplace = True)"
   ]
  },
  {
   "cell_type": "code",
   "execution_count": 44,
   "metadata": {
    "scrolled": false
   },
   "outputs": [
    {
     "name": "stdout",
     "output_type": "stream",
     "text": [
      "<class 'pandas.core.frame.DataFrame'>\n",
      "Int64Index: 7043 entries, 0 to 7042\n",
      "Data columns (total 17 columns):\n",
      " #   Column            Non-Null Count  Dtype  \n",
      "---  ------            --------------  -----  \n",
      " 0   enddate           7043 non-null   object \n",
      " 1   type              7043 non-null   object \n",
      " 2   monthlycharges    7043 non-null   float64\n",
      " 3   totalcharges      7043 non-null   float64\n",
      " 4   gender            7043 non-null   object \n",
      " 5   seniorcitizen     7043 non-null   int64  \n",
      " 6   partner           7043 non-null   object \n",
      " 7   dependents        7043 non-null   object \n",
      " 8   internetservice   7043 non-null   object \n",
      " 9   onlinesecurity    7043 non-null   object \n",
      " 10  onlinebackup      7043 non-null   object \n",
      " 11  deviceprotection  7043 non-null   object \n",
      " 12  techsupport       7043 non-null   object \n",
      " 13  streamingtv       7043 non-null   object \n",
      " 14  streamingmovies   7043 non-null   object \n",
      " 15  multiplelines     7043 non-null   object \n",
      " 16  daysclient        7043 non-null   float64\n",
      "dtypes: float64(3), int64(1), object(13)\n",
      "memory usage: 990.4+ KB\n"
     ]
    }
   ],
   "source": [
    "df.info()"
   ]
  },
  {
   "cell_type": "markdown",
   "metadata": {},
   "source": [
    "### Codificación de Datos\n",
    "\n",
    "Para nuestra codificación, ya que la mayoría de columnas son categoricas y no poseen un orden jerarquico definido, utilizaremos One Hot Encoding en su forma sencilla (pd.get_dummies)"
   ]
  },
  {
   "cell_type": "code",
   "execution_count": 45,
   "metadata": {},
   "outputs": [],
   "source": [
    "col_categoricas = df.select_dtypes(include='object').columns"
   ]
  },
  {
   "cell_type": "code",
   "execution_count": 46,
   "metadata": {},
   "outputs": [],
   "source": [
    "data_ohe = pd.get_dummies(df,columns=col_categoricas, drop_first=True)"
   ]
  },
  {
   "cell_type": "code",
   "execution_count": 47,
   "metadata": {
    "scrolled": false
   },
   "outputs": [],
   "source": [
    "data_ohe.columns = data_ohe.columns.str.lower()\n",
    "data_ohe.rename(columns={\"enddate_yes\":\"enddate\"}, inplace=True)"
   ]
  },
  {
   "cell_type": "code",
   "execution_count": 48,
   "metadata": {},
   "outputs": [
    {
     "data": {
      "text/html": [
       "<div>\n",
       "<style scoped>\n",
       "    .dataframe tbody tr th:only-of-type {\n",
       "        vertical-align: middle;\n",
       "    }\n",
       "\n",
       "    .dataframe tbody tr th {\n",
       "        vertical-align: top;\n",
       "    }\n",
       "\n",
       "    .dataframe thead th {\n",
       "        text-align: right;\n",
       "    }\n",
       "</style>\n",
       "<table border=\"1\" class=\"dataframe\">\n",
       "  <thead>\n",
       "    <tr style=\"text-align: right;\">\n",
       "      <th></th>\n",
       "      <th>monthlycharges</th>\n",
       "      <th>totalcharges</th>\n",
       "      <th>seniorcitizen</th>\n",
       "      <th>daysclient</th>\n",
       "      <th>enddate</th>\n",
       "      <th>type_one year</th>\n",
       "      <th>type_two year</th>\n",
       "      <th>gender_male</th>\n",
       "      <th>partner_yes</th>\n",
       "      <th>dependents_yes</th>\n",
       "      <th>...</th>\n",
       "      <th>deviceprotection_yes</th>\n",
       "      <th>deviceprotection_no_data</th>\n",
       "      <th>techsupport_yes</th>\n",
       "      <th>techsupport_no_data</th>\n",
       "      <th>streamingtv_yes</th>\n",
       "      <th>streamingtv_no_data</th>\n",
       "      <th>streamingmovies_yes</th>\n",
       "      <th>streamingmovies_no_data</th>\n",
       "      <th>multiplelines_yes</th>\n",
       "      <th>multiplelines_no_data</th>\n",
       "    </tr>\n",
       "  </thead>\n",
       "  <tbody>\n",
       "    <tr>\n",
       "      <th>0</th>\n",
       "      <td>29.85</td>\n",
       "      <td>29.85</td>\n",
       "      <td>0</td>\n",
       "      <td>31.0</td>\n",
       "      <td>0</td>\n",
       "      <td>0</td>\n",
       "      <td>0</td>\n",
       "      <td>0</td>\n",
       "      <td>1</td>\n",
       "      <td>0</td>\n",
       "      <td>...</td>\n",
       "      <td>0</td>\n",
       "      <td>0</td>\n",
       "      <td>0</td>\n",
       "      <td>0</td>\n",
       "      <td>0</td>\n",
       "      <td>0</td>\n",
       "      <td>0</td>\n",
       "      <td>0</td>\n",
       "      <td>0</td>\n",
       "      <td>1</td>\n",
       "    </tr>\n",
       "    <tr>\n",
       "      <th>1</th>\n",
       "      <td>56.95</td>\n",
       "      <td>1889.50</td>\n",
       "      <td>0</td>\n",
       "      <td>1036.0</td>\n",
       "      <td>0</td>\n",
       "      <td>1</td>\n",
       "      <td>0</td>\n",
       "      <td>1</td>\n",
       "      <td>0</td>\n",
       "      <td>0</td>\n",
       "      <td>...</td>\n",
       "      <td>1</td>\n",
       "      <td>0</td>\n",
       "      <td>0</td>\n",
       "      <td>0</td>\n",
       "      <td>0</td>\n",
       "      <td>0</td>\n",
       "      <td>0</td>\n",
       "      <td>0</td>\n",
       "      <td>0</td>\n",
       "      <td>0</td>\n",
       "    </tr>\n",
       "    <tr>\n",
       "      <th>2</th>\n",
       "      <td>53.85</td>\n",
       "      <td>108.15</td>\n",
       "      <td>0</td>\n",
       "      <td>61.0</td>\n",
       "      <td>1</td>\n",
       "      <td>0</td>\n",
       "      <td>0</td>\n",
       "      <td>1</td>\n",
       "      <td>0</td>\n",
       "      <td>0</td>\n",
       "      <td>...</td>\n",
       "      <td>0</td>\n",
       "      <td>0</td>\n",
       "      <td>0</td>\n",
       "      <td>0</td>\n",
       "      <td>0</td>\n",
       "      <td>0</td>\n",
       "      <td>0</td>\n",
       "      <td>0</td>\n",
       "      <td>0</td>\n",
       "      <td>0</td>\n",
       "    </tr>\n",
       "    <tr>\n",
       "      <th>3</th>\n",
       "      <td>42.30</td>\n",
       "      <td>1840.75</td>\n",
       "      <td>0</td>\n",
       "      <td>1371.0</td>\n",
       "      <td>0</td>\n",
       "      <td>1</td>\n",
       "      <td>0</td>\n",
       "      <td>1</td>\n",
       "      <td>0</td>\n",
       "      <td>0</td>\n",
       "      <td>...</td>\n",
       "      <td>1</td>\n",
       "      <td>0</td>\n",
       "      <td>1</td>\n",
       "      <td>0</td>\n",
       "      <td>0</td>\n",
       "      <td>0</td>\n",
       "      <td>0</td>\n",
       "      <td>0</td>\n",
       "      <td>0</td>\n",
       "      <td>1</td>\n",
       "    </tr>\n",
       "    <tr>\n",
       "      <th>4</th>\n",
       "      <td>70.70</td>\n",
       "      <td>151.65</td>\n",
       "      <td>0</td>\n",
       "      <td>61.0</td>\n",
       "      <td>1</td>\n",
       "      <td>0</td>\n",
       "      <td>0</td>\n",
       "      <td>0</td>\n",
       "      <td>0</td>\n",
       "      <td>0</td>\n",
       "      <td>...</td>\n",
       "      <td>0</td>\n",
       "      <td>0</td>\n",
       "      <td>0</td>\n",
       "      <td>0</td>\n",
       "      <td>0</td>\n",
       "      <td>0</td>\n",
       "      <td>0</td>\n",
       "      <td>0</td>\n",
       "      <td>0</td>\n",
       "      <td>0</td>\n",
       "    </tr>\n",
       "    <tr>\n",
       "      <th>...</th>\n",
       "      <td>...</td>\n",
       "      <td>...</td>\n",
       "      <td>...</td>\n",
       "      <td>...</td>\n",
       "      <td>...</td>\n",
       "      <td>...</td>\n",
       "      <td>...</td>\n",
       "      <td>...</td>\n",
       "      <td>...</td>\n",
       "      <td>...</td>\n",
       "      <td>...</td>\n",
       "      <td>...</td>\n",
       "      <td>...</td>\n",
       "      <td>...</td>\n",
       "      <td>...</td>\n",
       "      <td>...</td>\n",
       "      <td>...</td>\n",
       "      <td>...</td>\n",
       "      <td>...</td>\n",
       "      <td>...</td>\n",
       "      <td>...</td>\n",
       "    </tr>\n",
       "    <tr>\n",
       "      <th>7038</th>\n",
       "      <td>84.80</td>\n",
       "      <td>1990.50</td>\n",
       "      <td>0</td>\n",
       "      <td>730.0</td>\n",
       "      <td>0</td>\n",
       "      <td>1</td>\n",
       "      <td>0</td>\n",
       "      <td>1</td>\n",
       "      <td>1</td>\n",
       "      <td>1</td>\n",
       "      <td>...</td>\n",
       "      <td>1</td>\n",
       "      <td>0</td>\n",
       "      <td>1</td>\n",
       "      <td>0</td>\n",
       "      <td>1</td>\n",
       "      <td>0</td>\n",
       "      <td>1</td>\n",
       "      <td>0</td>\n",
       "      <td>1</td>\n",
       "      <td>0</td>\n",
       "    </tr>\n",
       "    <tr>\n",
       "      <th>7039</th>\n",
       "      <td>103.20</td>\n",
       "      <td>7362.90</td>\n",
       "      <td>0</td>\n",
       "      <td>2191.0</td>\n",
       "      <td>0</td>\n",
       "      <td>1</td>\n",
       "      <td>0</td>\n",
       "      <td>0</td>\n",
       "      <td>1</td>\n",
       "      <td>1</td>\n",
       "      <td>...</td>\n",
       "      <td>1</td>\n",
       "      <td>0</td>\n",
       "      <td>0</td>\n",
       "      <td>0</td>\n",
       "      <td>1</td>\n",
       "      <td>0</td>\n",
       "      <td>1</td>\n",
       "      <td>0</td>\n",
       "      <td>1</td>\n",
       "      <td>0</td>\n",
       "    </tr>\n",
       "    <tr>\n",
       "      <th>7040</th>\n",
       "      <td>29.60</td>\n",
       "      <td>346.45</td>\n",
       "      <td>0</td>\n",
       "      <td>337.0</td>\n",
       "      <td>0</td>\n",
       "      <td>0</td>\n",
       "      <td>0</td>\n",
       "      <td>0</td>\n",
       "      <td>1</td>\n",
       "      <td>1</td>\n",
       "      <td>...</td>\n",
       "      <td>0</td>\n",
       "      <td>0</td>\n",
       "      <td>0</td>\n",
       "      <td>0</td>\n",
       "      <td>0</td>\n",
       "      <td>0</td>\n",
       "      <td>0</td>\n",
       "      <td>0</td>\n",
       "      <td>0</td>\n",
       "      <td>1</td>\n",
       "    </tr>\n",
       "    <tr>\n",
       "      <th>7041</th>\n",
       "      <td>74.40</td>\n",
       "      <td>306.60</td>\n",
       "      <td>1</td>\n",
       "      <td>123.0</td>\n",
       "      <td>1</td>\n",
       "      <td>0</td>\n",
       "      <td>0</td>\n",
       "      <td>1</td>\n",
       "      <td>1</td>\n",
       "      <td>0</td>\n",
       "      <td>...</td>\n",
       "      <td>0</td>\n",
       "      <td>0</td>\n",
       "      <td>0</td>\n",
       "      <td>0</td>\n",
       "      <td>0</td>\n",
       "      <td>0</td>\n",
       "      <td>0</td>\n",
       "      <td>0</td>\n",
       "      <td>1</td>\n",
       "      <td>0</td>\n",
       "    </tr>\n",
       "    <tr>\n",
       "      <th>7042</th>\n",
       "      <td>105.65</td>\n",
       "      <td>6844.50</td>\n",
       "      <td>0</td>\n",
       "      <td>2010.0</td>\n",
       "      <td>0</td>\n",
       "      <td>0</td>\n",
       "      <td>1</td>\n",
       "      <td>1</td>\n",
       "      <td>0</td>\n",
       "      <td>0</td>\n",
       "      <td>...</td>\n",
       "      <td>1</td>\n",
       "      <td>0</td>\n",
       "      <td>1</td>\n",
       "      <td>0</td>\n",
       "      <td>1</td>\n",
       "      <td>0</td>\n",
       "      <td>1</td>\n",
       "      <td>0</td>\n",
       "      <td>0</td>\n",
       "      <td>0</td>\n",
       "    </tr>\n",
       "  </tbody>\n",
       "</table>\n",
       "<p>7043 rows × 26 columns</p>\n",
       "</div>"
      ],
      "text/plain": [
       "      monthlycharges  totalcharges  seniorcitizen  daysclient  enddate  \\\n",
       "0              29.85         29.85              0        31.0        0   \n",
       "1              56.95       1889.50              0      1036.0        0   \n",
       "2              53.85        108.15              0        61.0        1   \n",
       "3              42.30       1840.75              0      1371.0        0   \n",
       "4              70.70        151.65              0        61.0        1   \n",
       "...              ...           ...            ...         ...      ...   \n",
       "7038           84.80       1990.50              0       730.0        0   \n",
       "7039          103.20       7362.90              0      2191.0        0   \n",
       "7040           29.60        346.45              0       337.0        0   \n",
       "7041           74.40        306.60              1       123.0        1   \n",
       "7042          105.65       6844.50              0      2010.0        0   \n",
       "\n",
       "      type_one year  type_two year  gender_male  partner_yes  dependents_yes  \\\n",
       "0                 0              0            0            1               0   \n",
       "1                 1              0            1            0               0   \n",
       "2                 0              0            1            0               0   \n",
       "3                 1              0            1            0               0   \n",
       "4                 0              0            0            0               0   \n",
       "...             ...            ...          ...          ...             ...   \n",
       "7038              1              0            1            1               1   \n",
       "7039              1              0            0            1               1   \n",
       "7040              0              0            0            1               1   \n",
       "7041              0              0            1            1               0   \n",
       "7042              0              1            1            0               0   \n",
       "\n",
       "      ...  deviceprotection_yes  deviceprotection_no_data  techsupport_yes  \\\n",
       "0     ...                     0                         0                0   \n",
       "1     ...                     1                         0                0   \n",
       "2     ...                     0                         0                0   \n",
       "3     ...                     1                         0                1   \n",
       "4     ...                     0                         0                0   \n",
       "...   ...                   ...                       ...              ...   \n",
       "7038  ...                     1                         0                1   \n",
       "7039  ...                     1                         0                0   \n",
       "7040  ...                     0                         0                0   \n",
       "7041  ...                     0                         0                0   \n",
       "7042  ...                     1                         0                1   \n",
       "\n",
       "      techsupport_no_data  streamingtv_yes  streamingtv_no_data  \\\n",
       "0                       0                0                    0   \n",
       "1                       0                0                    0   \n",
       "2                       0                0                    0   \n",
       "3                       0                0                    0   \n",
       "4                       0                0                    0   \n",
       "...                   ...              ...                  ...   \n",
       "7038                    0                1                    0   \n",
       "7039                    0                1                    0   \n",
       "7040                    0                0                    0   \n",
       "7041                    0                0                    0   \n",
       "7042                    0                1                    0   \n",
       "\n",
       "      streamingmovies_yes  streamingmovies_no_data  multiplelines_yes  \\\n",
       "0                       0                        0                  0   \n",
       "1                       0                        0                  0   \n",
       "2                       0                        0                  0   \n",
       "3                       0                        0                  0   \n",
       "4                       0                        0                  0   \n",
       "...                   ...                      ...                ...   \n",
       "7038                    1                        0                  1   \n",
       "7039                    1                        0                  1   \n",
       "7040                    0                        0                  0   \n",
       "7041                    0                        0                  1   \n",
       "7042                    1                        0                  0   \n",
       "\n",
       "      multiplelines_no_data  \n",
       "0                         1  \n",
       "1                         0  \n",
       "2                         0  \n",
       "3                         1  \n",
       "4                         0  \n",
       "...                     ...  \n",
       "7038                      0  \n",
       "7039                      0  \n",
       "7040                      1  \n",
       "7041                      0  \n",
       "7042                      0  \n",
       "\n",
       "[7043 rows x 26 columns]"
      ]
     },
     "execution_count": 48,
     "metadata": {},
     "output_type": "execute_result"
    }
   ],
   "source": [
    "data_ohe"
   ]
  },
  {
   "cell_type": "markdown",
   "metadata": {},
   "source": [
    "### Segmentación del Dataset"
   ]
  },
  {
   "cell_type": "code",
   "execution_count": 49,
   "metadata": {},
   "outputs": [],
   "source": [
    "#generamos una funcion para dividir nuestro dataset dos veces usando la funcion train_test_split\n",
    "\n",
    "def split_train_val_test(df_input, stratify_colname='y', frac_train=0.6, frac_val=0.2, frac_test=0.2, \n",
    "                         random_state=12345):\n",
    "    \n",
    "\n",
    "    if frac_train + frac_val + frac_test != 1.0: #verifica que la suma de las particiones de 1\n",
    "        raise ValueError('Los elementos %f, %f, %f no suman 1.0' % \\\n",
    "                         (frac_train, frac_val, frac_test))\n",
    "\n",
    "    if stratify_colname not in df_input.columns:\n",
    "        raise ValueError('%s no es una columna en el dataframe' % (stratify_colname))\n",
    "\n",
    "    X = df_input # Posee todas las columnas\n",
    "    y = df_input[[stratify_colname]] # la columna en la cual basamos el analisis\n",
    "\n",
    "    # Divide el dataframe en porciones temporales\n",
    "    df_train, df_temp, y_train, y_temp = train_test_split(X, y, stratify=y, test_size=(1.0 - frac_train),\n",
    "                                                          random_state=random_state)\n",
    "\n",
    "    # Divide finalmente el dataframe utilizando las porciones temporales para obtener las 3 partes\n",
    "    relative_frac_test = frac_test / (frac_val + frac_test)\n",
    "    df_val, df_test, y_val, y_test = train_test_split(df_temp, y_temp, stratify=y_temp, \n",
    "                                                      test_size=relative_frac_test, random_state=random_state)\n",
    "\n",
    "    assert len(df_input) == len(df_train) + len(df_val) + len(df_test) #Verifica la integridad de los datos\n",
    "\n",
    "    return df_train, df_val, df_test"
   ]
  },
  {
   "cell_type": "code",
   "execution_count": 50,
   "metadata": {},
   "outputs": [],
   "source": [
    "df_train, df_val, df_test = split_train_val_test(data_ohe, stratify_colname='enddate', \n",
    "                                                 frac_train=0.60, frac_val=0.20, frac_test=0.20)"
   ]
  },
  {
   "cell_type": "code",
   "execution_count": 51,
   "metadata": {},
   "outputs": [
    {
     "name": "stdout",
     "output_type": "stream",
     "text": [
      "(4225, 26)\n",
      "(1409, 26)\n",
      "(1409, 26)\n"
     ]
    }
   ],
   "source": [
    "print(df_train.shape)\n",
    "print(df_val.shape)\n",
    "print(df_test.shape)"
   ]
  },
  {
   "cell_type": "code",
   "execution_count": 52,
   "metadata": {},
   "outputs": [],
   "source": [
    "features_train = df_train.drop(\"enddate\", axis = 1)\n",
    "target_train = df_train[\"enddate\"]\n",
    "features_valid = df_val.drop(\"enddate\", axis = 1)\n",
    "target_valid = df_val[\"enddate\"]\n",
    "features_test = df_test.drop(\"enddate\", axis = 1)\n",
    "target_test = df_test[\"enddate\"]"
   ]
  },
  {
   "cell_type": "code",
   "execution_count": 53,
   "metadata": {},
   "outputs": [
    {
     "data": {
      "text/plain": [
       "5007    0\n",
       "2576    0\n",
       "409     1\n",
       "793     0\n",
       "3756    1\n",
       "       ..\n",
       "1078    0\n",
       "4092    0\n",
       "2935    0\n",
       "1483    0\n",
       "2646    0\n",
       "Name: enddate, Length: 1409, dtype: uint8"
      ]
     },
     "execution_count": 53,
     "metadata": {},
     "output_type": "execute_result"
    }
   ],
   "source": [
    "target_test"
   ]
  },
  {
   "cell_type": "markdown",
   "metadata": {},
   "source": [
    "### Normalización de Datos\n",
    "\n",
    "Probaremos con la estandarizacion y posteriormente con la normalizacion de datos para revisar como se comportan los modelos."
   ]
  },
  {
   "cell_type": "code",
   "execution_count": 54,
   "metadata": {
    "scrolled": false
   },
   "outputs": [],
   "source": [
    "#scaler = StandardScaler()\n",
    "#scaler.fit(features_train)\n",
    "#features_train = scaler.transform(features_train)\n",
    "#features_valid = scaler.transform(features_valid)\n",
    "#features_test = scaler.transform(features_test)"
   ]
  },
  {
   "cell_type": "code",
   "execution_count": 55,
   "metadata": {},
   "outputs": [],
   "source": [
    "scaler = MinMaxScaler()\n",
    "scaler.fit_transform(features_train)\n",
    "features_train = scaler.transform(features_train)\n",
    "features_valid = scaler.transform(features_valid)\n",
    "features_test = scaler.transform(features_test)"
   ]
  },
  {
   "cell_type": "markdown",
   "metadata": {},
   "source": [
    "Nos decantamos por la normalización, aunque los resultados de ambas no variaban en los modelos."
   ]
  },
  {
   "cell_type": "code",
   "execution_count": 56,
   "metadata": {},
   "outputs": [
    {
     "data": {
      "text/plain": [
       "array([[0.01795511, 0.11824162, 0.        , ..., 1.        , 0.        ,\n",
       "        0.        ],\n",
       "       [0.60199501, 0.14063764, 1.        , ..., 0.        , 0.        ,\n",
       "        0.        ],\n",
       "       [0.72618454, 0.37858659, 0.        , ..., 0.        , 0.        ,\n",
       "        0.        ],\n",
       "       ...,\n",
       "       [0.86783042, 0.65951596, 0.        , ..., 0.        , 0.        ,\n",
       "        0.        ],\n",
       "       [0.66483791, 0.39126203, 0.        , ..., 0.        , 0.        ,\n",
       "        0.        ],\n",
       "       [0.47730673, 0.17763798, 0.        , ..., 0.        , 0.        ,\n",
       "        0.        ]])"
      ]
     },
     "execution_count": 56,
     "metadata": {},
     "output_type": "execute_result"
    }
   ],
   "source": [
    "features_train"
   ]
  },
  {
   "cell_type": "markdown",
   "metadata": {},
   "source": [
    "## Algoritmos y Modelos de ML"
   ]
  },
  {
   "cell_type": "markdown",
   "metadata": {},
   "source": [
    "Para iniciar nuestros modelos, primeros efectuaremos las funciones de upsample y downsample en caso de requerirlo."
   ]
  },
  {
   "cell_type": "markdown",
   "metadata": {},
   "source": [
    "### Función Upsample"
   ]
  },
  {
   "cell_type": "code",
   "execution_count": 57,
   "metadata": {},
   "outputs": [],
   "source": [
    "def upsample(features, target, repeat):\n",
    "    # Convertir a DataFrame y Series asegurando alineación de índices\n",
    "    if not isinstance(features, pd.DataFrame):\n",
    "        features = pd.DataFrame(features)\n",
    "    if not isinstance(target, pd.Series):\n",
    "        target = pd.Series(target, index=features.index)  # Asegurar mismos índices\n",
    "\n",
    "    # Asegurar que los índices coincidan\n",
    "    target = target.reset_index(drop=True)\n",
    "    features = features.reset_index(drop=True)\n",
    "\n",
    "    # Separar las clases\n",
    "    features_zeros = features[target == 0]\n",
    "    features_ones = features[target == 1]\n",
    "    target_zeros = target[target == 0]\n",
    "    target_ones = target[target == 1]\n",
    "\n",
    "    # Concatenar para sobresamplear la clase minoritaria\n",
    "    features_upsampled = pd.concat([features_zeros] + [features_ones] * repeat, ignore_index=True)\n",
    "    target_upsampled = pd.concat([target_zeros] + [target_ones] * repeat, ignore_index=True)\n",
    "\n",
    "    # Mezclar las muestras para no introducir sesgos de orden\n",
    "    features_upsampled, target_upsampled = shuffle(features_upsampled, target_upsampled, random_state=1702)\n",
    "\n",
    "    return features_upsampled, target_upsampled"
   ]
  },
  {
   "cell_type": "code",
   "execution_count": 58,
   "metadata": {},
   "outputs": [],
   "source": [
    "features_upsampled, target_upsampled = upsample(features_train, target_train, 3)"
   ]
  },
  {
   "cell_type": "markdown",
   "metadata": {},
   "source": [
    "### Función Downsample"
   ]
  },
  {
   "cell_type": "code",
   "execution_count": 59,
   "metadata": {},
   "outputs": [],
   "source": [
    "def downsample(features, target, fraction):\n",
    "    # Convertir a DataFrame o Series si no lo son\n",
    "    if not isinstance(features, pd.DataFrame):\n",
    "        features = pd.DataFrame(features)\n",
    "    if not isinstance(target, pd.Series):\n",
    "        target = pd.Series(target)\n",
    "    \n",
    "    # Alinear índices entre features y target\n",
    "    target.index = features.index\n",
    "\n",
    "    # Separar las clases\n",
    "    features_zeros = features[target == 0]\n",
    "    features_ones = features[target == 1]\n",
    "    target_zeros = target[target == 0]\n",
    "    target_ones = target[target == 1]\n",
    "\n",
    "    # Muestreo de la clase mayoritaria\n",
    "    features_downsampled = pd.concat([\n",
    "        features_zeros.sample(frac=fraction, random_state=1702),\n",
    "        features_ones\n",
    "    ])\n",
    "    target_downsampled = pd.concat([\n",
    "        target_zeros.sample(frac=fraction, random_state=1702),\n",
    "        target_ones\n",
    "    ])\n",
    "\n",
    "    # Mezclar los datos\n",
    "    features_downsampled, target_downsampled = shuffle(\n",
    "        features_downsampled, target_downsampled, random_state=1702\n",
    "    )\n",
    "    \n",
    "    return features_downsampled, target_downsampled\n",
    "\n",
    "\n"
   ]
  },
  {
   "cell_type": "code",
   "execution_count": 60,
   "metadata": {},
   "outputs": [],
   "source": [
    "features_downsampled, target_downsampled = downsample(features_train, target_train, 0.65)"
   ]
  },
  {
   "cell_type": "markdown",
   "metadata": {},
   "source": [
    "### Modelo Regresión Logística\n",
    "\n",
    "Comenzaremos con el modelo que no requiere muchos hiperparámetros para evaluarlo."
   ]
  },
  {
   "cell_type": "markdown",
   "metadata": {},
   "source": [
    "#### Evaluación con datos de Entrenamiento por defecto"
   ]
  },
  {
   "cell_type": "code",
   "execution_count": 119,
   "metadata": {},
   "outputs": [
    {
     "name": "stdout",
     "output_type": "stream",
     "text": [
      "Valor F1 Datos Entrenamiento:  0.593\n",
      "Valor F1 Datos Validacion:  0.602\n",
      "Valor ROC-AUC Datos Validacion:  0.83\n"
     ]
    }
   ],
   "source": [
    "model6 = LogisticRegression(random_state=1702, solver= 'liblinear')\n",
    "model6.fit(features_train, target_train) # entrena el modelo en el conjunto de entrenamiento\n",
    "predicted_valid6 = model6.predict(features_valid)\n",
    "predicted_train6 = model6.predict(features_train)\n",
    "\n",
    "probabilities6 = model6.predict_proba(features_valid)\n",
    "\n",
    "print(\"Valor F1 Datos Entrenamiento: \", f1_score(target_train, predicted_train6).round(3))\n",
    "print(\"Valor F1 Datos Validacion: \", f1_score(target_valid, predicted_valid6).round(3))\n",
    "\n",
    "probabil_valid6 = probabilities6[:, 1]\n",
    "auc_roc6 = roc_auc_score(target_valid, probabil_valid6)\n",
    "\n",
    "print(\"Valor ROC-AUC Datos Validacion: \", auc_roc6.round(2))"
   ]
  },
  {
   "cell_type": "markdown",
   "metadata": {},
   "source": [
    "#### Upsample\n",
    "\n",
    "Utilizando nuestra función de upsample con los datos para este algoritmo, tenemos:"
   ]
  },
  {
   "cell_type": "code",
   "execution_count": 120,
   "metadata": {},
   "outputs": [
    {
     "name": "stdout",
     "output_type": "stream",
     "text": [
      "Valor F1 Datos Entrenamiento:  0.785\n",
      "Valor F1 Datos Validacion:  0.607\n",
      "Valor ROC-AUC Datos Validacion:  0.83\n"
     ]
    }
   ],
   "source": [
    "model6 = LogisticRegression(random_state=1702, solver= 'liblinear')\n",
    "model6.fit(features_upsampled, target_upsampled) # entrena el modelo en el conjunto de entrenamiento\n",
    "predicted_valid6 = model6.predict(features_valid)\n",
    "predicted_train6 = model6.predict(features_upsampled)\n",
    "\n",
    "probabilities6 = model6.predict_proba(features_valid)\n",
    "\n",
    "print(\"Valor F1 Datos Entrenamiento: \", f1_score(target_upsampled, predicted_train6).round(3))\n",
    "print(\"Valor F1 Datos Validacion: \", f1_score(target_valid, predicted_valid6).round(3))\n",
    "\n",
    "probabil_valid6 = probabilities6[:, 1]\n",
    "auc_roc6 = roc_auc_score(target_valid, probabil_valid6)\n",
    "\n",
    "print(\"Valor ROC-AUC Datos Validacion: \", auc_roc6.round(2))"
   ]
  },
  {
   "cell_type": "markdown",
   "metadata": {},
   "source": [
    "Se observa una mejora considerable en los valores de F1 de los datos de Entrenamiento al menos, los otros dos ppermanecen practicamente igual."
   ]
  },
  {
   "cell_type": "markdown",
   "metadata": {},
   "source": [
    "#### Downsample"
   ]
  },
  {
   "cell_type": "code",
   "execution_count": 121,
   "metadata": {},
   "outputs": [
    {
     "name": "stdout",
     "output_type": "stream",
     "text": [
      "Valor F1 Datos Entrenamiento:  0.687\n",
      "Valor F1 Datos Validacion:  0.61\n",
      "Valor ROC-AUC Datos Validacion:  0.83\n"
     ]
    }
   ],
   "source": [
    "model6 = LogisticRegression(random_state=1702, solver= 'liblinear')\n",
    "model6.fit(features_downsampled, target_downsampled) # entrena el modelo en el conjunto de entrenamiento\n",
    "predicted_valid6 = model6.predict(features_valid)\n",
    "predicted_train6 = model6.predict(features_downsampled)\n",
    "\n",
    "probabilities6 = model6.predict_proba(features_valid)\n",
    "\n",
    "print(\"Valor F1 Datos Entrenamiento: \", f1_score(target_downsampled, predicted_train6).round(3))\n",
    "print(\"Valor F1 Datos Validacion: \", f1_score(target_valid, predicted_valid6).round(3))\n",
    "\n",
    "probabil_valid6 = probabilities6[:, 1]\n",
    "auc_roc6 = roc_auc_score(target_valid, probabil_valid6)\n",
    "\n",
    "print(\"Valor ROC-AUC Datos Validacion: \", auc_roc6.round(2))"
   ]
  },
  {
   "cell_type": "markdown",
   "metadata": {},
   "source": [
    "Aca empeora el F1 de los datos de entrenamiento, y minimamente mejora el F1 de datos de validación. El ROC-AUC como se aprecia no sufre variación alguna."
   ]
  },
  {
   "cell_type": "markdown",
   "metadata": {},
   "source": [
    "### Modelo Árbol de Decisión\n",
    "\n",
    "Inicialmente, utilizaremos un GridSearch Cross Validation para buscar los mejores parámetros con tal de utilizarlos en el modelo."
   ]
  },
  {
   "cell_type": "code",
   "execution_count": 101,
   "metadata": {
    "scrolled": false
   },
   "outputs": [
    {
     "name": "stdout",
     "output_type": "stream",
     "text": [
      "Fitting 5 folds for each of 48 candidates, totalling 240 fits\n",
      "Mejores hiperparámetros: {'criterion': 'entropy', 'max_depth': 10, 'min_samples_leaf': 1, 'min_samples_split': 10, 'splitter': 'best'}\n",
      "Precisión en prueba: 0.8126330731014905\n",
      "CPU times: user 1.78 s, sys: 3.96 ms, total: 1.78 s\n",
      "Wall time: 1.79 s\n"
     ]
    }
   ],
   "source": [
    "%%time\n",
    "dt = DecisionTreeClassifier(random_state=1702)\n",
    "\n",
    "# Definir los hiperparámetros a probar\n",
    "param_grid = {\n",
    "    'criterion': ['gini', 'entropy'],  # Función para medir la calidad de la división\n",
    "    'splitter': ['best', 'random'],   # Estrategia de división\n",
    "    'max_depth': [None, 3, 10],    # Profundidad máxima del árbol\n",
    "    'min_samples_split': [2, 10],  # Mínimo número de muestras para dividir un nodo\n",
    "    'min_samples_leaf': [1, 4]     # Mínimo número de muestras en una hoja\n",
    "}\n",
    "\n",
    "# Configurar GridSearchCV\n",
    "grid_search = GridSearchCV(estimator=dt, param_grid=param_grid, \n",
    "                           scoring='accuracy', cv=5, verbose=1, n_jobs=-1)\n",
    "\n",
    "# Entrenar el modelo con búsqueda de hiperparámetros\n",
    "grid_search.fit(features_train, target_train)\n",
    "\n",
    "# Obtener los mejores parámetros\n",
    "print(\"Mejores hiperparámetros:\", grid_search.best_params_)\n",
    "\n",
    "# Evaluar el modelo con los mejores parámetros\n",
    "best_model = grid_search.best_estimator_\n",
    "y_pred = best_model.predict(features_valid)\n",
    "\n",
    "print(\"Precisión en prueba:\", accuracy_score(target_valid, y_pred))\n",
    "\n"
   ]
  },
  {
   "cell_type": "markdown",
   "metadata": {},
   "source": [
    "#### Evaluación con datos de Entrenamiento por defecto"
   ]
  },
  {
   "cell_type": "code",
   "execution_count": 102,
   "metadata": {},
   "outputs": [
    {
     "name": "stdout",
     "output_type": "stream",
     "text": [
      "Valor F1 del Datos Entrenamiento:  0.688\n",
      "Valor F1 del Datos Validacion:  0.616\n",
      "Valor ROC-AUC Datos Validacion:  0.82\n"
     ]
    }
   ],
   "source": [
    "model = DecisionTreeClassifier(random_state=1702, max_depth = 10, min_samples_leaf = 1, min_samples_split =10,\n",
    "                                criterion = \"entropy\", splitter = \"best\")\n",
    "model.fit(features_train, target_train)\n",
    "\n",
    "prediction = model.predict(features_valid)\n",
    "prediction_train = model.predict(features_train)\n",
    "probabilities = model.predict_proba(features_valid)\n",
    "\n",
    "print(\"Valor F1 Datos Entrenamiento: \", f1_score(target_train, prediction_train).round(3))\n",
    "print(\"Valor F1 Datos Validacion: \", f1_score(target_valid, prediction).round(3))\n",
    "\n",
    "probabilities_valid = probabilities[:, 1]\n",
    "auc_roc = roc_auc_score(target_valid, probabilities_valid)\n",
    "\n",
    "print(\"Valor ROC-AUC Datos Validacion: \", auc_roc.round(2))"
   ]
  },
  {
   "cell_type": "markdown",
   "metadata": {},
   "source": [
    "Esto nos da un valor aceptable de ROC-AUC en los datos de validación."
   ]
  },
  {
   "cell_type": "markdown",
   "metadata": {},
   "source": [
    "#### Upsample\n",
    "\n",
    "Con la función Upsample definida anteriormente, evaluamos el modelo utilizando estos nuevos datos de entrenamiento."
   ]
  },
  {
   "cell_type": "code",
   "execution_count": 110,
   "metadata": {},
   "outputs": [
    {
     "name": "stdout",
     "output_type": "stream",
     "text": [
      "Valor F1 del Datos Entrenamiento:  0.855\n",
      "Valor F1 del Datos Validacion:  0.598\n",
      "Valor ROC-AUC Datos Validacion:  0.82\n"
     ]
    }
   ],
   "source": [
    "model = DecisionTreeClassifier(random_state=1702, max_depth = 10, min_samples_leaf = 1, min_samples_split = 10,\n",
    "                            criterion = \"entropy\", splitter = \"best\")\n",
    "model.fit(features_upsampled, target_upsampled)\n",
    "\n",
    "prediction = model.predict(features_valid)\n",
    "prediction_train = model.predict(features_upsampled)\n",
    "probabilities = model.predict_proba(features_valid)\n",
    "\n",
    "print(\"Valor F1 Datos Entrenamiento: \", f1_score(target_upsampled, prediction_train).round(3))\n",
    "print(\"Valor F1 Datos Validacion: \", f1_score(target_valid, prediction).round(3))\n",
    "\n",
    "probabilities_valid = probabilities[:, 1]\n",
    "auc_roc = roc_auc_score(target_valid, probabilities_valid)\n",
    "\n",
    "print(\"Valor ROC-AUC Datos Validacion: \", auc_roc.round(2))"
   ]
  },
  {
   "cell_type": "markdown",
   "metadata": {},
   "source": [
    "El mismo presenta mejoras en el F1 de entrenamiento, pero no significativas en el ROC-AUC de los datos de Validación."
   ]
  },
  {
   "cell_type": "markdown",
   "metadata": {},
   "source": [
    "#### Downsample"
   ]
  },
  {
   "cell_type": "code",
   "execution_count": 109,
   "metadata": {},
   "outputs": [
    {
     "name": "stdout",
     "output_type": "stream",
     "text": [
      "Valor F1 del Datos Entrenamiento:  0.768804799261652\n",
      "Valor F1 del Datos Validacion:  0.6195786864931846\n",
      "Valor ROC-AUC Datos Validacion:  0.8\n"
     ]
    }
   ],
   "source": [
    "model = DecisionTreeClassifier(random_state=1702, max_depth = 10, min_samples_leaf = 1, min_samples_split = 10,\n",
    "                            criterion = \"entropy\", splitter = \"best\")\n",
    "model.fit(features_downsampled, target_downsampled)\n",
    "\n",
    "prediction = model.predict(features_valid)\n",
    "prediction_train = model.predict(features_downsampled)\n",
    "probabilities = model.predict_proba(features_valid)\n",
    "\n",
    "print(\"Valor F1 Datos Entrenamiento: \", f1_score(target_downsampled, prediction_train))\n",
    "print(\"Valor F1 Datos Validacion: \", f1_score(target_valid, prediction))\n",
    "\n",
    "probabilities_valid = probabilities[:, 1]\n",
    "auc_roc = roc_auc_score(target_valid, probabilities_valid)\n",
    "\n",
    "print(\"Valor ROC-AUC Datos Validacion: \", auc_roc.round(2))"
   ]
  },
  {
   "cell_type": "markdown",
   "metadata": {},
   "source": [
    "Para el downsample del modelo, tapoco hubo mejoras significativas. El F1 en sus datos de validación da casi igual al de los datos sin modificar. Tambien el ROC-AUC disminuye."
   ]
  },
  {
   "cell_type": "markdown",
   "metadata": {},
   "source": [
    "### Modelo Bosque Aleatorio\n",
    "\n",
    "Para el bosque aleatorio buscaremos los mejores hiperparámetros utilizando nuevamente GridSearchCV"
   ]
  },
  {
   "cell_type": "code",
   "execution_count": 65,
   "metadata": {
    "scrolled": false
   },
   "outputs": [
    {
     "name": "stdout",
     "output_type": "stream",
     "text": [
      "Fitting 5 folds for each of 72 candidates, totalling 360 fits\n",
      "Mejores hiperparámetros: {'bootstrap': True, 'max_depth': None, 'min_samples_leaf': 4, 'min_samples_split': 10, 'n_estimators': 100}\n",
      "Mejor puntuación (accuracy): 0.8208284023668639\n",
      "Precisión en prueba: 0.8147622427253371\n",
      "CPU times: user 1min 59s, sys: 260 ms, total: 1min 59s\n",
      "Wall time: 1min 59s\n"
     ]
    }
   ],
   "source": [
    "%%time\n",
    "rf = RandomForestClassifier(random_state=1702)\n",
    "\n",
    "# Definir los hiperparámetros a evaluar\n",
    "param_grid2 = {\n",
    "    'n_estimators': [50, 100, 200],         # Número de árboles en el bosque\n",
    "    'max_depth': [None, 10, 30],        # Profundidad máxima de los árboles\n",
    "    'min_samples_split': [2, 10],        # Mínimo número de muestras para dividir un nodo\n",
    "    'min_samples_leaf': [1, 4],          # Mínimo número de muestras en una hoja\n",
    "    'bootstrap': [True, False]              # Si se utiliza bootstrapping al construir árboles\n",
    "}\n",
    "\n",
    "# Configurar GridSearchCV\n",
    "grid_search2 = GridSearchCV(\n",
    "    estimator=rf,\n",
    "    param_grid=param_grid2,\n",
    "    scoring='accuracy',  # Métrica de evaluación\n",
    "    cv=5,                # Número de pliegues para validación cruzada\n",
    "    verbose=1,           # Mostrar progreso en consola\n",
    "    n_jobs=-1            # Usar todos los núcleos disponibles\n",
    ")\n",
    "\n",
    "# Entrenar con búsqueda de hiperparámetros\n",
    "grid_search2.fit(features_train, target_train)\n",
    "\n",
    "# Mostrar los mejores parámetros y el mejor puntaje\n",
    "print(\"Mejores hiperparámetros:\", grid_search2.best_params_)\n",
    "print(\"Mejor puntuación (accuracy):\", grid_search2.best_score_)\n",
    "\n",
    "# Evaluar el modelo con los mejores parámetros\n",
    "best_rf = grid_search2.best_estimator_\n",
    "y_pred2 = best_rf.predict(features_valid)\n",
    "\n",
    "# Mostrar métricas de evaluación\n",
    "print(\"Precisión en prueba:\", accuracy_score(target_valid, y_pred2))"
   ]
  },
  {
   "cell_type": "markdown",
   "metadata": {},
   "source": [
    "#### Evaluación con datos de Entrenamiento por defecto"
   ]
  },
  {
   "cell_type": "code",
   "execution_count": 108,
   "metadata": {},
   "outputs": [
    {
     "name": "stdout",
     "output_type": "stream",
     "text": [
      "Valor F1 del Datos Entrenamiento:  0.784\n",
      "Valor F1 del Datos Validacion:  0.63\n",
      "Valor ROC-AUC Datos Validacion:  0.85\n"
     ]
    }
   ],
   "source": [
    "model2 = RandomForestClassifier(random_state= 1702, bootstrap = True, max_depth = None, min_samples_leaf = 4, \n",
    "                               min_samples_split = 10, n_estimators = 100, class_weight = 'balanced')\n",
    "model2.fit(features_train, target_train)\n",
    "\n",
    "predict2 = model2.predict(features_valid)\n",
    "prediction_train2 = model2.predict(features_train)\n",
    "probabilities2 = model2.predict_proba(features_valid)\n",
    "\n",
    "print(\"Valor F1 Datos Entrenamiento: \", f1_score(target_train, prediction_train2).round(3))\n",
    "print(\"Valor F1 Datos Validacion: \", f1_score(target_valid, predict2).round(3))\n",
    "\n",
    "proba_valid = probabilities2[:, 1]\n",
    "auc_roc = roc_auc_score(target_valid, proba_valid)\n",
    "\n",
    "print(\"Valor ROC-AUC Datos Validacion: \", auc_roc.round(2))"
   ]
  },
  {
   "cell_type": "markdown",
   "metadata": {},
   "source": [
    "Acá vemos un valor interesante de ROC-AUC para los datos de validación. Adicionalmente se le agregó el hiperparámetro de class_weight en 'balanced'."
   ]
  },
  {
   "cell_type": "markdown",
   "metadata": {},
   "source": [
    "#### Upsample\n",
    "\n",
    "Efectuando el upsample para este modelo:"
   ]
  },
  {
   "cell_type": "code",
   "execution_count": 107,
   "metadata": {},
   "outputs": [
    {
     "name": "stdout",
     "output_type": "stream",
     "text": [
      "Valor F1 del Datos Entrenamiento:  0.917\n",
      "Valor F1 del Datos Validacion:  0.63\n",
      "Valor ROC-AUC Datos Validacion:  0.85\n"
     ]
    }
   ],
   "source": [
    "model2 = RandomForestClassifier(random_state= 1702, bootstrap = True, max_depth = None, min_samples_leaf = 4, \n",
    "                               min_samples_split = 10, n_estimators = 100)\n",
    "model2.fit(features_upsampled, target_upsampled)\n",
    "\n",
    "predict2 = model2.predict(features_valid)\n",
    "prediction_train2 = model2.predict(features_upsampled)\n",
    "probabilities2 = model2.predict_proba(features_valid)\n",
    "\n",
    "print(\"Valor F1 del Datos Entrenamiento: \", f1_score(target_upsampled, prediction_train2).round(3))\n",
    "print(\"Valor F1 del Datos Validacion: \", f1_score(target_valid, predict2).round(3))\n",
    "\n",
    "proba_valid = probabilities2[:, 1]\n",
    "auc_roc = roc_auc_score(target_valid, proba_valid)\n",
    "\n",
    "print(\"Valor ROC-AUC Datos Validacion: \", auc_roc.round(2))"
   ]
  },
  {
   "cell_type": "markdown",
   "metadata": {},
   "source": [
    "Utilizando esta técnica, se ve que mejora considerablemente el valor de F1 en los datos de Entrenamiento, pero el resto de valores se mantiene igual."
   ]
  },
  {
   "cell_type": "markdown",
   "metadata": {},
   "source": [
    "#### Downsample"
   ]
  },
  {
   "cell_type": "code",
   "execution_count": 106,
   "metadata": {},
   "outputs": [
    {
     "name": "stdout",
     "output_type": "stream",
     "text": [
      "Valor F1 del Datos Entrenamiento:  0.816\n",
      "Valor F1 del Datos Validacion:  0.638\n",
      "Valor ROC-AUC Datos Validacion:  0.84\n"
     ]
    }
   ],
   "source": [
    "model2 = RandomForestClassifier(random_state= 1702, bootstrap = True, max_depth = None, min_samples_leaf = 4, \n",
    "                               min_samples_split = 10, n_estimators = 100)\n",
    "model2.fit(features_downsampled, target_downsampled)\n",
    "\n",
    "predict2 = model2.predict(features_valid)\n",
    "prediction_train2 = model2.predict(features_downsampled)\n",
    "probabilities2 = model2.predict_proba(features_valid)\n",
    "\n",
    "print(\"Valor F1 Datos Entrenamiento: \", f1_score(target_downsampled, prediction_train2).round(3))\n",
    "print(\"Valor F1 Datos Validacion: \", f1_score(target_valid, predict2).round(3))\n",
    "\n",
    "proba_valid = probabilities2[:, 1]\n",
    "auc_roc = roc_auc_score(target_valid, proba_valid)\n",
    "\n",
    "print(\"Valor ROC-AUC Datos Validacion: \", auc_roc.round(2))"
   ]
  },
  {
   "cell_type": "markdown",
   "metadata": {},
   "source": [
    "Acá no hubo mejora significativa en los 3 parámetros, de hecho son mejores los del Upsample."
   ]
  },
  {
   "cell_type": "markdown",
   "metadata": {},
   "source": [
    "### LightBGM\n",
    "\n",
    "Comenzamos con este algoritmo, buscando de igual forma sus mejores hiperparámetros para evaluar el modelo."
   ]
  },
  {
   "cell_type": "code",
   "execution_count": 69,
   "metadata": {
    "scrolled": false
   },
   "outputs": [
    {
     "name": "stdout",
     "output_type": "stream",
     "text": [
      "Fitting 3 folds for each of 96 candidates, totalling 288 fits\n",
      "Mejores parámetros: {'colsample_bytree': 1.0, 'learning_rate': 0.1, 'max_depth': -1, 'n_estimators': 100, 'num_leaves': 31, 'subsample': 0.7}\n"
     ]
    }
   ],
   "source": [
    "lgbm = lgb.LGBMClassifier()\n",
    "\n",
    "# Definir el espacio de hiperparámetros\n",
    "param_grid3 = {\n",
    "    'num_leaves': [31, 100],\n",
    "    'max_depth': [-1, 1, 20],\n",
    "    'learning_rate': [0.01, 0.1],\n",
    "    'n_estimators': [100, 200],\n",
    "    'subsample': [0.7, 1.0],\n",
    "    'colsample_bytree': [ 0.8, 1.0],\n",
    "}\n",
    "\n",
    "# Realizar la búsqueda en grid\n",
    "grid_search3 = GridSearchCV(lgbm, param_grid3, cv=3, verbose=1)\n",
    "grid_search3.fit(features_train, target_train)\n",
    "\n",
    "# Ver los mejores hiperparámetros encontrados\n",
    "print(\"Mejores parámetros:\", grid_search3.best_params_)"
   ]
  },
  {
   "cell_type": "markdown",
   "metadata": {},
   "source": [
    "#### Evaluación con datos de Entrenamiento por defecto"
   ]
  },
  {
   "cell_type": "code",
   "execution_count": 105,
   "metadata": {},
   "outputs": [
    {
     "name": "stdout",
     "output_type": "stream",
     "text": [
      "Valor F1 del Datos Entrenamiento:  0.861\n",
      "Valor F1 del Datos Validacion:  0.693\n",
      "Valor ROC-AUC Datos Validacion:  0.88\n"
     ]
    }
   ],
   "source": [
    "model3 = lgb.LGBMClassifier(random_state= 1702,num_leaves=31, learning_rate=0.1, n_estimators=100, \n",
    "                        colsample_bytree = 0.8, max_depth = -1, subsample = 0.7)\n",
    "\n",
    "# Train the model using the training data.\n",
    "model3.fit(features_train, target_train)\n",
    "\n",
    "# Make predictions on the training and validation data.\n",
    "predictions_lgb_train = model3.predict(features_train)\n",
    "predictions_lgb = model3.predict(features_valid)\n",
    "\n",
    "probabilities3 = model3.predict_proba(features_valid)\n",
    "\n",
    "print(\"Valor F1 Datos Entrenamiento: \", f1_score(target_train, predictions_lgb_train).round(3))\n",
    "print(\"Valor F1 Datos Validacion: \", f1_score(target_valid, predictions_lgb).round(3))\n",
    "\n",
    "probabil_valid = probabilities3[:, 1]\n",
    "auc_roc = roc_auc_score(target_valid, probabil_valid)\n",
    "\n",
    "print(\"Valor ROC-AUC Datos Validacion: \", auc_roc.round(2))"
   ]
  },
  {
   "cell_type": "markdown",
   "metadata": {},
   "source": [
    "Hasta ahora el valor de ROC-AUC más alto que se ha tenido ha sido con estos hiperparámetros y algoritmo."
   ]
  },
  {
   "cell_type": "markdown",
   "metadata": {},
   "source": [
    "#### Upsample"
   ]
  },
  {
   "cell_type": "code",
   "execution_count": 113,
   "metadata": {
    "scrolled": false
   },
   "outputs": [
    {
     "name": "stdout",
     "output_type": "stream",
     "text": [
      "Valor F1 Datos Entrenamiento:  0.934\n",
      "Valor F1 Datos Validacion:  0.687\n",
      "Valor ROC-AUC Datos Validacion:  0.89\n"
     ]
    }
   ],
   "source": [
    "model3 = lgb.LGBMClassifier(random_state= 1702,num_leaves=31, learning_rate=0.1, n_estimators=100, \n",
    "                        colsample_bytree = 0.8, max_depth = -1, subsample = 0.7)\n",
    "\n",
    "# Train the model using the training data.\n",
    "model3.fit(features_upsampled, target_upsampled)\n",
    "\n",
    "# Make predictions on the training and validation data.\n",
    "predictions_lgb_train = model3.predict(features_upsampled)\n",
    "predictions_lgb = model3.predict(features_valid)\n",
    "\n",
    "probabilities3 = model3.predict_proba(features_valid)\n",
    "\n",
    "print(\"Valor F1 Datos Entrenamiento: \", f1_score(target_upsampled, predictions_lgb_train).round(3))\n",
    "print(\"Valor F1 Datos Validacion: \", f1_score(target_valid, predictions_lgb).round(3))\n",
    "\n",
    "probabil_valid = probabilities3[:, 1]\n",
    "auc_roc = roc_auc_score(target_valid, probabil_valid)\n",
    "\n",
    "print(\"Valor ROC-AUC Datos Validacion: \", auc_roc.round(2))"
   ]
  },
  {
   "cell_type": "markdown",
   "metadata": {},
   "source": [
    "Con el upsampling se obtuvo aun mejores valores para el ROC-AUC, pero el F1 de validación disminuye. Es un candidato hasta el momento."
   ]
  },
  {
   "cell_type": "markdown",
   "metadata": {},
   "source": [
    "#### Downsample"
   ]
  },
  {
   "cell_type": "code",
   "execution_count": 114,
   "metadata": {},
   "outputs": [
    {
     "name": "stdout",
     "output_type": "stream",
     "text": [
      "Valor F1 Datos Entrenamiento:  0.897\n",
      "Valor F1 Datos Validacion:  0.658\n",
      "Valor ROC-AUC Datos Validacion:  0.87\n"
     ]
    }
   ],
   "source": [
    "model3 = lgb.LGBMClassifier(random_state= 1702,num_leaves=31, learning_rate=0.1, n_estimators=100, \n",
    "                        colsample_bytree = 0.8, max_depth = -1, subsample = 0.7)\n",
    "\n",
    "# Train the model using the training data.\n",
    "model3.fit(features_downsampled, target_downsampled)\n",
    "\n",
    "# Make predictions on the training and validation data.\n",
    "predictions_lgb_train = model3.predict(features_downsampled)\n",
    "predictions_lgb = model3.predict(features_valid)\n",
    "\n",
    "probabilities3 = model3.predict_proba(features_valid)\n",
    "\n",
    "print(\"Valor F1 Datos Entrenamiento: \", f1_score(target_downsampled, predictions_lgb_train).round(3))\n",
    "print(\"Valor F1 Datos Validacion: \", f1_score(target_valid, predictions_lgb).round(3))\n",
    "\n",
    "probabil_valid = probabilities3[:, 1]\n",
    "auc_roc = roc_auc_score(target_valid, probabil_valid)\n",
    "\n",
    "print(\"Valor ROC-AUC Datos Validacion: \", auc_roc.round(2))"
   ]
  },
  {
   "cell_type": "markdown",
   "metadata": {},
   "source": [
    "Para este caso tambien mejora el ROC-AUC con respecto a los datos predeterminados, pero el valor de F1 en los datos de validación es un poco más bajo."
   ]
  },
  {
   "cell_type": "markdown",
   "metadata": {},
   "source": [
    "### CatBoost\n",
    "\n",
    "Comenzamos CatBoost seleccionando nuestros mejores hiperparámetros:"
   ]
  },
  {
   "cell_type": "code",
   "execution_count": 73,
   "metadata": {},
   "outputs": [
    {
     "name": "stdout",
     "output_type": "stream",
     "text": [
      "Fitting 3 folds for each of 81 candidates, totalling 243 fits\n",
      "Mejores hiperparámetros: {'depth': 4, 'iterations': 500, 'l2_leaf_reg': 1, 'learning_rate': 0.1}\n",
      "Mejor puntuación F1: 0.6843982921153723\n"
     ]
    }
   ],
   "source": [
    "cb = CatBoostClassifier(verbose=0, random_state=1702)\n",
    "\n",
    "# Definir hiperparámetros a explorar\n",
    "param_grid4 = {\n",
    "    'iterations': [100, 300, 500],\n",
    "    'depth': [4, 6, 8],\n",
    "    'learning_rate': [0.01, 0.05, 0.1],\n",
    "    'l2_leaf_reg': [1, 3, 5],\n",
    "}\n",
    "\n",
    "# Búsqueda en cuadrícula\n",
    "grid_search4 = GridSearchCV(estimator=cb, param_grid=param_grid4, scoring='f1', cv=3, verbose=1)\n",
    "grid_search4.fit(features_train, target_train)\n",
    "\n",
    "# Resultados\n",
    "print(\"Mejores hiperparámetros:\", grid_search4.best_params_)\n",
    "print(\"Mejor puntuación F1:\", grid_search4.best_score_)"
   ]
  },
  {
   "cell_type": "markdown",
   "metadata": {},
   "source": [
    "#### Evaluación con datos de Entrenamiento por defecto"
   ]
  },
  {
   "cell_type": "code",
   "execution_count": 115,
   "metadata": {},
   "outputs": [
    {
     "name": "stdout",
     "output_type": "stream",
     "text": [
      "Valor F1 Datos Entrenamiento:  0.87\n",
      "Valor F1 Datos Validacion:  0.72\n",
      "Valor ROC-AUC Datos Validacion:  0.91\n"
     ]
    }
   ],
   "source": [
    "train_pool = Pool(features_train, target_train)\n",
    "train_pool2 = Pool(features_train)\n",
    "target_pool = Pool(features_valid)\n",
    "\n",
    "model4 = CatBoostClassifier(random_state = 1702, iterations=500, depth=4, l2_leaf_reg = 1, \n",
    "                           learning_rate=0.1, verbose=0)\n",
    "model4.fit(train_pool)\n",
    "\n",
    "preds = model4.predict(target_pool)\n",
    "preds_train = model4.predict(train_pool2)\n",
    "predict_cat = model4.predict_proba(target_pool)\n",
    "\n",
    "\n",
    "print(\"Valor F1 Datos Entrenamiento: \", f1_score(target_train, preds_train).round(2))\n",
    "print(\"Valor F1 Datos Validacion: \", f1_score(target_valid, preds).round(2))\n",
    "\n",
    "proba_valid = predict_cat[:, 1]\n",
    "auc_roc = roc_auc_score(target_valid, proba_valid)\n",
    "\n",
    "print(\"Valor ROC-AUC Datos Validacion: \", auc_roc.round(2))"
   ]
  },
  {
   "cell_type": "markdown",
   "metadata": {},
   "source": [
    "Hasta ahora el algoritmo con el que mejor funciona el modelo es este. Los datos son muy relevantes considerando un valor obtenido de 0.91 para el ROC-AUC en los datos de validación. También se mejoró en el F1 de aquellos datos."
   ]
  },
  {
   "cell_type": "markdown",
   "metadata": {},
   "source": [
    "#### Upsample"
   ]
  },
  {
   "cell_type": "code",
   "execution_count": 117,
   "metadata": {
    "scrolled": false
   },
   "outputs": [
    {
     "name": "stdout",
     "output_type": "stream",
     "text": [
      "Valor F1 Datos Entrenamiento:  0.94\n",
      "Valor F1 Datos Validacion:  0.73\n",
      "Valor ROC-AUC Datos Validacion:  0.9\n"
     ]
    }
   ],
   "source": [
    "train_pool = Pool(features_upsampled, target_upsampled)\n",
    "train_pool2 = Pool(features_upsampled)\n",
    "target_pool = Pool(features_valid)\n",
    "\n",
    "model4 = CatBoostClassifier(random_state = 1702, iterations=500, depth=4, l2_leaf_reg = 1, \n",
    "                           learning_rate=0.1, verbose=0)\n",
    "model4.fit(train_pool)\n",
    "\n",
    "preds = model4.predict(target_pool)\n",
    "preds_train = model4.predict(train_pool2)\n",
    "predict_cat = model4.predict_proba(target_pool)\n",
    "\n",
    "\n",
    "print(\"Valor F1 Datos Entrenamiento: \", f1_score(target_upsampled, preds_train).round(2))\n",
    "print(\"Valor F1 Datos Validacion: \", f1_score(target_valid, preds).round(2))\n",
    "\n",
    "proba_valid = predict_cat[:, 1]\n",
    "auc_roc = roc_auc_score(target_valid, proba_valid)\n",
    "\n",
    "print(\"Valor ROC-AUC Datos Validacion: \", auc_roc.round(2))"
   ]
  },
  {
   "cell_type": "markdown",
   "metadata": {},
   "source": [
    "#### Downsample"
   ]
  },
  {
   "cell_type": "code",
   "execution_count": 118,
   "metadata": {
    "scrolled": false
   },
   "outputs": [
    {
     "name": "stdout",
     "output_type": "stream",
     "text": [
      "Valor F1 Datos Entrenamiento:  0.902\n",
      "Valor F1 Datos Validacion:  0.713\n",
      "Valor ROC-AUC Datos Validacion:  0.9\n"
     ]
    }
   ],
   "source": [
    "train_pool = Pool(features_downsampled, target_downsampled)\n",
    "train_pool2 = Pool(features_downsampled)\n",
    "target_pool = Pool(features_valid)\n",
    "\n",
    "model4 = CatBoostClassifier(random_state = 1702, iterations=500, depth=4, l2_leaf_reg = 1, \n",
    "                           learning_rate=0.1, verbose=0)\n",
    "model4.fit(train_pool)\n",
    "\n",
    "preds = model4.predict(target_pool)\n",
    "preds_train = model4.predict(train_pool2)\n",
    "predict_cat = model4.predict_proba(target_pool)\n",
    "\n",
    "\n",
    "print(\"Valor F1 Datos Entrenamiento: \", f1_score(target_downsampled, preds_train).round(3))\n",
    "print(\"Valor F1 Datos Validacion: \", f1_score(target_valid, preds).round(3))\n",
    "\n",
    "proba_valid = predict_cat[:, 1]\n",
    "auc_roc = roc_auc_score(target_valid, proba_valid)\n",
    "\n",
    "print(\"Valor ROC-AUC Datos Validacion: \", auc_roc.round(2))"
   ]
  },
  {
   "cell_type": "markdown",
   "metadata": {},
   "source": [
    "En nuestras 3 evaluaciones del algoritmo con los datos dan valores muy altos. Sin embargo, nos quedaremos con la configuración de los datos por defecto."
   ]
  },
  {
   "cell_type": "markdown",
   "metadata": {},
   "source": [
    "## Selección del Algoritmo para el Modelo"
   ]
  },
  {
   "cell_type": "markdown",
   "metadata": {},
   "source": [
    "Habiendo pasado por los diferentes algoritmos, ya tenemos la selección del candidato para utilizar en nuestro Modelo final. Este es el Algoritmo CatBoost con los datos por defecto."
   ]
  },
  {
   "cell_type": "code",
   "execution_count": 122,
   "metadata": {},
   "outputs": [
    {
     "name": "stdout",
     "output_type": "stream",
     "text": [
      "Valor F1 Datos Entrenamiento:  0.87\n",
      "Valor F1 Datos Validacion:  0.72\n",
      "Valor ROC-AUC Datos Validacion:  0.91\n"
     ]
    }
   ],
   "source": [
    "train_pool = Pool(features_train, target_train)\n",
    "train_pool2 = Pool(features_train)\n",
    "target_pool = Pool(features_valid)\n",
    "\n",
    "model4 = CatBoostClassifier(random_state = 1702, iterations=500, depth=4, l2_leaf_reg = 1, \n",
    "                           learning_rate=0.1, verbose=0)\n",
    "model4.fit(train_pool)\n",
    "\n",
    "preds = model4.predict(target_pool)\n",
    "preds_train = model4.predict(train_pool2)\n",
    "predict_cat = model4.predict_proba(target_pool)\n",
    "\n",
    "\n",
    "print(\"Valor F1 Datos Entrenamiento: \", f1_score(target_train, preds_train).round(2))\n",
    "print(\"Valor F1 Datos Validacion: \", f1_score(target_valid, preds).round(2))\n",
    "\n",
    "proba_valid = predict_cat[:, 1]\n",
    "auc_roc = roc_auc_score(target_valid, proba_valid)\n",
    "\n",
    "print(\"Valor ROC-AUC Datos Validacion: \", auc_roc.round(2))"
   ]
  },
  {
   "cell_type": "markdown",
   "metadata": {},
   "source": [
    "### Evaluación del Modelo con los datos de Test\n",
    "\n",
    "Hasta ahora, solo hemos utilizado los datos de entrenamiento, para entrenar y ajustar el modelo. Y, posteriormente los de validación para evaluar sus métricas y comportamiento. Sin embargo, hay datos que dejamos para justamente evaluar cuando ya tuviesemos seleccionado el Algoritmo con nuestro Modelo que son los datos de Test."
   ]
  },
  {
   "cell_type": "code",
   "execution_count": 123,
   "metadata": {},
   "outputs": [
    {
     "data": {
      "text/plain": [
       "array([[2.19451372e-02, 6.12841950e-02, 0.00000000e+00, ...,\n",
       "        1.00000000e+00, 0.00000000e+00, 0.00000000e+00],\n",
       "       [8.96259352e-01, 6.93719733e-01, 0.00000000e+00, ...,\n",
       "        0.00000000e+00, 0.00000000e+00, 0.00000000e+00],\n",
       "       [1.19700748e-02, 8.79424973e-05, 0.00000000e+00, ...,\n",
       "        1.00000000e+00, 0.00000000e+00, 0.00000000e+00],\n",
       "       ...,\n",
       "       [6.75311721e-01, 7.06711771e-01, 0.00000000e+00, ...,\n",
       "        0.00000000e+00, 0.00000000e+00, 0.00000000e+00],\n",
       "       [5.12219451e-01, 4.15516574e-01, 0.00000000e+00, ...,\n",
       "        0.00000000e+00, 0.00000000e+00, 0.00000000e+00],\n",
       "       [6.32418953e-01, 5.29484188e-01, 0.00000000e+00, ...,\n",
       "        0.00000000e+00, 0.00000000e+00, 0.00000000e+00]])"
      ]
     },
     "execution_count": 123,
     "metadata": {},
     "output_type": "execute_result"
    }
   ],
   "source": [
    "features_test"
   ]
  },
  {
   "cell_type": "code",
   "execution_count": 124,
   "metadata": {},
   "outputs": [
    {
     "data": {
      "text/plain": [
       "5007    0\n",
       "2576    0\n",
       "409     1\n",
       "793     0\n",
       "3756    1\n",
       "       ..\n",
       "1078    0\n",
       "4092    0\n",
       "2935    0\n",
       "1483    0\n",
       "2646    0\n",
       "Name: enddate, Length: 1409, dtype: uint8"
      ]
     },
     "execution_count": 124,
     "metadata": {},
     "output_type": "execute_result"
    }
   ],
   "source": [
    "target_test"
   ]
  },
  {
   "cell_type": "markdown",
   "metadata": {},
   "source": [
    "Haremos la respectiva evaluación del modelo con estos datos para revisar su comportamiento:"
   ]
  },
  {
   "cell_type": "code",
   "execution_count": 125,
   "metadata": {},
   "outputs": [
    {
     "name": "stdout",
     "output_type": "stream",
     "text": [
      "Valor F1 Datos Test:  0.7\n",
      "Valor ROC-AUC Datos Test:  0.91\n"
     ]
    }
   ],
   "source": [
    "train_pool3 = Pool(features_test)\n",
    "\n",
    "preds_test = model4.predict(train_pool3)\n",
    "predict_cat_test = model4.predict_proba(train_pool3)\n",
    "\n",
    "print(\"Valor F1 Datos Test: \", f1_score(target_test, preds_test).round(2))\n",
    "\n",
    "proba_test = predict_cat_test[:, 1]\n",
    "auc_roc_test = roc_auc_score(target_test, proba_test)\n",
    "\n",
    "print(\"Valor ROC-AUC Datos Test: \", auc_roc.round(2))\n",
    "\n"
   ]
  },
  {
   "cell_type": "markdown",
   "metadata": {},
   "source": [
    "Con ello, tenemos que los datos de test para nuestro modelo funcionan acorde, con un **ROC de 0.91.**"
   ]
  },
  {
   "cell_type": "code",
   "execution_count": 128,
   "metadata": {},
   "outputs": [
    {
     "data": {
      "image/png": "[encoded data removed]",
      "text/plain": [
       "<Figure size 800x600 with 1 Axes>"
      ]
     },
     "metadata": {},
     "output_type": "display_data"
    }
   ],
   "source": [
    "#para calcular la curva ROC\n",
    "fpr, tpr, thresholds = roc_curve(target_test, proba_test)\n",
    "\n",
    "# Graficar la curva ROC\n",
    "plt.figure(figsize=(8, 6))\n",
    "plt.plot(fpr, tpr, color='blue', label=f\"ROC Curve (AUC = {auc_roc_test:.2f})\")\n",
    "plt.plot([0, 1], [0, 1], color='red', linestyle='--', label=\"Random Guessing\")\n",
    "plt.xlabel(\"Tasa de Falsos Positivos\")\n",
    "plt.ylabel(\"Tasa de Verdaderos Positivos\")\n",
    "plt.title(\"Curva ROC\")\n",
    "plt.legend(loc=\"lower right\")\n",
    "plt.grid()\n",
    "plt.show()"
   ]
  },
  {
   "cell_type": "markdown",
   "metadata": {},
   "source": [
    "### Conclusiones\n",
    "\n",
    "Como primera conclusión, debo señalar que la compañia Interconnect debiese utilizar el modelo creado para poder pronósticar la salida de sus clientes, desarollando de aquella manera, una estrategía de marketing adecuado que disminuya este factor.\n",
    "\n",
    "Ahora me explayaré un poco más en lo que hubo que efectuar para llegar a este resultado.\n",
    "\n",
    "Para el desarrollo del proyecto hubo que efectuar muchas iteraciones. Inicialmente comencé tomando todos los datos que entregaban y cometí el error de no considerar, por ejemplo, las fechas de inicio y término de contrato de los usuarios que dejaron la compañia. Esto generó que mis modelos estuvieran lejos de las métricas requeridas para obtener un buen puntaje. Para solucionar esto, primeramente descarté algunas columnas que no las consideraba necesarias para desarrollar los modelos. Sin embargo, una vez nuevamente llegada la hora de evaluar, no lograba acercarme a las métricas. Fue en este punto donde pensando un poco más allá, se me ocurrió utilizar la cantidad de días que los clientes llevaban siendolo hasta que abandonaron la compañia. Con ello pude generar una columna significativa y fue lo que determinó el éxito de los modelos presentados."
   ]
  }
 ],
 "metadata": {
  "ExecuteTimeLog": [
   {
    "duration": 293,
    "start_time": "2025-01-20T13:24:10.509Z"
   },
   {
    "duration": 67,
    "start_time": "2025-01-20T13:24:35.036Z"
   },
   {
    "duration": 23,
    "start_time": "2025-01-20T13:24:45.540Z"
   },
   {
    "duration": 9,
    "start_time": "2025-01-20T13:24:54.372Z"
   },
   {
    "duration": 10,
    "start_time": "2025-01-20T13:25:07.013Z"
   },
   {
    "duration": 9,
    "start_time": "2025-01-20T13:25:19.130Z"
   },
   {
    "duration": 11,
    "start_time": "2025-01-20T13:25:25.807Z"
   },
   {
    "duration": 7,
    "start_time": "2025-01-20T13:25:44.925Z"
   },
   {
    "duration": 34,
    "start_time": "2025-01-20T13:27:05.443Z"
   },
   {
    "duration": 14,
    "start_time": "2025-01-20T13:27:20.123Z"
   },
   {
    "duration": 7,
    "start_time": "2025-01-20T13:28:03.901Z"
   },
   {
    "duration": 8,
    "start_time": "2025-01-20T13:28:15.089Z"
   },
   {
    "duration": 18,
    "start_time": "2025-01-20T13:28:27.146Z"
   },
   {
    "duration": 11,
    "start_time": "2025-01-20T13:28:37.915Z"
   },
   {
    "duration": 13,
    "start_time": "2025-01-20T13:29:15.785Z"
   },
   {
    "duration": 9,
    "start_time": "2025-01-20T13:29:22.546Z"
   },
   {
    "duration": 5,
    "start_time": "2025-01-20T13:29:32.173Z"
   },
   {
    "duration": 5,
    "start_time": "2025-01-20T13:29:39.534Z"
   },
   {
    "duration": 5,
    "start_time": "2025-01-20T13:29:46.844Z"
   },
   {
    "duration": 5,
    "start_time": "2025-01-20T13:29:53.723Z"
   },
   {
    "duration": 6,
    "start_time": "2025-01-20T13:30:01.151Z"
   },
   {
    "duration": 7,
    "start_time": "2025-01-20T13:31:17.864Z"
   },
   {
    "duration": 7,
    "start_time": "2025-01-20T13:31:25.792Z"
   },
   {
    "duration": 2283,
    "start_time": "2025-01-20T16:13:28.240Z"
   },
   {
    "duration": 450,
    "start_time": "2025-01-20T16:13:36.057Z"
   },
   {
    "duration": 92,
    "start_time": "2025-01-20T16:13:36.509Z"
   },
   {
    "duration": 24,
    "start_time": "2025-01-20T16:13:36.602Z"
   },
   {
    "duration": 11,
    "start_time": "2025-01-20T16:13:36.627Z"
   },
   {
    "duration": 10,
    "start_time": "2025-01-20T16:13:36.641Z"
   },
   {
    "duration": 6,
    "start_time": "2025-01-20T16:13:36.653Z"
   },
   {
    "duration": 33,
    "start_time": "2025-01-20T16:13:36.661Z"
   },
   {
    "duration": 12,
    "start_time": "2025-01-20T16:13:36.697Z"
   },
   {
    "duration": 32,
    "start_time": "2025-01-20T16:13:36.711Z"
   },
   {
    "duration": 18,
    "start_time": "2025-01-20T16:13:36.745Z"
   },
   {
    "duration": 10,
    "start_time": "2025-01-20T16:13:36.764Z"
   },
   {
    "duration": 12,
    "start_time": "2025-01-20T16:13:36.776Z"
   },
   {
    "duration": 8,
    "start_time": "2025-01-20T16:13:36.790Z"
   },
   {
    "duration": 4,
    "start_time": "2025-01-20T16:13:36.801Z"
   },
   {
    "duration": 39,
    "start_time": "2025-01-20T16:13:36.807Z"
   },
   {
    "duration": 6,
    "start_time": "2025-01-20T16:13:36.847Z"
   },
   {
    "duration": 6,
    "start_time": "2025-01-20T16:13:36.856Z"
   },
   {
    "duration": 5,
    "start_time": "2025-01-20T16:13:36.864Z"
   },
   {
    "duration": 8,
    "start_time": "2025-01-20T16:13:36.870Z"
   },
   {
    "duration": 4,
    "start_time": "2025-01-20T16:14:51.924Z"
   },
   {
    "duration": 2484,
    "start_time": "2025-01-20T17:31:17.152Z"
   },
   {
    "duration": 62,
    "start_time": "2025-01-20T17:31:19.640Z"
   },
   {
    "duration": 23,
    "start_time": "2025-01-20T17:31:19.703Z"
   },
   {
    "duration": 12,
    "start_time": "2025-01-20T17:31:19.729Z"
   },
   {
    "duration": 14,
    "start_time": "2025-01-20T17:31:19.743Z"
   },
   {
    "duration": 9,
    "start_time": "2025-01-20T17:31:19.759Z"
   },
   {
    "duration": 447,
    "start_time": "2025-01-20T17:31:19.769Z"
   },
   {
    "duration": 0,
    "start_time": "2025-01-20T17:31:20.219Z"
   },
   {
    "duration": 0,
    "start_time": "2025-01-20T17:31:20.224Z"
   },
   {
    "duration": 1,
    "start_time": "2025-01-20T17:31:20.224Z"
   },
   {
    "duration": 0,
    "start_time": "2025-01-20T17:31:20.225Z"
   },
   {
    "duration": 0,
    "start_time": "2025-01-20T17:31:20.227Z"
   },
   {
    "duration": 0,
    "start_time": "2025-01-20T17:31:20.228Z"
   },
   {
    "duration": 0,
    "start_time": "2025-01-20T17:31:20.229Z"
   },
   {
    "duration": 0,
    "start_time": "2025-01-20T17:31:20.230Z"
   },
   {
    "duration": 0,
    "start_time": "2025-01-20T17:31:20.231Z"
   },
   {
    "duration": 0,
    "start_time": "2025-01-20T17:31:20.232Z"
   },
   {
    "duration": 0,
    "start_time": "2025-01-20T17:31:20.233Z"
   },
   {
    "duration": 0,
    "start_time": "2025-01-20T17:31:20.234Z"
   },
   {
    "duration": 0,
    "start_time": "2025-01-20T17:31:20.235Z"
   },
   {
    "duration": 9,
    "start_time": "2025-01-20T19:09:28.471Z"
   },
   {
    "duration": 237,
    "start_time": "2025-01-20T19:09:34.258Z"
   },
   {
    "duration": 222,
    "start_time": "2025-01-20T19:09:48.350Z"
   },
   {
    "duration": 701,
    "start_time": "2025-01-20T19:11:07.799Z"
   },
   {
    "duration": 0,
    "start_time": "2025-01-20T19:12:33.330Z"
   },
   {
    "duration": 138,
    "start_time": "2025-01-20T19:13:36.653Z"
   },
   {
    "duration": 94,
    "start_time": "2025-01-20T19:13:46.711Z"
   },
   {
    "duration": 696,
    "start_time": "2025-01-20T19:14:00.449Z"
   },
   {
    "duration": 95,
    "start_time": "2025-01-20T19:14:14.723Z"
   },
   {
    "duration": 39,
    "start_time": "2025-01-20T19:16:36.700Z"
   },
   {
    "duration": 266,
    "start_time": "2025-01-20T19:17:10.291Z"
   },
   {
    "duration": 816,
    "start_time": "2025-01-20T19:19:26.711Z"
   },
   {
    "duration": 33,
    "start_time": "2025-01-20T19:19:27.530Z"
   },
   {
    "duration": 20,
    "start_time": "2025-01-20T19:19:27.565Z"
   },
   {
    "duration": 9,
    "start_time": "2025-01-20T19:19:27.587Z"
   },
   {
    "duration": 28,
    "start_time": "2025-01-20T19:19:27.599Z"
   },
   {
    "duration": 8,
    "start_time": "2025-01-20T19:19:27.629Z"
   },
   {
    "duration": 37,
    "start_time": "2025-01-20T19:19:27.640Z"
   },
   {
    "duration": 15,
    "start_time": "2025-01-20T19:19:27.679Z"
   },
   {
    "duration": 30,
    "start_time": "2025-01-20T19:19:27.696Z"
   },
   {
    "duration": 23,
    "start_time": "2025-01-20T19:19:27.728Z"
   },
   {
    "duration": 9,
    "start_time": "2025-01-20T19:19:27.753Z"
   },
   {
    "duration": 13,
    "start_time": "2025-01-20T19:19:27.764Z"
   },
   {
    "duration": 7,
    "start_time": "2025-01-20T19:19:27.779Z"
   },
   {
    "duration": 37,
    "start_time": "2025-01-20T19:19:27.789Z"
   },
   {
    "duration": 10,
    "start_time": "2025-01-20T19:19:27.828Z"
   },
   {
    "duration": 6,
    "start_time": "2025-01-20T19:19:27.840Z"
   },
   {
    "duration": 6,
    "start_time": "2025-01-20T19:19:27.847Z"
   },
   {
    "duration": 5,
    "start_time": "2025-01-20T19:19:27.854Z"
   },
   {
    "duration": 7,
    "start_time": "2025-01-20T19:19:27.861Z"
   },
   {
    "duration": 1003,
    "start_time": "2025-01-20T19:39:38.546Z"
   },
   {
    "duration": 97,
    "start_time": "2025-01-20T19:39:54.401Z"
   },
   {
    "duration": 107,
    "start_time": "2025-01-20T20:01:36.834Z"
   },
   {
    "duration": 111,
    "start_time": "2025-01-20T20:02:23.493Z"
   },
   {
    "duration": 106,
    "start_time": "2025-01-20T20:03:43.104Z"
   },
   {
    "duration": 130,
    "start_time": "2025-01-20T20:03:47.577Z"
   },
   {
    "duration": 119,
    "start_time": "2025-01-20T20:04:12.561Z"
   },
   {
    "duration": 163,
    "start_time": "2025-01-20T20:04:16.815Z"
   },
   {
    "duration": 334,
    "start_time": "2025-01-20T20:06:51.096Z"
   },
   {
    "duration": 306,
    "start_time": "2025-01-20T20:08:17.978Z"
   },
   {
    "duration": 293,
    "start_time": "2025-01-20T20:08:34.224Z"
   },
   {
    "duration": 305,
    "start_time": "2025-01-20T20:09:39.173Z"
   },
   {
    "duration": 318,
    "start_time": "2025-01-20T20:09:50.474Z"
   },
   {
    "duration": 490,
    "start_time": "2025-01-20T20:19:00.993Z"
   },
   {
    "duration": 356,
    "start_time": "2025-01-20T20:20:04.304Z"
   },
   {
    "duration": 354,
    "start_time": "2025-01-20T20:20:43.170Z"
   },
   {
    "duration": 304,
    "start_time": "2025-01-20T20:21:59.256Z"
   },
   {
    "duration": 443,
    "start_time": "2025-01-20T20:22:41.308Z"
   },
   {
    "duration": 521,
    "start_time": "2025-01-20T20:22:49.235Z"
   },
   {
    "duration": 652,
    "start_time": "2025-01-20T20:22:59.976Z"
   },
   {
    "duration": 701,
    "start_time": "2025-01-20T20:24:16.953Z"
   },
   {
    "duration": 484,
    "start_time": "2025-01-20T20:26:12.908Z"
   },
   {
    "duration": 6,
    "start_time": "2025-01-20T20:36:14.622Z"
   },
   {
    "duration": 516,
    "start_time": "2025-01-20T20:36:49.322Z"
   },
   {
    "duration": 427,
    "start_time": "2025-01-20T20:37:58.763Z"
   },
   {
    "duration": 549,
    "start_time": "2025-01-20T20:38:08.153Z"
   },
   {
    "duration": 456,
    "start_time": "2025-01-20T20:38:18.076Z"
   },
   {
    "duration": 267,
    "start_time": "2025-01-20T20:46:20.609Z"
   },
   {
    "duration": 5,
    "start_time": "2025-01-20T20:46:47.434Z"
   },
   {
    "duration": 41588,
    "start_time": "2025-01-20T20:46:52.405Z"
   },
   {
    "duration": 2056,
    "start_time": "2025-01-20T20:47:39.825Z"
   },
   {
    "duration": 64164,
    "start_time": "2025-01-20T20:48:25.713Z"
   },
   {
    "duration": 7,
    "start_time": "2025-01-20T20:50:12.798Z"
   },
   {
    "duration": 0,
    "start_time": "2025-01-20T20:51:14.761Z"
   },
   {
    "duration": 0,
    "start_time": "2025-01-20T20:52:15.998Z"
   },
   {
    "duration": 68169,
    "start_time": "2025-01-20T20:53:08.681Z"
   },
   {
    "duration": 64719,
    "start_time": "2025-01-20T20:54:34.241Z"
   },
   {
    "duration": 2008,
    "start_time": "2025-01-20T20:59:38.972Z"
   },
   {
    "duration": 2087,
    "start_time": "2025-01-20T20:59:56.489Z"
   },
   {
    "duration": 1987,
    "start_time": "2025-01-20T21:00:13.537Z"
   },
   {
    "duration": 78635,
    "start_time": "2025-01-20T21:00:41.544Z"
   },
   {
    "duration": 114150,
    "start_time": "2025-01-20T21:03:49.067Z"
   },
   {
    "duration": 4,
    "start_time": "2025-01-20T21:14:19.201Z"
   },
   {
    "duration": 13,
    "start_time": "2025-01-20T21:15:05.992Z"
   },
   {
    "duration": 2307,
    "start_time": "2025-01-20T21:15:15.105Z"
   },
   {
    "duration": 24,
    "start_time": "2025-01-20T21:15:30.521Z"
   },
   {
    "duration": 159,
    "start_time": "2025-01-20T21:15:54.677Z"
   },
   {
    "duration": 233,
    "start_time": "2025-01-20T21:16:22.478Z"
   },
   {
    "duration": 42,
    "start_time": "2025-01-20T21:17:28.681Z"
   },
   {
    "duration": 85,
    "start_time": "2025-01-20T21:17:43.875Z"
   },
   {
    "duration": 82,
    "start_time": "2025-01-20T21:17:48.865Z"
   },
   {
    "duration": 274,
    "start_time": "2025-01-20T21:18:53.738Z"
   },
   {
    "duration": 269,
    "start_time": "2025-01-20T21:19:28.423Z"
   },
   {
    "duration": 263,
    "start_time": "2025-01-20T21:20:03.365Z"
   },
   {
    "duration": 322,
    "start_time": "2025-01-20T21:20:14.178Z"
   },
   {
    "duration": 263,
    "start_time": "2025-01-20T21:20:30.654Z"
   },
   {
    "duration": 266,
    "start_time": "2025-01-20T21:20:56.750Z"
   },
   {
    "duration": 264,
    "start_time": "2025-01-20T21:21:36.820Z"
   },
   {
    "duration": 260,
    "start_time": "2025-01-20T21:21:40.504Z"
   },
   {
    "duration": 289,
    "start_time": "2025-01-20T21:21:44.092Z"
   },
   {
    "duration": 265,
    "start_time": "2025-01-20T21:21:49.205Z"
   },
   {
    "duration": 660,
    "start_time": "2025-01-20T21:22:15.192Z"
   },
   {
    "duration": 445,
    "start_time": "2025-01-20T21:23:00.376Z"
   },
   {
    "duration": 454,
    "start_time": "2025-01-20T21:23:06.682Z"
   },
   {
    "duration": 435,
    "start_time": "2025-01-20T21:23:10.962Z"
   },
   {
    "duration": 434,
    "start_time": "2025-01-20T21:23:18.564Z"
   },
   {
    "duration": 418,
    "start_time": "2025-01-20T21:23:59.455Z"
   },
   {
    "duration": 397,
    "start_time": "2025-01-20T21:24:10.931Z"
   },
   {
    "duration": 385,
    "start_time": "2025-01-20T21:24:32.563Z"
   },
   {
    "duration": 5,
    "start_time": "2025-01-20T21:25:18.539Z"
   },
   {
    "duration": 288,
    "start_time": "2025-01-20T21:25:23.180Z"
   },
   {
    "duration": 269,
    "start_time": "2025-01-20T21:25:33.639Z"
   },
   {
    "duration": 267,
    "start_time": "2025-01-20T21:26:22.512Z"
   },
   {
    "duration": 186,
    "start_time": "2025-01-20T21:26:33.477Z"
   },
   {
    "duration": 266,
    "start_time": "2025-01-20T21:26:58.100Z"
   },
   {
    "duration": 151,
    "start_time": "2025-01-20T21:27:24.710Z"
   },
   {
    "duration": 217,
    "start_time": "2025-01-20T21:28:26.336Z"
   },
   {
    "duration": 351,
    "start_time": "2025-01-20T21:29:27.711Z"
   },
   {
    "duration": 315,
    "start_time": "2025-01-20T21:29:44.532Z"
   },
   {
    "duration": 300,
    "start_time": "2025-01-20T21:29:50.731Z"
   },
   {
    "duration": 297,
    "start_time": "2025-01-20T21:30:00.609Z"
   },
   {
    "duration": 655,
    "start_time": "2025-01-20T21:30:07.980Z"
   },
   {
    "duration": 335,
    "start_time": "2025-01-20T21:30:14.530Z"
   },
   {
    "duration": 305,
    "start_time": "2025-01-20T21:30:22.339Z"
   },
   {
    "duration": 301,
    "start_time": "2025-01-20T21:30:27.430Z"
   },
   {
    "duration": 305,
    "start_time": "2025-01-20T21:30:32.374Z"
   },
   {
    "duration": 295,
    "start_time": "2025-01-20T21:30:35.865Z"
   },
   {
    "duration": 307,
    "start_time": "2025-01-20T21:30:41.233Z"
   },
   {
    "duration": 321,
    "start_time": "2025-01-20T21:31:02.918Z"
   },
   {
    "duration": 335,
    "start_time": "2025-01-20T21:31:30.193Z"
   },
   {
    "duration": 295,
    "start_time": "2025-01-20T21:32:18.200Z"
   },
   {
    "duration": 273,
    "start_time": "2025-01-20T21:32:28.480Z"
   },
   {
    "duration": 246,
    "start_time": "2025-01-20T21:32:32.163Z"
   },
   {
    "duration": 261,
    "start_time": "2025-01-20T21:32:37.181Z"
   },
   {
    "duration": 276,
    "start_time": "2025-01-20T21:32:41.095Z"
   },
   {
    "duration": 235,
    "start_time": "2025-01-20T21:32:48.768Z"
   },
   {
    "duration": 268,
    "start_time": "2025-01-20T21:32:52.756Z"
   },
   {
    "duration": 250,
    "start_time": "2025-01-20T21:32:59.744Z"
   },
   {
    "duration": 271,
    "start_time": "2025-01-20T21:33:04.821Z"
   },
   {
    "duration": 281,
    "start_time": "2025-01-20T21:33:08.892Z"
   },
   {
    "duration": 266,
    "start_time": "2025-01-20T21:33:11.793Z"
   },
   {
    "duration": 237,
    "start_time": "2025-01-20T21:33:17.366Z"
   },
   {
    "duration": 286,
    "start_time": "2025-01-20T21:33:22.102Z"
   },
   {
    "duration": 260,
    "start_time": "2025-01-20T21:33:27.376Z"
   },
   {
    "duration": 257,
    "start_time": "2025-01-20T21:33:35.684Z"
   },
   {
    "duration": 241,
    "start_time": "2025-01-20T21:36:04.824Z"
   },
   {
    "duration": 217,
    "start_time": "2025-01-20T21:36:12.461Z"
   },
   {
    "duration": 258,
    "start_time": "2025-01-20T21:36:19.233Z"
   },
   {
    "duration": 558,
    "start_time": "2025-01-20T21:36:23.618Z"
   },
   {
    "duration": 359,
    "start_time": "2025-01-20T21:36:42.289Z"
   },
   {
    "duration": 409,
    "start_time": "2025-01-20T21:36:49.569Z"
   },
   {
    "duration": 377,
    "start_time": "2025-01-20T21:36:56.600Z"
   },
   {
    "duration": 374,
    "start_time": "2025-01-20T21:37:01.728Z"
   },
   {
    "duration": 253,
    "start_time": "2025-01-20T21:39:05.643Z"
   },
   {
    "duration": 294,
    "start_time": "2025-01-20T21:39:17.702Z"
   },
   {
    "duration": 2505,
    "start_time": "2025-01-21T13:11:24.570Z"
   },
   {
    "duration": 64,
    "start_time": "2025-01-21T13:11:27.077Z"
   },
   {
    "duration": 24,
    "start_time": "2025-01-21T13:11:27.142Z"
   },
   {
    "duration": 10,
    "start_time": "2025-01-21T13:11:27.169Z"
   },
   {
    "duration": 11,
    "start_time": "2025-01-21T13:11:27.181Z"
   },
   {
    "duration": 7,
    "start_time": "2025-01-21T13:11:27.194Z"
   },
   {
    "duration": 436,
    "start_time": "2025-01-21T13:11:27.203Z"
   },
   {
    "duration": 272,
    "start_time": "2025-01-21T13:11:27.641Z"
   },
   {
    "duration": 47,
    "start_time": "2025-01-21T13:11:27.914Z"
   },
   {
    "duration": 15,
    "start_time": "2025-01-21T13:11:27.965Z"
   },
   {
    "duration": 5,
    "start_time": "2025-01-21T13:11:27.983Z"
   },
   {
    "duration": 17,
    "start_time": "2025-01-21T13:11:27.990Z"
   },
   {
    "duration": 35,
    "start_time": "2025-01-21T13:11:28.009Z"
   },
   {
    "duration": 13,
    "start_time": "2025-01-21T13:11:28.046Z"
   },
   {
    "duration": 9,
    "start_time": "2025-01-21T13:11:28.061Z"
   },
   {
    "duration": 5,
    "start_time": "2025-01-21T13:11:28.071Z"
   },
   {
    "duration": 5,
    "start_time": "2025-01-21T13:11:28.078Z"
   },
   {
    "duration": 5,
    "start_time": "2025-01-21T13:11:28.084Z"
   },
   {
    "duration": 42,
    "start_time": "2025-01-21T13:11:28.091Z"
   },
   {
    "duration": 10,
    "start_time": "2025-01-21T13:11:28.135Z"
   },
   {
    "duration": 7,
    "start_time": "2025-01-21T13:11:28.147Z"
   },
   {
    "duration": 6,
    "start_time": "2025-01-21T13:12:15.955Z"
   },
   {
    "duration": 3,
    "start_time": "2025-01-21T13:15:48.540Z"
   },
   {
    "duration": 20,
    "start_time": "2025-01-21T13:26:06.861Z"
   },
   {
    "duration": 130,
    "start_time": "2025-01-21T13:40:43.084Z"
   },
   {
    "duration": 4,
    "start_time": "2025-01-21T13:48:58.482Z"
   },
   {
    "duration": 909,
    "start_time": "2025-01-21T13:49:00.945Z"
   },
   {
    "duration": 92,
    "start_time": "2025-01-21T13:49:17.568Z"
   },
   {
    "duration": 36,
    "start_time": "2025-01-21T13:49:44.955Z"
   },
   {
    "duration": 18,
    "start_time": "2025-01-21T13:49:55.102Z"
   },
   {
    "duration": 35,
    "start_time": "2025-01-21T13:50:25.343Z"
   },
   {
    "duration": 904,
    "start_time": "2025-01-21T13:50:32.432Z"
   },
   {
    "duration": 37,
    "start_time": "2025-01-21T13:50:33.337Z"
   },
   {
    "duration": 74,
    "start_time": "2025-01-21T13:50:33.377Z"
   },
   {
    "duration": 8,
    "start_time": "2025-01-21T13:50:33.454Z"
   },
   {
    "duration": 9,
    "start_time": "2025-01-21T13:50:33.464Z"
   },
   {
    "duration": 7,
    "start_time": "2025-01-21T13:50:33.475Z"
   },
   {
    "duration": 427,
    "start_time": "2025-01-21T13:50:33.484Z"
   },
   {
    "duration": 294,
    "start_time": "2025-01-21T13:50:33.912Z"
   },
   {
    "duration": 6,
    "start_time": "2025-01-21T13:50:34.207Z"
   },
   {
    "duration": 47,
    "start_time": "2025-01-21T13:50:34.216Z"
   },
   {
    "duration": 12,
    "start_time": "2025-01-21T13:50:34.265Z"
   },
   {
    "duration": 4,
    "start_time": "2025-01-21T13:50:34.279Z"
   },
   {
    "duration": 18,
    "start_time": "2025-01-21T13:50:34.285Z"
   },
   {
    "duration": 35,
    "start_time": "2025-01-21T13:50:34.305Z"
   },
   {
    "duration": 13,
    "start_time": "2025-01-21T13:50:34.342Z"
   },
   {
    "duration": 9,
    "start_time": "2025-01-21T13:50:34.356Z"
   },
   {
    "duration": 5,
    "start_time": "2025-01-21T13:50:34.367Z"
   },
   {
    "duration": 6,
    "start_time": "2025-01-21T13:50:34.373Z"
   },
   {
    "duration": 5,
    "start_time": "2025-01-21T13:50:34.381Z"
   },
   {
    "duration": 46,
    "start_time": "2025-01-21T13:50:34.388Z"
   },
   {
    "duration": 6,
    "start_time": "2025-01-21T13:50:34.436Z"
   },
   {
    "duration": 9,
    "start_time": "2025-01-21T13:50:34.443Z"
   },
   {
    "duration": 20,
    "start_time": "2025-01-21T13:50:34.454Z"
   },
   {
    "duration": 5,
    "start_time": "2025-01-21T13:50:34.477Z"
   },
   {
    "duration": 19,
    "start_time": "2025-01-21T13:50:34.484Z"
   },
   {
    "duration": 48,
    "start_time": "2025-01-21T13:50:34.504Z"
   },
   {
    "duration": 229,
    "start_time": "2025-01-21T13:51:24.026Z"
   },
   {
    "duration": 89,
    "start_time": "2025-01-21T13:51:49.910Z"
   },
   {
    "duration": 16,
    "start_time": "2025-01-21T13:52:31.916Z"
   },
   {
    "duration": 96,
    "start_time": "2025-01-21T13:52:35.437Z"
   },
   {
    "duration": 89,
    "start_time": "2025-01-21T13:52:39.538Z"
   },
   {
    "duration": 90,
    "start_time": "2025-01-21T13:52:44.391Z"
   },
   {
    "duration": 26,
    "start_time": "2025-01-21T13:52:49.014Z"
   },
   {
    "duration": 406,
    "start_time": "2025-01-21T13:53:32.970Z"
   },
   {
    "duration": 41,
    "start_time": "2025-01-21T13:53:37.323Z"
   },
   {
    "duration": 41,
    "start_time": "2025-01-21T13:53:47.550Z"
   },
   {
    "duration": 4,
    "start_time": "2025-01-21T13:54:07.132Z"
   },
   {
    "duration": 2666,
    "start_time": "2025-01-21T14:39:28.254Z"
   },
   {
    "duration": 60,
    "start_time": "2025-01-21T14:39:30.923Z"
   },
   {
    "duration": 22,
    "start_time": "2025-01-21T14:39:30.985Z"
   },
   {
    "duration": 8,
    "start_time": "2025-01-21T14:39:31.009Z"
   },
   {
    "duration": 11,
    "start_time": "2025-01-21T14:39:31.021Z"
   },
   {
    "duration": 7,
    "start_time": "2025-01-21T14:39:31.034Z"
   },
   {
    "duration": 468,
    "start_time": "2025-01-21T14:39:31.043Z"
   },
   {
    "duration": 257,
    "start_time": "2025-01-21T14:39:31.513Z"
   },
   {
    "duration": 14,
    "start_time": "2025-01-21T14:39:31.773Z"
   },
   {
    "duration": 33,
    "start_time": "2025-01-21T14:39:31.789Z"
   },
   {
    "duration": 80,
    "start_time": "2025-01-21T14:39:31.824Z"
   },
   {
    "duration": 6,
    "start_time": "2025-01-21T14:39:31.906Z"
   },
   {
    "duration": 18,
    "start_time": "2025-01-21T14:39:31.913Z"
   },
   {
    "duration": 9,
    "start_time": "2025-01-21T14:39:31.934Z"
   },
   {
    "duration": 13,
    "start_time": "2025-01-21T14:39:31.944Z"
   },
   {
    "duration": 32,
    "start_time": "2025-01-21T14:39:31.959Z"
   },
   {
    "duration": 5,
    "start_time": "2025-01-21T14:39:31.993Z"
   },
   {
    "duration": 5,
    "start_time": "2025-01-21T14:39:32.000Z"
   },
   {
    "duration": 5,
    "start_time": "2025-01-21T14:39:32.007Z"
   },
   {
    "duration": 4,
    "start_time": "2025-01-21T14:39:32.014Z"
   },
   {
    "duration": 6,
    "start_time": "2025-01-21T14:39:32.020Z"
   },
   {
    "duration": 6,
    "start_time": "2025-01-21T14:39:32.027Z"
   },
   {
    "duration": 62,
    "start_time": "2025-01-21T14:39:32.035Z"
   },
   {
    "duration": 5,
    "start_time": "2025-01-21T14:39:32.099Z"
   },
   {
    "duration": 17,
    "start_time": "2025-01-21T14:39:32.105Z"
   },
   {
    "duration": 109,
    "start_time": "2025-01-21T14:39:32.124Z"
   },
   {
    "duration": 4,
    "start_time": "2025-01-21T14:39:32.235Z"
   },
   {
    "duration": 6,
    "start_time": "2025-01-21T14:40:04.831Z"
   },
   {
    "duration": 6,
    "start_time": "2025-01-21T14:40:12.655Z"
   },
   {
    "duration": 94,
    "start_time": "2025-01-21T14:50:13.969Z"
   },
   {
    "duration": 146,
    "start_time": "2025-01-21T14:50:26.064Z"
   },
   {
    "duration": 23,
    "start_time": "2025-01-21T14:50:37.475Z"
   },
   {
    "duration": 130,
    "start_time": "2025-01-21T14:52:57.077Z"
   },
   {
    "duration": 14,
    "start_time": "2025-01-21T14:53:06.034Z"
   },
   {
    "duration": 6,
    "start_time": "2025-01-21T14:53:12.868Z"
   },
   {
    "duration": 81,
    "start_time": "2025-01-21T14:53:44.847Z"
   },
   {
    "duration": 4,
    "start_time": "2025-01-21T14:55:32.288Z"
   },
   {
    "duration": 28,
    "start_time": "2025-01-21T14:55:36.766Z"
   },
   {
    "duration": 4,
    "start_time": "2025-01-21T14:55:49.394Z"
   },
   {
    "duration": 25,
    "start_time": "2025-01-21T14:55:51.872Z"
   },
   {
    "duration": 521,
    "start_time": "2025-01-21T14:56:11.913Z"
   },
   {
    "duration": 27,
    "start_time": "2025-01-21T14:56:27.926Z"
   },
   {
    "duration": 4,
    "start_time": "2025-01-21T14:56:42.376Z"
   },
   {
    "duration": 16,
    "start_time": "2025-01-21T14:57:04.119Z"
   },
   {
    "duration": 110,
    "start_time": "2025-01-21T14:57:30.193Z"
   },
   {
    "duration": 13,
    "start_time": "2025-01-21T14:57:46.096Z"
   },
   {
    "duration": 14,
    "start_time": "2025-01-21T14:57:56.141Z"
   },
   {
    "duration": 4,
    "start_time": "2025-01-21T14:58:02.711Z"
   },
   {
    "duration": 913,
    "start_time": "2025-01-21T14:58:13.472Z"
   },
   {
    "duration": 37,
    "start_time": "2025-01-21T14:58:14.387Z"
   },
   {
    "duration": 72,
    "start_time": "2025-01-21T14:58:14.425Z"
   },
   {
    "duration": 9,
    "start_time": "2025-01-21T14:58:14.499Z"
   },
   {
    "duration": 9,
    "start_time": "2025-01-21T14:58:14.512Z"
   },
   {
    "duration": 6,
    "start_time": "2025-01-21T14:58:14.523Z"
   },
   {
    "duration": 436,
    "start_time": "2025-01-21T14:58:14.531Z"
   },
   {
    "duration": 300,
    "start_time": "2025-01-21T14:58:14.969Z"
   },
   {
    "duration": 5,
    "start_time": "2025-01-21T14:58:15.270Z"
   },
   {
    "duration": 39,
    "start_time": "2025-01-21T14:58:15.286Z"
   },
   {
    "duration": 13,
    "start_time": "2025-01-21T14:58:15.328Z"
   },
   {
    "duration": 5,
    "start_time": "2025-01-21T14:58:15.343Z"
   },
   {
    "duration": 37,
    "start_time": "2025-01-21T14:58:15.350Z"
   },
   {
    "duration": 11,
    "start_time": "2025-01-21T14:58:15.390Z"
   },
   {
    "duration": 12,
    "start_time": "2025-01-21T14:58:15.402Z"
   },
   {
    "duration": 9,
    "start_time": "2025-01-21T14:58:15.415Z"
   },
   {
    "duration": 5,
    "start_time": "2025-01-21T14:58:15.425Z"
   },
   {
    "duration": 5,
    "start_time": "2025-01-21T14:58:15.432Z"
   },
   {
    "duration": 47,
    "start_time": "2025-01-21T14:58:15.439Z"
   },
   {
    "duration": 5,
    "start_time": "2025-01-21T14:58:15.488Z"
   },
   {
    "duration": 5,
    "start_time": "2025-01-21T14:58:15.495Z"
   },
   {
    "duration": 6,
    "start_time": "2025-01-21T14:58:15.501Z"
   },
   {
    "duration": 18,
    "start_time": "2025-01-21T14:58:15.509Z"
   },
   {
    "duration": 3,
    "start_time": "2025-01-21T14:58:15.529Z"
   },
   {
    "duration": 17,
    "start_time": "2025-01-21T14:58:15.534Z"
   },
   {
    "duration": 99,
    "start_time": "2025-01-21T14:58:15.587Z"
   },
   {
    "duration": 18,
    "start_time": "2025-01-21T14:58:15.688Z"
   },
   {
    "duration": 135,
    "start_time": "2025-01-21T14:58:31.597Z"
   },
   {
    "duration": 5,
    "start_time": "2025-01-21T14:59:09.875Z"
   },
   {
    "duration": 20,
    "start_time": "2025-01-21T14:59:15.145Z"
   },
   {
    "duration": 28,
    "start_time": "2025-01-21T14:59:37.362Z"
   },
   {
    "duration": 5,
    "start_time": "2025-01-21T15:05:16.180Z"
   },
   {
    "duration": 113,
    "start_time": "2025-01-21T15:05:55.763Z"
   },
   {
    "duration": 16,
    "start_time": "2025-01-21T15:06:18.573Z"
   },
   {
    "duration": 7,
    "start_time": "2025-01-21T15:06:38.739Z"
   },
   {
    "duration": 17,
    "start_time": "2025-01-21T15:06:41.592Z"
   },
   {
    "duration": 53,
    "start_time": "2025-01-21T15:06:51.173Z"
   },
   {
    "duration": 14,
    "start_time": "2025-01-21T15:07:11.978Z"
   },
   {
    "duration": 314,
    "start_time": "2025-01-21T15:07:21.488Z"
   },
   {
    "duration": 3,
    "start_time": "2025-01-21T15:07:35.571Z"
   },
   {
    "duration": 31,
    "start_time": "2025-01-21T15:08:28.272Z"
   },
   {
    "duration": 22,
    "start_time": "2025-01-21T15:08:31.799Z"
   },
   {
    "duration": 16,
    "start_time": "2025-01-21T15:08:38.201Z"
   },
   {
    "duration": 6,
    "start_time": "2025-01-21T15:10:08.013Z"
   },
   {
    "duration": 341,
    "start_time": "2025-01-21T15:10:22.362Z"
   },
   {
    "duration": 719,
    "start_time": "2025-01-21T15:12:26.871Z"
   },
   {
    "duration": 1129,
    "start_time": "2025-01-21T15:12:52.169Z"
   },
   {
    "duration": 39,
    "start_time": "2025-01-21T15:12:53.300Z"
   },
   {
    "duration": 39,
    "start_time": "2025-01-21T15:12:53.341Z"
   },
   {
    "duration": 11,
    "start_time": "2025-01-21T15:12:53.383Z"
   },
   {
    "duration": 12,
    "start_time": "2025-01-21T15:12:53.397Z"
   },
   {
    "duration": 9,
    "start_time": "2025-01-21T15:12:53.411Z"
   },
   {
    "duration": 485,
    "start_time": "2025-01-21T15:12:53.422Z"
   },
   {
    "duration": 290,
    "start_time": "2025-01-21T15:12:53.910Z"
   },
   {
    "duration": 6,
    "start_time": "2025-01-21T15:12:54.202Z"
   },
   {
    "duration": 41,
    "start_time": "2025-01-21T15:12:54.212Z"
   },
   {
    "duration": 35,
    "start_time": "2025-01-21T15:12:54.255Z"
   },
   {
    "duration": 6,
    "start_time": "2025-01-21T15:12:54.292Z"
   },
   {
    "duration": 23,
    "start_time": "2025-01-21T15:12:54.300Z"
   },
   {
    "duration": 11,
    "start_time": "2025-01-21T15:12:54.325Z"
   },
   {
    "duration": 15,
    "start_time": "2025-01-21T15:12:54.338Z"
   },
   {
    "duration": 40,
    "start_time": "2025-01-21T15:12:54.355Z"
   },
   {
    "duration": 6,
    "start_time": "2025-01-21T15:12:54.397Z"
   },
   {
    "duration": 5,
    "start_time": "2025-01-21T15:12:54.405Z"
   },
   {
    "duration": 6,
    "start_time": "2025-01-21T15:12:54.413Z"
   },
   {
    "duration": 7,
    "start_time": "2025-01-21T15:12:54.422Z"
   },
   {
    "duration": 6,
    "start_time": "2025-01-21T15:12:54.431Z"
   },
   {
    "duration": 49,
    "start_time": "2025-01-21T15:12:54.439Z"
   },
   {
    "duration": 22,
    "start_time": "2025-01-21T15:12:54.490Z"
   },
   {
    "duration": 3,
    "start_time": "2025-01-21T15:12:54.514Z"
   },
   {
    "duration": 18,
    "start_time": "2025-01-21T15:12:54.519Z"
   },
   {
    "duration": 130,
    "start_time": "2025-01-21T15:12:54.539Z"
   },
   {
    "duration": 16,
    "start_time": "2025-01-21T15:12:54.671Z"
   },
   {
    "duration": 17,
    "start_time": "2025-01-21T15:12:54.690Z"
   },
   {
    "duration": 5,
    "start_time": "2025-01-21T15:12:54.709Z"
   },
   {
    "duration": 380,
    "start_time": "2025-01-21T15:12:54.716Z"
   },
   {
    "duration": 5,
    "start_time": "2025-01-21T15:12:55.098Z"
   },
   {
    "duration": 31,
    "start_time": "2025-01-21T15:12:55.105Z"
   },
   {
    "duration": 517,
    "start_time": "2025-01-21T15:12:55.137Z"
   },
   {
    "duration": 5,
    "start_time": "2025-01-21T15:13:21.558Z"
   },
   {
    "duration": 4,
    "start_time": "2025-01-21T15:13:56.265Z"
   },
   {
    "duration": 4,
    "start_time": "2025-01-21T15:17:00.901Z"
   },
   {
    "duration": 27,
    "start_time": "2025-01-21T15:20:16.389Z"
   },
   {
    "duration": 2064,
    "start_time": "2025-01-21T15:21:58.900Z"
   },
   {
    "duration": 3,
    "start_time": "2025-01-21T15:24:45.494Z"
   },
   {
    "duration": 3,
    "start_time": "2025-01-21T15:24:56.270Z"
   },
   {
    "duration": 235,
    "start_time": "2025-01-21T15:25:45.604Z"
   },
   {
    "duration": 244314,
    "start_time": "2025-01-21T15:26:52.606Z"
   },
   {
    "duration": 15,
    "start_time": "2025-01-21T15:38:18.914Z"
   },
   {
    "duration": 205,
    "start_time": "2025-01-21T15:38:33.830Z"
   },
   {
    "duration": 3,
    "start_time": "2025-01-21T15:41:20.512Z"
   },
   {
    "duration": 185,
    "start_time": "2025-01-21T15:43:36.152Z"
   },
   {
    "duration": 185,
    "start_time": "2025-01-21T15:43:58.672Z"
   },
   {
    "duration": 186,
    "start_time": "2025-01-21T15:44:04.534Z"
   },
   {
    "duration": 183,
    "start_time": "2025-01-21T15:44:09.173Z"
   },
   {
    "duration": 5904,
    "start_time": "2025-01-21T15:45:44.927Z"
   },
   {
    "duration": 241679,
    "start_time": "2025-01-21T15:45:56.284Z"
   },
   {
    "duration": 236,
    "start_time": "2025-01-21T15:53:28.714Z"
   },
   {
    "duration": 258,
    "start_time": "2025-01-21T15:56:08.850Z"
   },
   {
    "duration": 394,
    "start_time": "2025-01-21T15:56:33.149Z"
   },
   {
    "duration": 260,
    "start_time": "2025-01-21T15:56:49.692Z"
   },
   {
    "duration": 226,
    "start_time": "2025-01-21T15:57:10.289Z"
   },
   {
    "duration": 236,
    "start_time": "2025-01-21T15:57:15.301Z"
   },
   {
    "duration": 219,
    "start_time": "2025-01-21T15:59:44.505Z"
   },
   {
    "duration": 220,
    "start_time": "2025-01-21T15:59:49.238Z"
   },
   {
    "duration": 228,
    "start_time": "2025-01-21T15:59:53.488Z"
   },
   {
    "duration": 238,
    "start_time": "2025-01-21T16:28:44.825Z"
   },
   {
    "duration": 4,
    "start_time": "2025-01-21T16:33:18.332Z"
   },
   {
    "duration": 5357,
    "start_time": "2025-01-21T16:36:25.248Z"
   },
   {
    "duration": 3,
    "start_time": "2025-01-21T16:38:20.875Z"
   },
   {
    "duration": 13,
    "start_time": "2025-01-21T16:38:27.031Z"
   },
   {
    "duration": 15,
    "start_time": "2025-01-21T16:38:34.149Z"
   },
   {
    "duration": 101205,
    "start_time": "2025-01-21T16:39:08.292Z"
   },
   {
    "duration": 101168,
    "start_time": "2025-01-21T16:41:01.820Z"
   },
   {
    "duration": 14,
    "start_time": "2025-01-21T16:43:41.260Z"
   },
   {
    "duration": 14,
    "start_time": "2025-01-21T16:44:24.022Z"
   },
   {
    "duration": 3,
    "start_time": "2025-01-21T16:44:34.204Z"
   },
   {
    "duration": 16,
    "start_time": "2025-01-21T16:44:43.169Z"
   },
   {
    "duration": 7,
    "start_time": "2025-01-21T16:44:54.092Z"
   },
   {
    "duration": 7,
    "start_time": "2025-01-21T16:45:04.496Z"
   },
   {
    "duration": 14,
    "start_time": "2025-01-21T16:45:37.004Z"
   },
   {
    "duration": 16,
    "start_time": "2025-01-21T16:45:46.076Z"
   },
   {
    "duration": 4,
    "start_time": "2025-01-21T16:46:27.183Z"
   },
   {
    "duration": 15,
    "start_time": "2025-01-21T16:47:32.977Z"
   },
   {
    "duration": 8,
    "start_time": "2025-01-21T16:47:39.391Z"
   },
   {
    "duration": 8,
    "start_time": "2025-01-21T16:47:44.973Z"
   },
   {
    "duration": 4,
    "start_time": "2025-01-21T16:47:54.266Z"
   },
   {
    "duration": 4,
    "start_time": "2025-01-21T16:48:00.271Z"
   },
   {
    "duration": 4,
    "start_time": "2025-01-21T16:48:03.919Z"
   },
   {
    "duration": 6,
    "start_time": "2025-01-21T16:49:45.897Z"
   },
   {
    "duration": 409506,
    "start_time": "2025-01-21T16:57:05.589Z"
   },
   {
    "duration": 4,
    "start_time": "2025-01-21T17:03:55.097Z"
   },
   {
    "duration": 237,
    "start_time": "2025-01-21T17:05:02.804Z"
   },
   {
    "duration": 11,
    "start_time": "2025-01-21T17:06:03.739Z"
   },
   {
    "duration": 1525994,
    "start_time": "2025-01-21T17:08:58.508Z"
   },
   {
    "duration": 9960,
    "start_time": "2025-01-21T17:41:10.119Z"
   },
   {
    "duration": 6891,
    "start_time": "2025-01-21T17:41:39.573Z"
   },
   {
    "duration": 6420,
    "start_time": "2025-01-21T17:41:50.510Z"
   },
   {
    "duration": 12793,
    "start_time": "2025-01-21T17:42:01.031Z"
   },
   {
    "duration": 10278,
    "start_time": "2025-01-21T17:45:56.311Z"
   },
   {
    "duration": 10419,
    "start_time": "2025-01-21T17:46:31.014Z"
   },
   {
    "duration": 10237,
    "start_time": "2025-01-21T17:46:48.714Z"
   },
   {
    "duration": 101,
    "start_time": "2025-01-21T17:48:23.245Z"
   },
   {
    "duration": 226,
    "start_time": "2025-01-21T17:48:36.808Z"
   },
   {
    "duration": 248444,
    "start_time": "2025-01-21T17:54:37.897Z"
   },
   {
    "duration": 20,
    "start_time": "2025-01-21T18:01:35.422Z"
   },
   {
    "duration": 9119,
    "start_time": "2025-01-21T18:02:37.019Z"
   },
   {
    "duration": 19,
    "start_time": "2025-01-21T18:02:53.967Z"
   },
   {
    "duration": 13,
    "start_time": "2025-01-21T18:02:58.476Z"
   },
   {
    "duration": 20,
    "start_time": "2025-01-21T18:03:19.202Z"
   },
   {
    "duration": 2,
    "start_time": "2025-01-21T18:03:39.019Z"
   },
   {
    "duration": 15,
    "start_time": "2025-01-21T18:03:42.916Z"
   },
   {
    "duration": 1027,
    "start_time": "2025-01-21T18:04:08.505Z"
   },
   {
    "duration": 36,
    "start_time": "2025-01-21T18:04:09.535Z"
   },
   {
    "duration": 20,
    "start_time": "2025-01-21T18:04:09.573Z"
   },
   {
    "duration": 10,
    "start_time": "2025-01-21T18:04:09.595Z"
   },
   {
    "duration": 11,
    "start_time": "2025-01-21T18:04:09.607Z"
   },
   {
    "duration": 7,
    "start_time": "2025-01-21T18:04:09.621Z"
   },
   {
    "duration": 438,
    "start_time": "2025-01-21T18:04:09.629Z"
   },
   {
    "duration": 289,
    "start_time": "2025-01-21T18:04:10.069Z"
   },
   {
    "duration": 6,
    "start_time": "2025-01-21T18:04:10.359Z"
   },
   {
    "duration": 47,
    "start_time": "2025-01-21T18:04:10.369Z"
   },
   {
    "duration": 12,
    "start_time": "2025-01-21T18:04:10.418Z"
   },
   {
    "duration": 4,
    "start_time": "2025-01-21T18:04:10.432Z"
   },
   {
    "duration": 17,
    "start_time": "2025-01-21T18:04:10.438Z"
   },
   {
    "duration": 31,
    "start_time": "2025-01-21T18:04:10.456Z"
   },
   {
    "duration": 13,
    "start_time": "2025-01-21T18:04:10.489Z"
   },
   {
    "duration": 7,
    "start_time": "2025-01-21T18:04:10.504Z"
   },
   {
    "duration": 5,
    "start_time": "2025-01-21T18:04:10.513Z"
   },
   {
    "duration": 5,
    "start_time": "2025-01-21T18:04:10.519Z"
   },
   {
    "duration": 7,
    "start_time": "2025-01-21T18:04:10.526Z"
   },
   {
    "duration": 5,
    "start_time": "2025-01-21T18:04:10.535Z"
   },
   {
    "duration": 49,
    "start_time": "2025-01-21T18:04:10.542Z"
   },
   {
    "duration": 7,
    "start_time": "2025-01-21T18:04:10.592Z"
   },
   {
    "duration": 20,
    "start_time": "2025-01-21T18:04:10.601Z"
   },
   {
    "duration": 4,
    "start_time": "2025-01-21T18:04:10.622Z"
   },
   {
    "duration": 16,
    "start_time": "2025-01-21T18:04:10.628Z"
   },
   {
    "duration": 127,
    "start_time": "2025-01-21T18:04:10.646Z"
   },
   {
    "duration": 6,
    "start_time": "2025-01-21T18:04:10.775Z"
   },
   {
    "duration": 16,
    "start_time": "2025-01-21T18:04:10.789Z"
   },
   {
    "duration": 5,
    "start_time": "2025-01-21T18:04:10.806Z"
   },
   {
    "duration": 366,
    "start_time": "2025-01-21T18:04:10.812Z"
   },
   {
    "duration": 10,
    "start_time": "2025-01-21T18:04:11.179Z"
   },
   {
    "duration": 30,
    "start_time": "2025-01-21T18:04:11.191Z"
   },
   {
    "duration": 476,
    "start_time": "2025-01-21T18:04:11.223Z"
   },
   {
    "duration": 3,
    "start_time": "2025-01-21T18:04:11.702Z"
   },
   {
    "duration": 1425,
    "start_time": "2025-01-21T18:04:11.708Z"
   },
   {
    "duration": 258,
    "start_time": "2025-01-21T18:04:13.135Z"
   },
   {
    "duration": 0,
    "start_time": "2025-01-21T18:04:13.396Z"
   },
   {
    "duration": 0,
    "start_time": "2025-01-21T18:04:13.397Z"
   },
   {
    "duration": 0,
    "start_time": "2025-01-21T18:04:13.399Z"
   },
   {
    "duration": 0,
    "start_time": "2025-01-21T18:04:13.400Z"
   },
   {
    "duration": 4,
    "start_time": "2025-01-21T18:04:57.932Z"
   },
   {
    "duration": 18,
    "start_time": "2025-01-21T18:05:29.301Z"
   },
   {
    "duration": 2400,
    "start_time": "2025-01-21T18:06:28.593Z"
   },
   {
    "duration": 337,
    "start_time": "2025-01-21T18:06:44.553Z"
   },
   {
    "duration": 335,
    "start_time": "2025-01-21T18:06:51.918Z"
   },
   {
    "duration": 354,
    "start_time": "2025-01-21T18:06:56.659Z"
   },
   {
    "duration": 353,
    "start_time": "2025-01-21T18:07:07.321Z"
   },
   {
    "duration": 53084,
    "start_time": "2025-01-21T18:07:38.407Z"
   },
   {
    "duration": 31,
    "start_time": "2025-01-21T18:09:34.107Z"
   },
   {
    "duration": 34,
    "start_time": "2025-01-21T18:16:48.582Z"
   },
   {
    "duration": 550066,
    "start_time": "2025-01-21T18:17:25.031Z"
   },
   {
    "duration": 3328,
    "start_time": "2025-01-21T18:30:45.171Z"
   },
   {
    "duration": 19,
    "start_time": "2025-01-21T18:35:20.449Z"
   },
   {
    "duration": 5713298,
    "start_time": "2025-01-21T18:35:26.898Z"
   },
   {
    "duration": 18,
    "start_time": "2025-01-21T20:12:57.792Z"
   },
   {
    "duration": 2687,
    "start_time": "2025-01-21T20:13:43.749Z"
   },
   {
    "duration": 2516,
    "start_time": "2025-01-21T20:14:28.072Z"
   },
   {
    "duration": 3087,
    "start_time": "2025-01-21T20:16:22.113Z"
   },
   {
    "duration": 3,
    "start_time": "2025-01-21T20:17:12.655Z"
   },
   {
    "duration": 2,
    "start_time": "2025-01-21T20:17:34.585Z"
   },
   {
    "duration": 10369,
    "start_time": "2025-01-21T20:19:56.418Z"
   },
   {
    "duration": 41,
    "start_time": "2025-01-21T20:23:33.224Z"
   },
   {
    "duration": 4,
    "start_time": "2025-01-21T20:23:46.079Z"
   },
   {
    "duration": 436,
    "start_time": "2025-01-21T20:24:03.988Z"
   },
   {
    "duration": 90,
    "start_time": "2025-01-21T20:24:19.654Z"
   },
   {
    "duration": 7670,
    "start_time": "2025-01-21T20:24:31.630Z"
   },
   {
    "duration": 122,
    "start_time": "2025-01-21T20:28:40.816Z"
   },
   {
    "duration": 4461,
    "start_time": "2025-01-21T20:29:10.270Z"
   },
   {
    "duration": 163,
    "start_time": "2025-01-22T13:45:25.170Z"
   },
   {
    "duration": 2871,
    "start_time": "2025-01-22T13:45:44.957Z"
   },
   {
    "duration": 66,
    "start_time": "2025-01-22T13:45:47.832Z"
   },
   {
    "duration": 21,
    "start_time": "2025-01-22T13:45:47.900Z"
   },
   {
    "duration": 11,
    "start_time": "2025-01-22T13:45:47.925Z"
   },
   {
    "duration": 14,
    "start_time": "2025-01-22T13:45:47.937Z"
   },
   {
    "duration": 21,
    "start_time": "2025-01-22T13:45:47.952Z"
   },
   {
    "duration": 503,
    "start_time": "2025-01-22T13:45:47.975Z"
   },
   {
    "duration": 316,
    "start_time": "2025-01-22T13:45:48.480Z"
   },
   {
    "duration": 6,
    "start_time": "2025-01-22T13:45:48.798Z"
   },
   {
    "duration": 34,
    "start_time": "2025-01-22T13:45:48.808Z"
   },
   {
    "duration": 37,
    "start_time": "2025-01-22T13:45:48.844Z"
   },
   {
    "duration": 6,
    "start_time": "2025-01-22T13:45:48.882Z"
   },
   {
    "duration": 18,
    "start_time": "2025-01-22T13:45:48.889Z"
   },
   {
    "duration": 13,
    "start_time": "2025-01-22T13:45:48.909Z"
   },
   {
    "duration": 14,
    "start_time": "2025-01-22T13:45:48.924Z"
   },
   {
    "duration": 39,
    "start_time": "2025-01-22T13:45:48.939Z"
   },
   {
    "duration": 5,
    "start_time": "2025-01-22T13:45:48.981Z"
   },
   {
    "duration": 5,
    "start_time": "2025-01-22T13:45:48.988Z"
   },
   {
    "duration": 6,
    "start_time": "2025-01-22T13:45:48.995Z"
   },
   {
    "duration": 7,
    "start_time": "2025-01-22T13:45:49.003Z"
   },
   {
    "duration": 6,
    "start_time": "2025-01-22T13:45:49.011Z"
   },
   {
    "duration": 9,
    "start_time": "2025-01-22T13:45:49.019Z"
   },
   {
    "duration": 50,
    "start_time": "2025-01-22T13:45:49.029Z"
   },
   {
    "duration": 26,
    "start_time": "2025-01-22T13:45:49.080Z"
   },
   {
    "duration": 8,
    "start_time": "2025-01-22T13:45:49.108Z"
   },
   {
    "duration": 17,
    "start_time": "2025-01-22T13:45:49.117Z"
   },
   {
    "duration": 142,
    "start_time": "2025-01-22T13:45:49.136Z"
   },
   {
    "duration": 7,
    "start_time": "2025-01-22T13:45:49.281Z"
   },
   {
    "duration": 17,
    "start_time": "2025-01-22T13:45:49.289Z"
   },
   {
    "duration": 5,
    "start_time": "2025-01-22T13:45:49.308Z"
   },
   {
    "duration": 378,
    "start_time": "2025-01-22T13:45:49.315Z"
   },
   {
    "duration": 3,
    "start_time": "2025-01-22T13:45:49.694Z"
   },
   {
    "duration": 28,
    "start_time": "2025-01-22T13:45:49.699Z"
   },
   {
    "duration": 475,
    "start_time": "2025-01-22T13:45:49.729Z"
   },
   {
    "duration": 5,
    "start_time": "2025-01-22T13:45:50.205Z"
   },
   {
    "duration": 7416,
    "start_time": "2025-01-22T13:45:50.212Z"
   },
   {
    "duration": 276,
    "start_time": "2025-01-22T13:45:57.631Z"
   },
   {
    "duration": 4572,
    "start_time": "2025-01-22T13:45:57.909Z"
   },
   {
    "duration": 1,
    "start_time": "2025-01-22T13:46:02.483Z"
   },
   {
    "duration": 0,
    "start_time": "2025-01-22T13:46:02.485Z"
   },
   {
    "duration": 0,
    "start_time": "2025-01-22T13:46:02.486Z"
   },
   {
    "duration": 0,
    "start_time": "2025-01-22T13:46:02.487Z"
   },
   {
    "duration": 0,
    "start_time": "2025-01-22T13:46:02.489Z"
   },
   {
    "duration": 8,
    "start_time": "2025-01-22T13:46:19.812Z"
   },
   {
    "duration": 5,
    "start_time": "2025-01-22T13:46:33.031Z"
   },
   {
    "duration": 7976,
    "start_time": "2025-01-22T13:47:46.337Z"
   },
   {
    "duration": 4461,
    "start_time": "2025-01-22T13:48:09.889Z"
   },
   {
    "duration": 4,
    "start_time": "2025-01-22T13:53:37.757Z"
   },
   {
    "duration": 243,
    "start_time": "2025-01-22T13:57:36.830Z"
   },
   {
    "duration": 1129,
    "start_time": "2025-01-22T13:58:19.446Z"
   },
   {
    "duration": 43,
    "start_time": "2025-01-22T13:58:20.577Z"
   },
   {
    "duration": 21,
    "start_time": "2025-01-22T13:58:20.622Z"
   },
   {
    "duration": 10,
    "start_time": "2025-01-22T13:58:20.645Z"
   },
   {
    "duration": 16,
    "start_time": "2025-01-22T13:58:20.659Z"
   },
   {
    "duration": 7,
    "start_time": "2025-01-22T13:58:20.677Z"
   },
   {
    "duration": 489,
    "start_time": "2025-01-22T13:58:20.685Z"
   },
   {
    "duration": 285,
    "start_time": "2025-01-22T13:58:21.176Z"
   },
   {
    "duration": 13,
    "start_time": "2025-01-22T13:58:21.463Z"
   },
   {
    "duration": 34,
    "start_time": "2025-01-22T13:58:21.478Z"
   },
   {
    "duration": 12,
    "start_time": "2025-01-22T13:58:21.514Z"
   },
   {
    "duration": 6,
    "start_time": "2025-01-22T13:58:21.528Z"
   },
   {
    "duration": 44,
    "start_time": "2025-01-22T13:58:21.535Z"
   },
   {
    "duration": 20,
    "start_time": "2025-01-22T13:58:21.584Z"
   },
   {
    "duration": 19,
    "start_time": "2025-01-22T13:58:21.607Z"
   },
   {
    "duration": 12,
    "start_time": "2025-01-22T13:58:21.628Z"
   },
   {
    "duration": 5,
    "start_time": "2025-01-22T13:58:21.643Z"
   },
   {
    "duration": 23,
    "start_time": "2025-01-22T13:58:21.650Z"
   },
   {
    "duration": 6,
    "start_time": "2025-01-22T13:58:21.675Z"
   },
   {
    "duration": 7,
    "start_time": "2025-01-22T13:58:21.683Z"
   },
   {
    "duration": 4,
    "start_time": "2025-01-22T13:58:21.692Z"
   },
   {
    "duration": 7,
    "start_time": "2025-01-22T13:58:21.698Z"
   },
   {
    "duration": 5,
    "start_time": "2025-01-22T13:58:21.707Z"
   },
   {
    "duration": 8,
    "start_time": "2025-01-22T13:58:21.714Z"
   },
   {
    "duration": 62,
    "start_time": "2025-01-22T13:58:21.724Z"
   },
   {
    "duration": 12,
    "start_time": "2025-01-22T13:58:21.788Z"
   },
   {
    "duration": 19,
    "start_time": "2025-01-22T13:58:21.803Z"
   },
   {
    "duration": 107,
    "start_time": "2025-01-22T13:58:21.825Z"
   },
   {
    "duration": 10,
    "start_time": "2025-01-22T13:58:21.935Z"
   },
   {
    "duration": 22,
    "start_time": "2025-01-22T13:58:21.948Z"
   },
   {
    "duration": 6,
    "start_time": "2025-01-22T13:58:21.973Z"
   },
   {
    "duration": 389,
    "start_time": "2025-01-22T13:58:21.982Z"
   },
   {
    "duration": 3,
    "start_time": "2025-01-22T13:58:22.373Z"
   },
   {
    "duration": 2,
    "start_time": "2025-01-22T13:58:22.379Z"
   },
   {
    "duration": 3,
    "start_time": "2025-01-22T13:58:22.383Z"
   },
   {
    "duration": 255,
    "start_time": "2025-01-22T13:58:22.388Z"
   },
   {
    "duration": 0,
    "start_time": "2025-01-22T13:58:22.645Z"
   },
   {
    "duration": 0,
    "start_time": "2025-01-22T13:58:22.647Z"
   },
   {
    "duration": 0,
    "start_time": "2025-01-22T13:58:22.648Z"
   },
   {
    "duration": 0,
    "start_time": "2025-01-22T13:58:22.650Z"
   },
   {
    "duration": 0,
    "start_time": "2025-01-22T13:58:22.651Z"
   },
   {
    "duration": 0,
    "start_time": "2025-01-22T13:58:22.652Z"
   },
   {
    "duration": 0,
    "start_time": "2025-01-22T13:58:22.654Z"
   },
   {
    "duration": 0,
    "start_time": "2025-01-22T13:58:22.654Z"
   },
   {
    "duration": 0,
    "start_time": "2025-01-22T13:58:22.670Z"
   },
   {
    "duration": 5,
    "start_time": "2025-01-22T13:58:46.629Z"
   },
   {
    "duration": 35,
    "start_time": "2025-01-22T13:58:52.503Z"
   },
   {
    "duration": 1055,
    "start_time": "2025-01-22T13:58:58.217Z"
   },
   {
    "duration": 32,
    "start_time": "2025-01-22T13:58:59.274Z"
   },
   {
    "duration": 24,
    "start_time": "2025-01-22T13:58:59.307Z"
   },
   {
    "duration": 12,
    "start_time": "2025-01-22T13:58:59.334Z"
   },
   {
    "duration": 26,
    "start_time": "2025-01-22T13:58:59.349Z"
   },
   {
    "duration": 11,
    "start_time": "2025-01-22T13:58:59.378Z"
   },
   {
    "duration": 476,
    "start_time": "2025-01-22T13:58:59.390Z"
   },
   {
    "duration": 291,
    "start_time": "2025-01-22T13:58:59.868Z"
   },
   {
    "duration": 7,
    "start_time": "2025-01-22T13:59:00.170Z"
   },
   {
    "duration": 37,
    "start_time": "2025-01-22T13:59:00.178Z"
   },
   {
    "duration": 13,
    "start_time": "2025-01-22T13:59:00.218Z"
   },
   {
    "duration": 6,
    "start_time": "2025-01-22T13:59:00.233Z"
   },
   {
    "duration": 44,
    "start_time": "2025-01-22T13:59:00.241Z"
   },
   {
    "duration": 11,
    "start_time": "2025-01-22T13:59:00.288Z"
   },
   {
    "duration": 14,
    "start_time": "2025-01-22T13:59:00.301Z"
   },
   {
    "duration": 10,
    "start_time": "2025-01-22T13:59:00.317Z"
   },
   {
    "duration": 6,
    "start_time": "2025-01-22T13:59:00.332Z"
   },
   {
    "duration": 31,
    "start_time": "2025-01-22T13:59:00.340Z"
   },
   {
    "duration": 6,
    "start_time": "2025-01-22T13:59:00.373Z"
   },
   {
    "duration": 5,
    "start_time": "2025-01-22T13:59:00.381Z"
   },
   {
    "duration": 4,
    "start_time": "2025-01-22T13:59:00.388Z"
   },
   {
    "duration": 8,
    "start_time": "2025-01-22T13:59:00.394Z"
   },
   {
    "duration": 7,
    "start_time": "2025-01-22T13:59:00.404Z"
   },
   {
    "duration": 8,
    "start_time": "2025-01-22T13:59:00.412Z"
   },
   {
    "duration": 57,
    "start_time": "2025-01-22T13:59:00.422Z"
   },
   {
    "duration": 6,
    "start_time": "2025-01-22T13:59:00.481Z"
   },
   {
    "duration": 17,
    "start_time": "2025-01-22T13:59:00.489Z"
   },
   {
    "duration": 118,
    "start_time": "2025-01-22T13:59:00.508Z"
   },
   {
    "duration": 7,
    "start_time": "2025-01-22T13:59:00.627Z"
   },
   {
    "duration": 22,
    "start_time": "2025-01-22T13:59:00.635Z"
   },
   {
    "duration": 5,
    "start_time": "2025-01-22T13:59:00.670Z"
   },
   {
    "duration": 350,
    "start_time": "2025-01-22T13:59:00.677Z"
   },
   {
    "duration": 3,
    "start_time": "2025-01-22T13:59:01.029Z"
   },
   {
    "duration": 40,
    "start_time": "2025-01-22T13:59:01.034Z"
   },
   {
    "duration": 3,
    "start_time": "2025-01-22T13:59:01.076Z"
   },
   {
    "duration": 507,
    "start_time": "2025-01-22T13:59:01.081Z"
   },
   {
    "duration": 5,
    "start_time": "2025-01-22T13:59:01.590Z"
   },
   {
    "duration": 2475,
    "start_time": "2025-01-22T13:59:01.598Z"
   },
   {
    "duration": 250,
    "start_time": "2025-01-22T13:59:04.075Z"
   },
   {
    "duration": 3011,
    "start_time": "2025-01-22T13:59:04.327Z"
   },
   {
    "duration": 0,
    "start_time": "2025-01-22T13:59:07.341Z"
   },
   {
    "duration": 0,
    "start_time": "2025-01-22T13:59:07.343Z"
   },
   {
    "duration": 0,
    "start_time": "2025-01-22T13:59:07.344Z"
   },
   {
    "duration": 0,
    "start_time": "2025-01-22T13:59:07.345Z"
   },
   {
    "duration": 0,
    "start_time": "2025-01-22T13:59:07.346Z"
   },
   {
    "duration": 7875,
    "start_time": "2025-01-22T13:59:31.184Z"
   },
   {
    "duration": 4484,
    "start_time": "2025-01-22T13:59:48.013Z"
   },
   {
    "duration": 146,
    "start_time": "2025-01-22T14:06:41.158Z"
   },
   {
    "duration": 3,
    "start_time": "2025-01-22T14:07:45.022Z"
   },
   {
    "duration": 279,
    "start_time": "2025-01-22T14:08:10.208Z"
   },
   {
    "duration": 46,
    "start_time": "2025-01-22T14:09:33.426Z"
   },
   {
    "duration": 41,
    "start_time": "2025-01-22T14:09:41.325Z"
   },
   {
    "duration": 4,
    "start_time": "2025-01-22T14:11:02.825Z"
   },
   {
    "duration": 1098,
    "start_time": "2025-01-22T14:11:35.502Z"
   },
   {
    "duration": 47,
    "start_time": "2025-01-22T14:11:36.602Z"
   },
   {
    "duration": 21,
    "start_time": "2025-01-22T14:11:36.651Z"
   },
   {
    "duration": 10,
    "start_time": "2025-01-22T14:11:36.674Z"
   },
   {
    "duration": 10,
    "start_time": "2025-01-22T14:11:36.686Z"
   },
   {
    "duration": 7,
    "start_time": "2025-01-22T14:11:36.698Z"
   },
   {
    "duration": 457,
    "start_time": "2025-01-22T14:11:36.706Z"
   },
   {
    "duration": 291,
    "start_time": "2025-01-22T14:11:37.165Z"
   },
   {
    "duration": 14,
    "start_time": "2025-01-22T14:11:37.458Z"
   },
   {
    "duration": 32,
    "start_time": "2025-01-22T14:11:37.474Z"
   },
   {
    "duration": 13,
    "start_time": "2025-01-22T14:11:37.508Z"
   },
   {
    "duration": 6,
    "start_time": "2025-01-22T14:11:37.522Z"
   },
   {
    "duration": 43,
    "start_time": "2025-01-22T14:11:37.529Z"
   },
   {
    "duration": 10,
    "start_time": "2025-01-22T14:11:37.576Z"
   },
   {
    "duration": 14,
    "start_time": "2025-01-22T14:11:37.587Z"
   },
   {
    "duration": 8,
    "start_time": "2025-01-22T14:11:37.602Z"
   },
   {
    "duration": 6,
    "start_time": "2025-01-22T14:11:37.612Z"
   },
   {
    "duration": 5,
    "start_time": "2025-01-22T14:11:37.619Z"
   },
   {
    "duration": 45,
    "start_time": "2025-01-22T14:11:37.626Z"
   },
   {
    "duration": 6,
    "start_time": "2025-01-22T14:11:37.672Z"
   },
   {
    "duration": 6,
    "start_time": "2025-01-22T14:11:37.681Z"
   },
   {
    "duration": 8,
    "start_time": "2025-01-22T14:11:37.688Z"
   },
   {
    "duration": 6,
    "start_time": "2025-01-22T14:11:37.698Z"
   },
   {
    "duration": 7,
    "start_time": "2025-01-22T14:11:37.705Z"
   },
   {
    "duration": 20,
    "start_time": "2025-01-22T14:11:37.713Z"
   },
   {
    "duration": 38,
    "start_time": "2025-01-22T14:11:37.735Z"
   },
   {
    "duration": 17,
    "start_time": "2025-01-22T14:11:37.776Z"
   },
   {
    "duration": 114,
    "start_time": "2025-01-22T14:11:37.794Z"
   },
   {
    "duration": 6,
    "start_time": "2025-01-22T14:11:37.910Z"
   },
   {
    "duration": 15,
    "start_time": "2025-01-22T14:11:37.919Z"
   },
   {
    "duration": 5,
    "start_time": "2025-01-22T14:11:37.935Z"
   },
   {
    "duration": 366,
    "start_time": "2025-01-22T14:11:37.942Z"
   },
   {
    "duration": 3,
    "start_time": "2025-01-22T14:11:38.310Z"
   },
   {
    "duration": 28,
    "start_time": "2025-01-22T14:11:38.315Z"
   },
   {
    "duration": 3,
    "start_time": "2025-01-22T14:11:38.345Z"
   },
   {
    "duration": 413,
    "start_time": "2025-01-22T14:11:38.370Z"
   },
   {
    "duration": 4,
    "start_time": "2025-01-22T14:11:38.785Z"
   },
   {
    "duration": 6184,
    "start_time": "2025-01-22T14:11:38.791Z"
   },
   {
    "duration": 237,
    "start_time": "2025-01-22T14:11:44.977Z"
   },
   {
    "duration": 1588,
    "start_time": "2025-01-22T14:11:45.216Z"
   },
   {
    "duration": 0,
    "start_time": "2025-01-22T14:11:46.807Z"
   },
   {
    "duration": 0,
    "start_time": "2025-01-22T14:11:46.808Z"
   },
   {
    "duration": 0,
    "start_time": "2025-01-22T14:11:46.809Z"
   },
   {
    "duration": 1,
    "start_time": "2025-01-22T14:11:46.810Z"
   },
   {
    "duration": 0,
    "start_time": "2025-01-22T14:11:46.811Z"
   },
   {
    "duration": 0,
    "start_time": "2025-01-22T14:11:46.812Z"
   },
   {
    "duration": 1,
    "start_time": "2025-01-22T14:11:46.813Z"
   },
   {
    "duration": 5,
    "start_time": "2025-01-22T14:11:52.892Z"
   },
   {
    "duration": 277,
    "start_time": "2025-01-22T14:12:00.093Z"
   },
   {
    "duration": 7597,
    "start_time": "2025-01-22T14:12:05.706Z"
   },
   {
    "duration": 4380,
    "start_time": "2025-01-22T14:12:16.341Z"
   },
   {
    "duration": 470,
    "start_time": "2025-01-22T14:12:27.679Z"
   },
   {
    "duration": 7722,
    "start_time": "2025-01-22T14:12:29.819Z"
   },
   {
    "duration": 4398,
    "start_time": "2025-01-22T14:12:44.144Z"
   },
   {
    "duration": 6430,
    "start_time": "2025-01-22T14:14:04.068Z"
   },
   {
    "duration": 158,
    "start_time": "2025-01-22T14:14:23.894Z"
   },
   {
    "duration": 1082,
    "start_time": "2025-01-22T14:14:30.078Z"
   },
   {
    "duration": 38,
    "start_time": "2025-01-22T14:14:31.163Z"
   },
   {
    "duration": 22,
    "start_time": "2025-01-22T14:14:31.203Z"
   },
   {
    "duration": 8,
    "start_time": "2025-01-22T14:14:31.227Z"
   },
   {
    "duration": 10,
    "start_time": "2025-01-22T14:14:31.237Z"
   },
   {
    "duration": 23,
    "start_time": "2025-01-22T14:14:31.248Z"
   },
   {
    "duration": 438,
    "start_time": "2025-01-22T14:14:31.273Z"
   },
   {
    "duration": 272,
    "start_time": "2025-01-22T14:14:31.713Z"
   },
   {
    "duration": 7,
    "start_time": "2025-01-22T14:14:31.987Z"
   },
   {
    "duration": 32,
    "start_time": "2025-01-22T14:14:31.997Z"
   },
   {
    "duration": 13,
    "start_time": "2025-01-22T14:14:32.031Z"
   },
   {
    "duration": 26,
    "start_time": "2025-01-22T14:14:32.045Z"
   },
   {
    "duration": 18,
    "start_time": "2025-01-22T14:14:32.072Z"
   },
   {
    "duration": 10,
    "start_time": "2025-01-22T14:14:32.091Z"
   },
   {
    "duration": 12,
    "start_time": "2025-01-22T14:14:32.104Z"
   },
   {
    "duration": 8,
    "start_time": "2025-01-22T14:14:32.118Z"
   },
   {
    "duration": 6,
    "start_time": "2025-01-22T14:14:32.128Z"
   },
   {
    "duration": 39,
    "start_time": "2025-01-22T14:14:32.135Z"
   },
   {
    "duration": 6,
    "start_time": "2025-01-22T14:14:32.176Z"
   },
   {
    "duration": 6,
    "start_time": "2025-01-22T14:14:32.184Z"
   },
   {
    "duration": 5,
    "start_time": "2025-01-22T14:14:32.192Z"
   },
   {
    "duration": 8,
    "start_time": "2025-01-22T14:14:32.199Z"
   },
   {
    "duration": 6,
    "start_time": "2025-01-22T14:14:32.208Z"
   },
   {
    "duration": 7,
    "start_time": "2025-01-22T14:14:32.215Z"
   },
   {
    "duration": 65,
    "start_time": "2025-01-22T14:14:32.223Z"
   },
   {
    "duration": 6,
    "start_time": "2025-01-22T14:14:32.290Z"
   },
   {
    "duration": 17,
    "start_time": "2025-01-22T14:14:32.298Z"
   },
   {
    "duration": 114,
    "start_time": "2025-01-22T14:14:32.319Z"
   },
   {
    "duration": 6,
    "start_time": "2025-01-22T14:14:32.435Z"
   },
   {
    "duration": 29,
    "start_time": "2025-01-22T14:14:32.443Z"
   },
   {
    "duration": 5,
    "start_time": "2025-01-22T14:14:32.474Z"
   },
   {
    "duration": 349,
    "start_time": "2025-01-22T14:14:32.480Z"
   },
   {
    "duration": 3,
    "start_time": "2025-01-22T14:14:32.831Z"
   },
   {
    "duration": 40,
    "start_time": "2025-01-22T14:14:32.836Z"
   },
   {
    "duration": 2,
    "start_time": "2025-01-22T14:14:32.878Z"
   },
   {
    "duration": 420,
    "start_time": "2025-01-22T14:14:32.882Z"
   },
   {
    "duration": 5,
    "start_time": "2025-01-22T14:14:33.304Z"
   },
   {
    "duration": 4803,
    "start_time": "2025-01-22T14:14:33.310Z"
   },
   {
    "duration": 243,
    "start_time": "2025-01-22T14:14:38.115Z"
   },
   {
    "duration": 2089,
    "start_time": "2025-01-22T14:14:38.360Z"
   },
   {
    "duration": 0,
    "start_time": "2025-01-22T14:14:40.451Z"
   },
   {
    "duration": 0,
    "start_time": "2025-01-22T14:14:40.452Z"
   },
   {
    "duration": 0,
    "start_time": "2025-01-22T14:14:40.453Z"
   },
   {
    "duration": 0,
    "start_time": "2025-01-22T14:14:40.454Z"
   },
   {
    "duration": 0,
    "start_time": "2025-01-22T14:14:40.455Z"
   },
   {
    "duration": 0,
    "start_time": "2025-01-22T14:14:40.470Z"
   },
   {
    "duration": 0,
    "start_time": "2025-01-22T14:14:40.471Z"
   },
   {
    "duration": 5,
    "start_time": "2025-01-22T14:14:46.589Z"
   },
   {
    "duration": 159,
    "start_time": "2025-01-22T14:14:58.180Z"
   },
   {
    "duration": 1030,
    "start_time": "2025-01-22T14:15:03.458Z"
   },
   {
    "duration": 39,
    "start_time": "2025-01-22T14:15:04.490Z"
   },
   {
    "duration": 22,
    "start_time": "2025-01-22T14:15:04.530Z"
   },
   {
    "duration": 9,
    "start_time": "2025-01-22T14:15:04.554Z"
   },
   {
    "duration": 10,
    "start_time": "2025-01-22T14:15:04.570Z"
   },
   {
    "duration": 7,
    "start_time": "2025-01-22T14:15:04.582Z"
   },
   {
    "duration": 463,
    "start_time": "2025-01-22T14:15:04.591Z"
   },
   {
    "duration": 287,
    "start_time": "2025-01-22T14:15:05.056Z"
   },
   {
    "duration": 5,
    "start_time": "2025-01-22T14:15:05.346Z"
   },
   {
    "duration": 48,
    "start_time": "2025-01-22T14:15:05.353Z"
   },
   {
    "duration": 13,
    "start_time": "2025-01-22T14:15:05.402Z"
   },
   {
    "duration": 4,
    "start_time": "2025-01-22T14:15:05.417Z"
   },
   {
    "duration": 17,
    "start_time": "2025-01-22T14:15:05.423Z"
   },
   {
    "duration": 31,
    "start_time": "2025-01-22T14:15:05.444Z"
   },
   {
    "duration": 13,
    "start_time": "2025-01-22T14:15:05.477Z"
   },
   {
    "duration": 8,
    "start_time": "2025-01-22T14:15:05.491Z"
   },
   {
    "duration": 6,
    "start_time": "2025-01-22T14:15:05.501Z"
   },
   {
    "duration": 5,
    "start_time": "2025-01-22T14:15:05.508Z"
   },
   {
    "duration": 6,
    "start_time": "2025-01-22T14:15:05.514Z"
   },
   {
    "duration": 4,
    "start_time": "2025-01-22T14:15:05.522Z"
   },
   {
    "duration": 46,
    "start_time": "2025-01-22T14:15:05.528Z"
   },
   {
    "duration": 7,
    "start_time": "2025-01-22T14:15:05.576Z"
   },
   {
    "duration": 5,
    "start_time": "2025-01-22T14:15:05.584Z"
   },
   {
    "duration": 6,
    "start_time": "2025-01-22T14:15:05.591Z"
   },
   {
    "duration": 19,
    "start_time": "2025-01-22T14:15:05.599Z"
   },
   {
    "duration": 6,
    "start_time": "2025-01-22T14:15:05.619Z"
   },
   {
    "duration": 50,
    "start_time": "2025-01-22T14:15:05.626Z"
   },
   {
    "duration": 106,
    "start_time": "2025-01-22T14:15:05.678Z"
   },
   {
    "duration": 6,
    "start_time": "2025-01-22T14:15:05.786Z"
   },
   {
    "duration": 16,
    "start_time": "2025-01-22T14:15:05.794Z"
   },
   {
    "duration": 5,
    "start_time": "2025-01-22T14:15:05.812Z"
   },
   {
    "duration": 361,
    "start_time": "2025-01-22T14:15:05.819Z"
   },
   {
    "duration": 3,
    "start_time": "2025-01-22T14:15:06.182Z"
   },
   {
    "duration": 29,
    "start_time": "2025-01-22T14:15:06.186Z"
   },
   {
    "duration": 3,
    "start_time": "2025-01-22T14:15:06.217Z"
   },
   {
    "duration": 462,
    "start_time": "2025-01-22T14:15:06.222Z"
   },
   {
    "duration": 5,
    "start_time": "2025-01-22T14:15:06.686Z"
   },
   {
    "duration": 3279,
    "start_time": "2025-01-22T14:15:06.693Z"
   },
   {
    "duration": 244,
    "start_time": "2025-01-22T14:15:09.974Z"
   },
   {
    "duration": 1219,
    "start_time": "2025-01-22T14:15:10.220Z"
   },
   {
    "duration": 0,
    "start_time": "2025-01-22T14:15:11.441Z"
   },
   {
    "duration": 0,
    "start_time": "2025-01-22T14:15:11.443Z"
   },
   {
    "duration": 0,
    "start_time": "2025-01-22T14:15:11.444Z"
   },
   {
    "duration": 0,
    "start_time": "2025-01-22T14:15:11.445Z"
   },
   {
    "duration": 0,
    "start_time": "2025-01-22T14:15:11.446Z"
   },
   {
    "duration": 0,
    "start_time": "2025-01-22T14:15:11.447Z"
   },
   {
    "duration": 0,
    "start_time": "2025-01-22T14:15:11.448Z"
   },
   {
    "duration": 5,
    "start_time": "2025-01-22T14:15:17.269Z"
   },
   {
    "duration": 586,
    "start_time": "2025-01-22T14:15:20.069Z"
   },
   {
    "duration": 7595,
    "start_time": "2025-01-22T14:15:23.239Z"
   },
   {
    "duration": 11629,
    "start_time": "2025-01-22T14:15:50.784Z"
   },
   {
    "duration": 5702,
    "start_time": "2025-01-22T14:16:21.254Z"
   },
   {
    "duration": 299,
    "start_time": "2025-01-22T14:16:38.897Z"
   },
   {
    "duration": 8992,
    "start_time": "2025-01-22T14:16:40.679Z"
   },
   {
    "duration": 1197,
    "start_time": "2025-01-22T14:17:00.648Z"
   },
   {
    "duration": 995,
    "start_time": "2025-01-22T14:17:09.848Z"
   },
   {
    "duration": 1245,
    "start_time": "2025-01-22T14:17:14.885Z"
   },
   {
    "duration": 1350,
    "start_time": "2025-01-22T14:17:19.859Z"
   },
   {
    "duration": 1511,
    "start_time": "2025-01-22T14:18:01.895Z"
   },
   {
    "duration": 391,
    "start_time": "2025-01-22T14:18:17.029Z"
   },
   {
    "duration": 10085,
    "start_time": "2025-01-22T14:18:20.169Z"
   },
   {
    "duration": 1798,
    "start_time": "2025-01-22T14:18:35.190Z"
   },
   {
    "duration": 1345,
    "start_time": "2025-01-22T14:18:42.547Z"
   },
   {
    "duration": 1210,
    "start_time": "2025-01-22T14:18:47.678Z"
   },
   {
    "duration": 1096,
    "start_time": "2025-01-22T14:18:52.948Z"
   },
   {
    "duration": 1470,
    "start_time": "2025-01-22T14:18:58.895Z"
   },
   {
    "duration": 1649,
    "start_time": "2025-01-22T14:19:03.594Z"
   },
   {
    "duration": 2644,
    "start_time": "2025-01-22T14:19:09.929Z"
   },
   {
    "duration": 218,
    "start_time": "2025-01-22T14:19:24.870Z"
   },
   {
    "duration": 8375,
    "start_time": "2025-01-22T14:19:26.830Z"
   },
   {
    "duration": 939,
    "start_time": "2025-01-22T14:19:39.454Z"
   },
   {
    "duration": 1140,
    "start_time": "2025-01-22T14:19:45.780Z"
   },
   {
    "duration": 1298,
    "start_time": "2025-01-22T14:19:51.365Z"
   },
   {
    "duration": 245,
    "start_time": "2025-01-22T14:19:57.925Z"
   },
   {
    "duration": 8584,
    "start_time": "2025-01-22T14:20:00.570Z"
   },
   {
    "duration": 820,
    "start_time": "2025-01-22T14:20:12.947Z"
   },
   {
    "duration": 711,
    "start_time": "2025-01-22T14:20:16.913Z"
   },
   {
    "duration": 639,
    "start_time": "2025-01-22T14:20:21.141Z"
   },
   {
    "duration": 655,
    "start_time": "2025-01-22T14:20:25.019Z"
   },
   {
    "duration": 689,
    "start_time": "2025-01-22T14:20:28.327Z"
   },
   {
    "duration": 723,
    "start_time": "2025-01-22T14:20:31.865Z"
   },
   {
    "duration": 1464,
    "start_time": "2025-01-22T14:20:35.393Z"
   },
   {
    "duration": 10596,
    "start_time": "2025-01-22T14:20:39.664Z"
   },
   {
    "duration": 679,
    "start_time": "2025-01-22T14:20:55.279Z"
   },
   {
    "duration": 698,
    "start_time": "2025-01-22T14:21:01.147Z"
   },
   {
    "duration": 671,
    "start_time": "2025-01-22T14:21:05.354Z"
   },
   {
    "duration": 701,
    "start_time": "2025-01-22T14:21:08.947Z"
   },
   {
    "duration": 688,
    "start_time": "2025-01-22T14:21:13.039Z"
   },
   {
    "duration": 697,
    "start_time": "2025-01-22T14:21:17.129Z"
   },
   {
    "duration": 752,
    "start_time": "2025-01-22T14:22:05.613Z"
   },
   {
    "duration": 951,
    "start_time": "2025-01-22T14:22:10.102Z"
   },
   {
    "duration": 679,
    "start_time": "2025-01-22T14:22:15.197Z"
   },
   {
    "duration": 689,
    "start_time": "2025-01-22T14:22:18.944Z"
   },
   {
    "duration": 714,
    "start_time": "2025-01-22T14:22:23.641Z"
   },
   {
    "duration": 715,
    "start_time": "2025-01-22T14:22:27.200Z"
   },
   {
    "duration": 671,
    "start_time": "2025-01-22T14:22:34.051Z"
   },
   {
    "duration": 680,
    "start_time": "2025-01-22T14:22:41.717Z"
   },
   {
    "duration": 711,
    "start_time": "2025-01-22T14:22:46.919Z"
   },
   {
    "duration": 680,
    "start_time": "2025-01-22T14:22:50.260Z"
   },
   {
    "duration": 677,
    "start_time": "2025-01-22T14:22:53.236Z"
   },
   {
    "duration": 722,
    "start_time": "2025-01-22T14:22:56.522Z"
   },
   {
    "duration": 681,
    "start_time": "2025-01-22T14:23:00.755Z"
   },
   {
    "duration": 743,
    "start_time": "2025-01-22T14:23:06.271Z"
   },
   {
    "duration": 681,
    "start_time": "2025-01-22T14:23:09.769Z"
   },
   {
    "duration": 678,
    "start_time": "2025-01-22T14:23:14.084Z"
   },
   {
    "duration": 677,
    "start_time": "2025-01-22T14:23:18.214Z"
   },
   {
    "duration": 679,
    "start_time": "2025-01-22T14:23:24.906Z"
   },
   {
    "duration": 700,
    "start_time": "2025-01-22T14:23:29.406Z"
   },
   {
    "duration": 682,
    "start_time": "2025-01-22T14:23:34.510Z"
   },
   {
    "duration": 709,
    "start_time": "2025-01-22T14:23:46.585Z"
   },
   {
    "duration": 7,
    "start_time": "2025-01-22T15:46:54.648Z"
   },
   {
    "duration": 152,
    "start_time": "2025-01-22T15:47:16.338Z"
   },
   {
    "duration": 2671,
    "start_time": "2025-01-22T15:52:14.246Z"
   },
   {
    "duration": 61,
    "start_time": "2025-01-22T15:52:16.920Z"
   },
   {
    "duration": 22,
    "start_time": "2025-01-22T15:52:16.982Z"
   },
   {
    "duration": 9,
    "start_time": "2025-01-22T15:52:17.007Z"
   },
   {
    "duration": 9,
    "start_time": "2025-01-22T15:52:17.018Z"
   },
   {
    "duration": 7,
    "start_time": "2025-01-22T15:52:17.029Z"
   },
   {
    "duration": 536,
    "start_time": "2025-01-22T15:52:17.037Z"
   },
   {
    "duration": 305,
    "start_time": "2025-01-22T15:52:17.576Z"
   },
   {
    "duration": 6,
    "start_time": "2025-01-22T15:52:17.883Z"
   },
   {
    "duration": 50,
    "start_time": "2025-01-22T15:52:17.892Z"
   },
   {
    "duration": 12,
    "start_time": "2025-01-22T15:52:17.944Z"
   },
   {
    "duration": 5,
    "start_time": "2025-01-22T15:52:17.958Z"
   },
   {
    "duration": 18,
    "start_time": "2025-01-22T15:52:17.965Z"
   },
   {
    "duration": 29,
    "start_time": "2025-01-22T15:52:17.985Z"
   },
   {
    "duration": 12,
    "start_time": "2025-01-22T15:52:18.016Z"
   },
   {
    "duration": 8,
    "start_time": "2025-01-22T15:52:18.030Z"
   },
   {
    "duration": 5,
    "start_time": "2025-01-22T15:52:18.040Z"
   },
   {
    "duration": 6,
    "start_time": "2025-01-22T15:52:18.046Z"
   },
   {
    "duration": 6,
    "start_time": "2025-01-22T15:52:18.053Z"
   },
   {
    "duration": 6,
    "start_time": "2025-01-22T15:52:18.060Z"
   },
   {
    "duration": 43,
    "start_time": "2025-01-22T15:52:18.069Z"
   },
   {
    "duration": 9,
    "start_time": "2025-01-22T15:52:18.113Z"
   },
   {
    "duration": 6,
    "start_time": "2025-01-22T15:52:18.124Z"
   },
   {
    "duration": 7,
    "start_time": "2025-01-22T15:52:18.131Z"
   },
   {
    "duration": 21,
    "start_time": "2025-01-22T15:52:18.139Z"
   },
   {
    "duration": 7,
    "start_time": "2025-01-22T15:52:18.162Z"
   },
   {
    "duration": 54,
    "start_time": "2025-01-22T15:52:18.170Z"
   },
   {
    "duration": 118,
    "start_time": "2025-01-22T15:52:18.228Z"
   },
   {
    "duration": 6,
    "start_time": "2025-01-22T15:52:18.348Z"
   },
   {
    "duration": 17,
    "start_time": "2025-01-22T15:52:18.356Z"
   },
   {
    "duration": 5,
    "start_time": "2025-01-22T15:52:18.374Z"
   },
   {
    "duration": 353,
    "start_time": "2025-01-22T15:52:18.380Z"
   },
   {
    "duration": 3,
    "start_time": "2025-01-22T15:52:18.734Z"
   },
   {
    "duration": 28,
    "start_time": "2025-01-22T15:52:18.739Z"
   },
   {
    "duration": 2,
    "start_time": "2025-01-22T15:52:18.769Z"
   },
   {
    "duration": 444,
    "start_time": "2025-01-22T15:52:18.772Z"
   },
   {
    "duration": 4,
    "start_time": "2025-01-22T15:52:19.218Z"
   },
   {
    "duration": 10,
    "start_time": "2025-01-22T15:52:19.224Z"
   },
   {
    "duration": 255,
    "start_time": "2025-01-22T15:52:19.235Z"
   },
   {
    "duration": 79001,
    "start_time": "2025-01-22T15:52:19.491Z"
   },
   {
    "duration": 236,
    "start_time": "2025-01-22T15:53:38.494Z"
   },
   {
    "duration": 1076389,
    "start_time": "2025-01-22T15:53:38.732Z"
   },
   {
    "duration": 10142,
    "start_time": "2025-01-22T16:11:35.123Z"
   },
   {
    "duration": 192165,
    "start_time": "2025-01-22T16:11:45.267Z"
   },
   {
    "duration": 2413,
    "start_time": "2025-01-22T16:14:57.510Z"
   },
   {
    "duration": 8604,
    "start_time": "2025-01-22T16:14:59.925Z"
   },
   {
    "duration": 690,
    "start_time": "2025-01-22T16:15:08.531Z"
   },
   {
    "duration": 8324,
    "start_time": "2025-01-22T16:16:28.427Z"
   },
   {
    "duration": 326,
    "start_time": "2025-01-22T16:17:56.821Z"
   },
   {
    "duration": 5771,
    "start_time": "2025-01-22T16:19:06.819Z"
   },
   {
    "duration": 5353,
    "start_time": "2025-01-22T16:19:40.615Z"
   },
   {
    "duration": 4831,
    "start_time": "2025-01-22T16:19:49.740Z"
   },
   {
    "duration": 4529,
    "start_time": "2025-01-22T16:19:57.994Z"
   },
   {
    "duration": 4364,
    "start_time": "2025-01-22T16:20:09.062Z"
   },
   {
    "duration": 3584,
    "start_time": "2025-01-22T16:20:18.880Z"
   },
   {
    "duration": 5554,
    "start_time": "2025-01-22T16:20:29.890Z"
   },
   {
    "duration": 956,
    "start_time": "2025-01-22T16:21:18.084Z"
   },
   {
    "duration": 966,
    "start_time": "2025-01-22T16:21:30.755Z"
   },
   {
    "duration": 981,
    "start_time": "2025-01-22T16:21:35.932Z"
   },
   {
    "duration": 961,
    "start_time": "2025-01-22T16:21:41.882Z"
   },
   {
    "duration": 964,
    "start_time": "2025-01-22T16:21:59.056Z"
   },
   {
    "duration": 1003,
    "start_time": "2025-01-22T16:22:03.710Z"
   },
   {
    "duration": 1182,
    "start_time": "2025-01-22T16:22:12.939Z"
   },
   {
    "duration": 1432,
    "start_time": "2025-01-22T16:22:19.189Z"
   },
   {
    "duration": 1213,
    "start_time": "2025-01-22T16:22:24.503Z"
   },
   {
    "duration": 1072,
    "start_time": "2025-01-22T16:22:40.770Z"
   },
   {
    "duration": 1115,
    "start_time": "2025-01-22T16:22:52.700Z"
   },
   {
    "duration": 1081,
    "start_time": "2025-01-22T16:22:59.333Z"
   },
   {
    "duration": 1069,
    "start_time": "2025-01-22T16:23:04.769Z"
   },
   {
    "duration": 1188,
    "start_time": "2025-01-22T16:23:16.253Z"
   },
   {
    "duration": 1339,
    "start_time": "2025-01-22T16:23:21.770Z"
   },
   {
    "duration": 1651,
    "start_time": "2025-01-22T16:23:26.964Z"
   },
   {
    "duration": 2131,
    "start_time": "2025-01-22T16:23:32.195Z"
   },
   {
    "duration": 1435,
    "start_time": "2025-01-22T16:23:41.005Z"
   },
   {
    "duration": 1136,
    "start_time": "2025-01-22T16:23:49.295Z"
   },
   {
    "duration": 5649,
    "start_time": "2025-01-22T16:25:03.387Z"
   },
   {
    "duration": 0,
    "start_time": "2025-01-22T16:25:29.539Z"
   },
   {
    "duration": 5669,
    "start_time": "2025-01-22T16:25:35.453Z"
   },
   {
    "duration": 1647,
    "start_time": "2025-01-22T16:29:18.665Z"
   },
   {
    "duration": 1697,
    "start_time": "2025-01-22T16:29:24.220Z"
   },
   {
    "duration": 1676,
    "start_time": "2025-01-22T16:29:30.146Z"
   },
   {
    "duration": 1621,
    "start_time": "2025-01-22T16:29:54.404Z"
   },
   {
    "duration": 1609,
    "start_time": "2025-01-22T16:30:00.208Z"
   },
   {
    "duration": 1484,
    "start_time": "2025-01-22T16:30:06.134Z"
   },
   {
    "duration": 1348,
    "start_time": "2025-01-22T16:30:11.072Z"
   },
   {
    "duration": 1346,
    "start_time": "2025-01-22T16:30:18.068Z"
   },
   {
    "duration": 1123,
    "start_time": "2025-01-22T16:30:22.598Z"
   },
   {
    "duration": 1131,
    "start_time": "2025-01-22T16:30:26.884Z"
   },
   {
    "duration": 1119,
    "start_time": "2025-01-22T16:30:31.901Z"
   },
   {
    "duration": 1033,
    "start_time": "2025-01-22T16:30:37.107Z"
   },
   {
    "duration": 957,
    "start_time": "2025-01-22T16:30:42.162Z"
   },
   {
    "duration": 1019,
    "start_time": "2025-01-22T16:30:46.405Z"
   },
   {
    "duration": 981,
    "start_time": "2025-01-22T16:30:51.561Z"
   },
   {
    "duration": 1113,
    "start_time": "2025-01-22T16:30:57.197Z"
   },
   {
    "duration": 1024,
    "start_time": "2025-01-22T16:31:17.887Z"
   },
   {
    "duration": 1042,
    "start_time": "2025-01-22T16:31:23.070Z"
   },
   {
    "duration": 1008,
    "start_time": "2025-01-22T16:31:26.504Z"
   },
   {
    "duration": 1040,
    "start_time": "2025-01-22T16:31:31.571Z"
   },
   {
    "duration": 1035,
    "start_time": "2025-01-22T16:31:36.812Z"
   },
   {
    "duration": 977,
    "start_time": "2025-01-22T16:31:41.442Z"
   },
   {
    "duration": 1015,
    "start_time": "2025-01-22T16:31:46.196Z"
   },
   {
    "duration": 1022,
    "start_time": "2025-01-22T16:31:51.388Z"
   },
   {
    "duration": 1080,
    "start_time": "2025-01-22T16:31:57.162Z"
   },
   {
    "duration": 910,
    "start_time": "2025-01-22T16:32:10.030Z"
   },
   {
    "duration": 1001,
    "start_time": "2025-01-22T16:32:16.442Z"
   },
   {
    "duration": 995,
    "start_time": "2025-01-22T16:32:22.518Z"
   },
   {
    "duration": 923,
    "start_time": "2025-01-22T16:32:29.024Z"
   },
   {
    "duration": 997,
    "start_time": "2025-01-22T16:32:34.217Z"
   },
   {
    "duration": 981,
    "start_time": "2025-01-22T16:32:38.739Z"
   },
   {
    "duration": 999,
    "start_time": "2025-01-22T16:32:43.112Z"
   },
   {
    "duration": 1022,
    "start_time": "2025-01-22T16:34:56.996Z"
   },
   {
    "duration": 962,
    "start_time": "2025-01-22T16:35:01.851Z"
   },
   {
    "duration": 960,
    "start_time": "2025-01-22T16:35:07.763Z"
   },
   {
    "duration": 943,
    "start_time": "2025-01-22T16:35:21.400Z"
   },
   {
    "duration": 1049,
    "start_time": "2025-01-22T16:35:34.485Z"
   },
   {
    "duration": 1023,
    "start_time": "2025-01-22T16:35:39.496Z"
   },
   {
    "duration": 981,
    "start_time": "2025-01-22T16:35:43.230Z"
   },
   {
    "duration": 985,
    "start_time": "2025-01-22T16:35:46.533Z"
   },
   {
    "duration": 1001,
    "start_time": "2025-01-22T16:35:51.811Z"
   },
   {
    "duration": 998,
    "start_time": "2025-01-22T16:35:55.720Z"
   },
   {
    "duration": 995,
    "start_time": "2025-01-22T16:36:00.520Z"
   },
   {
    "duration": 951,
    "start_time": "2025-01-22T16:36:05.197Z"
   },
   {
    "duration": 856,
    "start_time": "2025-01-22T16:36:21.258Z"
   },
   {
    "duration": 926,
    "start_time": "2025-01-22T16:36:26.294Z"
   },
   {
    "duration": 863,
    "start_time": "2025-01-22T16:36:31.778Z"
   },
   {
    "duration": 853,
    "start_time": "2025-01-22T16:36:43.782Z"
   },
   {
    "duration": 889,
    "start_time": "2025-01-22T16:36:48.220Z"
   },
   {
    "duration": 904,
    "start_time": "2025-01-22T16:36:52.120Z"
   },
   {
    "duration": 899,
    "start_time": "2025-01-22T16:36:56.219Z"
   },
   {
    "duration": 916,
    "start_time": "2025-01-22T16:37:00.102Z"
   },
   {
    "duration": 882,
    "start_time": "2025-01-22T16:37:03.543Z"
   },
   {
    "duration": 1017,
    "start_time": "2025-01-22T16:37:07.193Z"
   },
   {
    "duration": 940,
    "start_time": "2025-01-22T16:37:11.300Z"
   },
   {
    "duration": 1048,
    "start_time": "2025-01-22T16:37:16.492Z"
   },
   {
    "duration": 1072,
    "start_time": "2025-01-22T16:37:20.468Z"
   },
   {
    "duration": 1111,
    "start_time": "2025-01-22T16:37:25.631Z"
   },
   {
    "duration": 1191,
    "start_time": "2025-01-22T16:37:32.025Z"
   },
   {
    "duration": 1457,
    "start_time": "2025-01-22T16:37:37.161Z"
   },
   {
    "duration": 1294,
    "start_time": "2025-01-22T16:37:42.624Z"
   },
   {
    "duration": 1309,
    "start_time": "2025-01-22T16:37:47.711Z"
   },
   {
    "duration": 1317,
    "start_time": "2025-01-22T16:37:53.312Z"
   },
   {
    "duration": 1412,
    "start_time": "2025-01-22T16:38:00.107Z"
   },
   {
    "duration": 1444,
    "start_time": "2025-01-22T16:38:05.177Z"
   },
   {
    "duration": 1620,
    "start_time": "2025-01-22T16:38:11.499Z"
   },
   {
    "duration": 1722,
    "start_time": "2025-01-22T16:38:16.407Z"
   },
   {
    "duration": 1826,
    "start_time": "2025-01-22T16:38:25.389Z"
   },
   {
    "duration": 1632,
    "start_time": "2025-01-22T16:38:31.786Z"
   },
   {
    "duration": 1663,
    "start_time": "2025-01-22T16:38:38.456Z"
   },
   {
    "duration": 1791,
    "start_time": "2025-01-22T16:38:43.522Z"
   },
   {
    "duration": 1751,
    "start_time": "2025-01-22T16:38:50.159Z"
   },
   {
    "duration": 1762,
    "start_time": "2025-01-22T16:38:54.647Z"
   },
   {
    "duration": 1607,
    "start_time": "2025-01-22T16:38:59.813Z"
   },
   {
    "duration": 1674,
    "start_time": "2025-01-22T16:39:06.037Z"
   },
   {
    "duration": 1565,
    "start_time": "2025-01-22T16:39:12.150Z"
   },
   {
    "duration": 1686,
    "start_time": "2025-01-22T16:39:17.243Z"
   },
   {
    "duration": 1527,
    "start_time": "2025-01-22T16:39:22.601Z"
   },
   {
    "duration": 20,
    "start_time": "2025-01-22T16:41:56.269Z"
   },
   {
    "duration": 1542,
    "start_time": "2025-01-22T16:42:25.092Z"
   },
   {
    "duration": 10071,
    "start_time": "2025-01-22T16:43:49.918Z"
   },
   {
    "duration": 816914,
    "start_time": "2025-01-22T16:44:07.385Z"
   },
   {
    "duration": 14241,
    "start_time": "2025-01-22T16:59:37.723Z"
   },
   {
    "duration": 14032,
    "start_time": "2025-01-22T17:00:36.343Z"
   },
   {
    "duration": 1064,
    "start_time": "2025-01-22T17:39:56.876Z"
   },
   {
    "duration": 61,
    "start_time": "2025-01-22T17:39:57.942Z"
   },
   {
    "duration": 22,
    "start_time": "2025-01-22T17:39:58.005Z"
   },
   {
    "duration": 10,
    "start_time": "2025-01-22T17:39:58.028Z"
   },
   {
    "duration": 10,
    "start_time": "2025-01-22T17:39:58.041Z"
   },
   {
    "duration": 7,
    "start_time": "2025-01-22T17:39:58.053Z"
   },
   {
    "duration": 432,
    "start_time": "2025-01-22T17:39:58.062Z"
   },
   {
    "duration": 300,
    "start_time": "2025-01-22T17:39:58.496Z"
   },
   {
    "duration": 14,
    "start_time": "2025-01-22T17:39:58.798Z"
   },
   {
    "duration": 33,
    "start_time": "2025-01-22T17:39:58.814Z"
   },
   {
    "duration": 12,
    "start_time": "2025-01-22T17:39:58.848Z"
   },
   {
    "duration": 4,
    "start_time": "2025-01-22T17:39:58.862Z"
   },
   {
    "duration": 41,
    "start_time": "2025-01-22T17:39:58.869Z"
   },
   {
    "duration": 9,
    "start_time": "2025-01-22T17:39:58.914Z"
   },
   {
    "duration": 12,
    "start_time": "2025-01-22T17:39:58.925Z"
   },
   {
    "duration": 8,
    "start_time": "2025-01-22T17:39:58.938Z"
   },
   {
    "duration": 5,
    "start_time": "2025-01-22T17:39:58.948Z"
   },
   {
    "duration": 5,
    "start_time": "2025-01-22T17:39:58.954Z"
   },
   {
    "duration": 5,
    "start_time": "2025-01-22T17:39:58.962Z"
   },
   {
    "duration": 40,
    "start_time": "2025-01-22T17:39:58.970Z"
   },
   {
    "duration": 5,
    "start_time": "2025-01-22T17:39:59.011Z"
   },
   {
    "duration": 8,
    "start_time": "2025-01-22T17:39:59.018Z"
   },
   {
    "duration": 5,
    "start_time": "2025-01-22T17:39:59.027Z"
   },
   {
    "duration": 6,
    "start_time": "2025-01-22T17:39:59.033Z"
   },
   {
    "duration": 17,
    "start_time": "2025-01-22T17:39:59.041Z"
   },
   {
    "duration": 6,
    "start_time": "2025-01-22T17:39:59.060Z"
   },
   {
    "duration": 56,
    "start_time": "2025-01-22T17:39:59.067Z"
   },
   {
    "duration": 115,
    "start_time": "2025-01-22T17:39:59.125Z"
   },
   {
    "duration": 6,
    "start_time": "2025-01-22T17:39:59.242Z"
   },
   {
    "duration": 16,
    "start_time": "2025-01-22T17:39:59.251Z"
   },
   {
    "duration": 4,
    "start_time": "2025-01-22T17:39:59.269Z"
   },
   {
    "duration": 353,
    "start_time": "2025-01-22T17:39:59.275Z"
   },
   {
    "duration": 3,
    "start_time": "2025-01-22T17:39:59.630Z"
   },
   {
    "duration": 28,
    "start_time": "2025-01-22T17:39:59.634Z"
   },
   {
    "duration": 3,
    "start_time": "2025-01-22T17:39:59.663Z"
   },
   {
    "duration": 458,
    "start_time": "2025-01-22T17:39:59.667Z"
   },
   {
    "duration": 4,
    "start_time": "2025-01-22T17:40:00.127Z"
   },
   {
    "duration": 4,
    "start_time": "2025-01-22T17:40:00.133Z"
   },
   {
    "duration": 260,
    "start_time": "2025-01-22T17:40:00.139Z"
   },
   {
    "duration": 4677,
    "start_time": "2025-01-22T17:40:00.401Z"
   },
   {
    "duration": 330,
    "start_time": "2025-01-22T17:40:05.082Z"
   },
   {
    "duration": 4562,
    "start_time": "2025-01-22T17:40:05.415Z"
   },
   {
    "duration": 5635,
    "start_time": "2025-01-22T17:40:09.979Z"
   },
   {
    "duration": 5631,
    "start_time": "2025-01-22T17:40:15.615Z"
   },
   {
    "duration": 0,
    "start_time": "2025-01-22T17:40:21.248Z"
   },
   {
    "duration": 0,
    "start_time": "2025-01-22T17:40:21.249Z"
   },
   {
    "duration": 1,
    "start_time": "2025-01-22T17:40:21.250Z"
   },
   {
    "duration": 0,
    "start_time": "2025-01-22T17:40:21.256Z"
   },
   {
    "duration": 510,
    "start_time": "2025-01-22T17:40:25.151Z"
   },
   {
    "duration": 408,
    "start_time": "2025-01-22T17:40:32.818Z"
   },
   {
    "duration": 16277,
    "start_time": "2025-01-22T17:40:47.232Z"
   },
   {
    "duration": 2926,
    "start_time": "2025-01-22T17:41:14.707Z"
   },
   {
    "duration": 16564,
    "start_time": "2025-01-22T17:41:25.195Z"
   },
   {
    "duration": 15984,
    "start_time": "2025-01-22T17:45:29.044Z"
   },
   {
    "duration": 276,
    "start_time": "2025-01-22T17:46:12.818Z"
   },
   {
    "duration": 14836,
    "start_time": "2025-01-22T17:46:18.863Z"
   },
   {
    "duration": 14103,
    "start_time": "2025-01-22T17:46:41.459Z"
   },
   {
    "duration": 107,
    "start_time": "2025-01-22T17:51:58.584Z"
   },
   {
    "duration": 419,
    "start_time": "2025-01-22T17:53:10.536Z"
   },
   {
    "duration": 176,
    "start_time": "2025-01-22T17:54:10.767Z"
   },
   {
    "duration": 6915,
    "start_time": "2025-01-22T17:56:17.318Z"
   },
   {
    "duration": 1034,
    "start_time": "2025-01-22T17:57:17.298Z"
   },
   {
    "duration": 2126,
    "start_time": "2025-01-22T17:58:39.569Z"
   },
   {
    "duration": 156,
    "start_time": "2025-01-22T17:59:21.166Z"
   },
   {
    "duration": 1564,
    "start_time": "2025-01-22T17:59:30.900Z"
   },
   {
    "duration": 835,
    "start_time": "2025-01-22T17:59:45.192Z"
   },
   {
    "duration": 7889,
    "start_time": "2025-01-22T17:59:57.361Z"
   },
   {
    "duration": 135,
    "start_time": "2025-01-22T18:00:45.168Z"
   },
   {
    "duration": 1062,
    "start_time": "2025-01-22T18:00:57.870Z"
   },
   {
    "duration": 1716,
    "start_time": "2025-01-22T18:01:09.311Z"
   },
   {
    "duration": 803,
    "start_time": "2025-01-22T18:01:20.807Z"
   },
   {
    "duration": 5097,
    "start_time": "2025-01-22T18:01:46.115Z"
   },
   {
    "duration": 205,
    "start_time": "2025-01-22T18:02:11.360Z"
   },
   {
    "duration": 2754,
    "start_time": "2025-01-22T18:02:26.022Z"
   },
   {
    "duration": 1062,
    "start_time": "2025-01-22T18:02:43.574Z"
   },
   {
    "duration": 8257,
    "start_time": "2025-01-22T18:02:58.170Z"
   },
   {
    "duration": 5011,
    "start_time": "2025-01-22T18:03:14.241Z"
   },
   {
    "duration": 1966,
    "start_time": "2025-01-22T18:03:25.981Z"
   },
   {
    "duration": 1618,
    "start_time": "2025-01-22T18:03:34.323Z"
   },
   {
    "duration": 1031,
    "start_time": "2025-01-22T18:03:39.749Z"
   },
   {
    "duration": 1934,
    "start_time": "2025-01-22T18:03:45.363Z"
   },
   {
    "duration": 6475,
    "start_time": "2025-01-22T18:03:50.966Z"
   },
   {
    "duration": 12560,
    "start_time": "2025-01-22T18:04:02.656Z"
   },
   {
    "duration": 1900,
    "start_time": "2025-01-22T18:04:19.437Z"
   },
   {
    "duration": 546,
    "start_time": "2025-01-22T18:09:35.227Z"
   },
   {
    "duration": 1063,
    "start_time": "2025-01-22T18:12:23.340Z"
   },
   {
    "duration": 34,
    "start_time": "2025-01-22T18:12:24.405Z"
   },
   {
    "duration": 22,
    "start_time": "2025-01-22T18:12:24.440Z"
   },
   {
    "duration": 10,
    "start_time": "2025-01-22T18:12:24.463Z"
   },
   {
    "duration": 9,
    "start_time": "2025-01-22T18:12:24.476Z"
   },
   {
    "duration": 25,
    "start_time": "2025-01-22T18:12:24.487Z"
   },
   {
    "duration": 436,
    "start_time": "2025-01-22T18:12:24.513Z"
   },
   {
    "duration": 272,
    "start_time": "2025-01-22T18:12:24.951Z"
   },
   {
    "duration": 6,
    "start_time": "2025-01-22T18:12:25.224Z"
   },
   {
    "duration": 31,
    "start_time": "2025-01-22T18:12:25.232Z"
   },
   {
    "duration": 13,
    "start_time": "2025-01-22T18:12:25.265Z"
   },
   {
    "duration": 5,
    "start_time": "2025-01-22T18:12:25.279Z"
   },
   {
    "duration": 18,
    "start_time": "2025-01-22T18:12:25.309Z"
   },
   {
    "duration": 9,
    "start_time": "2025-01-22T18:12:25.330Z"
   },
   {
    "duration": 14,
    "start_time": "2025-01-22T18:12:25.340Z"
   },
   {
    "duration": 8,
    "start_time": "2025-01-22T18:12:25.356Z"
   },
   {
    "duration": 7,
    "start_time": "2025-01-22T18:12:25.366Z"
   },
   {
    "duration": 35,
    "start_time": "2025-01-22T18:12:25.374Z"
   },
   {
    "duration": 5,
    "start_time": "2025-01-22T18:12:25.411Z"
   },
   {
    "duration": 5,
    "start_time": "2025-01-22T18:12:25.418Z"
   },
   {
    "duration": 5,
    "start_time": "2025-01-22T18:12:25.425Z"
   },
   {
    "duration": 7,
    "start_time": "2025-01-22T18:12:25.431Z"
   },
   {
    "duration": 5,
    "start_time": "2025-01-22T18:12:25.440Z"
   },
   {
    "duration": 6,
    "start_time": "2025-01-22T18:12:25.447Z"
   },
   {
    "duration": 59,
    "start_time": "2025-01-22T18:12:25.454Z"
   },
   {
    "duration": 5,
    "start_time": "2025-01-22T18:12:25.515Z"
   },
   {
    "duration": 15,
    "start_time": "2025-01-22T18:12:25.522Z"
   },
   {
    "duration": 120,
    "start_time": "2025-01-22T18:12:25.539Z"
   },
   {
    "duration": 7,
    "start_time": "2025-01-22T18:12:25.660Z"
   },
   {
    "duration": 15,
    "start_time": "2025-01-22T18:12:25.669Z"
   },
   {
    "duration": 4,
    "start_time": "2025-01-22T18:12:25.686Z"
   },
   {
    "duration": 362,
    "start_time": "2025-01-22T18:12:25.691Z"
   },
   {
    "duration": 3,
    "start_time": "2025-01-22T18:12:26.054Z"
   },
   {
    "duration": 27,
    "start_time": "2025-01-22T18:12:26.059Z"
   },
   {
    "duration": 3,
    "start_time": "2025-01-22T18:12:26.088Z"
   },
   {
    "duration": 413,
    "start_time": "2025-01-22T18:12:26.110Z"
   },
   {
    "duration": 4,
    "start_time": "2025-01-22T18:12:26.525Z"
   },
   {
    "duration": 5,
    "start_time": "2025-01-22T18:12:26.531Z"
   },
   {
    "duration": 219,
    "start_time": "2025-01-22T18:12:26.537Z"
   },
   {
    "duration": 296,
    "start_time": "2025-01-22T18:12:26.758Z"
   },
   {
    "duration": 43994,
    "start_time": "2025-01-22T18:12:27.058Z"
   },
   {
    "duration": 586,
    "start_time": "2025-01-22T18:13:11.054Z"
   },
   {
    "duration": 276,
    "start_time": "2025-01-22T18:13:11.642Z"
   },
   {
    "duration": 593375,
    "start_time": "2025-01-22T18:13:11.920Z"
   },
   {
    "duration": 6888,
    "start_time": "2025-01-22T18:23:05.297Z"
   },
   {
    "duration": 2680,
    "start_time": "2025-01-22T18:23:12.187Z"
   },
   {
    "duration": 214260,
    "start_time": "2025-01-22T18:23:14.869Z"
   },
   {
    "duration": 1781,
    "start_time": "2025-01-22T18:26:49.131Z"
   },
   {
    "duration": 1097,
    "start_time": "2025-01-22T18:26:50.914Z"
   },
   {
    "duration": 690449,
    "start_time": "2025-01-22T18:26:52.013Z"
   },
   {
    "duration": 14178,
    "start_time": "2025-01-22T18:38:22.464Z"
   },
   {
    "duration": 1970,
    "start_time": "2025-01-22T18:38:36.644Z"
   },
   {
    "duration": 226,
    "start_time": "2025-01-22T18:40:25.084Z"
   },
   {
    "duration": 6761,
    "start_time": "2025-01-22T18:41:41.298Z"
   },
   {
    "duration": 709,
    "start_time": "2025-01-22T18:42:38.602Z"
   },
   {
    "duration": 806,
    "start_time": "2025-01-22T18:43:49.150Z"
   },
   {
    "duration": 734,
    "start_time": "2025-01-22T18:43:54.298Z"
   },
   {
    "duration": 872,
    "start_time": "2025-01-22T18:43:57.516Z"
   },
   {
    "duration": 1021,
    "start_time": "2025-01-22T18:44:01.079Z"
   },
   {
    "duration": 1170,
    "start_time": "2025-01-22T18:44:04.800Z"
   },
   {
    "duration": 1296,
    "start_time": "2025-01-22T18:44:08.897Z"
   },
   {
    "duration": 1461,
    "start_time": "2025-01-22T18:44:12.695Z"
   },
   {
    "duration": 1640,
    "start_time": "2025-01-22T18:44:16.822Z"
   },
   {
    "duration": 1756,
    "start_time": "2025-01-22T18:44:20.630Z"
   },
   {
    "duration": 1938,
    "start_time": "2025-01-22T18:44:26.271Z"
   },
   {
    "duration": 3481,
    "start_time": "2025-01-22T18:44:36.316Z"
   },
   {
    "duration": 6458,
    "start_time": "2025-01-22T18:44:47.995Z"
   },
   {
    "duration": 2700,
    "start_time": "2025-01-22T18:45:05.213Z"
   },
   {
    "duration": 2219,
    "start_time": "2025-01-22T18:45:14.248Z"
   },
   {
    "duration": 2082,
    "start_time": "2025-01-22T18:45:32.535Z"
   },
   {
    "duration": 2304,
    "start_time": "2025-01-22T18:45:39.911Z"
   },
   {
    "duration": 2408,
    "start_time": "2025-01-22T18:45:47.096Z"
   },
   {
    "duration": 2357,
    "start_time": "2025-01-22T18:45:54.758Z"
   },
   {
    "duration": 2679,
    "start_time": "2025-01-22T18:46:00.762Z"
   },
   {
    "duration": 2866,
    "start_time": "2025-01-22T18:46:06.308Z"
   },
   {
    "duration": 2992,
    "start_time": "2025-01-22T18:46:12.845Z"
   },
   {
    "duration": 3107,
    "start_time": "2025-01-22T18:46:18.561Z"
   },
   {
    "duration": 4116,
    "start_time": "2025-01-22T18:46:31.426Z"
   },
   {
    "duration": 4057,
    "start_time": "2025-01-22T18:46:40.075Z"
   },
   {
    "duration": 4491,
    "start_time": "2025-01-22T18:46:49.086Z"
   },
   {
    "duration": 2224,
    "start_time": "2025-01-22T18:46:57.973Z"
   },
   {
    "duration": 620,
    "start_time": "2025-01-22T18:47:20.695Z"
   },
   {
    "duration": 555,
    "start_time": "2025-01-22T18:47:25.226Z"
   },
   {
    "duration": 946,
    "start_time": "2025-01-22T18:47:29.425Z"
   },
   {
    "duration": 1157,
    "start_time": "2025-01-22T18:47:34.787Z"
   },
   {
    "duration": 1512,
    "start_time": "2025-01-22T18:47:39.296Z"
   },
   {
    "duration": 2274,
    "start_time": "2025-01-22T18:47:43.874Z"
   },
   {
    "duration": 6206,
    "start_time": "2025-01-22T18:47:49.313Z"
   },
   {
    "duration": 771,
    "start_time": "2025-01-22T18:47:59.600Z"
   },
   {
    "duration": 523720,
    "start_time": "2025-01-22T18:48:11.239Z"
   },
   {
    "duration": 6155,
    "start_time": "2025-01-22T18:57:05.408Z"
   },
   {
    "duration": 3764,
    "start_time": "2025-01-22T18:57:16.592Z"
   },
   {
    "duration": 2204,
    "start_time": "2025-01-22T18:57:23.461Z"
   },
   {
    "duration": 2163,
    "start_time": "2025-01-22T18:58:30.602Z"
   },
   {
    "duration": 2244,
    "start_time": "2025-01-22T18:58:43.303Z"
   },
   {
    "duration": 2206,
    "start_time": "2025-01-22T18:58:53.175Z"
   },
   {
    "duration": 2223,
    "start_time": "2025-01-22T18:58:59.646Z"
   },
   {
    "duration": 2249,
    "start_time": "2025-01-22T18:59:04.166Z"
   },
   {
    "duration": 2255,
    "start_time": "2025-01-22T18:59:09.735Z"
   },
   {
    "duration": 2359,
    "start_time": "2025-01-22T18:59:16.368Z"
   },
   {
    "duration": 2243,
    "start_time": "2025-01-22T18:59:23.118Z"
   },
   {
    "duration": 2325,
    "start_time": "2025-01-22T18:59:27.249Z"
   },
   {
    "duration": 2222,
    "start_time": "2025-01-22T18:59:33.868Z"
   },
   {
    "duration": 2214,
    "start_time": "2025-01-22T18:59:41.791Z"
   },
   {
    "duration": 2254,
    "start_time": "2025-01-22T18:59:57.726Z"
   },
   {
    "duration": 2254,
    "start_time": "2025-01-22T19:00:07.151Z"
   },
   {
    "duration": 2244,
    "start_time": "2025-01-22T19:00:11.804Z"
   },
   {
    "duration": 2265,
    "start_time": "2025-01-22T19:00:16.610Z"
   },
   {
    "duration": 2218,
    "start_time": "2025-01-22T19:00:20.792Z"
   },
   {
    "duration": 169,
    "start_time": "2025-01-22T19:00:38.351Z"
   },
   {
    "duration": 2259,
    "start_time": "2025-01-22T19:00:53.777Z"
   },
   {
    "duration": 2219,
    "start_time": "2025-01-22T19:04:38.225Z"
   },
   {
    "duration": 2203,
    "start_time": "2025-01-22T19:04:45.313Z"
   },
   {
    "duration": 2161,
    "start_time": "2025-01-22T19:04:50.217Z"
   },
   {
    "duration": 2173,
    "start_time": "2025-01-22T19:04:58.559Z"
   },
   {
    "duration": 2208,
    "start_time": "2025-01-22T19:05:04.840Z"
   },
   {
    "duration": 2247,
    "start_time": "2025-01-22T19:05:12.627Z"
   },
   {
    "duration": 2210,
    "start_time": "2025-01-22T19:05:23.247Z"
   },
   {
    "duration": 2227,
    "start_time": "2025-01-22T19:05:30.158Z"
   },
   {
    "duration": 20,
    "start_time": "2025-01-22T19:08:48.422Z"
   },
   {
    "duration": 17,
    "start_time": "2025-01-22T19:30:08.652Z"
   },
   {
    "duration": 1009,
    "start_time": "2025-01-22T19:31:13.713Z"
   },
   {
    "duration": 33,
    "start_time": "2025-01-22T19:31:14.724Z"
   },
   {
    "duration": 25,
    "start_time": "2025-01-22T19:31:14.758Z"
   },
   {
    "duration": 11,
    "start_time": "2025-01-22T19:31:14.784Z"
   },
   {
    "duration": 18,
    "start_time": "2025-01-22T19:31:14.797Z"
   },
   {
    "duration": 8,
    "start_time": "2025-01-22T19:31:14.817Z"
   },
   {
    "duration": 463,
    "start_time": "2025-01-22T19:31:14.827Z"
   },
   {
    "duration": 286,
    "start_time": "2025-01-22T19:31:15.292Z"
   },
   {
    "duration": 5,
    "start_time": "2025-01-22T19:31:15.580Z"
   },
   {
    "duration": 48,
    "start_time": "2025-01-22T19:31:15.587Z"
   },
   {
    "duration": 12,
    "start_time": "2025-01-22T19:31:15.637Z"
   },
   {
    "duration": 5,
    "start_time": "2025-01-22T19:31:15.651Z"
   },
   {
    "duration": 17,
    "start_time": "2025-01-22T19:31:15.657Z"
   },
   {
    "duration": 32,
    "start_time": "2025-01-22T19:31:15.678Z"
   },
   {
    "duration": 13,
    "start_time": "2025-01-22T19:31:15.711Z"
   },
   {
    "duration": 8,
    "start_time": "2025-01-22T19:31:15.726Z"
   },
   {
    "duration": 5,
    "start_time": "2025-01-22T19:31:15.735Z"
   },
   {
    "duration": 4,
    "start_time": "2025-01-22T19:31:15.742Z"
   },
   {
    "duration": 5,
    "start_time": "2025-01-22T19:31:15.748Z"
   },
   {
    "duration": 5,
    "start_time": "2025-01-22T19:31:15.754Z"
   },
   {
    "duration": 5,
    "start_time": "2025-01-22T19:31:15.760Z"
   },
   {
    "duration": 7,
    "start_time": "2025-01-22T19:31:15.808Z"
   },
   {
    "duration": 5,
    "start_time": "2025-01-22T19:31:15.817Z"
   },
   {
    "duration": 6,
    "start_time": "2025-01-22T19:31:15.824Z"
   },
   {
    "duration": 20,
    "start_time": "2025-01-22T19:31:15.832Z"
   },
   {
    "duration": 5,
    "start_time": "2025-01-22T19:31:15.853Z"
   },
   {
    "duration": 14,
    "start_time": "2025-01-22T19:31:15.860Z"
   },
   {
    "duration": 104,
    "start_time": "2025-01-22T19:31:15.908Z"
   },
   {
    "duration": 7,
    "start_time": "2025-01-22T19:31:16.014Z"
   },
   {
    "duration": 15,
    "start_time": "2025-01-22T19:31:16.023Z"
   },
   {
    "duration": 5,
    "start_time": "2025-01-22T19:31:16.039Z"
   },
   {
    "duration": 355,
    "start_time": "2025-01-22T19:31:16.045Z"
   },
   {
    "duration": 8,
    "start_time": "2025-01-22T19:31:16.401Z"
   },
   {
    "duration": 31,
    "start_time": "2025-01-22T19:31:16.411Z"
   },
   {
    "duration": 3,
    "start_time": "2025-01-22T19:31:16.443Z"
   },
   {
    "duration": 427,
    "start_time": "2025-01-22T19:31:16.448Z"
   },
   {
    "duration": 4,
    "start_time": "2025-01-22T19:31:16.877Z"
   },
   {
    "duration": 4,
    "start_time": "2025-01-22T19:31:16.883Z"
   },
   {
    "duration": 220,
    "start_time": "2025-01-22T19:31:16.889Z"
   },
   {
    "duration": 310,
    "start_time": "2025-01-22T19:31:17.110Z"
   },
   {
    "duration": 2673,
    "start_time": "2025-01-22T19:31:17.425Z"
   },
   {
    "duration": 659,
    "start_time": "2025-01-22T19:31:20.101Z"
   },
   {
    "duration": 217,
    "start_time": "2025-01-22T19:31:20.762Z"
   },
   {
    "duration": 1489,
    "start_time": "2025-01-22T19:31:20.982Z"
   },
   {
    "duration": 605,
    "start_time": "2025-01-22T19:31:22.473Z"
   },
   {
    "duration": 0,
    "start_time": "2025-01-22T19:31:23.080Z"
   },
   {
    "duration": 0,
    "start_time": "2025-01-22T19:31:23.081Z"
   },
   {
    "duration": 0,
    "start_time": "2025-01-22T19:31:23.082Z"
   },
   {
    "duration": 0,
    "start_time": "2025-01-22T19:31:23.083Z"
   },
   {
    "duration": 0,
    "start_time": "2025-01-22T19:31:23.084Z"
   },
   {
    "duration": 0,
    "start_time": "2025-01-22T19:31:23.085Z"
   },
   {
    "duration": 0,
    "start_time": "2025-01-22T19:31:23.086Z"
   },
   {
    "duration": 798,
    "start_time": "2025-01-22T19:33:30.251Z"
   },
   {
    "duration": 38,
    "start_time": "2025-01-22T19:33:48.805Z"
   },
   {
    "duration": 1129,
    "start_time": "2025-01-22T19:34:05.546Z"
   },
   {
    "duration": 34,
    "start_time": "2025-01-22T19:34:06.678Z"
   },
   {
    "duration": 29,
    "start_time": "2025-01-22T19:34:06.715Z"
   },
   {
    "duration": 10,
    "start_time": "2025-01-22T19:34:06.746Z"
   },
   {
    "duration": 11,
    "start_time": "2025-01-22T19:34:06.758Z"
   },
   {
    "duration": 6,
    "start_time": "2025-01-22T19:34:06.771Z"
   },
   {
    "duration": 470,
    "start_time": "2025-01-22T19:34:06.779Z"
   },
   {
    "duration": 309,
    "start_time": "2025-01-22T19:34:07.251Z"
   },
   {
    "duration": 7,
    "start_time": "2025-01-22T19:34:07.562Z"
   },
   {
    "duration": 50,
    "start_time": "2025-01-22T19:34:07.574Z"
   },
   {
    "duration": 15,
    "start_time": "2025-01-22T19:34:07.625Z"
   },
   {
    "duration": 6,
    "start_time": "2025-01-22T19:34:07.642Z"
   },
   {
    "duration": 27,
    "start_time": "2025-01-22T19:34:07.651Z"
   },
   {
    "duration": 29,
    "start_time": "2025-01-22T19:34:07.682Z"
   },
   {
    "duration": 19,
    "start_time": "2025-01-22T19:34:07.713Z"
   },
   {
    "duration": 11,
    "start_time": "2025-01-22T19:34:07.734Z"
   },
   {
    "duration": 6,
    "start_time": "2025-01-22T19:34:07.747Z"
   },
   {
    "duration": 6,
    "start_time": "2025-01-22T19:34:07.755Z"
   },
   {
    "duration": 6,
    "start_time": "2025-01-22T19:34:07.763Z"
   },
   {
    "duration": 7,
    "start_time": "2025-01-22T19:34:07.771Z"
   },
   {
    "duration": 34,
    "start_time": "2025-01-22T19:34:07.780Z"
   },
   {
    "duration": 9,
    "start_time": "2025-01-22T19:34:07.818Z"
   },
   {
    "duration": 5,
    "start_time": "2025-01-22T19:34:07.829Z"
   },
   {
    "duration": 8,
    "start_time": "2025-01-22T19:34:07.835Z"
   },
   {
    "duration": 25,
    "start_time": "2025-01-22T19:34:07.845Z"
   },
   {
    "duration": 6,
    "start_time": "2025-01-22T19:34:07.872Z"
   },
   {
    "duration": 48,
    "start_time": "2025-01-22T19:34:07.880Z"
   },
   {
    "duration": 112,
    "start_time": "2025-01-22T19:34:07.934Z"
   },
   {
    "duration": 9,
    "start_time": "2025-01-22T19:34:08.048Z"
   },
   {
    "duration": 20,
    "start_time": "2025-01-22T19:34:08.060Z"
   },
   {
    "duration": 5,
    "start_time": "2025-01-22T19:34:08.082Z"
   },
   {
    "duration": 378,
    "start_time": "2025-01-22T19:34:08.090Z"
   },
   {
    "duration": 3,
    "start_time": "2025-01-22T19:34:08.470Z"
   },
   {
    "duration": 43,
    "start_time": "2025-01-22T19:34:08.475Z"
   },
   {
    "duration": 2,
    "start_time": "2025-01-22T19:34:08.520Z"
   },
   {
    "duration": 430,
    "start_time": "2025-01-22T19:34:08.525Z"
   },
   {
    "duration": 4,
    "start_time": "2025-01-22T19:34:08.957Z"
   },
   {
    "duration": 5,
    "start_time": "2025-01-22T19:34:08.963Z"
   },
   {
    "duration": 233,
    "start_time": "2025-01-22T19:34:08.970Z"
   },
   {
    "duration": 282,
    "start_time": "2025-01-22T19:34:09.206Z"
   },
   {
    "duration": 46226,
    "start_time": "2025-01-22T19:34:09.490Z"
   },
   {
    "duration": 679,
    "start_time": "2025-01-22T19:34:55.719Z"
   },
   {
    "duration": 223,
    "start_time": "2025-01-22T19:34:56.400Z"
   },
   {
    "duration": 270489,
    "start_time": "2025-01-22T19:34:56.626Z"
   },
   {
    "duration": 1285,
    "start_time": "2025-01-22T19:39:27.117Z"
   },
   {
    "duration": 0,
    "start_time": "2025-01-22T19:39:28.409Z"
   },
   {
    "duration": 0,
    "start_time": "2025-01-22T19:39:28.411Z"
   },
   {
    "duration": 0,
    "start_time": "2025-01-22T19:39:28.412Z"
   },
   {
    "duration": 0,
    "start_time": "2025-01-22T19:39:28.413Z"
   },
   {
    "duration": 0,
    "start_time": "2025-01-22T19:39:28.415Z"
   },
   {
    "duration": 0,
    "start_time": "2025-01-22T19:39:28.416Z"
   },
   {
    "duration": 0,
    "start_time": "2025-01-22T19:39:28.418Z"
   },
   {
    "duration": 11,
    "start_time": "2025-01-22T19:39:34.863Z"
   },
   {
    "duration": 14,
    "start_time": "2025-01-22T19:39:38.409Z"
   },
   {
    "duration": 3,
    "start_time": "2025-01-22T19:42:02.793Z"
   },
   {
    "duration": 476,
    "start_time": "2025-01-22T19:42:12.865Z"
   },
   {
    "duration": 1151,
    "start_time": "2025-01-22T19:42:30.138Z"
   },
   {
    "duration": 37,
    "start_time": "2025-01-22T19:42:31.292Z"
   },
   {
    "duration": 22,
    "start_time": "2025-01-22T19:42:31.330Z"
   },
   {
    "duration": 11,
    "start_time": "2025-01-22T19:42:31.353Z"
   },
   {
    "duration": 11,
    "start_time": "2025-01-22T19:42:31.368Z"
   },
   {
    "duration": 30,
    "start_time": "2025-01-22T19:42:31.380Z"
   },
   {
    "duration": 477,
    "start_time": "2025-01-22T19:42:31.412Z"
   },
   {
    "duration": 293,
    "start_time": "2025-01-22T19:42:31.891Z"
   },
   {
    "duration": 5,
    "start_time": "2025-01-22T19:42:32.186Z"
   },
   {
    "duration": 46,
    "start_time": "2025-01-22T19:42:32.193Z"
   },
   {
    "duration": 14,
    "start_time": "2025-01-22T19:42:32.241Z"
   },
   {
    "duration": 5,
    "start_time": "2025-01-22T19:42:32.257Z"
   },
   {
    "duration": 18,
    "start_time": "2025-01-22T19:42:32.263Z"
   },
   {
    "duration": 17,
    "start_time": "2025-01-22T19:42:32.308Z"
   },
   {
    "duration": 13,
    "start_time": "2025-01-22T19:42:32.328Z"
   },
   {
    "duration": 15,
    "start_time": "2025-01-22T19:42:32.343Z"
   },
   {
    "duration": 9,
    "start_time": "2025-01-22T19:42:32.359Z"
   },
   {
    "duration": 6,
    "start_time": "2025-01-22T19:42:32.371Z"
   },
   {
    "duration": 6,
    "start_time": "2025-01-22T19:42:32.378Z"
   },
   {
    "duration": 5,
    "start_time": "2025-01-22T19:42:32.410Z"
   },
   {
    "duration": 5,
    "start_time": "2025-01-22T19:42:32.417Z"
   },
   {
    "duration": 5,
    "start_time": "2025-01-22T19:42:32.426Z"
   },
   {
    "duration": 9,
    "start_time": "2025-01-22T19:42:32.433Z"
   },
   {
    "duration": 5,
    "start_time": "2025-01-22T19:42:32.444Z"
   },
   {
    "duration": 6,
    "start_time": "2025-01-22T19:42:32.451Z"
   },
   {
    "duration": 57,
    "start_time": "2025-01-22T19:42:32.459Z"
   },
   {
    "duration": 6,
    "start_time": "2025-01-22T19:42:32.518Z"
   },
   {
    "duration": 12,
    "start_time": "2025-01-22T19:42:32.525Z"
   },
   {
    "duration": 5,
    "start_time": "2025-01-22T19:42:32.539Z"
   },
   {
    "duration": 0,
    "start_time": "2025-01-22T19:42:32.546Z"
   },
   {
    "duration": 0,
    "start_time": "2025-01-22T19:42:32.547Z"
   },
   {
    "duration": 0,
    "start_time": "2025-01-22T19:42:32.548Z"
   },
   {
    "duration": 0,
    "start_time": "2025-01-22T19:42:32.550Z"
   },
   {
    "duration": 0,
    "start_time": "2025-01-22T19:42:32.551Z"
   },
   {
    "duration": 0,
    "start_time": "2025-01-22T19:42:32.552Z"
   },
   {
    "duration": 0,
    "start_time": "2025-01-22T19:42:32.553Z"
   },
   {
    "duration": 0,
    "start_time": "2025-01-22T19:42:32.554Z"
   },
   {
    "duration": 0,
    "start_time": "2025-01-22T19:42:32.555Z"
   },
   {
    "duration": 0,
    "start_time": "2025-01-22T19:42:32.555Z"
   },
   {
    "duration": 0,
    "start_time": "2025-01-22T19:42:32.557Z"
   },
   {
    "duration": 0,
    "start_time": "2025-01-22T19:42:32.558Z"
   },
   {
    "duration": 0,
    "start_time": "2025-01-22T19:42:32.559Z"
   },
   {
    "duration": 0,
    "start_time": "2025-01-22T19:42:32.560Z"
   },
   {
    "duration": 0,
    "start_time": "2025-01-22T19:42:32.561Z"
   },
   {
    "duration": 0,
    "start_time": "2025-01-22T19:42:32.562Z"
   },
   {
    "duration": 0,
    "start_time": "2025-01-22T19:42:32.563Z"
   },
   {
    "duration": 0,
    "start_time": "2025-01-22T19:42:32.564Z"
   },
   {
    "duration": 0,
    "start_time": "2025-01-22T19:42:32.566Z"
   },
   {
    "duration": 0,
    "start_time": "2025-01-22T19:42:32.609Z"
   },
   {
    "duration": 0,
    "start_time": "2025-01-22T19:42:32.610Z"
   },
   {
    "duration": 0,
    "start_time": "2025-01-22T19:42:32.611Z"
   },
   {
    "duration": 0,
    "start_time": "2025-01-22T19:42:32.613Z"
   },
   {
    "duration": 0,
    "start_time": "2025-01-22T19:42:32.614Z"
   },
   {
    "duration": 0,
    "start_time": "2025-01-22T19:42:32.615Z"
   },
   {
    "duration": 631,
    "start_time": "2025-01-22T19:43:56.189Z"
   },
   {
    "duration": 1013,
    "start_time": "2025-01-22T19:44:05.498Z"
   },
   {
    "duration": 31,
    "start_time": "2025-01-22T19:44:06.513Z"
   },
   {
    "duration": 20,
    "start_time": "2025-01-22T19:44:06.546Z"
   },
   {
    "duration": 10,
    "start_time": "2025-01-22T19:44:06.568Z"
   },
   {
    "duration": 30,
    "start_time": "2025-01-22T19:44:06.580Z"
   },
   {
    "duration": 8,
    "start_time": "2025-01-22T19:44:06.611Z"
   },
   {
    "duration": 1807,
    "start_time": "2025-01-22T19:44:06.622Z"
   },
   {
    "duration": 0,
    "start_time": "2025-01-22T19:44:08.432Z"
   },
   {
    "duration": 0,
    "start_time": "2025-01-22T19:44:08.433Z"
   },
   {
    "duration": 0,
    "start_time": "2025-01-22T19:44:08.435Z"
   },
   {
    "duration": 0,
    "start_time": "2025-01-22T19:44:08.436Z"
   },
   {
    "duration": 0,
    "start_time": "2025-01-22T19:44:08.437Z"
   },
   {
    "duration": 0,
    "start_time": "2025-01-22T19:44:08.438Z"
   },
   {
    "duration": 0,
    "start_time": "2025-01-22T19:44:08.438Z"
   },
   {
    "duration": 0,
    "start_time": "2025-01-22T19:44:08.440Z"
   },
   {
    "duration": 0,
    "start_time": "2025-01-22T19:44:08.441Z"
   },
   {
    "duration": 0,
    "start_time": "2025-01-22T19:44:08.442Z"
   },
   {
    "duration": 0,
    "start_time": "2025-01-22T19:44:08.442Z"
   },
   {
    "duration": 0,
    "start_time": "2025-01-22T19:44:08.443Z"
   },
   {
    "duration": 0,
    "start_time": "2025-01-22T19:44:08.444Z"
   },
   {
    "duration": 0,
    "start_time": "2025-01-22T19:44:08.445Z"
   },
   {
    "duration": 0,
    "start_time": "2025-01-22T19:44:08.446Z"
   },
   {
    "duration": 0,
    "start_time": "2025-01-22T19:44:08.447Z"
   },
   {
    "duration": 0,
    "start_time": "2025-01-22T19:44:08.448Z"
   },
   {
    "duration": 0,
    "start_time": "2025-01-22T19:44:08.449Z"
   },
   {
    "duration": 0,
    "start_time": "2025-01-22T19:44:08.450Z"
   },
   {
    "duration": 0,
    "start_time": "2025-01-22T19:44:08.452Z"
   },
   {
    "duration": 0,
    "start_time": "2025-01-22T19:44:08.453Z"
   },
   {
    "duration": 0,
    "start_time": "2025-01-22T19:44:08.453Z"
   },
   {
    "duration": 0,
    "start_time": "2025-01-22T19:44:08.455Z"
   },
   {
    "duration": 0,
    "start_time": "2025-01-22T19:44:08.456Z"
   },
   {
    "duration": 0,
    "start_time": "2025-01-22T19:44:08.457Z"
   },
   {
    "duration": 0,
    "start_time": "2025-01-22T19:44:08.458Z"
   },
   {
    "duration": 0,
    "start_time": "2025-01-22T19:44:08.459Z"
   },
   {
    "duration": 0,
    "start_time": "2025-01-22T19:44:08.460Z"
   },
   {
    "duration": 0,
    "start_time": "2025-01-22T19:44:08.515Z"
   },
   {
    "duration": 0,
    "start_time": "2025-01-22T19:44:08.517Z"
   },
   {
    "duration": 0,
    "start_time": "2025-01-22T19:44:08.518Z"
   },
   {
    "duration": 0,
    "start_time": "2025-01-22T19:44:08.520Z"
   },
   {
    "duration": 0,
    "start_time": "2025-01-22T19:44:08.521Z"
   },
   {
    "duration": 0,
    "start_time": "2025-01-22T19:44:08.522Z"
   },
   {
    "duration": 0,
    "start_time": "2025-01-22T19:44:08.524Z"
   },
   {
    "duration": 0,
    "start_time": "2025-01-22T19:44:08.525Z"
   },
   {
    "duration": 0,
    "start_time": "2025-01-22T19:44:08.527Z"
   },
   {
    "duration": 0,
    "start_time": "2025-01-22T19:44:08.528Z"
   },
   {
    "duration": 0,
    "start_time": "2025-01-22T19:44:08.529Z"
   },
   {
    "duration": 0,
    "start_time": "2025-01-22T19:44:08.530Z"
   },
   {
    "duration": 0,
    "start_time": "2025-01-22T19:44:08.532Z"
   },
   {
    "duration": 0,
    "start_time": "2025-01-22T19:44:08.533Z"
   },
   {
    "duration": 0,
    "start_time": "2025-01-22T19:44:08.534Z"
   },
   {
    "duration": 0,
    "start_time": "2025-01-22T19:44:08.535Z"
   },
   {
    "duration": 0,
    "start_time": "2025-01-22T19:44:08.537Z"
   },
   {
    "duration": 0,
    "start_time": "2025-01-22T19:44:08.538Z"
   },
   {
    "duration": 0,
    "start_time": "2025-01-22T19:44:08.539Z"
   },
   {
    "duration": 514,
    "start_time": "2025-01-22T19:44:19.391Z"
   },
   {
    "duration": 279,
    "start_time": "2025-01-22T19:44:23.805Z"
   },
   {
    "duration": 6,
    "start_time": "2025-01-22T19:44:26.432Z"
   },
   {
    "duration": 34,
    "start_time": "2025-01-22T19:44:28.941Z"
   },
   {
    "duration": 14,
    "start_time": "2025-01-22T19:44:32.151Z"
   },
   {
    "duration": 5,
    "start_time": "2025-01-22T19:44:35.077Z"
   },
   {
    "duration": 18,
    "start_time": "2025-01-22T19:44:38.008Z"
   },
   {
    "duration": 17,
    "start_time": "2025-01-22T19:44:41.316Z"
   },
   {
    "duration": 14,
    "start_time": "2025-01-22T19:44:45.982Z"
   },
   {
    "duration": 19,
    "start_time": "2025-01-22T19:44:52.426Z"
   },
   {
    "duration": 28,
    "start_time": "2025-01-22T19:45:11.791Z"
   },
   {
    "duration": 17,
    "start_time": "2025-01-22T19:45:38.920Z"
   },
   {
    "duration": 25,
    "start_time": "2025-01-22T19:47:28.409Z"
   },
   {
    "duration": 19,
    "start_time": "2025-01-22T19:47:43.742Z"
   },
   {
    "duration": 21,
    "start_time": "2025-01-22T19:47:48.027Z"
   },
   {
    "duration": 20,
    "start_time": "2025-01-22T19:47:51.822Z"
   },
   {
    "duration": 1039,
    "start_time": "2025-01-22T19:48:33.870Z"
   },
   {
    "duration": 33,
    "start_time": "2025-01-22T19:48:34.911Z"
   },
   {
    "duration": 20,
    "start_time": "2025-01-22T19:48:34.945Z"
   },
   {
    "duration": 9,
    "start_time": "2025-01-22T19:48:34.967Z"
   },
   {
    "duration": 29,
    "start_time": "2025-01-22T19:48:34.979Z"
   },
   {
    "duration": 7,
    "start_time": "2025-01-22T19:48:35.010Z"
   },
   {
    "duration": 442,
    "start_time": "2025-01-22T19:48:35.020Z"
   },
   {
    "duration": 289,
    "start_time": "2025-01-22T19:48:35.464Z"
   },
   {
    "duration": 4,
    "start_time": "2025-01-22T19:48:35.755Z"
   },
   {
    "duration": 33,
    "start_time": "2025-01-22T19:48:35.761Z"
   },
   {
    "duration": 13,
    "start_time": "2025-01-22T19:48:35.810Z"
   },
   {
    "duration": 5,
    "start_time": "2025-01-22T19:48:35.824Z"
   },
   {
    "duration": 16,
    "start_time": "2025-01-22T19:48:35.831Z"
   },
   {
    "duration": 15,
    "start_time": "2025-01-22T19:48:35.851Z"
   },
   {
    "duration": 4,
    "start_time": "2025-01-22T19:48:35.868Z"
   },
   {
    "duration": 184,
    "start_time": "2025-01-22T19:48:35.874Z"
   },
   {
    "duration": 0,
    "start_time": "2025-01-22T19:48:36.060Z"
   },
   {
    "duration": 0,
    "start_time": "2025-01-22T19:48:36.061Z"
   },
   {
    "duration": 0,
    "start_time": "2025-01-22T19:48:36.063Z"
   },
   {
    "duration": 0,
    "start_time": "2025-01-22T19:48:36.064Z"
   },
   {
    "duration": 0,
    "start_time": "2025-01-22T19:48:36.066Z"
   },
   {
    "duration": 0,
    "start_time": "2025-01-22T19:48:36.068Z"
   },
   {
    "duration": 0,
    "start_time": "2025-01-22T19:48:36.069Z"
   },
   {
    "duration": 0,
    "start_time": "2025-01-22T19:48:36.071Z"
   },
   {
    "duration": 0,
    "start_time": "2025-01-22T19:48:36.072Z"
   },
   {
    "duration": 0,
    "start_time": "2025-01-22T19:48:36.073Z"
   },
   {
    "duration": 0,
    "start_time": "2025-01-22T19:48:36.074Z"
   },
   {
    "duration": 0,
    "start_time": "2025-01-22T19:48:36.075Z"
   },
   {
    "duration": 0,
    "start_time": "2025-01-22T19:48:36.076Z"
   },
   {
    "duration": 0,
    "start_time": "2025-01-22T19:48:36.077Z"
   },
   {
    "duration": 0,
    "start_time": "2025-01-22T19:48:36.078Z"
   },
   {
    "duration": 0,
    "start_time": "2025-01-22T19:48:36.109Z"
   },
   {
    "duration": 0,
    "start_time": "2025-01-22T19:48:36.110Z"
   },
   {
    "duration": 0,
    "start_time": "2025-01-22T19:48:36.111Z"
   },
   {
    "duration": 0,
    "start_time": "2025-01-22T19:48:36.112Z"
   },
   {
    "duration": 0,
    "start_time": "2025-01-22T19:48:36.113Z"
   },
   {
    "duration": 0,
    "start_time": "2025-01-22T19:48:36.114Z"
   },
   {
    "duration": 0,
    "start_time": "2025-01-22T19:48:36.115Z"
   },
   {
    "duration": 0,
    "start_time": "2025-01-22T19:48:36.116Z"
   },
   {
    "duration": 0,
    "start_time": "2025-01-22T19:48:36.117Z"
   },
   {
    "duration": 0,
    "start_time": "2025-01-22T19:48:36.118Z"
   },
   {
    "duration": 0,
    "start_time": "2025-01-22T19:48:36.119Z"
   },
   {
    "duration": 0,
    "start_time": "2025-01-22T19:48:36.120Z"
   },
   {
    "duration": 0,
    "start_time": "2025-01-22T19:48:36.121Z"
   },
   {
    "duration": 0,
    "start_time": "2025-01-22T19:48:36.122Z"
   },
   {
    "duration": 0,
    "start_time": "2025-01-22T19:48:36.123Z"
   },
   {
    "duration": 0,
    "start_time": "2025-01-22T19:48:36.125Z"
   },
   {
    "duration": 0,
    "start_time": "2025-01-22T19:48:36.126Z"
   },
   {
    "duration": 0,
    "start_time": "2025-01-22T19:48:36.127Z"
   },
   {
    "duration": 0,
    "start_time": "2025-01-22T19:48:36.128Z"
   },
   {
    "duration": 0,
    "start_time": "2025-01-22T19:48:36.129Z"
   },
   {
    "duration": 0,
    "start_time": "2025-01-22T19:48:36.130Z"
   },
   {
    "duration": 0,
    "start_time": "2025-01-22T19:48:36.131Z"
   },
   {
    "duration": 0,
    "start_time": "2025-01-22T19:48:36.132Z"
   },
   {
    "duration": 0,
    "start_time": "2025-01-22T19:48:36.133Z"
   },
   {
    "duration": 3,
    "start_time": "2025-01-22T19:50:26.729Z"
   },
   {
    "duration": 3,
    "start_time": "2025-01-22T19:50:42.033Z"
   },
   {
    "duration": 20,
    "start_time": "2025-01-22T19:50:44.651Z"
   },
   {
    "duration": 22,
    "start_time": "2025-01-22T19:51:00.406Z"
   },
   {
    "duration": 1082,
    "start_time": "2025-01-22T19:51:13.632Z"
   },
   {
    "duration": 32,
    "start_time": "2025-01-22T19:51:14.716Z"
   },
   {
    "duration": 22,
    "start_time": "2025-01-22T19:51:14.750Z"
   },
   {
    "duration": 11,
    "start_time": "2025-01-22T19:51:14.774Z"
   },
   {
    "duration": 32,
    "start_time": "2025-01-22T19:51:14.787Z"
   },
   {
    "duration": 8,
    "start_time": "2025-01-22T19:51:14.823Z"
   },
   {
    "duration": 435,
    "start_time": "2025-01-22T19:51:14.834Z"
   },
   {
    "duration": 309,
    "start_time": "2025-01-22T19:51:15.271Z"
   },
   {
    "duration": 5,
    "start_time": "2025-01-22T19:51:15.582Z"
   },
   {
    "duration": 44,
    "start_time": "2025-01-22T19:51:15.589Z"
   },
   {
    "duration": 13,
    "start_time": "2025-01-22T19:51:15.635Z"
   },
   {
    "duration": 4,
    "start_time": "2025-01-22T19:51:15.650Z"
   },
   {
    "duration": 16,
    "start_time": "2025-01-22T19:51:15.655Z"
   },
   {
    "duration": 40,
    "start_time": "2025-01-22T19:51:15.676Z"
   },
   {
    "duration": 3,
    "start_time": "2025-01-22T19:51:15.717Z"
   },
   {
    "duration": 3,
    "start_time": "2025-01-22T19:51:15.721Z"
   },
   {
    "duration": 17,
    "start_time": "2025-01-22T19:51:15.725Z"
   },
   {
    "duration": 12,
    "start_time": "2025-01-22T19:51:15.743Z"
   },
   {
    "duration": 7,
    "start_time": "2025-01-22T19:51:15.757Z"
   },
   {
    "duration": 6,
    "start_time": "2025-01-22T19:51:15.766Z"
   },
   {
    "duration": 38,
    "start_time": "2025-01-22T19:51:15.774Z"
   },
   {
    "duration": 5,
    "start_time": "2025-01-22T19:51:15.813Z"
   },
   {
    "duration": 5,
    "start_time": "2025-01-22T19:51:15.820Z"
   },
   {
    "duration": 5,
    "start_time": "2025-01-22T19:51:15.827Z"
   },
   {
    "duration": 8,
    "start_time": "2025-01-22T19:51:15.833Z"
   },
   {
    "duration": 5,
    "start_time": "2025-01-22T19:51:15.842Z"
   },
   {
    "duration": 7,
    "start_time": "2025-01-22T19:51:15.849Z"
   },
   {
    "duration": 55,
    "start_time": "2025-01-22T19:51:15.857Z"
   },
   {
    "duration": 5,
    "start_time": "2025-01-22T19:51:15.914Z"
   },
   {
    "duration": 11,
    "start_time": "2025-01-22T19:51:15.921Z"
   },
   {
    "duration": 3,
    "start_time": "2025-01-22T19:51:15.933Z"
   },
   {
    "duration": 0,
    "start_time": "2025-01-22T19:51:15.938Z"
   },
   {
    "duration": 0,
    "start_time": "2025-01-22T19:51:15.940Z"
   },
   {
    "duration": 0,
    "start_time": "2025-01-22T19:51:15.941Z"
   },
   {
    "duration": 0,
    "start_time": "2025-01-22T19:51:15.942Z"
   },
   {
    "duration": 0,
    "start_time": "2025-01-22T19:51:15.943Z"
   },
   {
    "duration": 0,
    "start_time": "2025-01-22T19:51:15.944Z"
   },
   {
    "duration": 0,
    "start_time": "2025-01-22T19:51:15.945Z"
   },
   {
    "duration": 0,
    "start_time": "2025-01-22T19:51:15.947Z"
   },
   {
    "duration": 0,
    "start_time": "2025-01-22T19:51:15.949Z"
   },
   {
    "duration": 0,
    "start_time": "2025-01-22T19:51:15.950Z"
   },
   {
    "duration": 0,
    "start_time": "2025-01-22T19:51:15.952Z"
   },
   {
    "duration": 0,
    "start_time": "2025-01-22T19:51:15.953Z"
   },
   {
    "duration": 0,
    "start_time": "2025-01-22T19:51:15.955Z"
   },
   {
    "duration": 0,
    "start_time": "2025-01-22T19:51:15.956Z"
   },
   {
    "duration": 0,
    "start_time": "2025-01-22T19:51:16.009Z"
   },
   {
    "duration": 0,
    "start_time": "2025-01-22T19:51:16.010Z"
   },
   {
    "duration": 0,
    "start_time": "2025-01-22T19:51:16.011Z"
   },
   {
    "duration": 0,
    "start_time": "2025-01-22T19:51:16.012Z"
   },
   {
    "duration": 0,
    "start_time": "2025-01-22T19:51:16.013Z"
   },
   {
    "duration": 0,
    "start_time": "2025-01-22T19:51:16.014Z"
   },
   {
    "duration": 0,
    "start_time": "2025-01-22T19:51:16.015Z"
   },
   {
    "duration": 0,
    "start_time": "2025-01-22T19:51:16.016Z"
   },
   {
    "duration": 0,
    "start_time": "2025-01-22T19:51:16.017Z"
   },
   {
    "duration": 0,
    "start_time": "2025-01-22T19:51:16.018Z"
   },
   {
    "duration": 0,
    "start_time": "2025-01-22T19:51:16.020Z"
   },
   {
    "duration": 3,
    "start_time": "2025-01-22T19:51:34.855Z"
   },
   {
    "duration": 3,
    "start_time": "2025-01-22T19:53:03.128Z"
   },
   {
    "duration": 5,
    "start_time": "2025-01-22T19:53:24.682Z"
   },
   {
    "duration": 16,
    "start_time": "2025-01-22T19:53:32.713Z"
   },
   {
    "duration": 1073,
    "start_time": "2025-01-22T19:54:25.149Z"
   },
   {
    "duration": 33,
    "start_time": "2025-01-22T19:54:26.224Z"
   },
   {
    "duration": 21,
    "start_time": "2025-01-22T19:54:26.259Z"
   },
   {
    "duration": 10,
    "start_time": "2025-01-22T19:54:26.281Z"
   },
   {
    "duration": 22,
    "start_time": "2025-01-22T19:54:26.293Z"
   },
   {
    "duration": 8,
    "start_time": "2025-01-22T19:54:26.316Z"
   },
   {
    "duration": 456,
    "start_time": "2025-01-22T19:54:26.325Z"
   },
   {
    "duration": 329,
    "start_time": "2025-01-22T19:54:26.783Z"
   },
   {
    "duration": 11,
    "start_time": "2025-01-22T19:54:27.114Z"
   },
   {
    "duration": 57,
    "start_time": "2025-01-22T19:54:27.127Z"
   },
   {
    "duration": 25,
    "start_time": "2025-01-22T19:54:27.186Z"
   },
   {
    "duration": 11,
    "start_time": "2025-01-22T19:54:27.213Z"
   },
   {
    "duration": 29,
    "start_time": "2025-01-22T19:54:27.226Z"
   },
   {
    "duration": 20,
    "start_time": "2025-01-22T19:54:27.259Z"
   },
   {
    "duration": 3,
    "start_time": "2025-01-22T19:54:27.281Z"
   },
   {
    "duration": 44,
    "start_time": "2025-01-22T19:54:27.287Z"
   },
   {
    "duration": 3,
    "start_time": "2025-01-22T19:54:27.333Z"
   },
   {
    "duration": 10,
    "start_time": "2025-01-22T19:54:27.338Z"
   },
   {
    "duration": 15,
    "start_time": "2025-01-22T19:54:27.350Z"
   },
   {
    "duration": 11,
    "start_time": "2025-01-22T19:54:27.367Z"
   },
   {
    "duration": 30,
    "start_time": "2025-01-22T19:54:27.380Z"
   },
   {
    "duration": 7,
    "start_time": "2025-01-22T19:54:27.412Z"
   },
   {
    "duration": 5,
    "start_time": "2025-01-22T19:54:27.421Z"
   },
   {
    "duration": 5,
    "start_time": "2025-01-22T19:54:27.428Z"
   },
   {
    "duration": 5,
    "start_time": "2025-01-22T19:54:27.435Z"
   },
   {
    "duration": 8,
    "start_time": "2025-01-22T19:54:27.441Z"
   },
   {
    "duration": 6,
    "start_time": "2025-01-22T19:54:27.451Z"
   },
   {
    "duration": 6,
    "start_time": "2025-01-22T19:54:27.459Z"
   },
   {
    "duration": 22,
    "start_time": "2025-01-22T19:54:27.510Z"
   },
   {
    "duration": 6,
    "start_time": "2025-01-22T19:54:27.535Z"
   },
   {
    "duration": 10,
    "start_time": "2025-01-22T19:54:27.542Z"
   },
   {
    "duration": 4,
    "start_time": "2025-01-22T19:54:27.554Z"
   },
   {
    "duration": 0,
    "start_time": "2025-01-22T19:54:27.560Z"
   },
   {
    "duration": 0,
    "start_time": "2025-01-22T19:54:27.561Z"
   },
   {
    "duration": 0,
    "start_time": "2025-01-22T19:54:27.562Z"
   },
   {
    "duration": 0,
    "start_time": "2025-01-22T19:54:27.563Z"
   },
   {
    "duration": 0,
    "start_time": "2025-01-22T19:54:27.564Z"
   },
   {
    "duration": 0,
    "start_time": "2025-01-22T19:54:27.566Z"
   },
   {
    "duration": 0,
    "start_time": "2025-01-22T19:54:27.567Z"
   },
   {
    "duration": 0,
    "start_time": "2025-01-22T19:54:27.569Z"
   },
   {
    "duration": 0,
    "start_time": "2025-01-22T19:54:27.569Z"
   },
   {
    "duration": 0,
    "start_time": "2025-01-22T19:54:27.571Z"
   },
   {
    "duration": 0,
    "start_time": "2025-01-22T19:54:27.609Z"
   },
   {
    "duration": 0,
    "start_time": "2025-01-22T19:54:27.610Z"
   },
   {
    "duration": 0,
    "start_time": "2025-01-22T19:54:27.611Z"
   },
   {
    "duration": 0,
    "start_time": "2025-01-22T19:54:27.616Z"
   },
   {
    "duration": 0,
    "start_time": "2025-01-22T19:54:27.617Z"
   },
   {
    "duration": 0,
    "start_time": "2025-01-22T19:54:27.618Z"
   },
   {
    "duration": 0,
    "start_time": "2025-01-22T19:54:27.619Z"
   },
   {
    "duration": 0,
    "start_time": "2025-01-22T19:54:27.620Z"
   },
   {
    "duration": 0,
    "start_time": "2025-01-22T19:54:27.621Z"
   },
   {
    "duration": 0,
    "start_time": "2025-01-22T19:54:27.623Z"
   },
   {
    "duration": 0,
    "start_time": "2025-01-22T19:54:27.625Z"
   },
   {
    "duration": 0,
    "start_time": "2025-01-22T19:54:27.627Z"
   },
   {
    "duration": 0,
    "start_time": "2025-01-22T19:54:27.628Z"
   },
   {
    "duration": 0,
    "start_time": "2025-01-22T19:54:27.629Z"
   },
   {
    "duration": 0,
    "start_time": "2025-01-22T19:54:27.631Z"
   },
   {
    "duration": 8,
    "start_time": "2025-01-22T19:55:16.864Z"
   },
   {
    "duration": 245,
    "start_time": "2025-01-22T19:56:21.650Z"
   },
   {
    "duration": 3,
    "start_time": "2025-01-22T19:56:50.746Z"
   },
   {
    "duration": 12,
    "start_time": "2025-01-22T19:56:56.039Z"
   },
   {
    "duration": 5,
    "start_time": "2025-01-22T20:00:26.049Z"
   },
   {
    "duration": 4,
    "start_time": "2025-01-22T20:05:24.782Z"
   },
   {
    "duration": 13,
    "start_time": "2025-01-22T20:05:27.530Z"
   },
   {
    "duration": 3,
    "start_time": "2025-01-22T20:05:29.378Z"
   },
   {
    "duration": 16,
    "start_time": "2025-01-22T20:05:30.893Z"
   },
   {
    "duration": 4,
    "start_time": "2025-01-22T20:05:59.347Z"
   },
   {
    "duration": 34,
    "start_time": "2025-01-22T20:06:01.273Z"
   },
   {
    "duration": 2,
    "start_time": "2025-01-22T20:06:03.642Z"
   },
   {
    "duration": 5,
    "start_time": "2025-01-22T20:06:05.806Z"
   },
   {
    "duration": 13,
    "start_time": "2025-01-22T20:06:08.672Z"
   },
   {
    "duration": 5,
    "start_time": "2025-01-22T20:06:11.834Z"
   },
   {
    "duration": 1500,
    "start_time": "2025-01-22T20:07:20.939Z"
   },
   {
    "duration": 16,
    "start_time": "2025-01-22T20:08:02.657Z"
   },
   {
    "duration": 14,
    "start_time": "2025-01-22T20:08:31.910Z"
   },
   {
    "duration": 14,
    "start_time": "2025-01-22T20:08:47.694Z"
   },
   {
    "duration": 15,
    "start_time": "2025-01-22T20:10:15.550Z"
   },
   {
    "duration": 6,
    "start_time": "2025-01-22T20:10:21.371Z"
   },
   {
    "duration": 16,
    "start_time": "2025-01-22T20:10:22.934Z"
   },
   {
    "duration": 16,
    "start_time": "2025-01-22T20:10:42.331Z"
   },
   {
    "duration": 4,
    "start_time": "2025-01-22T20:10:46.171Z"
   },
   {
    "duration": 7,
    "start_time": "2025-01-22T20:10:47.535Z"
   },
   {
    "duration": 19,
    "start_time": "2025-01-22T20:12:15.718Z"
   },
   {
    "duration": 15,
    "start_time": "2025-01-22T20:12:20.756Z"
   },
   {
    "duration": 19,
    "start_time": "2025-01-22T20:12:39.219Z"
   },
   {
    "duration": 101350,
    "start_time": "2025-01-22T20:13:07.027Z"
   },
   {
    "duration": 253,
    "start_time": "2025-01-22T20:14:48.380Z"
   },
   {
    "duration": 657,
    "start_time": "2025-01-22T20:15:45.370Z"
   },
   {
    "duration": 155,
    "start_time": "2025-01-22T20:16:26.984Z"
   },
   {
    "duration": 155,
    "start_time": "2025-01-22T20:16:34.666Z"
   },
   {
    "duration": 154,
    "start_time": "2025-01-22T20:16:44.516Z"
   },
   {
    "duration": 662,
    "start_time": "2025-01-22T20:17:22.677Z"
   },
   {
    "duration": 221,
    "start_time": "2025-01-22T20:17:44.990Z"
   },
   {
    "duration": 145,
    "start_time": "2025-01-22T20:18:27.845Z"
   },
   {
    "duration": 126749,
    "start_time": "2025-01-22T20:19:04.168Z"
   },
   {
    "duration": 205,
    "start_time": "2025-01-22T20:22:26.707Z"
   },
   {
    "duration": 148,
    "start_time": "2025-01-22T20:22:33.087Z"
   },
   {
    "duration": 69,
    "start_time": "2025-01-22T20:22:49.958Z"
   },
   {
    "duration": 114,
    "start_time": "2025-01-22T20:23:04.813Z"
   },
   {
    "duration": 165,
    "start_time": "2025-01-22T20:23:19.746Z"
   },
   {
    "duration": 178990,
    "start_time": "2025-01-22T20:23:37.860Z"
   },
   {
    "duration": 2348,
    "start_time": "2025-01-22T20:26:36.854Z"
   },
   {
    "duration": 2322,
    "start_time": "2025-01-22T20:26:39.205Z"
   },
   {
    "duration": 2571,
    "start_time": "2025-01-22T20:26:41.530Z"
   },
   {
    "duration": 610,
    "start_time": "2025-01-22T20:26:44.104Z"
   },
   {
    "duration": 278,
    "start_time": "2025-01-22T20:27:58.283Z"
   },
   {
    "duration": 339,
    "start_time": "2025-01-22T20:28:42.391Z"
   },
   {
    "duration": 269,
    "start_time": "2025-01-22T20:29:07.007Z"
   },
   {
    "duration": 8,
    "start_time": "2025-01-22T20:29:26.470Z"
   },
   {
    "duration": 14,
    "start_time": "2025-01-22T20:29:30.626Z"
   },
   {
    "duration": 127,
    "start_time": "2025-01-22T20:29:38.566Z"
   },
   {
    "duration": 80,
    "start_time": "2025-01-22T20:29:46.035Z"
   },
   {
    "duration": 255,
    "start_time": "2025-01-22T20:29:51.714Z"
   },
   {
    "duration": 7,
    "start_time": "2025-01-22T20:30:08.703Z"
   },
   {
    "duration": 261,
    "start_time": "2025-01-22T20:30:13.618Z"
   },
   {
    "duration": 7,
    "start_time": "2025-01-22T20:30:40.438Z"
   },
   {
    "duration": 253,
    "start_time": "2025-01-22T20:30:43.915Z"
   },
   {
    "duration": 190,
    "start_time": "2025-01-22T20:30:59.658Z"
   },
   {
    "duration": 162,
    "start_time": "2025-01-22T20:31:04.546Z"
   },
   {
    "duration": 157,
    "start_time": "2025-01-22T20:31:08.153Z"
   },
   {
    "duration": 213,
    "start_time": "2025-01-22T20:31:11.121Z"
   },
   {
    "duration": 231,
    "start_time": "2025-01-22T20:31:15.664Z"
   },
   {
    "duration": 241,
    "start_time": "2025-01-22T20:31:18.649Z"
   },
   {
    "duration": 338,
    "start_time": "2025-01-22T20:31:24.794Z"
   },
   {
    "duration": 405,
    "start_time": "2025-01-22T20:31:29.537Z"
   },
   {
    "duration": 483,
    "start_time": "2025-01-22T20:31:32.800Z"
   },
   {
    "duration": 294,
    "start_time": "2025-01-22T20:31:36.482Z"
   },
   {
    "duration": 299,
    "start_time": "2025-01-22T20:31:41.206Z"
   },
   {
    "duration": 265,
    "start_time": "2025-01-22T20:31:44.970Z"
   },
   {
    "duration": 260,
    "start_time": "2025-01-22T20:31:50.916Z"
   },
   {
    "duration": 266,
    "start_time": "2025-01-22T20:31:55.273Z"
   },
   {
    "duration": 279,
    "start_time": "2025-01-22T20:31:58.108Z"
   },
   {
    "duration": 298,
    "start_time": "2025-01-22T20:32:01.156Z"
   },
   {
    "duration": 310,
    "start_time": "2025-01-22T20:32:04.677Z"
   },
   {
    "duration": 294,
    "start_time": "2025-01-22T20:32:08.003Z"
   },
   {
    "duration": 285,
    "start_time": "2025-01-22T20:32:10.346Z"
   },
   {
    "duration": 233,
    "start_time": "2025-01-22T20:32:15.929Z"
   },
   {
    "duration": 189,
    "start_time": "2025-01-22T20:32:18.669Z"
   },
   {
    "duration": 166,
    "start_time": "2025-01-22T20:32:20.689Z"
   },
   {
    "duration": 165,
    "start_time": "2025-01-22T20:32:23.234Z"
   },
   {
    "duration": 150,
    "start_time": "2025-01-22T20:32:25.606Z"
   },
   {
    "duration": 221,
    "start_time": "2025-01-22T20:32:28.297Z"
   },
   {
    "duration": 285,
    "start_time": "2025-01-22T20:32:30.767Z"
   },
   {
    "duration": 381,
    "start_time": "2025-01-22T20:32:33.430Z"
   },
   {
    "duration": 562,
    "start_time": "2025-01-22T20:32:36.269Z"
   },
   {
    "duration": 280,
    "start_time": "2025-01-22T20:32:40.855Z"
   },
   {
    "duration": 283,
    "start_time": "2025-01-22T20:32:44.934Z"
   },
   {
    "duration": 283,
    "start_time": "2025-01-22T20:32:53.117Z"
   },
   {
    "duration": 281,
    "start_time": "2025-01-22T20:32:58.810Z"
   },
   {
    "duration": 287,
    "start_time": "2025-01-22T20:33:02.903Z"
   },
   {
    "duration": 305,
    "start_time": "2025-01-22T20:33:07.534Z"
   },
   {
    "duration": 5,
    "start_time": "2025-01-22T20:33:11.279Z"
   },
   {
    "duration": 304,
    "start_time": "2025-01-22T20:33:19.634Z"
   },
   {
    "duration": 300,
    "start_time": "2025-01-22T20:33:27.643Z"
   },
   {
    "duration": 291,
    "start_time": "2025-01-22T20:33:31.601Z"
   },
   {
    "duration": 284,
    "start_time": "2025-01-22T20:33:35.002Z"
   },
   {
    "duration": 295,
    "start_time": "2025-01-22T20:33:38.043Z"
   },
   {
    "duration": 280,
    "start_time": "2025-01-22T20:33:44.799Z"
   },
   {
    "duration": 331,
    "start_time": "2025-01-22T20:33:58.740Z"
   },
   {
    "duration": 6,
    "start_time": "2025-01-22T20:48:43.667Z"
   },
   {
    "duration": 1031,
    "start_time": "2025-01-22T20:48:50.046Z"
   },
   {
    "duration": 33,
    "start_time": "2025-01-22T20:48:51.080Z"
   },
   {
    "duration": 20,
    "start_time": "2025-01-22T20:48:51.115Z"
   },
   {
    "duration": 9,
    "start_time": "2025-01-22T20:48:51.136Z"
   },
   {
    "duration": 10,
    "start_time": "2025-01-22T20:48:51.148Z"
   },
   {
    "duration": 7,
    "start_time": "2025-01-22T20:48:51.160Z"
   },
   {
    "duration": 425,
    "start_time": "2025-01-22T20:48:51.168Z"
   },
   {
    "duration": 292,
    "start_time": "2025-01-22T20:48:51.595Z"
   },
   {
    "duration": 5,
    "start_time": "2025-01-22T20:48:51.888Z"
   },
   {
    "duration": 46,
    "start_time": "2025-01-22T20:48:51.894Z"
   },
   {
    "duration": 14,
    "start_time": "2025-01-22T20:48:51.941Z"
   },
   {
    "duration": 4,
    "start_time": "2025-01-22T20:48:51.957Z"
   },
   {
    "duration": 18,
    "start_time": "2025-01-22T20:48:51.963Z"
   },
   {
    "duration": 16,
    "start_time": "2025-01-22T20:48:52.010Z"
   },
   {
    "duration": 4,
    "start_time": "2025-01-22T20:48:52.027Z"
   },
   {
    "duration": 21,
    "start_time": "2025-01-22T20:48:52.032Z"
   },
   {
    "duration": 8,
    "start_time": "2025-01-22T20:48:52.054Z"
   },
   {
    "duration": 3,
    "start_time": "2025-01-22T20:48:52.065Z"
   },
   {
    "duration": 12,
    "start_time": "2025-01-22T20:48:52.069Z"
   },
   {
    "duration": 11,
    "start_time": "2025-01-22T20:48:52.110Z"
   },
   {
    "duration": 8,
    "start_time": "2025-01-22T20:48:52.123Z"
   },
   {
    "duration": 6,
    "start_time": "2025-01-22T20:48:52.132Z"
   },
   {
    "duration": 8,
    "start_time": "2025-01-22T20:48:52.141Z"
   },
   {
    "duration": 6,
    "start_time": "2025-01-22T20:48:52.150Z"
   },
   {
    "duration": 9,
    "start_time": "2025-01-22T20:48:52.158Z"
   },
   {
    "duration": 5,
    "start_time": "2025-01-22T20:48:52.172Z"
   },
   {
    "duration": 7,
    "start_time": "2025-01-22T20:48:52.210Z"
   },
   {
    "duration": 6,
    "start_time": "2025-01-22T20:48:52.219Z"
   },
   {
    "duration": 6,
    "start_time": "2025-01-22T20:48:52.226Z"
   },
   {
    "duration": 20,
    "start_time": "2025-01-22T20:48:52.234Z"
   },
   {
    "duration": 5,
    "start_time": "2025-01-22T20:48:52.255Z"
   },
   {
    "duration": 10,
    "start_time": "2025-01-22T20:48:52.261Z"
   },
   {
    "duration": 38,
    "start_time": "2025-01-22T20:48:52.273Z"
   },
   {
    "duration": 13,
    "start_time": "2025-01-22T20:48:52.313Z"
   },
   {
    "duration": 3,
    "start_time": "2025-01-22T20:48:52.327Z"
   },
   {
    "duration": 15,
    "start_time": "2025-01-22T20:48:52.332Z"
   },
   {
    "duration": 5,
    "start_time": "2025-01-22T20:48:52.348Z"
   },
   {
    "duration": 60,
    "start_time": "2025-01-22T20:48:52.355Z"
   },
   {
    "duration": 2,
    "start_time": "2025-01-22T20:48:52.417Z"
   },
   {
    "duration": 5,
    "start_time": "2025-01-22T20:48:52.421Z"
   },
   {
    "duration": 8,
    "start_time": "2025-01-22T20:48:52.431Z"
   },
   {
    "duration": 2,
    "start_time": "2025-01-22T20:48:52.441Z"
   },
   {
    "duration": 5,
    "start_time": "2025-01-22T20:48:52.444Z"
   },
   {
    "duration": 4,
    "start_time": "2025-01-22T20:48:52.451Z"
   },
   {
    "duration": 8,
    "start_time": "2025-01-22T20:48:52.457Z"
   },
   {
    "duration": 4,
    "start_time": "2025-01-22T20:48:52.466Z"
   },
   {
    "duration": 41,
    "start_time": "2025-01-22T20:48:52.472Z"
   },
   {
    "duration": 1446,
    "start_time": "2025-01-22T20:48:52.515Z"
   },
   {
    "duration": 15,
    "start_time": "2025-01-22T20:48:53.963Z"
   },
   {
    "duration": 29,
    "start_time": "2025-01-22T20:48:53.980Z"
   },
   {
    "duration": 13,
    "start_time": "2025-01-22T20:48:54.010Z"
   },
   {
    "duration": 100416,
    "start_time": "2025-01-22T20:48:54.025Z"
   },
   {
    "duration": 161,
    "start_time": "2025-01-22T20:50:34.443Z"
   },
   {
    "duration": 223,
    "start_time": "2025-01-22T20:50:34.608Z"
   },
   {
    "duration": 135,
    "start_time": "2025-01-22T20:50:34.832Z"
   },
   {
    "duration": 151341,
    "start_time": "2025-01-22T20:50:34.969Z"
   },
   {
    "duration": 197,
    "start_time": "2025-01-22T20:53:06.312Z"
   },
   {
    "duration": 207,
    "start_time": "2025-01-22T20:53:06.511Z"
   },
   {
    "duration": 196,
    "start_time": "2025-01-22T20:53:06.719Z"
   },
   {
    "duration": 177237,
    "start_time": "2025-01-22T20:53:06.916Z"
   },
   {
    "duration": 260,
    "start_time": "2025-01-22T20:56:04.155Z"
   },
   {
    "duration": 320,
    "start_time": "2025-01-22T20:56:04.417Z"
   },
   {
    "duration": 291,
    "start_time": "2025-01-22T20:56:04.739Z"
   },
   {
    "duration": 6,
    "start_time": "2025-01-22T20:58:25.099Z"
   },
   {
    "duration": 6,
    "start_time": "2025-01-22T20:58:35.977Z"
   },
   {
    "duration": 5,
    "start_time": "2025-01-22T20:59:55.311Z"
   },
   {
    "duration": 8,
    "start_time": "2025-01-22T21:02:23.212Z"
   },
   {
    "duration": 23,
    "start_time": "2025-01-22T21:02:30.873Z"
   },
   {
    "duration": 343,
    "start_time": "2025-01-22T21:02:40.708Z"
   },
   {
    "duration": 295,
    "start_time": "2025-01-22T21:02:48.328Z"
   },
   {
    "duration": 464,
    "start_time": "2025-01-22T21:03:01.415Z"
   },
   {
    "duration": 6,
    "start_time": "2025-01-22T21:03:15.712Z"
   },
   {
    "duration": 20,
    "start_time": "2025-01-22T21:03:21.499Z"
   },
   {
    "duration": 153,
    "start_time": "2025-01-22T21:03:28.480Z"
   },
   {
    "duration": 266,
    "start_time": "2025-01-22T21:03:34.635Z"
   },
   {
    "duration": 41,
    "start_time": "2025-01-22T21:03:42.885Z"
   },
   {
    "duration": 147,
    "start_time": "2025-01-22T21:03:47.783Z"
   },
   {
    "duration": 348,
    "start_time": "2025-01-22T21:03:54.050Z"
   },
   {
    "duration": 279,
    "start_time": "2025-01-22T21:04:00.261Z"
   },
   {
    "duration": 17,
    "start_time": "2025-01-22T21:04:11.553Z"
   },
   {
    "duration": 50,
    "start_time": "2025-01-22T21:04:15.334Z"
   },
   {
    "duration": 930,
    "start_time": "2025-01-22T21:04:23.478Z"
   },
   {
    "duration": 912,
    "start_time": "2025-01-22T21:04:30.122Z"
   },
   {
    "duration": 940,
    "start_time": "2025-01-22T21:04:37.409Z"
   },
   {
    "duration": 7,
    "start_time": "2025-01-22T21:04:47.607Z"
   },
   {
    "duration": 16,
    "start_time": "2025-01-22T21:04:51.625Z"
   },
   {
    "duration": 188,
    "start_time": "2025-01-22T21:04:57.399Z"
   },
   {
    "duration": 72,
    "start_time": "2025-01-22T21:05:06.556Z"
   },
   {
    "duration": 271,
    "start_time": "2025-01-22T21:05:13.267Z"
   },
   {
    "duration": 284,
    "start_time": "2025-01-22T21:05:16.617Z"
   },
   {
    "duration": 295,
    "start_time": "2025-01-22T21:05:21.461Z"
   },
   {
    "duration": 6,
    "start_time": "2025-01-22T21:05:31.462Z"
   },
   {
    "duration": 18,
    "start_time": "2025-01-22T21:05:36.332Z"
   },
   {
    "duration": 210,
    "start_time": "2025-01-22T21:05:42.984Z"
   },
   {
    "duration": 107,
    "start_time": "2025-01-22T21:05:49.414Z"
   },
   {
    "duration": 127,
    "start_time": "2025-01-22T21:05:53.495Z"
   },
   {
    "duration": 266,
    "start_time": "2025-01-22T21:05:58.527Z"
   },
   {
    "duration": 312,
    "start_time": "2025-01-22T21:06:03.348Z"
   },
   {
    "duration": 195054,
    "start_time": "2025-01-22T21:10:12.861Z"
   },
   {
    "duration": 2614,
    "start_time": "2025-01-22T21:13:51.518Z"
   },
   {
    "duration": 1997,
    "start_time": "2025-01-22T21:14:03.733Z"
   },
   {
    "duration": 1056,
    "start_time": "2025-01-22T21:14:55.986Z"
   },
   {
    "duration": 1294,
    "start_time": "2025-01-22T21:15:36.013Z"
   },
   {
    "duration": 1318,
    "start_time": "2025-01-22T21:15:48.063Z"
   },
   {
    "duration": 199091,
    "start_time": "2025-01-22T21:17:28.125Z"
   },
   {
    "duration": 2551,
    "start_time": "2025-01-22T21:22:29.760Z"
   },
   {
    "duration": 3,
    "start_time": "2025-01-22T21:25:55.614Z"
   },
   {
    "duration": 297,
    "start_time": "2025-01-22T21:27:11.414Z"
   },
   {
    "duration": 8361,
    "start_time": "2025-01-22T21:28:14.670Z"
   },
   {
    "duration": 348977,
    "start_time": "2025-01-22T21:30:40.573Z"
   },
   {
    "duration": 380,
    "start_time": "2025-01-22T21:37:39.113Z"
   },
   {
    "duration": 384,
    "start_time": "2025-01-22T21:38:50.632Z"
   },
   {
    "duration": 371711,
    "start_time": "2025-01-22T21:39:36.846Z"
   },
   {
    "duration": 447,
    "start_time": "2025-01-22T21:45:48.559Z"
   },
   {
    "duration": 7693,
    "start_time": "2025-01-22T21:46:40.935Z"
   },
   {
    "duration": 3041,
    "start_time": "2025-01-22T21:47:03.473Z"
   },
   {
    "duration": 1532,
    "start_time": "2025-01-22T21:47:10.942Z"
   },
   {
    "duration": 371801,
    "start_time": "2025-01-22T21:47:33.782Z"
   },
   {
    "duration": 7645,
    "start_time": "2025-01-22T21:54:55.495Z"
   },
   {
    "duration": 1527,
    "start_time": "2025-01-22T21:55:20.275Z"
   },
   {
    "duration": 3060,
    "start_time": "2025-01-22T21:55:25.349Z"
   },
   {
    "duration": 2582,
    "start_time": "2025-01-22T21:55:34.113Z"
   },
   {
    "duration": 373297,
    "start_time": "2025-01-22T21:55:48.615Z"
   },
   {
    "duration": 8063,
    "start_time": "2025-01-22T22:02:31.518Z"
   },
   {
    "duration": 5,
    "start_time": "2025-01-22T22:10:05.039Z"
   },
   {
    "duration": 5,
    "start_time": "2025-01-22T22:10:26.070Z"
   },
   {
    "duration": 6,
    "start_time": "2025-01-22T22:10:46.656Z"
   },
   {
    "duration": 280,
    "start_time": "2025-01-22T22:11:56.696Z"
   },
   {
    "duration": 31,
    "start_time": "2025-01-22T22:20:08.156Z"
   },
   {
    "duration": 3,
    "start_time": "2025-01-22T22:20:13.198Z"
   },
   {
    "duration": 295,
    "start_time": "2025-01-22T22:20:30.923Z"
   },
   {
    "duration": 268,
    "start_time": "2025-01-22T22:20:33.274Z"
   },
   {
    "duration": 1531,
    "start_time": "2025-01-22T22:22:41.213Z"
   },
   {
    "duration": 573,
    "start_time": "2025-01-22T22:22:47.574Z"
   },
   {
    "duration": 674,
    "start_time": "2025-01-22T22:22:51.734Z"
   },
   {
    "duration": 471,
    "start_time": "2025-01-22T22:22:56.159Z"
   },
   {
    "duration": 276,
    "start_time": "2025-01-22T22:23:04.006Z"
   },
   {
    "duration": 5,
    "start_time": "2025-01-22T22:23:24.996Z"
   },
   {
    "duration": 7,
    "start_time": "2025-01-22T22:23:26.843Z"
   },
   {
    "duration": 5,
    "start_time": "2025-01-22T22:23:30.838Z"
   },
   {
    "duration": 12,
    "start_time": "2025-01-22T22:23:39.257Z"
   },
   {
    "duration": 281,
    "start_time": "2025-01-22T22:23:46.126Z"
   },
   {
    "duration": 458,
    "start_time": "2025-01-22T22:23:50.273Z"
   },
   {
    "duration": 30,
    "start_time": "2025-01-22T22:24:08.260Z"
   },
   {
    "duration": 3,
    "start_time": "2025-01-22T22:24:09.945Z"
   },
   {
    "duration": 8,
    "start_time": "2025-01-22T22:24:13.363Z"
   },
   {
    "duration": 9,
    "start_time": "2025-01-22T22:24:16.083Z"
   },
   {
    "duration": 7,
    "start_time": "2025-01-22T22:24:21.827Z"
   },
   {
    "duration": 8,
    "start_time": "2025-01-22T22:24:24.718Z"
   },
   {
    "duration": 298,
    "start_time": "2025-01-22T22:24:38.162Z"
   },
   {
    "duration": 504,
    "start_time": "2025-01-22T22:24:46.103Z"
   },
   {
    "duration": 599,
    "start_time": "2025-01-22T22:24:53.164Z"
   },
   {
    "duration": 457,
    "start_time": "2025-01-22T22:24:56.600Z"
   },
   {
    "duration": 352,
    "start_time": "2025-01-22T22:25:00.564Z"
   },
   {
    "duration": 309,
    "start_time": "2025-01-22T22:25:04.640Z"
   },
   {
    "duration": 346,
    "start_time": "2025-01-22T22:25:10.325Z"
   },
   {
    "duration": 704,
    "start_time": "2025-01-22T22:25:15.868Z"
   },
   {
    "duration": 883,
    "start_time": "2025-01-22T22:25:22.953Z"
   },
   {
    "duration": 1131,
    "start_time": "2025-01-22T22:25:29.871Z"
   },
   {
    "duration": 450,
    "start_time": "2025-01-22T22:25:37.986Z"
   },
   {
    "duration": 288,
    "start_time": "2025-01-22T22:25:41.399Z"
   },
   {
    "duration": 208,
    "start_time": "2025-01-22T22:25:47.374Z"
   },
   {
    "duration": 148,
    "start_time": "2025-01-22T22:25:51.698Z"
   },
   {
    "duration": 451,
    "start_time": "2025-01-22T22:25:58.668Z"
   },
   {
    "duration": 665,
    "start_time": "2025-01-22T22:26:04.620Z"
   },
   {
    "duration": 453,
    "start_time": "2025-01-22T22:26:08.783Z"
   },
   {
    "duration": 319,
    "start_time": "2025-01-22T22:26:11.832Z"
   },
   {
    "duration": 261,
    "start_time": "2025-01-22T22:26:15.018Z"
   },
   {
    "duration": 227,
    "start_time": "2025-01-22T22:26:17.667Z"
   },
   {
    "duration": 203,
    "start_time": "2025-01-22T22:26:21.214Z"
   },
   {
    "duration": 187,
    "start_time": "2025-01-22T22:26:25.130Z"
   },
   {
    "duration": 259,
    "start_time": "2025-01-22T22:26:28.657Z"
   },
   {
    "duration": 297,
    "start_time": "2025-01-22T22:26:33.690Z"
   },
   {
    "duration": 201,
    "start_time": "2025-01-22T22:26:45.459Z"
   },
   {
    "duration": 204,
    "start_time": "2025-01-22T22:26:48.606Z"
   },
   {
    "duration": 338,
    "start_time": "2025-01-22T22:26:52.691Z"
   },
   {
    "duration": 439,
    "start_time": "2025-01-22T22:26:57.278Z"
   },
   {
    "duration": 441,
    "start_time": "2025-01-22T22:27:01.827Z"
   },
   {
    "duration": 434,
    "start_time": "2025-01-22T22:27:05.930Z"
   },
   {
    "duration": 428,
    "start_time": "2025-01-22T22:27:10.882Z"
   },
   {
    "duration": 423,
    "start_time": "2025-01-22T22:27:13.849Z"
   },
   {
    "duration": 442,
    "start_time": "2025-01-22T22:27:17.614Z"
   },
   {
    "duration": 426,
    "start_time": "2025-01-22T22:27:20.435Z"
   },
   {
    "duration": 180,
    "start_time": "2025-01-22T22:27:30.268Z"
   },
   {
    "duration": 264,
    "start_time": "2025-01-22T22:27:34.204Z"
   },
   {
    "duration": 491,
    "start_time": "2025-01-22T22:27:37.630Z"
   },
   {
    "duration": 266,
    "start_time": "2025-01-22T22:27:42.116Z"
   },
   {
    "duration": 266,
    "start_time": "2025-01-22T22:27:46.307Z"
   },
   {
    "duration": 263,
    "start_time": "2025-01-22T22:27:50.960Z"
   },
   {
    "duration": 35,
    "start_time": "2025-01-22T22:28:05.813Z"
   },
   {
    "duration": 3,
    "start_time": "2025-01-22T22:28:07.292Z"
   },
   {
    "duration": 5,
    "start_time": "2025-01-22T22:28:09.418Z"
   },
   {
    "duration": 10,
    "start_time": "2025-01-22T22:28:12.015Z"
   },
   {
    "duration": 8,
    "start_time": "2025-01-22T22:28:16.097Z"
   },
   {
    "duration": 8,
    "start_time": "2025-01-22T22:28:18.566Z"
   },
   {
    "duration": 247,
    "start_time": "2025-01-22T22:28:25.526Z"
   },
   {
    "duration": 314,
    "start_time": "2025-01-22T22:28:30.145Z"
   },
   {
    "duration": 287,
    "start_time": "2025-01-22T22:28:40.776Z"
   },
   {
    "duration": 395,
    "start_time": "2025-01-22T22:28:48.254Z"
   },
   {
    "duration": 378,
    "start_time": "2025-01-22T22:28:51.819Z"
   },
   {
    "duration": 21,
    "start_time": "2025-01-22T22:37:30.006Z"
   },
   {
    "duration": 82,
    "start_time": "2025-01-22T22:38:23.931Z"
   },
   {
    "duration": 26,
    "start_time": "2025-01-22T22:38:37.686Z"
   },
   {
    "duration": 101,
    "start_time": "2025-01-22T22:38:48.654Z"
   },
   {
    "duration": 91,
    "start_time": "2025-01-22T22:39:06.441Z"
   },
   {
    "duration": 59,
    "start_time": "2025-01-22T22:39:17.030Z"
   },
   {
    "duration": 386,
    "start_time": "2025-01-22T22:41:05.583Z"
   },
   {
    "duration": 374,
    "start_time": "2025-01-22T22:41:23.607Z"
   },
   {
    "duration": 388,
    "start_time": "2025-01-22T22:41:28.234Z"
   },
   {
    "duration": 373,
    "start_time": "2025-01-22T22:41:30.585Z"
   },
   {
    "duration": 376,
    "start_time": "2025-01-22T22:41:33.189Z"
   },
   {
    "duration": 374,
    "start_time": "2025-01-22T22:41:35.553Z"
   },
   {
    "duration": 372,
    "start_time": "2025-01-22T22:42:14.895Z"
   },
   {
    "duration": 275,
    "start_time": "2025-01-22T22:42:36.528Z"
   },
   {
    "duration": 546,
    "start_time": "2025-01-22T22:42:39.910Z"
   },
   {
    "duration": 915,
    "start_time": "2025-01-22T22:42:52.128Z"
   },
   {
    "duration": 928,
    "start_time": "2025-01-22T22:43:08.948Z"
   },
   {
    "duration": 1469,
    "start_time": "2025-01-22T22:43:16.696Z"
   },
   {
    "duration": 2746,
    "start_time": "2025-01-22T22:43:26.328Z"
   },
   {
    "duration": 553,
    "start_time": "2025-01-22T22:43:33.700Z"
   },
   {
    "duration": 388,
    "start_time": "2025-01-22T22:43:38.928Z"
   },
   {
    "duration": 276,
    "start_time": "2025-01-22T22:43:53.564Z"
   },
   {
    "duration": 919,
    "start_time": "2025-01-22T22:43:58.738Z"
   },
   {
    "duration": 911,
    "start_time": "2025-01-22T22:44:04.814Z"
   },
   {
    "duration": 53,
    "start_time": "2025-01-22T22:44:29.850Z"
   },
   {
    "duration": 0,
    "start_time": "2025-01-22T22:48:24.909Z"
   },
   {
    "duration": 0,
    "start_time": "2025-01-22T22:52:01.115Z"
   },
   {
    "duration": 2686,
    "start_time": "2025-01-23T13:30:05.180Z"
   },
   {
    "duration": 56,
    "start_time": "2025-01-23T13:30:07.868Z"
   },
   {
    "duration": 23,
    "start_time": "2025-01-23T13:30:08.723Z"
   },
   {
    "duration": 9,
    "start_time": "2025-01-23T13:30:13.618Z"
   },
   {
    "duration": 9,
    "start_time": "2025-01-23T13:30:15.554Z"
   },
   {
    "duration": 8,
    "start_time": "2025-01-23T13:30:17.742Z"
   },
   {
    "duration": 33,
    "start_time": "2025-01-23T13:30:26.680Z"
   },
   {
    "duration": 5,
    "start_time": "2025-01-23T13:30:34.332Z"
   },
   {
    "duration": 19,
    "start_time": "2025-01-23T13:30:35.937Z"
   },
   {
    "duration": 17,
    "start_time": "2025-01-23T13:30:39.305Z"
   },
   {
    "duration": 281,
    "start_time": "2025-01-23T13:30:43.414Z"
   },
   {
    "duration": 3,
    "start_time": "2025-01-23T13:30:45.511Z"
   },
   {
    "duration": 21,
    "start_time": "2025-01-23T13:30:47.887Z"
   },
   {
    "duration": 9,
    "start_time": "2025-01-23T13:30:51.079Z"
   },
   {
    "duration": 3,
    "start_time": "2025-01-23T13:30:53.646Z"
   },
   {
    "duration": 11,
    "start_time": "2025-01-23T13:30:55.934Z"
   },
   {
    "duration": 12,
    "start_time": "2025-01-23T13:31:18.879Z"
   },
   {
    "duration": 9,
    "start_time": "2025-01-23T13:31:20.279Z"
   },
   {
    "duration": 8,
    "start_time": "2025-01-23T13:31:25.394Z"
   },
   {
    "duration": 5,
    "start_time": "2025-01-23T13:31:27.704Z"
   },
   {
    "duration": 14,
    "start_time": "2025-01-23T13:31:30.098Z"
   },
   {
    "duration": 166,
    "start_time": "2025-01-23T13:32:14.693Z"
   },
   {
    "duration": 5,
    "start_time": "2025-01-23T13:33:40.418Z"
   },
   {
    "duration": 8,
    "start_time": "2025-01-23T13:33:51.123Z"
   },
   {
    "duration": 8,
    "start_time": "2025-01-23T13:34:11.861Z"
   },
   {
    "duration": 6,
    "start_time": "2025-01-23T13:36:56.531Z"
   },
   {
    "duration": 4,
    "start_time": "2025-01-23T13:38:12.549Z"
   },
   {
    "duration": 7,
    "start_time": "2025-01-23T13:38:28.065Z"
   },
   {
    "duration": 6,
    "start_time": "2025-01-23T13:38:40.396Z"
   },
   {
    "duration": 15,
    "start_time": "2025-01-23T13:39:20.306Z"
   },
   {
    "duration": 15,
    "start_time": "2025-01-23T13:39:23.415Z"
   },
   {
    "duration": 16,
    "start_time": "2025-01-23T13:39:26.941Z"
   },
   {
    "duration": 15,
    "start_time": "2025-01-23T13:39:31.089Z"
   },
   {
    "duration": 17,
    "start_time": "2025-01-23T13:40:00.738Z"
   },
   {
    "duration": 15,
    "start_time": "2025-01-23T13:43:19.865Z"
   },
   {
    "duration": 16,
    "start_time": "2025-01-23T13:43:22.727Z"
   },
   {
    "duration": 3,
    "start_time": "2025-01-23T13:49:41.848Z"
   },
   {
    "duration": 6,
    "start_time": "2025-01-23T13:49:47.908Z"
   },
   {
    "duration": 12,
    "start_time": "2025-01-23T13:52:29.820Z"
   },
   {
    "duration": 6,
    "start_time": "2025-01-23T13:52:43.760Z"
   },
   {
    "duration": 16,
    "start_time": "2025-01-23T13:53:39.778Z"
   },
   {
    "duration": 13,
    "start_time": "2025-01-23T13:53:49.238Z"
   },
   {
    "duration": 13,
    "start_time": "2025-01-23T13:54:12.478Z"
   },
   {
    "duration": 27,
    "start_time": "2025-01-23T13:54:22.289Z"
   },
   {
    "duration": 20,
    "start_time": "2025-01-23T13:54:27.785Z"
   },
   {
    "duration": 7,
    "start_time": "2025-01-23T13:54:50.845Z"
   },
   {
    "duration": 362,
    "start_time": "2025-01-23T13:55:17.094Z"
   },
   {
    "duration": 7,
    "start_time": "2025-01-23T13:55:26.232Z"
   },
   {
    "duration": 3,
    "start_time": "2025-01-23T13:55:55.965Z"
   },
   {
    "duration": 6,
    "start_time": "2025-01-23T13:56:23.550Z"
   },
   {
    "duration": 6,
    "start_time": "2025-01-23T13:56:41.551Z"
   },
   {
    "duration": 6,
    "start_time": "2025-01-23T13:56:48.732Z"
   },
   {
    "duration": 5,
    "start_time": "2025-01-23T13:57:10.814Z"
   },
   {
    "duration": 2791,
    "start_time": "2025-01-23T15:05:19.703Z"
   },
   {
    "duration": 58,
    "start_time": "2025-01-23T15:05:22.497Z"
   },
   {
    "duration": 21,
    "start_time": "2025-01-23T15:05:23.595Z"
   },
   {
    "duration": 10,
    "start_time": "2025-01-23T15:05:25.967Z"
   },
   {
    "duration": 10,
    "start_time": "2025-01-23T15:05:28.290Z"
   },
   {
    "duration": 6,
    "start_time": "2025-01-23T15:05:30.696Z"
   },
   {
    "duration": 32,
    "start_time": "2025-01-23T15:05:38.062Z"
   },
   {
    "duration": 15,
    "start_time": "2025-01-23T15:05:40.824Z"
   },
   {
    "duration": 5,
    "start_time": "2025-01-23T15:05:43.832Z"
   },
   {
    "duration": 19,
    "start_time": "2025-01-23T15:05:45.158Z"
   },
   {
    "duration": 17,
    "start_time": "2025-01-23T15:05:48.051Z"
   },
   {
    "duration": 3,
    "start_time": "2025-01-23T15:05:52.111Z"
   },
   {
    "duration": 21,
    "start_time": "2025-01-23T15:05:53.838Z"
   },
   {
    "duration": 10,
    "start_time": "2025-01-23T15:05:57.658Z"
   },
   {
    "duration": 4,
    "start_time": "2025-01-23T15:05:59.341Z"
   },
   {
    "duration": 7,
    "start_time": "2025-01-23T15:06:08.337Z"
   },
   {
    "duration": 6,
    "start_time": "2025-01-23T15:06:10.026Z"
   },
   {
    "duration": 14,
    "start_time": "2025-01-23T15:06:13.819Z"
   },
   {
    "duration": 303,
    "start_time": "2025-01-23T15:06:18.103Z"
   },
   {
    "duration": 6,
    "start_time": "2025-01-23T15:06:37.125Z"
   },
   {
    "duration": 4,
    "start_time": "2025-01-23T15:06:46.969Z"
   },
   {
    "duration": 5,
    "start_time": "2025-01-23T15:06:49.212Z"
   },
   {
    "duration": 14,
    "start_time": "2025-01-23T15:06:51.946Z"
   },
   {
    "duration": 6,
    "start_time": "2025-01-23T15:06:53.842Z"
   },
   {
    "duration": 25,
    "start_time": "2025-01-23T15:07:27.567Z"
   },
   {
    "duration": 4,
    "start_time": "2025-01-23T15:08:22.781Z"
   },
   {
    "duration": 28,
    "start_time": "2025-01-23T15:08:25.078Z"
   },
   {
    "duration": 15,
    "start_time": "2025-01-23T15:09:56.935Z"
   },
   {
    "duration": 6,
    "start_time": "2025-01-23T15:10:35.334Z"
   },
   {
    "duration": 4,
    "start_time": "2025-01-23T15:10:58.899Z"
   },
   {
    "duration": 31,
    "start_time": "2025-01-23T15:11:00.107Z"
   },
   {
    "duration": 36,
    "start_time": "2025-01-23T15:11:09.521Z"
   },
   {
    "duration": 5,
    "start_time": "2025-01-23T15:11:13.705Z"
   },
   {
    "duration": 3,
    "start_time": "2025-01-23T15:11:18.683Z"
   },
   {
    "duration": 21,
    "start_time": "2025-01-23T15:11:20.109Z"
   },
   {
    "duration": 3,
    "start_time": "2025-01-23T15:11:25.678Z"
   },
   {
    "duration": 10,
    "start_time": "2025-01-23T15:11:30.803Z"
   },
   {
    "duration": 8,
    "start_time": "2025-01-23T15:11:34.811Z"
   },
   {
    "duration": 434,
    "start_time": "2025-01-23T15:11:38.203Z"
   },
   {
    "duration": 4,
    "start_time": "2025-01-23T15:11:40.365Z"
   },
   {
    "duration": 6,
    "start_time": "2025-01-23T15:11:41.712Z"
   },
   {
    "duration": 6,
    "start_time": "2025-01-23T15:11:46.693Z"
   },
   {
    "duration": 6,
    "start_time": "2025-01-23T15:11:49.827Z"
   },
   {
    "duration": 4,
    "start_time": "2025-01-23T15:11:52.504Z"
   },
   {
    "duration": 25,
    "start_time": "2025-01-23T15:12:18.335Z"
   },
   {
    "duration": 6,
    "start_time": "2025-01-23T15:12:24.722Z"
   },
   {
    "duration": 5,
    "start_time": "2025-01-23T15:12:30.710Z"
   },
   {
    "duration": 23,
    "start_time": "2025-01-23T15:15:59.314Z"
   },
   {
    "duration": 29,
    "start_time": "2025-01-23T15:16:35.183Z"
   },
   {
    "duration": 6,
    "start_time": "2025-01-23T15:16:48.305Z"
   },
   {
    "duration": 11,
    "start_time": "2025-01-23T15:16:49.641Z"
   },
   {
    "duration": 14,
    "start_time": "2025-01-23T15:17:50.794Z"
   },
   {
    "duration": 15,
    "start_time": "2025-01-23T15:17:53.300Z"
   },
   {
    "duration": 4,
    "start_time": "2025-01-23T15:17:57.883Z"
   },
   {
    "duration": 18,
    "start_time": "2025-01-23T15:17:59.674Z"
   },
   {
    "duration": 1150,
    "start_time": "2025-01-23T15:18:15.557Z"
   },
   {
    "duration": 33,
    "start_time": "2025-01-23T15:18:16.710Z"
   },
   {
    "duration": 20,
    "start_time": "2025-01-23T15:18:16.745Z"
   },
   {
    "duration": 9,
    "start_time": "2025-01-23T15:18:16.767Z"
   },
   {
    "duration": 10,
    "start_time": "2025-01-23T15:18:16.779Z"
   },
   {
    "duration": 7,
    "start_time": "2025-01-23T15:18:16.791Z"
   },
   {
    "duration": 434,
    "start_time": "2025-01-23T15:18:16.801Z"
   },
   {
    "duration": 287,
    "start_time": "2025-01-23T15:18:17.238Z"
   },
   {
    "duration": 5,
    "start_time": "2025-01-23T15:18:17.528Z"
   },
   {
    "duration": 31,
    "start_time": "2025-01-23T15:18:17.544Z"
   },
   {
    "duration": 13,
    "start_time": "2025-01-23T15:18:17.577Z"
   },
   {
    "duration": 5,
    "start_time": "2025-01-23T15:18:17.593Z"
   },
   {
    "duration": 16,
    "start_time": "2025-01-23T15:18:17.600Z"
   },
   {
    "duration": 16,
    "start_time": "2025-01-23T15:18:17.644Z"
   },
   {
    "duration": 3,
    "start_time": "2025-01-23T15:18:17.662Z"
   },
   {
    "duration": 23,
    "start_time": "2025-01-23T15:18:17.667Z"
   },
   {
    "duration": 9,
    "start_time": "2025-01-23T15:18:17.692Z"
   },
   {
    "duration": 3,
    "start_time": "2025-01-23T15:18:17.703Z"
   },
   {
    "duration": 41,
    "start_time": "2025-01-23T15:18:17.708Z"
   },
   {
    "duration": 12,
    "start_time": "2025-01-23T15:18:17.751Z"
   },
   {
    "duration": 8,
    "start_time": "2025-01-23T15:18:17.765Z"
   },
   {
    "duration": 5,
    "start_time": "2025-01-23T15:18:17.775Z"
   },
   {
    "duration": 6,
    "start_time": "2025-01-23T15:18:17.781Z"
   },
   {
    "duration": 5,
    "start_time": "2025-01-23T15:18:17.789Z"
   },
   {
    "duration": 5,
    "start_time": "2025-01-23T15:18:17.796Z"
   },
   {
    "duration": 45,
    "start_time": "2025-01-23T15:18:17.802Z"
   },
   {
    "duration": 7,
    "start_time": "2025-01-23T15:18:17.848Z"
   },
   {
    "duration": 6,
    "start_time": "2025-01-23T15:18:17.857Z"
   },
   {
    "duration": 13,
    "start_time": "2025-01-23T15:18:17.865Z"
   },
   {
    "duration": 8,
    "start_time": "2025-01-23T15:18:17.879Z"
   },
   {
    "duration": 4,
    "start_time": "2025-01-23T15:18:17.889Z"
   },
   {
    "duration": 6,
    "start_time": "2025-01-23T15:18:17.895Z"
   },
   {
    "duration": 42,
    "start_time": "2025-01-23T15:18:17.902Z"
   },
   {
    "duration": 6,
    "start_time": "2025-01-23T15:18:17.946Z"
   },
   {
    "duration": 6,
    "start_time": "2025-01-23T15:18:17.954Z"
   },
   {
    "duration": 6,
    "start_time": "2025-01-23T15:18:17.961Z"
   },
   {
    "duration": 3,
    "start_time": "2025-01-23T15:18:17.968Z"
   },
   {
    "duration": 27,
    "start_time": "2025-01-23T15:18:17.974Z"
   },
   {
    "duration": 50,
    "start_time": "2025-01-23T15:18:18.003Z"
   },
   {
    "duration": 26,
    "start_time": "2025-01-23T15:18:18.056Z"
   },
   {
    "duration": 4,
    "start_time": "2025-01-23T15:18:18.088Z"
   },
   {
    "duration": 12,
    "start_time": "2025-01-23T15:18:18.094Z"
   },
   {
    "duration": 3,
    "start_time": "2025-01-23T15:18:18.108Z"
   },
   {
    "duration": 13,
    "start_time": "2025-01-23T15:18:18.143Z"
   },
   {
    "duration": 4,
    "start_time": "2025-01-23T15:18:18.158Z"
   },
   {
    "duration": 18,
    "start_time": "2025-01-23T15:18:18.164Z"
   },
   {
    "duration": 5,
    "start_time": "2025-01-23T15:18:18.183Z"
   },
   {
    "duration": 59,
    "start_time": "2025-01-23T15:18:18.190Z"
   },
   {
    "duration": 3,
    "start_time": "2025-01-23T15:18:18.251Z"
   },
   {
    "duration": 5,
    "start_time": "2025-01-23T15:18:18.256Z"
   },
   {
    "duration": 3,
    "start_time": "2025-01-23T15:18:18.263Z"
   },
   {
    "duration": 9,
    "start_time": "2025-01-23T15:18:18.268Z"
   },
   {
    "duration": 3,
    "start_time": "2025-01-23T15:18:18.279Z"
   },
   {
    "duration": 4,
    "start_time": "2025-01-23T15:18:18.284Z"
   },
   {
    "duration": 7,
    "start_time": "2025-01-23T15:18:18.290Z"
   },
   {
    "duration": 5,
    "start_time": "2025-01-23T15:18:18.299Z"
   },
   {
    "duration": 8,
    "start_time": "2025-01-23T15:18:18.343Z"
   },
   {
    "duration": 673,
    "start_time": "2025-01-23T15:18:18.352Z"
   },
   {
    "duration": 21,
    "start_time": "2025-01-23T15:18:19.027Z"
   },
   {
    "duration": 14,
    "start_time": "2025-01-23T15:18:19.050Z"
   },
   {
    "duration": 12,
    "start_time": "2025-01-23T15:18:19.066Z"
   },
   {
    "duration": 56811,
    "start_time": "2025-01-23T15:18:19.079Z"
   },
   {
    "duration": 119,
    "start_time": "2025-01-23T15:19:15.892Z"
   },
   {
    "duration": 144,
    "start_time": "2025-01-23T15:19:16.013Z"
   },
   {
    "duration": 106,
    "start_time": "2025-01-23T15:19:16.160Z"
   },
   {
    "duration": 61890,
    "start_time": "2025-01-23T15:19:16.268Z"
   },
   {
    "duration": 0,
    "start_time": "2025-01-23T15:20:18.160Z"
   },
   {
    "duration": 0,
    "start_time": "2025-01-23T15:20:18.161Z"
   },
   {
    "duration": 0,
    "start_time": "2025-01-23T15:20:18.162Z"
   },
   {
    "duration": 0,
    "start_time": "2025-01-23T15:20:18.163Z"
   },
   {
    "duration": 0,
    "start_time": "2025-01-23T15:20:18.164Z"
   },
   {
    "duration": 0,
    "start_time": "2025-01-23T15:20:18.165Z"
   },
   {
    "duration": 0,
    "start_time": "2025-01-23T15:20:18.166Z"
   },
   {
    "duration": 0,
    "start_time": "2025-01-23T15:20:18.167Z"
   },
   {
    "duration": 0,
    "start_time": "2025-01-23T15:20:18.168Z"
   },
   {
    "duration": 4,
    "start_time": "2025-01-23T15:21:12.912Z"
   },
   {
    "duration": 5,
    "start_time": "2025-01-23T15:21:19.589Z"
   },
   {
    "duration": 69791,
    "start_time": "2025-01-23T15:22:25.153Z"
   },
   {
    "duration": 4,
    "start_time": "2025-01-23T15:24:19.592Z"
   },
   {
    "duration": 8,
    "start_time": "2025-01-23T15:24:51.974Z"
   },
   {
    "duration": 12,
    "start_time": "2025-01-23T15:24:58.006Z"
   },
   {
    "duration": 956,
    "start_time": "2025-01-23T15:26:16.421Z"
   },
   {
    "duration": 1021,
    "start_time": "2025-01-23T15:26:25.210Z"
   },
   {
    "duration": 37,
    "start_time": "2025-01-23T15:26:26.234Z"
   },
   {
    "duration": 21,
    "start_time": "2025-01-23T15:26:26.272Z"
   },
   {
    "duration": 9,
    "start_time": "2025-01-23T15:26:26.296Z"
   },
   {
    "duration": 9,
    "start_time": "2025-01-23T15:26:26.307Z"
   },
   {
    "duration": 28,
    "start_time": "2025-01-23T15:26:26.318Z"
   },
   {
    "duration": 432,
    "start_time": "2025-01-23T15:26:26.347Z"
   },
   {
    "duration": 279,
    "start_time": "2025-01-23T15:26:26.781Z"
   },
   {
    "duration": 5,
    "start_time": "2025-01-23T15:26:27.062Z"
   },
   {
    "duration": 31,
    "start_time": "2025-01-23T15:26:27.070Z"
   },
   {
    "duration": 12,
    "start_time": "2025-01-23T15:26:27.103Z"
   },
   {
    "duration": 29,
    "start_time": "2025-01-23T15:26:27.116Z"
   },
   {
    "duration": 17,
    "start_time": "2025-01-23T15:26:27.147Z"
   },
   {
    "duration": 16,
    "start_time": "2025-01-23T15:26:27.165Z"
   },
   {
    "duration": 4,
    "start_time": "2025-01-23T15:26:27.182Z"
   },
   {
    "duration": 22,
    "start_time": "2025-01-23T15:26:27.187Z"
   },
   {
    "duration": 33,
    "start_time": "2025-01-23T15:26:27.211Z"
   },
   {
    "duration": 3,
    "start_time": "2025-01-23T15:26:27.246Z"
   },
   {
    "duration": 12,
    "start_time": "2025-01-23T15:26:27.252Z"
   },
   {
    "duration": 11,
    "start_time": "2025-01-23T15:26:27.266Z"
   },
   {
    "duration": 8,
    "start_time": "2025-01-23T15:26:27.279Z"
   },
   {
    "duration": 8,
    "start_time": "2025-01-23T15:26:27.289Z"
   },
   {
    "duration": 44,
    "start_time": "2025-01-23T15:26:27.298Z"
   },
   {
    "duration": 8,
    "start_time": "2025-01-23T15:26:27.344Z"
   },
   {
    "duration": 5,
    "start_time": "2025-01-23T15:26:27.354Z"
   },
   {
    "duration": 5,
    "start_time": "2025-01-23T15:26:27.361Z"
   },
   {
    "duration": 9,
    "start_time": "2025-01-23T15:26:27.370Z"
   },
   {
    "duration": 7,
    "start_time": "2025-01-23T15:26:27.386Z"
   },
   {
    "duration": 54,
    "start_time": "2025-01-23T15:26:27.394Z"
   },
   {
    "duration": 7,
    "start_time": "2025-01-23T15:26:27.451Z"
   },
   {
    "duration": 4,
    "start_time": "2025-01-23T15:26:27.460Z"
   },
   {
    "duration": 5,
    "start_time": "2025-01-23T15:26:27.466Z"
   },
   {
    "duration": 3,
    "start_time": "2025-01-23T15:26:27.472Z"
   },
   {
    "duration": 5,
    "start_time": "2025-01-23T15:26:27.477Z"
   },
   {
    "duration": 5,
    "start_time": "2025-01-23T15:26:27.484Z"
   },
   {
    "duration": 8,
    "start_time": "2025-01-23T15:26:27.491Z"
   },
   {
    "duration": 46,
    "start_time": "2025-01-23T15:26:27.501Z"
   },
   {
    "duration": 42,
    "start_time": "2025-01-23T15:26:27.549Z"
   },
   {
    "duration": 21,
    "start_time": "2025-01-23T15:26:27.593Z"
   },
   {
    "duration": 49,
    "start_time": "2025-01-23T15:26:27.615Z"
   },
   {
    "duration": 6,
    "start_time": "2025-01-23T15:26:27.666Z"
   },
   {
    "duration": 12,
    "start_time": "2025-01-23T15:26:27.674Z"
   },
   {
    "duration": 4,
    "start_time": "2025-01-23T15:26:27.688Z"
   },
   {
    "duration": 16,
    "start_time": "2025-01-23T15:26:27.693Z"
   },
   {
    "duration": 3,
    "start_time": "2025-01-23T15:26:27.711Z"
   },
   {
    "duration": 47,
    "start_time": "2025-01-23T15:26:27.715Z"
   },
   {
    "duration": 4,
    "start_time": "2025-01-23T15:26:27.764Z"
   },
   {
    "duration": 33,
    "start_time": "2025-01-23T15:26:27.770Z"
   },
   {
    "duration": 3,
    "start_time": "2025-01-23T15:26:27.805Z"
   },
   {
    "duration": 35,
    "start_time": "2025-01-23T15:26:27.810Z"
   },
   {
    "duration": 6,
    "start_time": "2025-01-23T15:26:27.846Z"
   },
   {
    "duration": 2,
    "start_time": "2025-01-23T15:26:27.855Z"
   },
   {
    "duration": 14,
    "start_time": "2025-01-23T15:26:27.858Z"
   },
   {
    "duration": 3,
    "start_time": "2025-01-23T15:26:27.874Z"
   },
   {
    "duration": 4,
    "start_time": "2025-01-23T15:26:27.879Z"
   },
   {
    "duration": 8,
    "start_time": "2025-01-23T15:26:27.885Z"
   },
   {
    "duration": 5,
    "start_time": "2025-01-23T15:26:27.895Z"
   },
   {
    "duration": 45,
    "start_time": "2025-01-23T15:26:27.902Z"
   },
   {
    "duration": 672,
    "start_time": "2025-01-23T15:26:27.949Z"
   },
   {
    "duration": 11,
    "start_time": "2025-01-23T15:26:28.623Z"
   },
   {
    "duration": 13,
    "start_time": "2025-01-23T15:26:28.642Z"
   },
   {
    "duration": 15,
    "start_time": "2025-01-23T15:26:28.657Z"
   },
   {
    "duration": 58838,
    "start_time": "2025-01-23T15:26:28.674Z"
   },
   {
    "duration": 116,
    "start_time": "2025-01-23T15:27:27.514Z"
   },
   {
    "duration": 150,
    "start_time": "2025-01-23T15:27:27.632Z"
   },
   {
    "duration": 95,
    "start_time": "2025-01-23T15:27:27.784Z"
   },
   {
    "duration": 51670,
    "start_time": "2025-01-23T15:27:27.881Z"
   },
   {
    "duration": 190,
    "start_time": "2025-01-23T15:28:19.553Z"
   },
   {
    "duration": 198,
    "start_time": "2025-01-23T15:28:19.745Z"
   },
   {
    "duration": 110,
    "start_time": "2025-01-23T15:28:19.945Z"
   },
   {
    "duration": 43873,
    "start_time": "2025-01-23T15:28:20.058Z"
   },
   {
    "duration": 0,
    "start_time": "2025-01-23T15:29:03.933Z"
   },
   {
    "duration": 0,
    "start_time": "2025-01-23T15:29:03.934Z"
   },
   {
    "duration": 0,
    "start_time": "2025-01-23T15:29:03.935Z"
   },
   {
    "duration": 0,
    "start_time": "2025-01-23T15:29:03.936Z"
   },
   {
    "duration": 0,
    "start_time": "2025-01-23T15:29:03.937Z"
   },
   {
    "duration": 0,
    "start_time": "2025-01-23T15:29:03.939Z"
   },
   {
    "duration": 1082,
    "start_time": "2025-01-23T15:29:14.981Z"
   },
   {
    "duration": 29,
    "start_time": "2025-01-23T15:29:16.066Z"
   },
   {
    "duration": 20,
    "start_time": "2025-01-23T15:29:16.096Z"
   },
   {
    "duration": 8,
    "start_time": "2025-01-23T15:29:16.118Z"
   },
   {
    "duration": 23,
    "start_time": "2025-01-23T15:29:16.128Z"
   },
   {
    "duration": 7,
    "start_time": "2025-01-23T15:29:16.153Z"
   },
   {
    "duration": 470,
    "start_time": "2025-01-23T15:29:16.161Z"
   },
   {
    "duration": 289,
    "start_time": "2025-01-23T15:29:16.633Z"
   },
   {
    "duration": 5,
    "start_time": "2025-01-23T15:29:16.924Z"
   },
   {
    "duration": 32,
    "start_time": "2025-01-23T15:29:16.943Z"
   },
   {
    "duration": 13,
    "start_time": "2025-01-23T15:29:16.977Z"
   },
   {
    "duration": 4,
    "start_time": "2025-01-23T15:29:16.992Z"
   },
   {
    "duration": 19,
    "start_time": "2025-01-23T15:29:16.998Z"
   },
   {
    "duration": 17,
    "start_time": "2025-01-23T15:29:17.046Z"
   },
   {
    "duration": 3,
    "start_time": "2025-01-23T15:29:17.065Z"
   },
   {
    "duration": 23,
    "start_time": "2025-01-23T15:29:17.069Z"
   },
   {
    "duration": 9,
    "start_time": "2025-01-23T15:29:17.093Z"
   },
   {
    "duration": 3,
    "start_time": "2025-01-23T15:29:17.103Z"
   },
   {
    "duration": 42,
    "start_time": "2025-01-23T15:29:17.108Z"
   },
   {
    "duration": 11,
    "start_time": "2025-01-23T15:29:17.152Z"
   },
   {
    "duration": 8,
    "start_time": "2025-01-23T15:29:17.165Z"
   },
   {
    "duration": 5,
    "start_time": "2025-01-23T15:29:17.174Z"
   },
   {
    "duration": 7,
    "start_time": "2025-01-23T15:29:17.182Z"
   },
   {
    "duration": 6,
    "start_time": "2025-01-23T15:29:17.190Z"
   },
   {
    "duration": 5,
    "start_time": "2025-01-23T15:29:17.198Z"
   },
   {
    "duration": 44,
    "start_time": "2025-01-23T15:29:17.204Z"
   },
   {
    "duration": 7,
    "start_time": "2025-01-23T15:29:17.250Z"
   },
   {
    "duration": 6,
    "start_time": "2025-01-23T15:29:17.258Z"
   },
   {
    "duration": 13,
    "start_time": "2025-01-23T15:29:17.265Z"
   },
   {
    "duration": 7,
    "start_time": "2025-01-23T15:29:17.280Z"
   },
   {
    "duration": 4,
    "start_time": "2025-01-23T15:29:17.289Z"
   },
   {
    "duration": 5,
    "start_time": "2025-01-23T15:29:17.295Z"
   },
   {
    "duration": 43,
    "start_time": "2025-01-23T15:29:17.301Z"
   },
   {
    "duration": 5,
    "start_time": "2025-01-23T15:29:17.346Z"
   },
   {
    "duration": 3,
    "start_time": "2025-01-23T15:29:17.352Z"
   },
   {
    "duration": 4,
    "start_time": "2025-01-23T15:29:17.356Z"
   },
   {
    "duration": 2,
    "start_time": "2025-01-23T15:29:17.362Z"
   },
   {
    "duration": 26,
    "start_time": "2025-01-23T15:29:17.366Z"
   },
   {
    "duration": 16,
    "start_time": "2025-01-23T15:29:17.394Z"
   },
   {
    "duration": 27,
    "start_time": "2025-01-23T15:29:17.443Z"
   },
   {
    "duration": 5,
    "start_time": "2025-01-23T15:29:17.475Z"
   },
   {
    "duration": 10,
    "start_time": "2025-01-23T15:29:17.482Z"
   },
   {
    "duration": 4,
    "start_time": "2025-01-23T15:29:17.494Z"
   },
   {
    "duration": 43,
    "start_time": "2025-01-23T15:29:17.500Z"
   },
   {
    "duration": 3,
    "start_time": "2025-01-23T15:29:17.545Z"
   },
   {
    "duration": 20,
    "start_time": "2025-01-23T15:29:17.550Z"
   },
   {
    "duration": 4,
    "start_time": "2025-01-23T15:29:17.572Z"
   },
   {
    "duration": 33,
    "start_time": "2025-01-23T15:29:17.578Z"
   },
   {
    "duration": 3,
    "start_time": "2025-01-23T15:29:17.612Z"
   },
   {
    "duration": 30,
    "start_time": "2025-01-23T15:29:17.616Z"
   },
   {
    "duration": 5,
    "start_time": "2025-01-23T15:29:17.649Z"
   },
   {
    "duration": 3,
    "start_time": "2025-01-23T15:29:17.655Z"
   },
   {
    "duration": 16,
    "start_time": "2025-01-23T15:29:17.660Z"
   },
   {
    "duration": 4,
    "start_time": "2025-01-23T15:29:17.678Z"
   },
   {
    "duration": 5,
    "start_time": "2025-01-23T15:29:17.684Z"
   },
   {
    "duration": 9,
    "start_time": "2025-01-23T15:29:17.691Z"
   },
   {
    "duration": 4,
    "start_time": "2025-01-23T15:29:17.701Z"
   },
   {
    "duration": 43,
    "start_time": "2025-01-23T15:29:17.707Z"
   },
   {
    "duration": 726,
    "start_time": "2025-01-23T15:29:17.752Z"
   },
   {
    "duration": 11,
    "start_time": "2025-01-23T15:29:18.479Z"
   },
   {
    "duration": 15,
    "start_time": "2025-01-23T15:29:18.492Z"
   },
   {
    "duration": 11,
    "start_time": "2025-01-23T15:29:18.508Z"
   },
   {
    "duration": 46065,
    "start_time": "2025-01-23T15:29:18.521Z"
   },
   {
    "duration": 135,
    "start_time": "2025-01-23T15:30:04.588Z"
   },
   {
    "duration": 164,
    "start_time": "2025-01-23T15:30:04.725Z"
   },
   {
    "duration": 115,
    "start_time": "2025-01-23T15:30:04.891Z"
   },
   {
    "duration": 74442,
    "start_time": "2025-01-23T15:30:05.008Z"
   },
   {
    "duration": 191,
    "start_time": "2025-01-23T15:31:19.452Z"
   },
   {
    "duration": 198,
    "start_time": "2025-01-23T15:31:19.645Z"
   },
   {
    "duration": 108,
    "start_time": "2025-01-23T15:31:19.845Z"
   },
   {
    "duration": 178552,
    "start_time": "2025-01-23T15:31:19.955Z"
   },
   {
    "duration": 266,
    "start_time": "2025-01-23T15:34:18.509Z"
   },
   {
    "duration": 195892,
    "start_time": "2025-01-23T15:34:18.777Z"
   },
   {
    "duration": 248,
    "start_time": "2025-01-23T15:37:34.672Z"
   },
   {
    "duration": 818,
    "start_time": "2025-01-23T15:37:34.922Z"
   },
   {
    "duration": 30,
    "start_time": "2025-01-23T15:37:35.741Z"
   },
   {
    "duration": 19,
    "start_time": "2025-01-23T15:39:56.222Z"
   },
   {
    "duration": 1091,
    "start_time": "2025-01-23T15:40:07.862Z"
   },
   {
    "duration": 36,
    "start_time": "2025-01-23T15:40:08.955Z"
   },
   {
    "duration": 22,
    "start_time": "2025-01-23T15:40:08.992Z"
   },
   {
    "duration": 9,
    "start_time": "2025-01-23T15:40:09.016Z"
   },
   {
    "duration": 20,
    "start_time": "2025-01-23T15:40:09.028Z"
   },
   {
    "duration": 7,
    "start_time": "2025-01-23T15:40:09.049Z"
   },
   {
    "duration": 469,
    "start_time": "2025-01-23T15:40:09.058Z"
   },
   {
    "duration": 287,
    "start_time": "2025-01-23T15:40:09.529Z"
   },
   {
    "duration": 5,
    "start_time": "2025-01-23T15:40:09.818Z"
   },
   {
    "duration": 46,
    "start_time": "2025-01-23T15:40:09.824Z"
   },
   {
    "duration": 14,
    "start_time": "2025-01-23T15:40:09.872Z"
   },
   {
    "duration": 7,
    "start_time": "2025-01-23T15:40:09.887Z"
   },
   {
    "duration": 20,
    "start_time": "2025-01-23T15:40:09.896Z"
   },
   {
    "duration": 37,
    "start_time": "2025-01-23T15:40:09.920Z"
   },
   {
    "duration": 2,
    "start_time": "2025-01-23T15:40:09.959Z"
   },
   {
    "duration": 22,
    "start_time": "2025-01-23T15:40:09.963Z"
   },
   {
    "duration": 9,
    "start_time": "2025-01-23T15:40:09.987Z"
   },
   {
    "duration": 2,
    "start_time": "2025-01-23T15:40:09.998Z"
   },
   {
    "duration": 43,
    "start_time": "2025-01-23T15:40:10.003Z"
   },
   {
    "duration": 12,
    "start_time": "2025-01-23T15:40:10.048Z"
   },
   {
    "duration": 8,
    "start_time": "2025-01-23T15:40:10.061Z"
   },
   {
    "duration": 5,
    "start_time": "2025-01-23T15:40:10.071Z"
   },
   {
    "duration": 6,
    "start_time": "2025-01-23T15:40:10.077Z"
   },
   {
    "duration": 6,
    "start_time": "2025-01-23T15:40:10.084Z"
   },
   {
    "duration": 5,
    "start_time": "2025-01-23T15:40:10.091Z"
   },
   {
    "duration": 5,
    "start_time": "2025-01-23T15:40:10.097Z"
   },
   {
    "duration": 9,
    "start_time": "2025-01-23T15:40:10.144Z"
   },
   {
    "duration": 6,
    "start_time": "2025-01-23T15:40:10.154Z"
   },
   {
    "duration": 15,
    "start_time": "2025-01-23T15:40:10.161Z"
   },
   {
    "duration": 6,
    "start_time": "2025-01-23T15:40:10.178Z"
   },
   {
    "duration": 3,
    "start_time": "2025-01-23T15:40:10.186Z"
   },
   {
    "duration": 5,
    "start_time": "2025-01-23T15:40:10.191Z"
   },
   {
    "duration": 179,
    "start_time": "2025-01-23T15:40:10.198Z"
   },
   {
    "duration": 0,
    "start_time": "2025-01-23T15:40:10.380Z"
   },
   {
    "duration": 0,
    "start_time": "2025-01-23T15:40:10.381Z"
   },
   {
    "duration": 0,
    "start_time": "2025-01-23T15:40:10.383Z"
   },
   {
    "duration": 0,
    "start_time": "2025-01-23T15:40:10.384Z"
   },
   {
    "duration": 0,
    "start_time": "2025-01-23T15:40:10.385Z"
   },
   {
    "duration": 0,
    "start_time": "2025-01-23T15:40:10.386Z"
   },
   {
    "duration": 0,
    "start_time": "2025-01-23T15:40:10.387Z"
   },
   {
    "duration": 0,
    "start_time": "2025-01-23T15:40:10.388Z"
   },
   {
    "duration": 0,
    "start_time": "2025-01-23T15:40:10.389Z"
   },
   {
    "duration": 0,
    "start_time": "2025-01-23T15:40:10.390Z"
   },
   {
    "duration": 0,
    "start_time": "2025-01-23T15:40:10.391Z"
   },
   {
    "duration": 0,
    "start_time": "2025-01-23T15:40:10.392Z"
   },
   {
    "duration": 0,
    "start_time": "2025-01-23T15:40:10.393Z"
   },
   {
    "duration": 0,
    "start_time": "2025-01-23T15:40:10.394Z"
   },
   {
    "duration": 0,
    "start_time": "2025-01-23T15:40:10.395Z"
   },
   {
    "duration": 0,
    "start_time": "2025-01-23T15:40:10.397Z"
   },
   {
    "duration": 0,
    "start_time": "2025-01-23T15:40:10.398Z"
   },
   {
    "duration": 0,
    "start_time": "2025-01-23T15:40:10.399Z"
   },
   {
    "duration": 0,
    "start_time": "2025-01-23T15:40:10.399Z"
   },
   {
    "duration": 0,
    "start_time": "2025-01-23T15:40:10.400Z"
   },
   {
    "duration": 0,
    "start_time": "2025-01-23T15:40:10.402Z"
   },
   {
    "duration": 0,
    "start_time": "2025-01-23T15:40:10.403Z"
   },
   {
    "duration": 0,
    "start_time": "2025-01-23T15:40:10.404Z"
   },
   {
    "duration": 0,
    "start_time": "2025-01-23T15:40:10.405Z"
   },
   {
    "duration": 0,
    "start_time": "2025-01-23T15:40:10.443Z"
   },
   {
    "duration": 0,
    "start_time": "2025-01-23T15:40:10.444Z"
   },
   {
    "duration": 0,
    "start_time": "2025-01-23T15:40:10.445Z"
   },
   {
    "duration": 0,
    "start_time": "2025-01-23T15:40:10.447Z"
   },
   {
    "duration": 0,
    "start_time": "2025-01-23T15:40:10.448Z"
   },
   {
    "duration": 0,
    "start_time": "2025-01-23T15:40:10.449Z"
   },
   {
    "duration": 0,
    "start_time": "2025-01-23T15:40:10.449Z"
   },
   {
    "duration": 0,
    "start_time": "2025-01-23T15:40:10.451Z"
   },
   {
    "duration": 0,
    "start_time": "2025-01-23T15:40:10.452Z"
   },
   {
    "duration": 0,
    "start_time": "2025-01-23T15:40:10.453Z"
   },
   {
    "duration": 0,
    "start_time": "2025-01-23T15:40:10.455Z"
   },
   {
    "duration": 0,
    "start_time": "2025-01-23T15:40:10.457Z"
   },
   {
    "duration": 0,
    "start_time": "2025-01-23T15:40:10.458Z"
   },
   {
    "duration": 0,
    "start_time": "2025-01-23T15:40:10.460Z"
   },
   {
    "duration": 0,
    "start_time": "2025-01-23T15:40:10.461Z"
   },
   {
    "duration": 0,
    "start_time": "2025-01-23T15:40:10.462Z"
   },
   {
    "duration": 0,
    "start_time": "2025-01-23T15:40:10.463Z"
   },
   {
    "duration": 0,
    "start_time": "2025-01-23T15:40:10.464Z"
   },
   {
    "duration": 0,
    "start_time": "2025-01-23T15:40:10.465Z"
   },
   {
    "duration": 0,
    "start_time": "2025-01-23T15:40:10.466Z"
   },
   {
    "duration": 8,
    "start_time": "2025-01-23T15:41:52.961Z"
   },
   {
    "duration": 6,
    "start_time": "2025-01-23T15:42:05.442Z"
   },
   {
    "duration": 6,
    "start_time": "2025-01-23T15:42:40.313Z"
   },
   {
    "duration": 26,
    "start_time": "2025-01-23T15:42:56.691Z"
   },
   {
    "duration": 1069,
    "start_time": "2025-01-23T15:43:26.215Z"
   },
   {
    "duration": 33,
    "start_time": "2025-01-23T15:43:27.286Z"
   },
   {
    "duration": 36,
    "start_time": "2025-01-23T15:43:27.321Z"
   },
   {
    "duration": 10,
    "start_time": "2025-01-23T15:43:27.359Z"
   },
   {
    "duration": 10,
    "start_time": "2025-01-23T15:43:27.373Z"
   },
   {
    "duration": 8,
    "start_time": "2025-01-23T15:43:27.385Z"
   },
   {
    "duration": 445,
    "start_time": "2025-01-23T15:43:27.394Z"
   },
   {
    "duration": 283,
    "start_time": "2025-01-23T15:43:27.842Z"
   },
   {
    "duration": 15,
    "start_time": "2025-01-23T15:43:28.127Z"
   },
   {
    "duration": 33,
    "start_time": "2025-01-23T15:43:28.144Z"
   },
   {
    "duration": 13,
    "start_time": "2025-01-23T15:43:28.180Z"
   },
   {
    "duration": 4,
    "start_time": "2025-01-23T15:43:28.195Z"
   },
   {
    "duration": 43,
    "start_time": "2025-01-23T15:43:28.201Z"
   },
   {
    "duration": 17,
    "start_time": "2025-01-23T15:43:28.248Z"
   },
   {
    "duration": 4,
    "start_time": "2025-01-23T15:43:28.267Z"
   },
   {
    "duration": 22,
    "start_time": "2025-01-23T15:43:28.272Z"
   },
   {
    "duration": 10,
    "start_time": "2025-01-23T15:43:28.296Z"
   },
   {
    "duration": 3,
    "start_time": "2025-01-23T15:43:28.308Z"
   },
   {
    "duration": 36,
    "start_time": "2025-01-23T15:43:28.312Z"
   },
   {
    "duration": 12,
    "start_time": "2025-01-23T15:43:28.350Z"
   },
   {
    "duration": 8,
    "start_time": "2025-01-23T15:43:28.364Z"
   },
   {
    "duration": 5,
    "start_time": "2025-01-23T15:43:28.373Z"
   },
   {
    "duration": 5,
    "start_time": "2025-01-23T15:43:28.380Z"
   },
   {
    "duration": 5,
    "start_time": "2025-01-23T15:43:28.386Z"
   },
   {
    "duration": 6,
    "start_time": "2025-01-23T15:43:28.393Z"
   },
   {
    "duration": 48,
    "start_time": "2025-01-23T15:43:28.400Z"
   },
   {
    "duration": 7,
    "start_time": "2025-01-23T15:43:28.449Z"
   },
   {
    "duration": 7,
    "start_time": "2025-01-23T15:43:28.458Z"
   },
   {
    "duration": 14,
    "start_time": "2025-01-23T15:43:28.466Z"
   },
   {
    "duration": 7,
    "start_time": "2025-01-23T15:43:28.482Z"
   },
   {
    "duration": 4,
    "start_time": "2025-01-23T15:43:28.491Z"
   },
   {
    "duration": 5,
    "start_time": "2025-01-23T15:43:28.497Z"
   },
   {
    "duration": 6,
    "start_time": "2025-01-23T15:43:28.543Z"
   },
   {
    "duration": 6,
    "start_time": "2025-01-23T15:43:28.550Z"
   },
   {
    "duration": 3,
    "start_time": "2025-01-23T15:43:28.557Z"
   },
   {
    "duration": 6,
    "start_time": "2025-01-23T15:43:28.561Z"
   },
   {
    "duration": 3,
    "start_time": "2025-01-23T15:43:28.569Z"
   },
   {
    "duration": 5,
    "start_time": "2025-01-23T15:43:28.574Z"
   },
   {
    "duration": 4,
    "start_time": "2025-01-23T15:43:28.580Z"
   },
   {
    "duration": 62,
    "start_time": "2025-01-23T15:43:28.585Z"
   },
   {
    "duration": 19,
    "start_time": "2025-01-23T15:43:28.653Z"
   },
   {
    "duration": 28,
    "start_time": "2025-01-23T15:43:28.674Z"
   },
   {
    "duration": 5,
    "start_time": "2025-01-23T15:43:28.704Z"
   },
   {
    "duration": 36,
    "start_time": "2025-01-23T15:43:28.711Z"
   },
   {
    "duration": 5,
    "start_time": "2025-01-23T15:43:28.749Z"
   },
   {
    "duration": 16,
    "start_time": "2025-01-23T15:43:28.755Z"
   },
   {
    "duration": 3,
    "start_time": "2025-01-23T15:43:28.773Z"
   },
   {
    "duration": 18,
    "start_time": "2025-01-23T15:43:28.778Z"
   },
   {
    "duration": 5,
    "start_time": "2025-01-23T15:43:28.797Z"
   },
   {
    "duration": 68,
    "start_time": "2025-01-23T15:43:28.804Z"
   },
   {
    "duration": 3,
    "start_time": "2025-01-23T15:43:28.874Z"
   },
   {
    "duration": 6,
    "start_time": "2025-01-23T15:43:28.879Z"
   },
   {
    "duration": 8,
    "start_time": "2025-01-23T15:43:28.887Z"
   },
   {
    "duration": 3,
    "start_time": "2025-01-23T15:43:28.896Z"
   },
   {
    "duration": 10,
    "start_time": "2025-01-23T15:43:28.900Z"
   },
   {
    "duration": 4,
    "start_time": "2025-01-23T15:43:28.913Z"
   },
   {
    "duration": 5,
    "start_time": "2025-01-23T15:43:28.943Z"
   },
   {
    "duration": 10,
    "start_time": "2025-01-23T15:43:28.950Z"
   },
   {
    "duration": 5,
    "start_time": "2025-01-23T15:43:28.962Z"
   },
   {
    "duration": 7,
    "start_time": "2025-01-23T15:43:28.969Z"
   },
   {
    "duration": 1912,
    "start_time": "2025-01-23T15:43:28.977Z"
   },
   {
    "duration": 25,
    "start_time": "2025-01-23T15:43:30.891Z"
   },
   {
    "duration": 33,
    "start_time": "2025-01-23T15:43:30.917Z"
   },
   {
    "duration": 16,
    "start_time": "2025-01-23T15:43:30.951Z"
   },
   {
    "duration": 119806,
    "start_time": "2025-01-23T15:43:30.970Z"
   },
   {
    "duration": 191,
    "start_time": "2025-01-23T15:45:30.779Z"
   },
   {
    "duration": 249,
    "start_time": "2025-01-23T15:45:30.972Z"
   },
   {
    "duration": 159,
    "start_time": "2025-01-23T15:45:31.223Z"
   },
   {
    "duration": 135972,
    "start_time": "2025-01-23T15:45:31.384Z"
   },
   {
    "duration": 198,
    "start_time": "2025-01-23T15:47:47.360Z"
   },
   {
    "duration": 205,
    "start_time": "2025-01-23T15:47:47.560Z"
   },
   {
    "duration": 187,
    "start_time": "2025-01-23T15:47:47.767Z"
   },
   {
    "duration": 203655,
    "start_time": "2025-01-23T15:47:47.956Z"
   },
   {
    "duration": 293,
    "start_time": "2025-01-23T15:51:11.614Z"
   },
   {
    "duration": 219374,
    "start_time": "2025-01-23T15:51:11.909Z"
   },
   {
    "duration": 264,
    "start_time": "2025-01-23T15:54:51.285Z"
   },
   {
    "duration": 1099,
    "start_time": "2025-01-23T15:54:51.550Z"
   },
   {
    "duration": 42,
    "start_time": "2025-01-23T15:54:52.651Z"
   },
   {
    "duration": 18,
    "start_time": "2025-01-23T15:55:46.951Z"
   },
   {
    "duration": 2814,
    "start_time": "2025-01-23T15:57:15.526Z"
   },
   {
    "duration": 2508,
    "start_time": "2025-01-23T15:57:37.064Z"
   },
   {
    "duration": 1741,
    "start_time": "2025-01-23T15:57:48.584Z"
   },
   {
    "duration": 1176,
    "start_time": "2025-01-23T15:57:56.468Z"
   },
   {
    "duration": 889,
    "start_time": "2025-01-23T15:58:06.581Z"
   },
   {
    "duration": 597,
    "start_time": "2025-01-23T15:58:15.598Z"
   },
   {
    "duration": 430,
    "start_time": "2025-01-23T15:58:20.243Z"
   },
   {
    "duration": 533,
    "start_time": "2025-01-23T15:58:27.639Z"
   },
   {
    "duration": 783,
    "start_time": "2025-01-23T15:58:32.448Z"
   },
   {
    "duration": 24,
    "start_time": "2025-01-23T16:06:32.977Z"
   },
   {
    "duration": 23,
    "start_time": "2025-01-23T16:07:18.189Z"
   },
   {
    "duration": 30,
    "start_time": "2025-01-23T16:08:44.815Z"
   },
   {
    "duration": 22,
    "start_time": "2025-01-23T16:09:51.902Z"
   },
   {
    "duration": 364,
    "start_time": "2025-01-23T16:11:20.118Z"
   },
   {
    "duration": 374,
    "start_time": "2025-01-23T16:11:30.414Z"
   },
   {
    "duration": 515,
    "start_time": "2025-01-23T16:13:40.958Z"
   },
   {
    "duration": 532,
    "start_time": "2025-01-23T16:13:50.837Z"
   },
   {
    "duration": 531,
    "start_time": "2025-01-23T16:14:10.981Z"
   },
   {
    "duration": 1910,
    "start_time": "2025-01-23T16:18:33.268Z"
   },
   {
    "duration": 1905,
    "start_time": "2025-01-23T16:19:54.668Z"
   },
   {
    "duration": 1791,
    "start_time": "2025-01-23T16:20:08.824Z"
   },
   {
    "duration": 1792,
    "start_time": "2025-01-23T16:20:32.938Z"
   },
   {
    "duration": 23,
    "start_time": "2025-01-23T16:20:54.413Z"
   },
   {
    "duration": 295,
    "start_time": "2025-01-23T16:21:57.858Z"
   },
   {
    "duration": 236,
    "start_time": "2025-01-23T16:25:31.626Z"
   },
   {
    "duration": 284,
    "start_time": "2025-01-23T16:26:37.258Z"
   },
   {
    "duration": 310,
    "start_time": "2025-01-23T16:26:50.212Z"
   },
   {
    "duration": 516,
    "start_time": "2025-01-23T16:27:01.181Z"
   },
   {
    "duration": 371,
    "start_time": "2025-01-23T16:27:12.275Z"
   },
   {
    "duration": 22,
    "start_time": "2025-01-23T16:27:25.543Z"
   },
   {
    "duration": 30,
    "start_time": "2025-01-23T16:27:37.936Z"
   },
   {
    "duration": 21,
    "start_time": "2025-01-23T16:30:16.580Z"
   },
   {
    "duration": 1130,
    "start_time": "2025-01-23T16:30:19.211Z"
   },
   {
    "duration": 314,
    "start_time": "2025-01-23T16:31:25.745Z"
   },
   {
    "duration": 291,
    "start_time": "2025-01-23T16:33:20.463Z"
   },
   {
    "duration": 619,
    "start_time": "2025-01-23T16:34:32.428Z"
   },
   {
    "duration": 2877,
    "start_time": "2025-01-23T16:37:19.724Z"
   },
   {
    "duration": 745,
    "start_time": "2025-01-23T16:37:43.521Z"
   },
   {
    "duration": 537,
    "start_time": "2025-01-23T16:38:14.776Z"
   },
   {
    "duration": 24,
    "start_time": "2025-01-23T16:41:21.692Z"
   },
   {
    "duration": 29,
    "start_time": "2025-01-23T16:42:49.840Z"
   },
   {
    "duration": 16,
    "start_time": "2025-01-23T16:48:16.433Z"
   },
   {
    "duration": 620,
    "start_time": "2025-01-23T16:53:49.946Z"
   },
   {
    "duration": 4,
    "start_time": "2025-01-23T16:55:44.678Z"
   },
   {
    "duration": 4,
    "start_time": "2025-01-23T16:55:51.684Z"
   },
   {
    "duration": 7,
    "start_time": "2025-01-23T17:04:32.074Z"
   },
   {
    "duration": 3,
    "start_time": "2025-01-23T17:06:50.471Z"
   },
   {
    "duration": 135,
    "start_time": "2025-01-23T17:09:38.141Z"
   },
   {
    "duration": 198,
    "start_time": "2025-01-23T17:11:04.810Z"
   },
   {
    "duration": 5,
    "start_time": "2025-01-23T17:11:58.411Z"
   }
  ],
  "kernelspec": {
   "display_name": "Python 3 (ipykernel)",
   "language": "python",
   "name": "python3"
  },
  "language_info": {
   "codemirror_mode": {
    "name": "ipython",
    "version": 3
   },
   "file_extension": ".py",
   "mimetype": "text/x-python",
   "name": "python",
   "nbconvert_exporter": "python",
   "pygments_lexer": "ipython3",
   "version": "3.9.19"
  },
  "toc": {
   "base_numbering": 1,
   "nav_menu": {},
   "number_sections": true,
   "sideBar": true,
   "skip_h1_title": true,
   "title_cell": "Tabla de Contenido",
   "title_sidebar": "Tabla de Contenido",
   "toc_cell": false,
   "toc_position": {
    "height": "calc(100% - 180px)",
    "left": "10px",
    "top": "150px",
    "width": "284.797px"
   },
   "toc_section_display": true,
   "toc_window_display": true
  }
 },
 "nbformat": 4,
 "nbformat_minor": 2
}
